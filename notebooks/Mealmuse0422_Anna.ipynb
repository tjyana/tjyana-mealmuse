{
 "cells": [
  {
   "cell_type": "code",
   "execution_count": 10,
   "metadata": {},
   "outputs": [],
   "source": [
    "import itertools\n",
    "import re\n",
    "import numpy as np\n",
    "import pandas as pd\n",
    "import openai\n",
    "import pandas as pd\n",
    "import itertools\n",
    "import streamlit as st\n",
    "import pickle\n",
    "# Anna's imports\n",
    "from transformers import FlaxAutoModelForSeq2SeqLM\n",
    "from transformers import AutoTokenizer\n",
    "import matplotlib.pyplot as plt\n",
    "import matplotlib.image as mpimg\n",
    "from gradio_client import Client\n",
    "# from transformers import pipeline"
   ]
  },
  {
   "cell_type": "code",
   "execution_count": 26,
   "metadata": {},
   "outputs": [
    {
     "data": {
      "text/plain": [
       "[('chicken', 'garlic'),\n",
       " ('chicken', 'cheese'),\n",
       " ('chicken', 'onion'),\n",
       " ('garlic', 'cheese'),\n",
       " ('garlic', 'onion'),\n",
       " ('cheese', 'onion'),\n",
       " [('chicken', 'garlic'), ('chicken', 'cheese'), ('garlic', 'cheese')],\n",
       " [('chicken', 'garlic'), ('chicken', 'onion'), ('garlic', 'onion')],\n",
       " [('chicken', 'cheese'), ('chicken', 'onion'), ('cheese', 'onion')],\n",
       " [('garlic', 'cheese'), ('garlic', 'onion'), ('cheese', 'onion')],\n",
       " [('chicken', 'garlic'),\n",
       "  ('chicken', 'cheese'),\n",
       "  ('chicken', 'onion'),\n",
       "  ('garlic', 'cheese'),\n",
       "  ('garlic', 'onion'),\n",
       "  ('cheese', 'onion')]]"
      ]
     },
     "execution_count": 26,
     "metadata": {},
     "output_type": "execute_result"
    }
   ],
   "source": [
    "def combinations_of_two(ingredients_input): ###dealt with the issue of missing space crash\n",
    "\n",
    "    '''\n",
    "    The function generates all unique pairs of ingredients that can be made from the input list of ingredients.\n",
    "    NOTE FOR FRONT-END: The output of this function is the input for data_query()\n",
    "    '''\n",
    "\n",
    "    ingredients_combinations = []\n",
    "    powerpowerset = []\n",
    "    ingredients = re.split(r',', ingredients_input.strip())\n",
    "    ingredients_list = list(set(ingredient.strip() for ingredient in ingredients))\n",
    "    for r in range(len(ingredients_list)+1):\n",
    "        combinations = itertools.combinations(ingredients_list, r)\n",
    "        #powerset.extend(subset for subset in combinations if len(subset) > 1)\n",
    "        for comb in combinations:\n",
    "            if len(comb) > 1:\n",
    "                if len(comb) < 3:\n",
    "                    ingredients_combinations.append(comb)\n",
    "                else:\n",
    "                    powerpowerset.append(comb)\n",
    "                    for power in powerpowerset:\n",
    "                        lowerset = []\n",
    "                        combins = itertools.combinations(power, 2)\n",
    "                        for arrange in combins:\n",
    "                            lowerset.append(arrange)\n",
    "                    ingredients_combinations.append(lowerset)\n",
    "    return ingredients_combinations\n",
    "\n",
    "combinations = combinations_of_two('chicken, onion, garlic, cheese')\n",
    "combinations"
   ]
  },
  {
   "cell_type": "code",
   "execution_count": 13,
   "metadata": {},
   "outputs": [
    {
     "data": {
      "text/html": [
       "<div>\n",
       "<style scoped>\n",
       "    .dataframe tbody tr th:only-of-type {\n",
       "        vertical-align: middle;\n",
       "    }\n",
       "\n",
       "    .dataframe tbody tr th {\n",
       "        vertical-align: top;\n",
       "    }\n",
       "\n",
       "    .dataframe thead th {\n",
       "        text-align: right;\n",
       "    }\n",
       "</style>\n",
       "<table border=\"1\" class=\"dataframe\">\n",
       "  <thead>\n",
       "    <tr style=\"text-align: right;\">\n",
       "      <th></th>\n",
       "      <th>ingredient1</th>\n",
       "      <th>ingredient2</th>\n",
       "      <th>scaled_col</th>\n",
       "    </tr>\n",
       "  </thead>\n",
       "  <tbody>\n",
       "    <tr>\n",
       "      <th>0</th>\n",
       "      <td>butter</td>\n",
       "      <td>honey</td>\n",
       "      <td>1.036100</td>\n",
       "    </tr>\n",
       "    <tr>\n",
       "      <th>1</th>\n",
       "      <td>butter</td>\n",
       "      <td>mexican seasoning</td>\n",
       "      <td>1.000022</td>\n",
       "    </tr>\n",
       "    <tr>\n",
       "      <th>2</th>\n",
       "      <td>butter</td>\n",
       "      <td>mixed spice</td>\n",
       "      <td>1.001687</td>\n",
       "    </tr>\n",
       "    <tr>\n",
       "      <th>3</th>\n",
       "      <td>butter</td>\n",
       "      <td>olive oil</td>\n",
       "      <td>1.084810</td>\n",
       "    </tr>\n",
       "    <tr>\n",
       "      <th>4</th>\n",
       "      <td>butter</td>\n",
       "      <td>salt</td>\n",
       "      <td>1.553463</td>\n",
       "    </tr>\n",
       "    <tr>\n",
       "      <th>...</th>\n",
       "      <td>...</td>\n",
       "      <td>...</td>\n",
       "      <td>...</td>\n",
       "    </tr>\n",
       "    <tr>\n",
       "      <th>1335360</th>\n",
       "      <td>nepitella</td>\n",
       "      <td>parmigiano</td>\n",
       "      <td>2.799983</td>\n",
       "    </tr>\n",
       "    <tr>\n",
       "      <th>1335361</th>\n",
       "      <td>nepitella</td>\n",
       "      <td>porcini mushrooms</td>\n",
       "      <td>2.799983</td>\n",
       "    </tr>\n",
       "    <tr>\n",
       "      <th>1335362</th>\n",
       "      <td>nepitella</td>\n",
       "      <td>salt and fresh pepper</td>\n",
       "      <td>2.799983</td>\n",
       "    </tr>\n",
       "    <tr>\n",
       "      <th>1335363</th>\n",
       "      <td>nepitella</td>\n",
       "      <td>unsalted butter</td>\n",
       "      <td>2.799983</td>\n",
       "    </tr>\n",
       "    <tr>\n",
       "      <th>1335364</th>\n",
       "      <td>nepitella</td>\n",
       "      <td>vegetable stock</td>\n",
       "      <td>2.799983</td>\n",
       "    </tr>\n",
       "  </tbody>\n",
       "</table>\n",
       "<p>1335365 rows × 3 columns</p>\n",
       "</div>"
      ],
      "text/plain": [
       "        ingredient1            ingredient2  scaled_col\n",
       "0            butter                  honey    1.036100\n",
       "1            butter      mexican seasoning    1.000022\n",
       "2            butter            mixed spice    1.001687\n",
       "3            butter              olive oil    1.084810\n",
       "4            butter                   salt    1.553463\n",
       "...             ...                    ...         ...\n",
       "1335360   nepitella             parmigiano    2.799983\n",
       "1335361   nepitella      porcini mushrooms    2.799983\n",
       "1335362   nepitella  salt and fresh pepper    2.799983\n",
       "1335363   nepitella        unsalted butter    2.799983\n",
       "1335364   nepitella        vegetable stock    2.799983\n",
       "\n",
       "[1335365 rows x 3 columns]"
      ]
     },
     "execution_count": 13,
     "metadata": {},
     "output_type": "execute_result"
    }
   ],
   "source": [
    "df = pd.read_parquet('Halved-DF.parquet.gzip')\n",
    "df"
   ]
  },
  {
   "cell_type": "code",
   "execution_count": 24,
   "metadata": {},
   "outputs": [
    {
     "name": "stdout",
     "output_type": "stream",
     "text": [
      "[1.18008113]\n",
      "[1.01775019]\n",
      "[1.32487966]\n",
      "[1.0944496]\n",
      "[1.42354091]\n",
      "[1.41200389]\n",
      "[{'Combination': ('chicken', 'garlic'), 'Score': array([1.18008113])}, {'Combination': ('chicken', 'cheese'), 'Score': array([1.01775019])}, {'Combination': ('chicken', 'onion'), 'Score': array([1.32487966])}, {'Combination': ('garlic', 'cheese'), 'Score': array([1.0944496])}, {'Combination': ('garlic', 'onion'), 'Score': array([1.42354091])}, {'Combination': ('cheese', 'onion'), 'Score': array([1.41200389])}, {'Combination': [('chicken', 'garlic'), ('chicken', 'cheese'), ('garlic', 'cheese')], 'Score': [1.1800811339314616, 1.0177501859513405, 1.0944496012124034]}, {'Combination': [('chicken', 'garlic'), ('chicken', 'onion'), ('garlic', 'onion')], 'Score': [1.1800811339314616, 1.3248796627107513, 1.4235409132992736]}, {'Combination': [('chicken', 'cheese'), ('chicken', 'onion'), ('cheese', 'onion')], 'Score': [1.0177501859513405, 1.3248796627107513, 1.4120038875676597]}, {'Combination': [('garlic', 'cheese'), ('garlic', 'onion'), ('cheese', 'onion')], 'Score': [1.0944496012124034, 1.4235409132992736, 1.4120038875676597]}, {'Combination': [('chicken', 'garlic'), ('chicken', 'cheese'), ('chicken', 'onion'), ('garlic', 'cheese'), ('garlic', 'onion'), ('cheese', 'onion')], 'Score': [1.1800811339314616, 1.0177501859513405, 1.3248796627107513, 1.0944496012124034, 1.4235409132992736, 1.4120038875676597]}]\n"
     ]
    },
    {
     "data": {
      "text/html": [
       "<div>\n",
       "<style scoped>\n",
       "    .dataframe tbody tr th:only-of-type {\n",
       "        vertical-align: middle;\n",
       "    }\n",
       "\n",
       "    .dataframe tbody tr th {\n",
       "        vertical-align: top;\n",
       "    }\n",
       "\n",
       "    .dataframe thead th {\n",
       "        text-align: right;\n",
       "    }\n",
       "</style>\n",
       "<table border=\"1\" class=\"dataframe\">\n",
       "  <thead>\n",
       "    <tr style=\"text-align: right;\">\n",
       "      <th></th>\n",
       "      <th>Combination</th>\n",
       "      <th>Score</th>\n",
       "    </tr>\n",
       "  </thead>\n",
       "  <tbody>\n",
       "    <tr>\n",
       "      <th>0</th>\n",
       "      <td>(chicken, garlic)</td>\n",
       "      <td>[1.1800811339314616]</td>\n",
       "    </tr>\n",
       "    <tr>\n",
       "      <th>1</th>\n",
       "      <td>(chicken, cheese)</td>\n",
       "      <td>[1.0177501859513405]</td>\n",
       "    </tr>\n",
       "    <tr>\n",
       "      <th>2</th>\n",
       "      <td>(chicken, onion)</td>\n",
       "      <td>[1.3248796627107513]</td>\n",
       "    </tr>\n",
       "    <tr>\n",
       "      <th>3</th>\n",
       "      <td>(garlic, cheese)</td>\n",
       "      <td>[1.0944496012124034]</td>\n",
       "    </tr>\n",
       "    <tr>\n",
       "      <th>4</th>\n",
       "      <td>(garlic, onion)</td>\n",
       "      <td>[1.4235409132992736]</td>\n",
       "    </tr>\n",
       "    <tr>\n",
       "      <th>5</th>\n",
       "      <td>(cheese, onion)</td>\n",
       "      <td>[1.4120038875676597]</td>\n",
       "    </tr>\n",
       "    <tr>\n",
       "      <th>6</th>\n",
       "      <td>[(chicken, garlic), (chicken, cheese), (garlic...</td>\n",
       "      <td>[1.1800811339314616, 1.0177501859513405, 1.094...</td>\n",
       "    </tr>\n",
       "    <tr>\n",
       "      <th>7</th>\n",
       "      <td>[(chicken, garlic), (chicken, onion), (garlic,...</td>\n",
       "      <td>[1.1800811339314616, 1.3248796627107513, 1.423...</td>\n",
       "    </tr>\n",
       "    <tr>\n",
       "      <th>8</th>\n",
       "      <td>[(chicken, cheese), (chicken, onion), (cheese,...</td>\n",
       "      <td>[1.0177501859513405, 1.3248796627107513, 1.412...</td>\n",
       "    </tr>\n",
       "    <tr>\n",
       "      <th>9</th>\n",
       "      <td>[(garlic, cheese), (garlic, onion), (cheese, o...</td>\n",
       "      <td>[1.0944496012124034, 1.4235409132992736, 1.412...</td>\n",
       "    </tr>\n",
       "    <tr>\n",
       "      <th>10</th>\n",
       "      <td>[(chicken, garlic), (chicken, cheese), (chicke...</td>\n",
       "      <td>[1.1800811339314616, 1.0177501859513405, 1.324...</td>\n",
       "    </tr>\n",
       "  </tbody>\n",
       "</table>\n",
       "</div>"
      ],
      "text/plain": [
       "                                          Combination  \\\n",
       "0                                   (chicken, garlic)   \n",
       "1                                   (chicken, cheese)   \n",
       "2                                    (chicken, onion)   \n",
       "3                                    (garlic, cheese)   \n",
       "4                                     (garlic, onion)   \n",
       "5                                     (cheese, onion)   \n",
       "6   [(chicken, garlic), (chicken, cheese), (garlic...   \n",
       "7   [(chicken, garlic), (chicken, onion), (garlic,...   \n",
       "8   [(chicken, cheese), (chicken, onion), (cheese,...   \n",
       "9   [(garlic, cheese), (garlic, onion), (cheese, o...   \n",
       "10  [(chicken, garlic), (chicken, cheese), (chicke...   \n",
       "\n",
       "                                                Score  \n",
       "0                                [1.1800811339314616]  \n",
       "1                                [1.0177501859513405]  \n",
       "2                                [1.3248796627107513]  \n",
       "3                                [1.0944496012124034]  \n",
       "4                                [1.4235409132992736]  \n",
       "5                                [1.4120038875676597]  \n",
       "6   [1.1800811339314616, 1.0177501859513405, 1.094...  \n",
       "7   [1.1800811339314616, 1.3248796627107513, 1.423...  \n",
       "8   [1.0177501859513405, 1.3248796627107513, 1.412...  \n",
       "9   [1.0944496012124034, 1.4235409132992736, 1.412...  \n",
       "10  [1.1800811339314616, 1.0177501859513405, 1.324...  "
      ]
     },
     "execution_count": 24,
     "metadata": {},
     "output_type": "execute_result"
    }
   ],
   "source": [
    "def data_query(df, ingredients_combinations): ##Added a penalty of -5 for pairings that are not in the dataframe\n",
    "    data = []\n",
    "    for combination in ingredients_combinations:\n",
    "        if len(combination) < 3:\n",
    "            ingredient1, ingredient2 = combination\n",
    "            query_str = f'(ingredient1 == \"{ingredient1}\" & ingredient2 == \"{ingredient2}\") | (ingredient1 == \"{ingredient2}\" & ingredient2 == \"{ingredient1}\")'\n",
    "            score = df.query(query_str)['scaled_col'].values\n",
    "            print(score)\n",
    "            if len(score) > 0:\n",
    "                data.append({'Combination': combination, 'Score': score})\n",
    "            else:\n",
    "                continue\n",
    "\n",
    "        else:\n",
    "            scores = []\n",
    "            for i in combination:\n",
    "                ingredient1, ingredient2 = i\n",
    "                query_str = f'(ingredient1 == \"{ingredient1}\" & ingredient2 == \"{ingredient2}\") | (ingredient1 == \"{ingredient2}\" & ingredient2 == \"{ingredient1}\")'\n",
    "                score = df.query(query_str)['scaled_col'].values\n",
    "                if len(score) > 0:\n",
    "                    scores.append(score[0])\n",
    "                else:\n",
    "                    scores.append(-5)\n",
    "            data.append({'Combination': combination, 'Score': scores})\n",
    "    print(data)\n",
    "    df_comb = pd.DataFrame(data)\n",
    "    return df_comb\n",
    "\n",
    "df_comb = data_query(df, combinations)\n",
    "df_comb"
   ]
  },
  {
   "cell_type": "code",
   "execution_count": 15,
   "metadata": {},
   "outputs": [],
   "source": [
    "def muse_comb(data_query_df): ###If this takes too long, consider taking the nested calculate_sum(array) outside of the function\n",
    "    '''\n",
    "     the function calculates the sum of the \"Score\" values and returns the three combinations with the largest sums\n",
    "     OUTPUT: [['yeast', 'butter', 'eggs', 'pepper', 'cabbage', 'pork', 'flour', 'sugar'],\n",
    "                 ['butter', 'eggs', 'pepper', 'cabbage', 'pork', 'flour', 'sugar'],\n",
    "                 ['yeast', 'butter', 'eggs', 'pepper', 'cabbage', 'flour', 'sugar']]\n",
    "\n",
    "     NOTE FOR FRONT-END: The return is a list of lists so access the values by indexing e.g. output[0]\n",
    "\n",
    "                         The output of this function is the input for the recipe generator\n",
    "\n",
    "                         We might need a function to convert each lists into strings if\n",
    "                         the recipe generator doesn't do this automatically.\n",
    "    '''\n",
    "\n",
    "    def calculate_sum(array):\n",
    "        return sum(array)\n",
    "\n",
    "    def ingredients_to_lists(lists):\n",
    "        ingredients_list = []\n",
    "        for i in range(3):\n",
    "            tmp_list = []\n",
    "            for x in lists[i]:\n",
    "                tmp_list.append(x[0])\n",
    "                tmp_list.append(x[1])\n",
    "            ingredients_list.append(list(set(tmp_list)))\n",
    "\n",
    "        return ingredients_list\n",
    "\n",
    "    for i in range(len(data_query_df)):\n",
    "        data_query_df[\"Sum\"] = data_query_df[\"Score\"].apply(calculate_sum)\n",
    "\n",
    "    max_values = data_query_df.nlargest(3, \"Sum\")\n",
    "\n",
    "    max_values = max_values[\"Combination\"].reset_index(drop=True)\n",
    "\n",
    "    ingredients_lists = ingredients_to_lists(max_values)\n",
    "\n",
    "    return ingredients_lists\n"
   ]
  },
  {
   "cell_type": "code",
   "execution_count": 16,
   "metadata": {},
   "outputs": [
    {
     "data": {
      "text/plain": [
       "[['chicken', 'garlic', 'cheese', 'onion'],\n",
       " ['garlic', 'cheese', 'onion'],\n",
       " ['chicken', 'garlic', 'onion']]"
      ]
     },
     "execution_count": 16,
     "metadata": {},
     "output_type": "execute_result"
    }
   ],
   "source": [
    "lists = muse_comb(df_comb)\n",
    "lists"
   ]
  },
  {
   "cell_type": "code",
   "execution_count": 17,
   "metadata": {},
   "outputs": [],
   "source": [
    "def recipe_generator(ingredients):\n",
    "    MODEL_NAME_OR_PATH = \"flax-community/t5-recipe-generation\"\n",
    "    tokenizer = AutoTokenizer.from_pretrained(MODEL_NAME_OR_PATH, use_fast=True)\n",
    "    model = FlaxAutoModelForSeq2SeqLM.from_pretrained(MODEL_NAME_OR_PATH)\n",
    "\n",
    "    prefix = \"items: \"\n",
    "    generation_kwargs = {\n",
    "        \"max_length\": 512,\n",
    "        \"min_length\": 64,\n",
    "        \"no_repeat_ngram_size\": 3,\n",
    "        \"do_sample\": True,\n",
    "        \"top_k\": 60,\n",
    "        \"top_p\": 0.95\n",
    "    }\n",
    "    special_tokens = tokenizer.all_special_tokens\n",
    "    tokens_map = {\n",
    "        \"<sep>\": \"--\",\n",
    "        \"<section>\": \"\\n\"\n",
    "    }\n",
    "    def skip_special_tokens(text, special_tokens):\n",
    "        for token in special_tokens:\n",
    "            text = text.replace(token, \"\")\n",
    "\n",
    "        return text\n",
    "\n",
    "    def target_postprocessing(texts, special_tokens):\n",
    "        if not isinstance(texts, list):\n",
    "            texts = [texts]\n",
    "\n",
    "        new_texts = []\n",
    "        for text in texts:\n",
    "            text = skip_special_tokens(text, special_tokens)\n",
    "\n",
    "            for k, v in tokens_map.items():\n",
    "                text = text.replace(k, v)\n",
    "\n",
    "            new_texts.append(text)\n",
    "\n",
    "        return new_texts\n",
    "\n",
    "    def generation_function(texts):\n",
    "        _inputs = texts if isinstance(texts, list) else [texts]\n",
    "        inputs = [str(prefix) + str(inp for inp in _inputs)]\n",
    "        inputs = tokenizer(\n",
    "            inputs,\n",
    "            max_length=256,\n",
    "            padding=\"max_length\",\n",
    "            truncation=True,\n",
    "            return_tensors=\"jax\"\n",
    "        )\n",
    "\n",
    "        input_ids = inputs.input_ids\n",
    "        attention_mask = inputs.attention_mask\n",
    "\n",
    "        output_ids = model.generate(\n",
    "            input_ids=input_ids,\n",
    "            attention_mask=attention_mask,\n",
    "            **generation_kwargs\n",
    "        )\n",
    "        generated = output_ids.sequences\n",
    "        generated_recipe = target_postprocessing(\n",
    "            tokenizer.batch_decode(generated, skip_special_tokens=False),\n",
    "            special_tokens\n",
    "        )\n",
    "        return generated_recipe\n",
    "\n",
    "    recipes = []\n",
    "    for ingredient in ingredients:\n",
    "        recipe = generation_function(ingredient)\n",
    "        recipes.append(recipe)\n",
    "\n",
    "    return recipes\n"
   ]
  },
  {
   "cell_type": "code",
   "execution_count": null,
   "metadata": {},
   "outputs": [],
   "source": [
    "k = recipe_generator(lists)"
   ]
  },
  {
   "cell_type": "code",
   "execution_count": 19,
   "metadata": {},
   "outputs": [
    {
     "data": {
      "text/plain": [
       "[[' title: savory nutty cookie crust\\n ingredients: cookie dough-- generator object recipe_generators.html-- t.f.h.t.v.\\n directions: 1. preheat oven to 375 degrees. line a cookie sheet with parchment. using a 2 inch cookie cutter, cut out circles of cookie dough. transfer to the cookie sheet. repeat with the remaining cookie dough to make 8 dozen cookies.-- 2. bake for 8 to 10 minutes, or until golden brown. let cool completely.-- 3. store in an airtight container.'],\n",
       " [' title: savory nutty cookie crust\\n ingredients: cookie dough-- generator object recipe_generators.html-- t.f.h.t.v.\\n directions: 1. preheat oven to 375 degrees. line a cookie sheet with parchment. using a 2 inch cookie cutter, cut out circles of cookie dough. transfer to the cookie sheet. repeat with the remaining cookie dough to make 8 dozen cookies.-- 2. bake for 8 to 10 minutes, or until golden brown. let cool completely.-- 3. store in an airtight container.'],\n",
       " [' title: savory nutty cookie crust\\n ingredients: cookie dough recipegenerator object recipe>>. locals>.generatory function>>>-- cookies in a jar see below>. or a pre made cookie dough made with pre made cookies.>.-- 2 packages pillsbury r perfect mix r cookie mix-- 15 x 10 inch jelly roll pan.-- 1/4 c. confectioners sugar-- 1/4 teaspoon 0x7f9716eee at 0xx14eece0>\\n directions: preheat oven to 375 degrees.---- in ice cube trays or on baking sheet lined with parchment paper, roll out cookie dough into a 12x12 inch rectangle, 1/8 inch thick.-- use a 2 1/2 3 inch round cookie cutter to cut out the cookie dough. reroll scraps and cut out more cookies.-- place the cookies on the prepared baking sheets, spacing them 1 inch apart.-- bake for 9 11 minutes, or until golden brown.-- immediately remove from the trays. cool completely on a wire rack.-- stir together the confectioners baking mix and remaining ingredients until combined.-- spread the topping evenly over the bottom of each cookie, leaving a 1/2 inch border.-- sprinkle the sugar over the frosting.']]"
      ]
     },
     "execution_count": 19,
     "metadata": {},
     "output_type": "execute_result"
    }
   ],
   "source": [
    "k"
   ]
  },
  {
   "cell_type": "code",
   "execution_count": 14,
   "metadata": {},
   "outputs": [
    {
     "name": "stdout",
     "output_type": "stream",
     "text": [
      "[[' title: recipe s colognese ragu recipe\\n ingredients: 1 x 3.5 ounce jar ragu r x cream of potato soup see note-- 1 x 10 ounce can flora r g if possible generator object recipe_generator.dark fruit ragu recipe.getstuffing recipe.generator object recipe.data generator object recipe>.remaining ingredients-- 0x4 ounce packet colognese sauce.powdered tomato cream.to yield 3 cups.products.getgetcook.sugar.com.getgettables.com-- 1 x 1 ounce qts. bolognese sauce.ener g lf.c. colognese sauce.ener g lf.com.to yield 3 cups.remove from heat.if using colognese,combine bolognese sauce and cream.do not add in bolognese sauce.prepare 2 oz. kraft lf.c.t.g.e.-- http //www.gr.gf.e.g.u.n.o. gp.p. lf.g.r.p.'], [' title: recipe s colognese ragu recipe\\n ingredients: 1 x 3.5 ounce jar ragu r x cream of potato soup see note-- 1 x 10 ounce can flora r g if possible generator object recipe_generator.html-- 1 x 8 ounce jar ragu r g if possible churned recipe page 224. if you don t have generator object, then you can use any container of ragu r cream of potato soup.-- place a strainer over a bowl and use it to remove the ragu r, reserving the sauce. i only pour the ragu into a heat resistant bowl, let the water drain off the ragu, then stir it with a wooden spoon or possibly spatula. the spoon will catch the ragu r, and it will become easier to blend the ragu r in the cream of potato soup.-- return the ragu r, strained sauce, and any juices to the pan and bring it to a simmer over low heat. bring it to a simmer and cook for 1 minute. stir in the jar of ragu r. cook for about 30 seconds longer, until the ragu r, sauce, and ragu r are fully combined, then remove the pot from the heat. allow the ragu r to cool completely before covering with plastic wrap. refrigerate at least 1 hour for the flavors to develop.-- to speed the process, use a large bowl with an immersion blender or possibly an electric hand held mixer to combine the ragu r by hand.-- to cook, if you like, follow the recipe as described above, but instead of cutting the ragu r into small cubes, add in more ragu r into a jar, then add in the ragu r, and mix well. if you do not have an immersion blender, you can use a regular blender.-- this is good served at room temperature or refrigerated in a tightly covered container.'], [' title: recipe s colognese ragu recipe\\n ingredients: 1 x 3.5 ounce jar ragu r x cream of potato soup see note-- 1 x 10 ounce can flora r g if possible generator object recipe_generator. flora r x cream of potato soup see note-- 1/2 c. flora r g if possible colognese sauce recipe_generator. flora r flora r x cream of potato soup see note-- 1/4 c. flora r g if possible colognese sauce-- 1 c. flora r flora r x cream of potato soup see note-- 1 tbsp. flora r x cream of potato soup, prepared according to package directions for colognese sauce recipe.-- flora r x cream of potato soup recipe']]\n"
     ]
    }
   ],
   "source": [
    "print(k)"
   ]
  },
  {
   "cell_type": "code",
   "execution_count": 16,
   "metadata": {},
   "outputs": [
    {
     "name": "stdout",
     "output_type": "stream",
     "text": [
      "[{'title': 'recipe s colognese ragu recipe', 'ingredients': '1. 1 x 3.5 ounce jar ragu r x cream of potato soup see note\\n2. 1 x 10 ounce can flora r g if possible generator object recipe_generator.dark fruit ragu recipe.getstuffing recipe.generator object recipe.data generator object recipe>.remaining ingredients\\n3. 0x4 ounce packet colognese sauce.powdered tomato cream.to yield 3 cups.products.getgetcook.sugar.com.getgettables.com\\n4. 1 x 1 ounce qts. bolognese sauce.ener g lf.c. colognese sauce.ener g lf.com.to yield 3 cups.remove from heat.if using colognese,combine bolognese sauce and cream.do not add in bolognese sauce.prepare 2 oz. kraft lf.c.t.g.e.\\n5. Http //www.gr.gf.e.g.u.n.o. gp.p. lf.g.r.p.'}, {'title': 'recipe s colognese ragu recipe', 'ingredients': '1. 1 x 3.5 ounce jar ragu r x cream of potato soup see note\\n2. 1 x 10 ounce can flora r g if possible generator object recipe_generator.html\\n3. 1 x 8 ounce jar ragu r g if possible churned recipe page 224. if you don t have generator object, then you can use any container of ragu r cream of potato soup.\\n4. Place a strainer over a bowl and use it to remove the ragu r, reserving the sauce. i only pour the ragu into a heat resistant bowl, let the water drain off the ragu, then stir it with a wooden spoon or possibly spatula. the spoon will catch the ragu r, and it will become easier to blend the ragu r in the cream of potato soup.\\n5. Return the ragu r, strained sauce, and any juices to the pan and bring it to a simmer over low heat. bring it to a simmer and cook for 1 minute. stir in the jar of ragu r. cook for about 30 seconds longer, until the ragu r, sauce, and ragu r are fully combined, then remove the pot from the heat. allow the ragu r to cool completely before covering with plastic wrap. refrigerate at least 1 hour for the flavors to develop.\\n6. To speed the process, use a large bowl with an immersion blender or possibly an electric hand held mixer to combine the ragu r by hand.\\n7. To cook, if you like, follow the recipe as described above, but instead of cutting the ragu r into small cubes, add in more ragu r into a jar, then add in the ragu r, and mix well. if you do not have an immersion blender, you can use a regular blender.\\n8. This is good served at room temperature or refrigerated in a tightly covered container.'}, {'title': 'recipe s colognese ragu recipe', 'ingredients': '1. 1 x 3.5 ounce jar ragu r x cream of potato soup see note\\n2. 1 x 10 ounce can flora r g if possible generator object recipe_generator. flora r x cream of potato soup see note\\n3. 1/2 c. flora r g if possible colognese sauce recipe_generator. flora r flora r x cream of potato soup see note\\n4. 1/4 c. flora r g if possible colognese sauce\\n5. 1 c. flora r flora r x cream of potato soup see note\\n6. 1 tbsp. flora r x cream of potato soup, prepared according to package directions for colognese sauce recipe.\\n7. Flora r x cream of potato soup recipe'}]\n"
     ]
    }
   ],
   "source": [
    "def convert_to_dictionary(recipes):\n",
    "    recipe_dicts = []\n",
    "    for recipe in recipes:\n",
    "        recipe_dict = {}\n",
    "        recipe = recipe[0]\n",
    "        parts = recipe.split('\\n')\n",
    "        for part in parts:\n",
    "            key, value = part.split(':', 1)\n",
    "            key = key.strip().lower()\n",
    "            value = value.strip()\n",
    "\n",
    "            if key in ['ingredients', 'directions']:\n",
    "                items = [f\"{i+1}. {info.strip().capitalize()}\" for i, info in enumerate(value.split(\"--\"))]\n",
    "                recipe_dict[key] = \"\\n\".join(items)\n",
    "            else:\n",
    "                recipe_dict[key] = value\n",
    "        recipe_dicts.append(recipe_dict)\n",
    "\n",
    "    return recipe_dicts\n",
    "\n",
    "recipe_dicts = convert_to_dictionary(k)\n",
    "print(recipe_dicts)"
   ]
  },
  {
   "cell_type": "code",
   "execution_count": 18,
   "metadata": {},
   "outputs": [
    {
     "name": "stdout",
     "output_type": "stream",
     "text": [
      "[0.5, 0.5, 0.5]\n"
     ]
    }
   ],
   "source": [
    "def get_model():\n",
    "    with open(\"utils/model.pickle\", \"rb\") as f:\n",
    "        model = pickle.load(f)\n",
    "    return model\n",
    "\n",
    "model = get_model()\n",
    "\n",
    "scores = []\n",
    "recipe_direction = []\n",
    "\n",
    "for recipe in recipe_dicts:\n",
    "    if 'directions' in recipe:\n",
    "        recipe_direction.append(recipe['directions'])\n",
    "    else:\n",
    "        recipe_direction.append(\"\")\n",
    "\n",
    "for direction in recipe_direction:\n",
    "    scores.append(model.predict_proba([direction])[0][1])\n",
    "\n",
    "print(scores)\n",
    "\n",
    "# #scores = [model.predict_proba([recipe['directions']])[0][1] for recipe in recipe_dicts]\n",
    "# print(scores)"
   ]
  },
  {
   "cell_type": "code",
   "execution_count": 33,
   "metadata": {},
   "outputs": [],
   "source": [
    "# def final_recipes(recipe_dict, scores, model):  ###<=== Function for evaluating if the score passes the threshold and regenerating if it doesn't\n",
    "#     \"\"\"\n",
    "#     This evaluates whether the score of a recipe passes or fails the threshold.\n",
    "#     If the recipe doesn't meet the threshold after 3 attempts, the last generated recipe is added.\n",
    "#     INPUT: Output of the recipe generator function\n",
    "#     NOTE FOR FRONT-END: it's important to make sure that the outputs of the new recipe generator are the same as the\n",
    "#                         old version for this function to still work.\n",
    "#                         optimized_gptrecipe() and scoring_model() must be replaced with the actual functions\n",
    "#     \"\"\"\n",
    "#     final_recipes = {\"Title\": [], \"Ingredients\": [], \"Instructions\": []}\n",
    "#     threshold = 0.1\n",
    "\n",
    "#     for i in range(len(recipe_dict)):\n",
    "#         if scores[i] >= threshold:\n",
    "#             final_recipes[\"Title\"].append([recipe['title'] for recipe in recipe_dicts][i])\n",
    "#             final_recipes[\"Ingredients\"].append([recipe[\"ingredients\"] for recipe in recipe_dicts][i])\n",
    "#             final_recipes[\"Instructions\"].append([recipe[\"directions\"] for recipe in recipe_dicts][i])\n",
    "#         else:\n",
    "#             n = 0\n",
    "#             tmp_recipe = {\n",
    "#                 \"Title\":[recipe['title'] for recipe in recipe_dicts][i],\n",
    "#                 \"Ingredients\":[recipe[\"ingredients\"] for recipe in recipe_dicts][i],\n",
    "#                 \"Instructions\":[recipe[\"directions\"] for recipe in recipe_dicts][i]\n",
    "#                          }\n",
    "#             last_recipe = {\n",
    "#                 \"Title\":[recipe['title'] for recipe in recipe_dicts][i],\n",
    "#                 \"Ingredients\":[recipe[\"ingredients\"] for recipe in recipe_dicts][i],\n",
    "#                 \"Instructions\":[recipe[\"directions\"] for recipe in recipe_dicts][i]\n",
    "#                          }\n",
    "#             while n < 3:\n",
    "#                 new_recipe = recipe_generator(tmp_recipe[\"Ingredients\"][0]) ###<=== insert actual recipe generator\n",
    "#                 new_score = model.predict_proba(new_recipe[\"Instructions\"][0]) ###<=== insert the actual scoring model function here\n",
    "#                 if new_score >= threshold:\n",
    "#                     final_recipes[\"Title\"].append(new_recipe[\"Title\"])\n",
    "#                     final_recipes[\"Ingredients\"].append(new_recipe[\"Ingredients\"])\n",
    "#                     final_recipes[\"Instructions\"].append(new_recipe[\"Instructions\"])\n",
    "#                     break  # Exit loop if the new recipe passes the threshold\n",
    "#                 else:\n",
    "#                     last_recipe = new_recipe  # Update tmp_recipe with the new recipe if the threshold isn't met\n",
    "#                     n += 1\n",
    "#             else: # Add the last generated recipe if the loop completes without finding a passing recipe\n",
    "#                 final_recipes[\"Title\"].append(last_recipe[\"Title\"])\n",
    "#                 final_recipes[\"Ingredients\"].append(last_recipe[\"Ingredients\"])\n",
    "#                 final_recipes[\"Instructions\"].append(last_recipe[\"Instructions\"])\n",
    "#                 break  # Exit the outer loop to prevent an unending loop\n",
    "\n",
    "#     return final_recipes\n",
    "\n",
    "# main_dict = final_recipes(recipe_dicts, scores, model)\n",
    "# print(main_dict)"
   ]
  },
  {
   "cell_type": "code",
   "execution_count": 19,
   "metadata": {},
   "outputs": [
    {
     "name": "stdout",
     "output_type": "stream",
     "text": [
      "[{'title': 'recipe s colognese ragu recipe', 'ingredients': '1. 1 x 3.5 ounce jar ragu r x cream of potato soup see note\\n2. 1 x 10 ounce can flora r g if possible generator object recipe_generator.dark fruit ragu recipe.getstuffing recipe.generator object recipe.data generator object recipe>.remaining ingredients\\n3. 0x4 ounce packet colognese sauce.powdered tomato cream.to yield 3 cups.products.getgetcook.sugar.com.getgettables.com\\n4. 1 x 1 ounce qts. bolognese sauce.ener g lf.c. colognese sauce.ener g lf.com.to yield 3 cups.remove from heat.if using colognese,combine bolognese sauce and cream.do not add in bolognese sauce.prepare 2 oz. kraft lf.c.t.g.e.\\n5. Http //www.gr.gf.e.g.u.n.o. gp.p. lf.g.r.p.'}, {'title': 'recipe s colognese ragu recipe', 'ingredients': '1. 1 x 3.5 ounce jar ragu r x cream of potato soup see note\\n2. 1 x 10 ounce can flora r g if possible generator object recipe_generator.html\\n3. 1 x 8 ounce jar ragu r g if possible churned recipe page 224. if you don t have generator object, then you can use any container of ragu r cream of potato soup.\\n4. Place a strainer over a bowl and use it to remove the ragu r, reserving the sauce. i only pour the ragu into a heat resistant bowl, let the water drain off the ragu, then stir it with a wooden spoon or possibly spatula. the spoon will catch the ragu r, and it will become easier to blend the ragu r in the cream of potato soup.\\n5. Return the ragu r, strained sauce, and any juices to the pan and bring it to a simmer over low heat. bring it to a simmer and cook for 1 minute. stir in the jar of ragu r. cook for about 30 seconds longer, until the ragu r, sauce, and ragu r are fully combined, then remove the pot from the heat. allow the ragu r to cool completely before covering with plastic wrap. refrigerate at least 1 hour for the flavors to develop.\\n6. To speed the process, use a large bowl with an immersion blender or possibly an electric hand held mixer to combine the ragu r by hand.\\n7. To cook, if you like, follow the recipe as described above, but instead of cutting the ragu r into small cubes, add in more ragu r into a jar, then add in the ragu r, and mix well. if you do not have an immersion blender, you can use a regular blender.\\n8. This is good served at room temperature or refrigerated in a tightly covered container.'}, {'title': 'recipe s colognese ragu recipe', 'ingredients': '1. 1 x 3.5 ounce jar ragu r x cream of potato soup see note\\n2. 1 x 10 ounce can flora r g if possible generator object recipe_generator. flora r x cream of potato soup see note\\n3. 1/2 c. flora r g if possible colognese sauce recipe_generator. flora r flora r x cream of potato soup see note\\n4. 1/4 c. flora r g if possible colognese sauce\\n5. 1 c. flora r flora r x cream of potato soup see note\\n6. 1 tbsp. flora r x cream of potato soup, prepared according to package directions for colognese sauce recipe.\\n7. Flora r x cream of potato soup recipe'}]\n"
     ]
    }
   ],
   "source": [
    "print(recipe_dicts)"
   ]
  },
  {
   "cell_type": "code",
   "execution_count": 20,
   "metadata": {},
   "outputs": [
    {
     "data": {
      "text/plain": [
       "'recipe s colognese ragu recipe'"
      ]
     },
     "execution_count": 20,
     "metadata": {},
     "output_type": "execute_result"
    }
   ],
   "source": [
    "recipe_dicts[0][\"title\"]"
   ]
  },
  {
   "cell_type": "code",
   "execution_count": 21,
   "metadata": {},
   "outputs": [
    {
     "data": {
      "text/plain": [
       "'1. 1 x 3.5 ounce jar ragu r x cream of potato soup see note\\n2. 1 x 10 ounce can flora r g if possible generator object recipe_generator.dark fruit ragu recipe.getstuffing recipe.generator object recipe.data generator object recipe>.remaining ingredients\\n3. 0x4 ounce packet colognese sauce.powdered tomato cream.to yield 3 cups.products.getgetcook.sugar.com.getgettables.com\\n4. 1 x 1 ounce qts. bolognese sauce.ener g lf.c. colognese sauce.ener g lf.com.to yield 3 cups.remove from heat.if using colognese,combine bolognese sauce and cream.do not add in bolognese sauce.prepare 2 oz. kraft lf.c.t.g.e.\\n5. Http //www.gr.gf.e.g.u.n.o. gp.p. lf.g.r.p.'"
      ]
     },
     "execution_count": 21,
     "metadata": {},
     "output_type": "execute_result"
    }
   ],
   "source": [
    "recipe_dicts[0][\"ingredients\"]"
   ]
  },
  {
   "cell_type": "code",
   "execution_count": 22,
   "metadata": {},
   "outputs": [
    {
     "ename": "KeyError",
     "evalue": "'directions'",
     "output_type": "error",
     "traceback": [
      "\u001b[0;31m---------------------------------------------------------------------------\u001b[0m",
      "\u001b[0;31mKeyError\u001b[0m                                  Traceback (most recent call last)",
      "Cell \u001b[0;32mIn [22], line 1\u001b[0m\n\u001b[0;32m----> 1\u001b[0m \u001b[43mrecipe_dicts\u001b[49m\u001b[43m[\u001b[49m\u001b[38;5;241;43m0\u001b[39;49m\u001b[43m]\u001b[49m\u001b[43m[\u001b[49m\u001b[38;5;124;43m\"\u001b[39;49m\u001b[38;5;124;43mdirections\u001b[39;49m\u001b[38;5;124;43m\"\u001b[39;49m\u001b[43m]\u001b[49m\n",
      "\u001b[0;31mKeyError\u001b[0m: 'directions'"
     ]
    }
   ],
   "source": [
    "recipe_dicts[0][\"directions\"]"
   ]
  },
  {
   "cell_type": "code",
   "execution_count": 44,
   "metadata": {},
   "outputs": [
    {
     "data": {
      "text/plain": [
       "3"
      ]
     },
     "execution_count": 44,
     "metadata": {},
     "output_type": "execute_result"
    }
   ],
   "source": [
    "len(recipe_dicts[0])"
   ]
  },
  {
   "cell_type": "code",
   "execution_count": 58,
   "metadata": {},
   "outputs": [],
   "source": [
    "def final_recipes(recipes, scores, model):  ###<=== Function for evaluating if the score passes the threshold and regenerating if it doesn't\n",
    "    \"\"\"\n",
    "    This evaluates whether the score of a recipe passes or fails the threshold.\n",
    "    If the recipe doesn't meet the threshold after 3 attempts, the last generated recipe is added.\n",
    "    INPUT: Output of the recipe generator function\n",
    "    NOTE FOR FRONT-END: it's important to make sure that the outputs of the new recipe generator are the same as the\n",
    "                        old version for this function to still work.\n",
    "                        optimized_gptrecipe() and scoring_model() must be replaced with the actual functions\n",
    "    \"\"\"\n",
    "    final_recipes = {\"Title\": [], \"Ingredients\": [], \"Instructions\": []}\n",
    "    threshold = 2\n",
    "\n",
    "    for i in range(len(recipe_dicts[0])):\n",
    "        if scores[i] >= threshold:\n",
    "            final_recipes[\"Title\"].append(recipes[i][\"title\"])\n",
    "            final_recipes[\"Ingredients\"].append(recipes[i][\"ingredients\"])\n",
    "            final_recipes[\"Instructions\"].append(recipes[i][\"directions\"])\n",
    "        else:\n",
    "            n = 0\n",
    "            tmp_recipe = {\n",
    "                \"Title\":recipes[i][\"title\"],\n",
    "                \"Ingredients\":recipes[i][\"ingredients\"],\n",
    "                \"Instructions\":recipes[i][\"directions\"]\n",
    "                         }\n",
    "            last_recipe = {\n",
    "                \"Title\":recipes[i][\"title\"],\n",
    "                \"Ingredients\":recipes[i][\"ingredients\"],\n",
    "                \"Instructions\":recipes[i][\"directions\"]\n",
    "                         }\n",
    "\n",
    "            while n < 3:\n",
    "                new_recipe = recipe_generator(tmp_recipe[\"Ingredients\"]) ###<=== insert actual recipe generator\n",
    "                print(new_recipe)\n",
    "                new_score = model.predict_proba(new_recipe[\"Instructions\"][0]) ###<=== insert the actual scoring model function here\n",
    "                if new_score >= threshold:\n",
    "                    final_recipes[\"Title\"].append(new_recipe[\"Title\"])\n",
    "                    final_recipes[\"Ingredients\"].append(new_recipe[\"Ingredients\"])\n",
    "                    final_recipes[\"Instructions\"].append(new_recipe[\"Instructions\"])\n",
    "                    break  # Exit loop if the new recipe passes the threshold\n",
    "                else:\n",
    "                    last_recipe = new_recipe  # Update tmp_recipe with the new recipe if the threshold isn't met\n",
    "                    n += 1\n",
    "            else: # Add the last generated recipe if the loop completes without finding a passing recipe\n",
    "                final_recipes[\"Title\"].append(last_recipe[\"Title\"])\n",
    "                final_recipes[\"Ingredients\"].append(last_recipe[\"Ingredients\"])\n",
    "                final_recipes[\"Instructions\"].append(last_recipe[\"Instructions\"])\n",
    "                break  # Exit the outer loop to prevent an unending loop\n",
    "\n",
    "    return final_recipes"
   ]
  },
  {
   "cell_type": "code",
   "execution_count": 59,
   "metadata": {},
   "outputs": [],
   "source": [
    "main_dict = final_recipes(recipe_dicts, scores, model)\n",
    "print(main_dict)"
   ]
  },
  {
   "cell_type": "code",
   "execution_count": 36,
   "metadata": {},
   "outputs": [],
   "source": [
    "def image_generator(recipe):\n",
    "    client = Client(\"https://playgroundai-playground-v2-5.hf.space/--replicas/xzpmd/\")\n",
    "    result = client.predict(\n",
    "            recipe,\n",
    "            \" \",\n",
    "            False,\n",
    "            820,\n",
    "            1024,\n",
    "            1024,\n",
    "            3,\n",
    "            True,\n",
    "            api_name=\"/run\"\n",
    "    )\n",
    "    image_path = result[0][0]['image']\n",
    "    return image_path"
   ]
  },
  {
   "cell_type": "code",
   "execution_count": 37,
   "metadata": {},
   "outputs": [
    {
     "ename": "NameError",
     "evalue": "name 'main_dict' is not defined",
     "output_type": "error",
     "traceback": [
      "\u001b[0;31m---------------------------------------------------------------------------\u001b[0m",
      "\u001b[0;31mNameError\u001b[0m                                 Traceback (most recent call last)",
      "Cell \u001b[0;32mIn [37], line 1\u001b[0m\n\u001b[0;32m----> 1\u001b[0m \u001b[38;5;28;01mfor\u001b[39;00m title \u001b[38;5;129;01min\u001b[39;00m \u001b[43mmain_dict\u001b[49m[\u001b[38;5;124m'\u001b[39m\u001b[38;5;124mTitle\u001b[39m\u001b[38;5;124m'\u001b[39m]:\n\u001b[1;32m      2\u001b[0m     \u001b[38;5;28mprint\u001b[39m(title)\n\u001b[1;32m      3\u001b[0m     img \u001b[38;5;241m=\u001b[39m mpimg\u001b[38;5;241m.\u001b[39mimread(image_generator(title))\n",
      "\u001b[0;31mNameError\u001b[0m: name 'main_dict' is not defined"
     ]
    }
   ],
   "source": [
    "for title in main_dict['Title']:\n",
    "    print(title)\n",
    "    img = mpimg.imread(image_generator(title))\n",
    "    plt.imshow(img)\n",
    "    plt.axis('off')  # Hide axis'/private/var/folders/6k/47szr19n3q9b475tdmrfp68h0000gn/T/gradio/f9f951589827e2d9fd6fb40fe7113f24e3282141/060ccfb9-1a67-4149-a140-62f9694e17bb.png'\n",
    "    plt.show()\n"
   ]
  },
  {
   "cell_type": "code",
   "execution_count": null,
   "metadata": {},
   "outputs": [],
   "source": []
  }
 ],
 "metadata": {
  "kernelspec": {
   "display_name": "Python 3 (ipykernel)",
   "language": "python",
   "name": "python3"
  },
  "language_info": {
   "codemirror_mode": {
    "name": "ipython",
    "version": 3
   },
   "file_extension": ".py",
   "mimetype": "text/x-python",
   "name": "python",
   "nbconvert_exporter": "python",
   "pygments_lexer": "ipython3",
   "version": "3.10.6"
  },
  "toc": {
   "base_numbering": 1,
   "nav_menu": {},
   "number_sections": true,
   "sideBar": true,
   "skip_h1_title": false,
   "title_cell": "Table of Contents",
   "title_sidebar": "Contents",
   "toc_cell": false,
   "toc_position": {},
   "toc_section_display": true,
   "toc_window_display": false
  }
 },
 "nbformat": 4,
 "nbformat_minor": 2
}
