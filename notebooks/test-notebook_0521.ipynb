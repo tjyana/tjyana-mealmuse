{
 "cells": [
  {
   "cell_type": "code",
   "execution_count": 65,
   "metadata": {
    "colab": {
     "base_uri": "https://localhost:8080/"
    },
    "id": "wzCz2MHt4Q4v",
    "outputId": "2b9ce666-174f-41f4-876c-744bab932675"
   },
   "outputs": [
    {
     "name": "stderr",
     "output_type": "stream",
     "text": [
      "/home/tjyana/.pyenv/versions/3.10.6/lib/python3.10/pty.py:89: RuntimeWarning: os.fork() was called. os.fork() is incompatible with multithreaded code, and JAX is multithreaded, so this will likely lead to a deadlock.\n",
      "  pid, fd = os.forkpty()\n"
     ]
    },
    {
     "name": "stdout",
     "output_type": "stream",
     "text": [
      "Requirement already satisfied: gradio_client in /home/tjyana/.pyenv/versions/3.10.6/envs/lewagon/lib/python3.10/site-packages (0.15.1)\n",
      "Requirement already satisfied: fsspec in /home/tjyana/.pyenv/versions/3.10.6/envs/lewagon/lib/python3.10/site-packages (from gradio_client) (2024.3.1)\n",
      "Requirement already satisfied: httpx>=0.24.1 in /home/tjyana/.pyenv/versions/3.10.6/envs/lewagon/lib/python3.10/site-packages (from gradio_client) (0.27.0)\n",
      "Requirement already satisfied: huggingface-hub>=0.19.3 in /home/tjyana/.pyenv/versions/3.10.6/envs/lewagon/lib/python3.10/site-packages (from gradio_client) (0.22.0)\n",
      "Requirement already satisfied: packaging in /home/tjyana/.pyenv/versions/3.10.6/envs/lewagon/lib/python3.10/site-packages (from gradio_client) (21.3)\n",
      "Requirement already satisfied: typing-extensions~=4.0 in /home/tjyana/.pyenv/versions/3.10.6/envs/lewagon/lib/python3.10/site-packages (from gradio_client) (4.9.0)\n",
      "Requirement already satisfied: websockets<12.0,>=10.0 in /home/tjyana/.pyenv/versions/3.10.6/envs/lewagon/lib/python3.10/site-packages (from gradio_client) (11.0.3)\n",
      "Requirement already satisfied: anyio in /home/tjyana/.pyenv/versions/3.10.6/envs/lewagon/lib/python3.10/site-packages (from httpx>=0.24.1->gradio_client) (3.6.2)\n",
      "Requirement already satisfied: certifi in /home/tjyana/.pyenv/versions/3.10.6/envs/lewagon/lib/python3.10/site-packages (from httpx>=0.24.1->gradio_client) (2022.9.24)\n",
      "Requirement already satisfied: httpcore==1.* in /home/tjyana/.pyenv/versions/3.10.6/envs/lewagon/lib/python3.10/site-packages (from httpx>=0.24.1->gradio_client) (1.0.4)\n",
      "Requirement already satisfied: idna in /home/tjyana/.pyenv/versions/3.10.6/envs/lewagon/lib/python3.10/site-packages (from httpx>=0.24.1->gradio_client) (3.4)\n",
      "Requirement already satisfied: sniffio in /home/tjyana/.pyenv/versions/3.10.6/envs/lewagon/lib/python3.10/site-packages (from httpx>=0.24.1->gradio_client) (1.3.0)\n",
      "Requirement already satisfied: h11<0.15,>=0.13 in /home/tjyana/.pyenv/versions/3.10.6/envs/lewagon/lib/python3.10/site-packages (from httpcore==1.*->httpx>=0.24.1->gradio_client) (0.14.0)\n",
      "Requirement already satisfied: filelock in /home/tjyana/.pyenv/versions/3.10.6/envs/lewagon/lib/python3.10/site-packages (from huggingface-hub>=0.19.3->gradio_client) (3.13.3)\n",
      "Requirement already satisfied: pyyaml>=5.1 in /home/tjyana/.pyenv/versions/3.10.6/envs/lewagon/lib/python3.10/site-packages (from huggingface-hub>=0.19.3->gradio_client) (6.0.1)\n",
      "Requirement already satisfied: requests in /home/tjyana/.pyenv/versions/3.10.6/envs/lewagon/lib/python3.10/site-packages (from huggingface-hub>=0.19.3->gradio_client) (2.28.1)\n",
      "Requirement already satisfied: tqdm>=4.42.1 in /home/tjyana/.pyenv/versions/3.10.6/envs/lewagon/lib/python3.10/site-packages (from huggingface-hub>=0.19.3->gradio_client) (4.64.1)\n",
      "Requirement already satisfied: pyparsing!=3.0.5,>=2.0.2 in /home/tjyana/.pyenv/versions/3.10.6/envs/lewagon/lib/python3.10/site-packages (from packaging->gradio_client) (3.0.9)\n",
      "Requirement already satisfied: charset-normalizer<3,>=2 in /home/tjyana/.pyenv/versions/3.10.6/envs/lewagon/lib/python3.10/site-packages (from requests->huggingface-hub>=0.19.3->gradio_client) (2.1.1)\n",
      "Requirement already satisfied: urllib3<1.27,>=1.21.1 in /home/tjyana/.pyenv/versions/3.10.6/envs/lewagon/lib/python3.10/site-packages (from requests->huggingface-hub>=0.19.3->gradio_client) (1.26.12)\n",
      "Requirement already satisfied: groq in /home/tjyana/.pyenv/versions/3.10.6/envs/lewagon/lib/python3.10/site-packages (0.5.0)\n",
      "Requirement already satisfied: anyio<5,>=3.5.0 in /home/tjyana/.pyenv/versions/3.10.6/envs/lewagon/lib/python3.10/site-packages (from groq) (3.6.2)\n",
      "Requirement already satisfied: distro<2,>=1.7.0 in /home/tjyana/.pyenv/versions/3.10.6/envs/lewagon/lib/python3.10/site-packages (from groq) (1.9.0)\n",
      "Requirement already satisfied: httpx<1,>=0.23.0 in /home/tjyana/.pyenv/versions/3.10.6/envs/lewagon/lib/python3.10/site-packages (from groq) (0.27.0)\n",
      "Requirement already satisfied: pydantic<3,>=1.9.0 in /home/tjyana/.pyenv/versions/3.10.6/envs/lewagon/lib/python3.10/site-packages (from groq) (1.9.2)\n",
      "Requirement already satisfied: sniffio in /home/tjyana/.pyenv/versions/3.10.6/envs/lewagon/lib/python3.10/site-packages (from groq) (1.3.0)\n",
      "Requirement already satisfied: typing-extensions<5,>=4.7 in /home/tjyana/.pyenv/versions/3.10.6/envs/lewagon/lib/python3.10/site-packages (from groq) (4.9.0)\n",
      "Requirement already satisfied: idna>=2.8 in /home/tjyana/.pyenv/versions/3.10.6/envs/lewagon/lib/python3.10/site-packages (from anyio<5,>=3.5.0->groq) (3.4)\n",
      "Requirement already satisfied: certifi in /home/tjyana/.pyenv/versions/3.10.6/envs/lewagon/lib/python3.10/site-packages (from httpx<1,>=0.23.0->groq) (2022.9.24)\n",
      "Requirement already satisfied: httpcore==1.* in /home/tjyana/.pyenv/versions/3.10.6/envs/lewagon/lib/python3.10/site-packages (from httpx<1,>=0.23.0->groq) (1.0.4)\n",
      "Requirement already satisfied: h11<0.15,>=0.13 in /home/tjyana/.pyenv/versions/3.10.6/envs/lewagon/lib/python3.10/site-packages (from httpcore==1.*->httpx<1,>=0.23.0->groq) (0.14.0)\n",
      "Requirement already satisfied: transformers in /home/tjyana/.pyenv/versions/3.10.6/envs/lewagon/lib/python3.10/site-packages (4.40.2)\n",
      "Requirement already satisfied: filelock in /home/tjyana/.pyenv/versions/3.10.6/envs/lewagon/lib/python3.10/site-packages (from transformers) (3.13.3)\n",
      "Requirement already satisfied: huggingface-hub<1.0,>=0.19.3 in /home/tjyana/.pyenv/versions/3.10.6/envs/lewagon/lib/python3.10/site-packages (from transformers) (0.22.0)\n",
      "Requirement already satisfied: numpy>=1.17 in /home/tjyana/.pyenv/versions/3.10.6/envs/lewagon/lib/python3.10/site-packages (from transformers) (1.26.4)\n",
      "Requirement already satisfied: packaging>=20.0 in /home/tjyana/.pyenv/versions/3.10.6/envs/lewagon/lib/python3.10/site-packages (from transformers) (21.3)\n",
      "Requirement already satisfied: pyyaml>=5.1 in /home/tjyana/.pyenv/versions/3.10.6/envs/lewagon/lib/python3.10/site-packages (from transformers) (6.0.1)\n",
      "Requirement already satisfied: regex!=2019.12.17 in /home/tjyana/.pyenv/versions/3.10.6/envs/lewagon/lib/python3.10/site-packages (from transformers) (2022.9.13)\n",
      "Requirement already satisfied: requests in /home/tjyana/.pyenv/versions/3.10.6/envs/lewagon/lib/python3.10/site-packages (from transformers) (2.28.1)\n",
      "Requirement already satisfied: tokenizers<0.20,>=0.19 in /home/tjyana/.pyenv/versions/3.10.6/envs/lewagon/lib/python3.10/site-packages (from transformers) (0.19.1)\n",
      "Requirement already satisfied: safetensors>=0.4.1 in /home/tjyana/.pyenv/versions/3.10.6/envs/lewagon/lib/python3.10/site-packages (from transformers) (0.4.2)\n",
      "Requirement already satisfied: tqdm>=4.27 in /home/tjyana/.pyenv/versions/3.10.6/envs/lewagon/lib/python3.10/site-packages (from transformers) (4.64.1)\n",
      "Requirement already satisfied: fsspec>=2023.5.0 in /home/tjyana/.pyenv/versions/3.10.6/envs/lewagon/lib/python3.10/site-packages (from huggingface-hub<1.0,>=0.19.3->transformers) (2024.3.1)\n",
      "Requirement already satisfied: typing-extensions>=3.7.4.3 in /home/tjyana/.pyenv/versions/3.10.6/envs/lewagon/lib/python3.10/site-packages (from huggingface-hub<1.0,>=0.19.3->transformers) (4.9.0)\n",
      "Requirement already satisfied: pyparsing!=3.0.5,>=2.0.2 in /home/tjyana/.pyenv/versions/3.10.6/envs/lewagon/lib/python3.10/site-packages (from packaging>=20.0->transformers) (3.0.9)\n",
      "Requirement already satisfied: charset-normalizer<3,>=2 in /home/tjyana/.pyenv/versions/3.10.6/envs/lewagon/lib/python3.10/site-packages (from requests->transformers) (2.1.1)\n",
      "Requirement already satisfied: idna<4,>=2.5 in /home/tjyana/.pyenv/versions/3.10.6/envs/lewagon/lib/python3.10/site-packages (from requests->transformers) (3.4)\n",
      "Requirement already satisfied: urllib3<1.27,>=1.21.1 in /home/tjyana/.pyenv/versions/3.10.6/envs/lewagon/lib/python3.10/site-packages (from requests->transformers) (1.26.12)\n",
      "Requirement already satisfied: certifi>=2017.4.17 in /home/tjyana/.pyenv/versions/3.10.6/envs/lewagon/lib/python3.10/site-packages (from requests->transformers) (2022.9.24)\n"
     ]
    }
   ],
   "source": [
    "! pip install gradio_client\n",
    "! pip install groq\n",
    "! pip install transformers"
   ]
  },
  {
   "cell_type": "code",
   "execution_count": 204,
   "metadata": {
    "id": "-fcOLmCJ4AiS"
   },
   "outputs": [],
   "source": [
    "import itertools\n",
    "import re\n",
    "import numpy as np\n",
    "import pandas as pd\n",
    "# import openai\n",
    "import pandas as pd\n",
    "import itertools\n",
    "# import streamlit as st\n",
    "import pickle\n",
    "# Anna's imports\n",
    "from transformers import FlaxAutoModelForSeq2SeqLM\n",
    "from transformers import AutoTokenizer\n",
    "import matplotlib.pyplot as plt\n",
    "import matplotlib.image as mpimg\n",
    "from gradio_client import Client\n",
    "import streamlit as st\n",
    "\n",
    "from groq import Groq\n",
    "import config\n",
    "\n",
    "df = pd.read_parquet('Halved-DF.parquet.gzip')\n",
    "\n",
    "def get_model():\n",
    "    with open(\"model.pickle\", \"rb\") as f:\n",
    "        model = pickle.load(f)\n",
    "    return model\n",
    "model = get_model()"
   ]
  },
  {
   "cell_type": "markdown",
   "metadata": {},
   "source": [
    "# combinations_of_two -> DONE\n",
    "-> working correctly (assuming desired output format is: list of tuples, containing all possible combinations of two ingredients)"
   ]
  },
  {
   "cell_type": "code",
   "execution_count": 67,
   "metadata": {},
   "outputs": [],
   "source": [
    "# # Updated 5/21/2024 by TJ\n",
    "\n",
    "# def combinations_of_two(ingredients_input): ###dealt with the issue of missing space crash\n",
    "\n",
    "#     '''\n",
    "#     The function generates all unique pairs of ingredients that can be made from the input list of ingredients.\n",
    "#     NOTE FOR FRONT-END: The output of this function is the input for data_query()\n",
    "    \n",
    "#     UPDATES\n",
    "#     5/22/2024 by TJ:\n",
    "#     - Modified it quite a bit so output format is one list of tuples\n",
    "#     - Removed the powerset stuff\n",
    "    \n",
    "#     Inputs (1): \n",
    "#     ingredients_input (from: user input in app) =  single string with ingredients separated by commas and a space\n",
    "    \n",
    "#     Outputs (1): \n",
    "#     ingredients_combinations (to: data_query) = a list of tuples, containing all possible combinations of 2 (so if it's 4 ingredients, a list of 6 tuples and nothing more)\n",
    "\n",
    "#     '''\n",
    "\n",
    "#     # split into list of individual ingredients\n",
    "#     ingredients_list = []\n",
    "#     ingredients = re.split('\\s|,', ingredients_input) \n",
    "#     [ingredients_list.append(ingredient) for ingredient in ingredients if ingredient != '']\n",
    "    \n",
    "#     # create list of all ingredient combinations\n",
    "#     ingredients_combinations = []\n",
    "#     combinations = itertools.combinations(ingredients_list, 2)\n",
    "#     ingredients_combinations = list(combinations)\n",
    "\n",
    "#     return ingredients_combinations"
   ]
  },
  {
   "cell_type": "code",
   "execution_count": 68,
   "metadata": {},
   "outputs": [],
   "source": [
    "def combinations_of_two(ingredients_input): ###dealt with the issue of missing space crash\n",
    "\n",
    "    '''\n",
    "    The function generates all unique pairs of ingredients that can be made from the input list of ingredients.\n",
    "    NOTE FOR FRONT-END: The output of this function is the input for data_query()\n",
    "    \n",
    "    Inputs (1): \n",
    "    ingredients_input (from: user input in app) =  single string with ingredients separated by commas and a space\n",
    "    \n",
    "    Outputs (1): \n",
    "    ingredients_combinations (to: data_query) = a list of tuples, containing all possible combinations of 2 (so if it's 4 ingredients, a list of 6 tuples and nothing more)\n",
    "\n",
    "    '''\n",
    "\n",
    "    ingredients_combinations = []\n",
    "    powerpowerset = []\n",
    "    ingredients = re.split(r',', ingredients_input.strip())\n",
    "    ingredients_list = list(set(ingredient.strip() for ingredient in ingredients))\n",
    "    for r in range(len(ingredients_list)+1):\n",
    "        combinations = itertools.combinations(ingredients_list, r)\n",
    "        #powerset.extend(subset for subset in combinations if len(subset) > 1)\n",
    "        for comb in combinations:\n",
    "            if len(comb) > 1:\n",
    "                if len(comb) < 3:\n",
    "                    ingredients_combinations.append(comb)\n",
    "                else:\n",
    "                    powerpowerset.append(comb)\n",
    "                    for power in powerpowerset:\n",
    "                        lowerset = []\n",
    "                        combins = itertools.combinations(power, 2)\n",
    "                        for arrange in combins:\n",
    "                            lowerset.append(arrange)\n",
    "                    ingredients_combinations.append(lowerset)\n",
    "    return ingredients_combinations\n",
    "\n"
   ]
  },
  {
   "cell_type": "markdown",
   "metadata": {
    "heading_collapsed": true,
    "id": "CXOGXHiG4AiS"
   },
   "source": [
    "### Testing combinations_of_two with tuples only\n",
    "4 ingredients -> 6 tuples\n",
    "<br>5 ingredients -> 10 tuples\n",
    "<br>6 ingredients -> 15 tuples"
   ]
  },
  {
   "cell_type": "code",
   "execution_count": 69,
   "metadata": {
    "hidden": true,
    "id": "CXOGXHiG4AiS"
   },
   "outputs": [
    {
     "name": "stdout",
     "output_type": "stream",
     "text": [
      "11\n",
      "[('tomato', 'salt'), ('tomato', 'garlic'), ('tomato', 'chicken'), ('salt', 'garlic'), ('salt', 'chicken'), ('garlic', 'chicken'), [('tomato', 'salt'), ('tomato', 'garlic'), ('salt', 'garlic')], [('tomato', 'salt'), ('tomato', 'chicken'), ('salt', 'chicken')], [('tomato', 'garlic'), ('tomato', 'chicken'), ('garlic', 'chicken')], [('salt', 'garlic'), ('salt', 'chicken'), ('garlic', 'chicken')], [('tomato', 'salt'), ('tomato', 'garlic'), ('tomato', 'chicken'), ('salt', 'garlic'), ('salt', 'chicken'), ('garlic', 'chicken')]]\n"
     ]
    }
   ],
   "source": [
    "# 4 ingredients -> 1 list of 6 unique tuples\n",
    "ingredients_input = 'chicken, garlic, salt, tomato'\n",
    "\n",
    "ingredients_combinations = combinations_of_two(ingredients_input)\n",
    "print(len(ingredients_combinations))\n",
    "print(ingredients_combinations)"
   ]
  },
  {
   "cell_type": "code",
   "execution_count": 70,
   "metadata": {
    "hidden": true,
    "id": "CXOGXHiG4AiS"
   },
   "outputs": [
    {
     "name": "stdout",
     "output_type": "stream",
     "text": [
      "26\n",
      "[('salt', 'chicken'), ('salt', 'tomato'), ('salt', 'garlic'), ('salt', 'cheese'), ('chicken', 'tomato'), ('chicken', 'garlic'), ('chicken', 'cheese'), ('tomato', 'garlic'), ('tomato', 'cheese'), ('garlic', 'cheese'), [('salt', 'chicken'), ('salt', 'tomato'), ('chicken', 'tomato')], [('salt', 'chicken'), ('salt', 'garlic'), ('chicken', 'garlic')], [('salt', 'chicken'), ('salt', 'cheese'), ('chicken', 'cheese')], [('salt', 'tomato'), ('salt', 'garlic'), ('tomato', 'garlic')], [('salt', 'tomato'), ('salt', 'cheese'), ('tomato', 'cheese')], [('salt', 'garlic'), ('salt', 'cheese'), ('garlic', 'cheese')], [('chicken', 'tomato'), ('chicken', 'garlic'), ('tomato', 'garlic')], [('chicken', 'tomato'), ('chicken', 'cheese'), ('tomato', 'cheese')], [('chicken', 'garlic'), ('chicken', 'cheese'), ('garlic', 'cheese')], [('tomato', 'garlic'), ('tomato', 'cheese'), ('garlic', 'cheese')], [('salt', 'chicken'), ('salt', 'tomato'), ('salt', 'garlic'), ('chicken', 'tomato'), ('chicken', 'garlic'), ('tomato', 'garlic')], [('salt', 'chicken'), ('salt', 'tomato'), ('salt', 'cheese'), ('chicken', 'tomato'), ('chicken', 'cheese'), ('tomato', 'cheese')], [('salt', 'chicken'), ('salt', 'garlic'), ('salt', 'cheese'), ('chicken', 'garlic'), ('chicken', 'cheese'), ('garlic', 'cheese')], [('salt', 'tomato'), ('salt', 'garlic'), ('salt', 'cheese'), ('tomato', 'garlic'), ('tomato', 'cheese'), ('garlic', 'cheese')], [('chicken', 'tomato'), ('chicken', 'garlic'), ('chicken', 'cheese'), ('tomato', 'garlic'), ('tomato', 'cheese'), ('garlic', 'cheese')], [('salt', 'chicken'), ('salt', 'tomato'), ('salt', 'garlic'), ('salt', 'cheese'), ('chicken', 'tomato'), ('chicken', 'garlic'), ('chicken', 'cheese'), ('tomato', 'garlic'), ('tomato', 'cheese'), ('garlic', 'cheese')]]\n"
     ]
    }
   ],
   "source": [
    "# 5 ingredients -> 1 list of 10 unique tuples\n",
    "ingredients_input = 'chicken, garlic, salt, tomato, cheese'\n",
    "\n",
    "ingredients_combinations = combinations_of_two(ingredients_input)\n",
    "print(len(ingredients_combinations))\n",
    "print(ingredients_combinations)"
   ]
  },
  {
   "cell_type": "code",
   "execution_count": 71,
   "metadata": {
    "hidden": true,
    "scrolled": true
   },
   "outputs": [
    {
     "name": "stdout",
     "output_type": "stream",
     "text": [
      "57\n",
      "[('beef', 'onion'), ('beef', 'salt'), ('beef', 'tomato'), ('beef', 'garlic'), ('beef', 'pepper'), ('onion', 'salt'), ('onion', 'tomato'), ('onion', 'garlic'), ('onion', 'pepper'), ('salt', 'tomato'), ('salt', 'garlic'), ('salt', 'pepper'), ('tomato', 'garlic'), ('tomato', 'pepper'), ('garlic', 'pepper'), [('beef', 'onion'), ('beef', 'salt'), ('onion', 'salt')], [('beef', 'onion'), ('beef', 'tomato'), ('onion', 'tomato')], [('beef', 'onion'), ('beef', 'garlic'), ('onion', 'garlic')], [('beef', 'onion'), ('beef', 'pepper'), ('onion', 'pepper')], [('beef', 'salt'), ('beef', 'tomato'), ('salt', 'tomato')], [('beef', 'salt'), ('beef', 'garlic'), ('salt', 'garlic')], [('beef', 'salt'), ('beef', 'pepper'), ('salt', 'pepper')], [('beef', 'tomato'), ('beef', 'garlic'), ('tomato', 'garlic')], [('beef', 'tomato'), ('beef', 'pepper'), ('tomato', 'pepper')], [('beef', 'garlic'), ('beef', 'pepper'), ('garlic', 'pepper')], [('onion', 'salt'), ('onion', 'tomato'), ('salt', 'tomato')], [('onion', 'salt'), ('onion', 'garlic'), ('salt', 'garlic')], [('onion', 'salt'), ('onion', 'pepper'), ('salt', 'pepper')], [('onion', 'tomato'), ('onion', 'garlic'), ('tomato', 'garlic')], [('onion', 'tomato'), ('onion', 'pepper'), ('tomato', 'pepper')], [('onion', 'garlic'), ('onion', 'pepper'), ('garlic', 'pepper')], [('salt', 'tomato'), ('salt', 'garlic'), ('tomato', 'garlic')], [('salt', 'tomato'), ('salt', 'pepper'), ('tomato', 'pepper')], [('salt', 'garlic'), ('salt', 'pepper'), ('garlic', 'pepper')], [('tomato', 'garlic'), ('tomato', 'pepper'), ('garlic', 'pepper')], [('beef', 'onion'), ('beef', 'salt'), ('beef', 'tomato'), ('onion', 'salt'), ('onion', 'tomato'), ('salt', 'tomato')], [('beef', 'onion'), ('beef', 'salt'), ('beef', 'garlic'), ('onion', 'salt'), ('onion', 'garlic'), ('salt', 'garlic')], [('beef', 'onion'), ('beef', 'salt'), ('beef', 'pepper'), ('onion', 'salt'), ('onion', 'pepper'), ('salt', 'pepper')], [('beef', 'onion'), ('beef', 'tomato'), ('beef', 'garlic'), ('onion', 'tomato'), ('onion', 'garlic'), ('tomato', 'garlic')], [('beef', 'onion'), ('beef', 'tomato'), ('beef', 'pepper'), ('onion', 'tomato'), ('onion', 'pepper'), ('tomato', 'pepper')], [('beef', 'onion'), ('beef', 'garlic'), ('beef', 'pepper'), ('onion', 'garlic'), ('onion', 'pepper'), ('garlic', 'pepper')], [('beef', 'salt'), ('beef', 'tomato'), ('beef', 'garlic'), ('salt', 'tomato'), ('salt', 'garlic'), ('tomato', 'garlic')], [('beef', 'salt'), ('beef', 'tomato'), ('beef', 'pepper'), ('salt', 'tomato'), ('salt', 'pepper'), ('tomato', 'pepper')], [('beef', 'salt'), ('beef', 'garlic'), ('beef', 'pepper'), ('salt', 'garlic'), ('salt', 'pepper'), ('garlic', 'pepper')], [('beef', 'tomato'), ('beef', 'garlic'), ('beef', 'pepper'), ('tomato', 'garlic'), ('tomato', 'pepper'), ('garlic', 'pepper')], [('onion', 'salt'), ('onion', 'tomato'), ('onion', 'garlic'), ('salt', 'tomato'), ('salt', 'garlic'), ('tomato', 'garlic')], [('onion', 'salt'), ('onion', 'tomato'), ('onion', 'pepper'), ('salt', 'tomato'), ('salt', 'pepper'), ('tomato', 'pepper')], [('onion', 'salt'), ('onion', 'garlic'), ('onion', 'pepper'), ('salt', 'garlic'), ('salt', 'pepper'), ('garlic', 'pepper')], [('onion', 'tomato'), ('onion', 'garlic'), ('onion', 'pepper'), ('tomato', 'garlic'), ('tomato', 'pepper'), ('garlic', 'pepper')], [('salt', 'tomato'), ('salt', 'garlic'), ('salt', 'pepper'), ('tomato', 'garlic'), ('tomato', 'pepper'), ('garlic', 'pepper')], [('beef', 'onion'), ('beef', 'salt'), ('beef', 'tomato'), ('beef', 'garlic'), ('onion', 'salt'), ('onion', 'tomato'), ('onion', 'garlic'), ('salt', 'tomato'), ('salt', 'garlic'), ('tomato', 'garlic')], [('beef', 'onion'), ('beef', 'salt'), ('beef', 'tomato'), ('beef', 'pepper'), ('onion', 'salt'), ('onion', 'tomato'), ('onion', 'pepper'), ('salt', 'tomato'), ('salt', 'pepper'), ('tomato', 'pepper')], [('beef', 'onion'), ('beef', 'salt'), ('beef', 'garlic'), ('beef', 'pepper'), ('onion', 'salt'), ('onion', 'garlic'), ('onion', 'pepper'), ('salt', 'garlic'), ('salt', 'pepper'), ('garlic', 'pepper')], [('beef', 'onion'), ('beef', 'tomato'), ('beef', 'garlic'), ('beef', 'pepper'), ('onion', 'tomato'), ('onion', 'garlic'), ('onion', 'pepper'), ('tomato', 'garlic'), ('tomato', 'pepper'), ('garlic', 'pepper')], [('beef', 'salt'), ('beef', 'tomato'), ('beef', 'garlic'), ('beef', 'pepper'), ('salt', 'tomato'), ('salt', 'garlic'), ('salt', 'pepper'), ('tomato', 'garlic'), ('tomato', 'pepper'), ('garlic', 'pepper')], [('onion', 'salt'), ('onion', 'tomato'), ('onion', 'garlic'), ('onion', 'pepper'), ('salt', 'tomato'), ('salt', 'garlic'), ('salt', 'pepper'), ('tomato', 'garlic'), ('tomato', 'pepper'), ('garlic', 'pepper')], [('beef', 'onion'), ('beef', 'salt'), ('beef', 'tomato'), ('beef', 'garlic'), ('beef', 'pepper'), ('onion', 'salt'), ('onion', 'tomato'), ('onion', 'garlic'), ('onion', 'pepper'), ('salt', 'tomato'), ('salt', 'garlic'), ('salt', 'pepper'), ('tomato', 'garlic'), ('tomato', 'pepper'), ('garlic', 'pepper')]]\n"
     ]
    }
   ],
   "source": [
    "# 6 ingredients -> 1 list of 15 unique tuples\n",
    "ingredients_input = 'tomato, beef, onion, salt, garlic, pepper'\n",
    "\n",
    "ingredients_combinations = combinations_of_two(ingredients_input)\n",
    "print(len(ingredients_combinations))\n",
    "print(ingredients_combinations)"
   ]
  },
  {
   "cell_type": "code",
   "execution_count": 72,
   "metadata": {
    "hidden": true
   },
   "outputs": [
    {
     "name": "stdout",
     "output_type": "stream",
     "text": [
      "11\n",
      "[('tomato', 'beef'), ('tomato', 'onion chicken'), ('tomato', 'apple'), ('beef', 'onion chicken'), ('beef', 'apple'), ('onion chicken', 'apple'), [('tomato', 'beef'), ('tomato', 'onion chicken'), ('beef', 'onion chicken')], [('tomato', 'beef'), ('tomato', 'apple'), ('beef', 'apple')], [('tomato', 'onion chicken'), ('tomato', 'apple'), ('onion chicken', 'apple')], [('beef', 'onion chicken'), ('beef', 'apple'), ('onion chicken', 'apple')], [('tomato', 'beef'), ('tomato', 'onion chicken'), ('tomato', 'apple'), ('beef', 'onion chicken'), ('beef', 'apple'), ('onion chicken', 'apple')]]\n"
     ]
    }
   ],
   "source": [
    "# missing spaces and commas\n",
    "ingredients_input = 'tomato,beef,  onion chicken, apple'\n",
    "\n",
    "ingredients_combinations = combinations_of_two(ingredients_input)\n",
    "print(len(ingredients_combinations))\n",
    "print(ingredients_combinations)"
   ]
  },
  {
   "cell_type": "code",
   "execution_count": 73,
   "metadata": {
    "hidden": true
   },
   "outputs": [
    {
     "name": "stdout",
     "output_type": "stream",
     "text": [
      "11\n",
      "[('onion', 'cheese'), ('onion', 'garlic'), ('onion', 'chicken'), ('cheese', 'garlic'), ('cheese', 'chicken'), ('garlic', 'chicken'), [('onion', 'cheese'), ('onion', 'garlic'), ('cheese', 'garlic')], [('onion', 'cheese'), ('onion', 'chicken'), ('cheese', 'chicken')], [('onion', 'garlic'), ('onion', 'chicken'), ('garlic', 'chicken')], [('cheese', 'garlic'), ('cheese', 'chicken'), ('garlic', 'chicken')], [('onion', 'cheese'), ('onion', 'garlic'), ('onion', 'chicken'), ('cheese', 'garlic'), ('cheese', 'chicken'), ('garlic', 'chicken')]]\n"
     ]
    }
   ],
   "source": [
    "# ingredients with higher compatibility\n",
    "\n",
    "ingredients_input = 'chicken, onion, garlic, cheese'\n",
    "ingredients_combinations = combinations_of_two(ingredients_input)\n",
    "print(len(ingredients_combinations))\n",
    "print(ingredients_combinations)"
   ]
  },
  {
   "cell_type": "markdown",
   "metadata": {},
   "source": [
    "### Testing combinations_of_two with the mixed output"
   ]
  },
  {
   "cell_type": "code",
   "execution_count": 74,
   "metadata": {},
   "outputs": [
    {
     "data": {
      "text/plain": [
       "[('onion', 'cheese'),\n",
       " ('onion', 'garlic'),\n",
       " ('onion', 'chicken'),\n",
       " ('cheese', 'garlic'),\n",
       " ('cheese', 'chicken'),\n",
       " ('garlic', 'chicken'),\n",
       " [('onion', 'cheese'), ('onion', 'garlic'), ('cheese', 'garlic')],\n",
       " [('onion', 'cheese'), ('onion', 'chicken'), ('cheese', 'chicken')],\n",
       " [('onion', 'garlic'), ('onion', 'chicken'), ('garlic', 'chicken')],\n",
       " [('cheese', 'garlic'), ('cheese', 'chicken'), ('garlic', 'chicken')],\n",
       " [('onion', 'cheese'),\n",
       "  ('onion', 'garlic'),\n",
       "  ('onion', 'chicken'),\n",
       "  ('cheese', 'garlic'),\n",
       "  ('cheese', 'chicken'),\n",
       "  ('garlic', 'chicken')]]"
      ]
     },
     "execution_count": 74,
     "metadata": {},
     "output_type": "execute_result"
    }
   ],
   "source": [
    "# 4 ingredients\n",
    "\n",
    "ingredients_input = 'chicken, onion, garlic, cheese'\n",
    "\n",
    "ingredients_combinations = combinations_of_two(ingredients_input)\n",
    "ingredients_combinations"
   ]
  },
  {
   "cell_type": "code",
   "execution_count": 75,
   "metadata": {},
   "outputs": [
    {
     "data": {
      "text/plain": [
       "[('onion', 'chicken'),\n",
       " ('onion', 'tomato'),\n",
       " ('onion', 'garlic'),\n",
       " ('onion', 'cheese'),\n",
       " ('chicken', 'tomato'),\n",
       " ('chicken', 'garlic'),\n",
       " ('chicken', 'cheese'),\n",
       " ('tomato', 'garlic'),\n",
       " ('tomato', 'cheese'),\n",
       " ('garlic', 'cheese'),\n",
       " [('onion', 'chicken'), ('onion', 'tomato'), ('chicken', 'tomato')],\n",
       " [('onion', 'chicken'), ('onion', 'garlic'), ('chicken', 'garlic')],\n",
       " [('onion', 'chicken'), ('onion', 'cheese'), ('chicken', 'cheese')],\n",
       " [('onion', 'tomato'), ('onion', 'garlic'), ('tomato', 'garlic')],\n",
       " [('onion', 'tomato'), ('onion', 'cheese'), ('tomato', 'cheese')],\n",
       " [('onion', 'garlic'), ('onion', 'cheese'), ('garlic', 'cheese')],\n",
       " [('chicken', 'tomato'), ('chicken', 'garlic'), ('tomato', 'garlic')],\n",
       " [('chicken', 'tomato'), ('chicken', 'cheese'), ('tomato', 'cheese')],\n",
       " [('chicken', 'garlic'), ('chicken', 'cheese'), ('garlic', 'cheese')],\n",
       " [('tomato', 'garlic'), ('tomato', 'cheese'), ('garlic', 'cheese')],\n",
       " [('onion', 'chicken'),\n",
       "  ('onion', 'tomato'),\n",
       "  ('onion', 'garlic'),\n",
       "  ('chicken', 'tomato'),\n",
       "  ('chicken', 'garlic'),\n",
       "  ('tomato', 'garlic')],\n",
       " [('onion', 'chicken'),\n",
       "  ('onion', 'tomato'),\n",
       "  ('onion', 'cheese'),\n",
       "  ('chicken', 'tomato'),\n",
       "  ('chicken', 'cheese'),\n",
       "  ('tomato', 'cheese')],\n",
       " [('onion', 'chicken'),\n",
       "  ('onion', 'garlic'),\n",
       "  ('onion', 'cheese'),\n",
       "  ('chicken', 'garlic'),\n",
       "  ('chicken', 'cheese'),\n",
       "  ('garlic', 'cheese')],\n",
       " [('onion', 'tomato'),\n",
       "  ('onion', 'garlic'),\n",
       "  ('onion', 'cheese'),\n",
       "  ('tomato', 'garlic'),\n",
       "  ('tomato', 'cheese'),\n",
       "  ('garlic', 'cheese')],\n",
       " [('chicken', 'tomato'),\n",
       "  ('chicken', 'garlic'),\n",
       "  ('chicken', 'cheese'),\n",
       "  ('tomato', 'garlic'),\n",
       "  ('tomato', 'cheese'),\n",
       "  ('garlic', 'cheese')],\n",
       " [('onion', 'chicken'),\n",
       "  ('onion', 'tomato'),\n",
       "  ('onion', 'garlic'),\n",
       "  ('onion', 'cheese'),\n",
       "  ('chicken', 'tomato'),\n",
       "  ('chicken', 'garlic'),\n",
       "  ('chicken', 'cheese'),\n",
       "  ('tomato', 'garlic'),\n",
       "  ('tomato', 'cheese'),\n",
       "  ('garlic', 'cheese')]]"
      ]
     },
     "execution_count": 75,
     "metadata": {},
     "output_type": "execute_result"
    }
   ],
   "source": [
    "# 5 ingredients\n",
    "\n",
    "ingredients_input = 'chicken, onion, garlic, cheese, tomato'\n",
    "\n",
    "ingredients_combinations = combinations_of_two(ingredients_input)\n",
    "ingredients_combinations"
   ]
  },
  {
   "cell_type": "code",
   "execution_count": 76,
   "metadata": {},
   "outputs": [
    {
     "data": {
      "text/plain": [
       "[('onion', 'salt'),\n",
       " ('onion', 'chicken'),\n",
       " ('onion', 'tomato'),\n",
       " ('onion', 'garlic'),\n",
       " ('onion', 'cheese'),\n",
       " ('salt', 'chicken'),\n",
       " ('salt', 'tomato'),\n",
       " ('salt', 'garlic'),\n",
       " ('salt', 'cheese'),\n",
       " ('chicken', 'tomato'),\n",
       " ('chicken', 'garlic'),\n",
       " ('chicken', 'cheese'),\n",
       " ('tomato', 'garlic'),\n",
       " ('tomato', 'cheese'),\n",
       " ('garlic', 'cheese'),\n",
       " [('onion', 'salt'), ('onion', 'chicken'), ('salt', 'chicken')],\n",
       " [('onion', 'salt'), ('onion', 'tomato'), ('salt', 'tomato')],\n",
       " [('onion', 'salt'), ('onion', 'garlic'), ('salt', 'garlic')],\n",
       " [('onion', 'salt'), ('onion', 'cheese'), ('salt', 'cheese')],\n",
       " [('onion', 'chicken'), ('onion', 'tomato'), ('chicken', 'tomato')],\n",
       " [('onion', 'chicken'), ('onion', 'garlic'), ('chicken', 'garlic')],\n",
       " [('onion', 'chicken'), ('onion', 'cheese'), ('chicken', 'cheese')],\n",
       " [('onion', 'tomato'), ('onion', 'garlic'), ('tomato', 'garlic')],\n",
       " [('onion', 'tomato'), ('onion', 'cheese'), ('tomato', 'cheese')],\n",
       " [('onion', 'garlic'), ('onion', 'cheese'), ('garlic', 'cheese')],\n",
       " [('salt', 'chicken'), ('salt', 'tomato'), ('chicken', 'tomato')],\n",
       " [('salt', 'chicken'), ('salt', 'garlic'), ('chicken', 'garlic')],\n",
       " [('salt', 'chicken'), ('salt', 'cheese'), ('chicken', 'cheese')],\n",
       " [('salt', 'tomato'), ('salt', 'garlic'), ('tomato', 'garlic')],\n",
       " [('salt', 'tomato'), ('salt', 'cheese'), ('tomato', 'cheese')],\n",
       " [('salt', 'garlic'), ('salt', 'cheese'), ('garlic', 'cheese')],\n",
       " [('chicken', 'tomato'), ('chicken', 'garlic'), ('tomato', 'garlic')],\n",
       " [('chicken', 'tomato'), ('chicken', 'cheese'), ('tomato', 'cheese')],\n",
       " [('chicken', 'garlic'), ('chicken', 'cheese'), ('garlic', 'cheese')],\n",
       " [('tomato', 'garlic'), ('tomato', 'cheese'), ('garlic', 'cheese')],\n",
       " [('onion', 'salt'),\n",
       "  ('onion', 'chicken'),\n",
       "  ('onion', 'tomato'),\n",
       "  ('salt', 'chicken'),\n",
       "  ('salt', 'tomato'),\n",
       "  ('chicken', 'tomato')],\n",
       " [('onion', 'salt'),\n",
       "  ('onion', 'chicken'),\n",
       "  ('onion', 'garlic'),\n",
       "  ('salt', 'chicken'),\n",
       "  ('salt', 'garlic'),\n",
       "  ('chicken', 'garlic')],\n",
       " [('onion', 'salt'),\n",
       "  ('onion', 'chicken'),\n",
       "  ('onion', 'cheese'),\n",
       "  ('salt', 'chicken'),\n",
       "  ('salt', 'cheese'),\n",
       "  ('chicken', 'cheese')],\n",
       " [('onion', 'salt'),\n",
       "  ('onion', 'tomato'),\n",
       "  ('onion', 'garlic'),\n",
       "  ('salt', 'tomato'),\n",
       "  ('salt', 'garlic'),\n",
       "  ('tomato', 'garlic')],\n",
       " [('onion', 'salt'),\n",
       "  ('onion', 'tomato'),\n",
       "  ('onion', 'cheese'),\n",
       "  ('salt', 'tomato'),\n",
       "  ('salt', 'cheese'),\n",
       "  ('tomato', 'cheese')],\n",
       " [('onion', 'salt'),\n",
       "  ('onion', 'garlic'),\n",
       "  ('onion', 'cheese'),\n",
       "  ('salt', 'garlic'),\n",
       "  ('salt', 'cheese'),\n",
       "  ('garlic', 'cheese')],\n",
       " [('onion', 'chicken'),\n",
       "  ('onion', 'tomato'),\n",
       "  ('onion', 'garlic'),\n",
       "  ('chicken', 'tomato'),\n",
       "  ('chicken', 'garlic'),\n",
       "  ('tomato', 'garlic')],\n",
       " [('onion', 'chicken'),\n",
       "  ('onion', 'tomato'),\n",
       "  ('onion', 'cheese'),\n",
       "  ('chicken', 'tomato'),\n",
       "  ('chicken', 'cheese'),\n",
       "  ('tomato', 'cheese')],\n",
       " [('onion', 'chicken'),\n",
       "  ('onion', 'garlic'),\n",
       "  ('onion', 'cheese'),\n",
       "  ('chicken', 'garlic'),\n",
       "  ('chicken', 'cheese'),\n",
       "  ('garlic', 'cheese')],\n",
       " [('onion', 'tomato'),\n",
       "  ('onion', 'garlic'),\n",
       "  ('onion', 'cheese'),\n",
       "  ('tomato', 'garlic'),\n",
       "  ('tomato', 'cheese'),\n",
       "  ('garlic', 'cheese')],\n",
       " [('salt', 'chicken'),\n",
       "  ('salt', 'tomato'),\n",
       "  ('salt', 'garlic'),\n",
       "  ('chicken', 'tomato'),\n",
       "  ('chicken', 'garlic'),\n",
       "  ('tomato', 'garlic')],\n",
       " [('salt', 'chicken'),\n",
       "  ('salt', 'tomato'),\n",
       "  ('salt', 'cheese'),\n",
       "  ('chicken', 'tomato'),\n",
       "  ('chicken', 'cheese'),\n",
       "  ('tomato', 'cheese')],\n",
       " [('salt', 'chicken'),\n",
       "  ('salt', 'garlic'),\n",
       "  ('salt', 'cheese'),\n",
       "  ('chicken', 'garlic'),\n",
       "  ('chicken', 'cheese'),\n",
       "  ('garlic', 'cheese')],\n",
       " [('salt', 'tomato'),\n",
       "  ('salt', 'garlic'),\n",
       "  ('salt', 'cheese'),\n",
       "  ('tomato', 'garlic'),\n",
       "  ('tomato', 'cheese'),\n",
       "  ('garlic', 'cheese')],\n",
       " [('chicken', 'tomato'),\n",
       "  ('chicken', 'garlic'),\n",
       "  ('chicken', 'cheese'),\n",
       "  ('tomato', 'garlic'),\n",
       "  ('tomato', 'cheese'),\n",
       "  ('garlic', 'cheese')],\n",
       " [('onion', 'salt'),\n",
       "  ('onion', 'chicken'),\n",
       "  ('onion', 'tomato'),\n",
       "  ('onion', 'garlic'),\n",
       "  ('salt', 'chicken'),\n",
       "  ('salt', 'tomato'),\n",
       "  ('salt', 'garlic'),\n",
       "  ('chicken', 'tomato'),\n",
       "  ('chicken', 'garlic'),\n",
       "  ('tomato', 'garlic')],\n",
       " [('onion', 'salt'),\n",
       "  ('onion', 'chicken'),\n",
       "  ('onion', 'tomato'),\n",
       "  ('onion', 'cheese'),\n",
       "  ('salt', 'chicken'),\n",
       "  ('salt', 'tomato'),\n",
       "  ('salt', 'cheese'),\n",
       "  ('chicken', 'tomato'),\n",
       "  ('chicken', 'cheese'),\n",
       "  ('tomato', 'cheese')],\n",
       " [('onion', 'salt'),\n",
       "  ('onion', 'chicken'),\n",
       "  ('onion', 'garlic'),\n",
       "  ('onion', 'cheese'),\n",
       "  ('salt', 'chicken'),\n",
       "  ('salt', 'garlic'),\n",
       "  ('salt', 'cheese'),\n",
       "  ('chicken', 'garlic'),\n",
       "  ('chicken', 'cheese'),\n",
       "  ('garlic', 'cheese')],\n",
       " [('onion', 'salt'),\n",
       "  ('onion', 'tomato'),\n",
       "  ('onion', 'garlic'),\n",
       "  ('onion', 'cheese'),\n",
       "  ('salt', 'tomato'),\n",
       "  ('salt', 'garlic'),\n",
       "  ('salt', 'cheese'),\n",
       "  ('tomato', 'garlic'),\n",
       "  ('tomato', 'cheese'),\n",
       "  ('garlic', 'cheese')],\n",
       " [('onion', 'chicken'),\n",
       "  ('onion', 'tomato'),\n",
       "  ('onion', 'garlic'),\n",
       "  ('onion', 'cheese'),\n",
       "  ('chicken', 'tomato'),\n",
       "  ('chicken', 'garlic'),\n",
       "  ('chicken', 'cheese'),\n",
       "  ('tomato', 'garlic'),\n",
       "  ('tomato', 'cheese'),\n",
       "  ('garlic', 'cheese')],\n",
       " [('salt', 'chicken'),\n",
       "  ('salt', 'tomato'),\n",
       "  ('salt', 'garlic'),\n",
       "  ('salt', 'cheese'),\n",
       "  ('chicken', 'tomato'),\n",
       "  ('chicken', 'garlic'),\n",
       "  ('chicken', 'cheese'),\n",
       "  ('tomato', 'garlic'),\n",
       "  ('tomato', 'cheese'),\n",
       "  ('garlic', 'cheese')],\n",
       " [('onion', 'salt'),\n",
       "  ('onion', 'chicken'),\n",
       "  ('onion', 'tomato'),\n",
       "  ('onion', 'garlic'),\n",
       "  ('onion', 'cheese'),\n",
       "  ('salt', 'chicken'),\n",
       "  ('salt', 'tomato'),\n",
       "  ('salt', 'garlic'),\n",
       "  ('salt', 'cheese'),\n",
       "  ('chicken', 'tomato'),\n",
       "  ('chicken', 'garlic'),\n",
       "  ('chicken', 'cheese'),\n",
       "  ('tomato', 'garlic'),\n",
       "  ('tomato', 'cheese'),\n",
       "  ('garlic', 'cheese')]]"
      ]
     },
     "execution_count": 76,
     "metadata": {},
     "output_type": "execute_result"
    }
   ],
   "source": [
    "# 6 ingredients\n",
    "\n",
    "ingredients_input = 'chicken, onion, garlic, cheese, tomato, salt'\n",
    "\n",
    "ingredients_combinations = combinations_of_two(ingredients_input)\n",
    "ingredients_combinations"
   ]
  },
  {
   "cell_type": "code",
   "execution_count": null,
   "metadata": {},
   "outputs": [],
   "source": []
  },
  {
   "cell_type": "markdown",
   "metadata": {},
   "source": [
    "# data_query\n",
    "Issues:\n",
    "- output is not including all the combinations for some inputs\n",
    "- higher compatibility lists seem to return more rows? not sure"
   ]
  },
  {
   "cell_type": "code",
   "execution_count": 77,
   "metadata": {
    "id": "FLH_yyRv4AiT"
   },
   "outputs": [],
   "source": [
    "def data_query(ingredients_combinations): ##Added a penalty of -5 for pairings that are not in the dataframe\n",
    "    '''\n",
    "    Scores all combinations of two ingredients.\n",
    "    \n",
    "    Inputs (1): \n",
    "    ingredients_combinations (from: combinations_of_two) = a list of tuples, containing all possible combinations of 2 as  \n",
    "    \n",
    "    Outputs (1): \n",
    "    df_comb (to: muse_comb) = a datafrome with columns 'Combination' and 'Score', containing ingredient combinations and their scores as a dataframe  (for 4 ingredients: all 6 combinations and their respective scores)\n",
    "    \n",
    "    '''\n",
    "    \n",
    "    data = []\n",
    "    for combination in ingredients_combinations:\n",
    "        if len(combination) < 3:\n",
    "            ingredient1, ingredient2 = combination\n",
    "            query_str = f'(ingredient1 == \"{ingredient1}\" & ingredient2 == \"{ingredient2}\") | (ingredient1 == \"{ingredient2}\" & ingredient2 == \"{ingredient1}\")'\n",
    "            score = df.query(query_str)['scaled_col'].values\n",
    "            if len(score) > 0:\n",
    "                data.append({'Combination': combination, 'Score': score})\n",
    "            else:\n",
    "                continue\n",
    "        else:\n",
    "            scores = []\n",
    "            for i in combination:\n",
    "                ingredient1, ingredient2 = i\n",
    "                query_str = f'(ingredient1 == \"{ingredient1}\" & ingredient2 == \"{ingredient2}\") | (ingredient1 == \"{ingredient2}\" & ingredient2 == \"{ingredient1}\")'\n",
    "                score = df.query(query_str)['scaled_col'].values\n",
    "                if len(score) > 0:\n",
    "                    scores.append(score[0])\n",
    "                else:\n",
    "                    scores.append(-5)\n",
    "            data.append({'Combination': combination, 'Score': scores})\n",
    "    df_comb = pd.DataFrame(data)\n",
    "    return df_comb"
   ]
  },
  {
   "cell_type": "code",
   "execution_count": 78,
   "metadata": {
    "id": "FLH_yyRv4AiT"
   },
   "outputs": [],
   "source": [
    "# # # trying to understand / re-create\n",
    "# def data_query(ingredients_combinations): ##Added a penalty of -5 for pairings that are not in the dataframe\n",
    "#     '''\n",
    "#     Scores all combinations of two ingredients.\n",
    "    \n",
    "#     Inputs (1): \n",
    "#     ingredients_combinations (from: combinations_of_two) = a list of tuples, containing all possible combinations of 2 as  \n",
    "    \n",
    "#     Outputs (1): \n",
    "#     df_comb (to: muse_comb) = a datafrome with columns 'Combination' and 'Score', containing ingredient combinations and their scores as a dataframe  (for 4 ingredients: all 6 combinations and their respective scores)\n",
    "    \n",
    "#     '''\n",
    "    \n",
    "#     data = []\n",
    "#     for combination in ingredients_combinations:\n",
    "#         if len(combination) < 3:\n",
    "#             ingredient1, ingredient2 = combination\n",
    "#             query_str = f'(ingredient1 == \"{ingredient1}\" & ingredient2 == \"{ingredient2}\") | (ingredient1 == \"{ingredient2}\" & ingredient2 == \"{ingredient1}\")'\n",
    "#             score = df.query(query_str)['scaled_col'].values\n",
    "#             print(score)\n",
    "#             if len(score) > 0:\n",
    "#                 data.append({'Combination': combination, 'Score': score})\n",
    "#             else:\n",
    "#                 continue\n",
    "#         else:\n",
    "#             scores = []\n",
    "#             for i in combination:\n",
    "#                 ingredient1, ingredient2 = i\n",
    "#                 query_str = f'(ingredient1 == \"{ingredient1}\" & ingredient2 == \"{ingredient2}\") | (ingredient1 == \"{ingredient2}\" & ingredient2 == \"{ingredient1}\")'\n",
    "#                 score = df.query(query_str)['scaled_col'].values\n",
    "#                 if len(score) > 0:\n",
    "#                     scores.append(score[0])\n",
    "#                 else:\n",
    "#                     scores.append(-5)\n",
    "#             data.append({'Combination': combination, 'Score': scores})\n",
    "#     print(data)\n",
    "\n",
    "#     df_comb = pd.DataFrame(data)\n",
    "#     return df_comb"
   ]
  },
  {
   "cell_type": "markdown",
   "metadata": {
    "heading_collapsed": true
   },
   "source": [
    "### Testing data_query with tuples"
   ]
  },
  {
   "cell_type": "code",
   "execution_count": 79,
   "metadata": {
    "hidden": true
   },
   "outputs": [
    {
     "data": {
      "text/html": [
       "<div>\n",
       "<style scoped>\n",
       "    .dataframe tbody tr th:only-of-type {\n",
       "        vertical-align: middle;\n",
       "    }\n",
       "\n",
       "    .dataframe tbody tr th {\n",
       "        vertical-align: top;\n",
       "    }\n",
       "\n",
       "    .dataframe thead th {\n",
       "        text-align: right;\n",
       "    }\n",
       "</style>\n",
       "<table border=\"1\" class=\"dataframe\">\n",
       "  <thead>\n",
       "    <tr style=\"text-align: right;\">\n",
       "      <th></th>\n",
       "      <th>Combination</th>\n",
       "      <th>Score</th>\n",
       "    </tr>\n",
       "  </thead>\n",
       "  <tbody>\n",
       "    <tr>\n",
       "      <th>0</th>\n",
       "      <td>(chicken, garlic)</td>\n",
       "      <td>[1.1800811339314616]</td>\n",
       "    </tr>\n",
       "    <tr>\n",
       "      <th>1</th>\n",
       "      <td>(chicken, salt)</td>\n",
       "      <td>[1.4353972677154387]</td>\n",
       "    </tr>\n",
       "    <tr>\n",
       "      <th>2</th>\n",
       "      <td>(garlic, salt)</td>\n",
       "      <td>[1.5533159218950603]</td>\n",
       "    </tr>\n",
       "  </tbody>\n",
       "</table>\n",
       "</div>"
      ],
      "text/plain": [
       "         Combination                 Score\n",
       "0  (chicken, garlic)  [1.1800811339314616]\n",
       "1    (chicken, salt)  [1.4353972677154387]\n",
       "2     (garlic, salt)  [1.5533159218950603]"
      ]
     },
     "execution_count": 79,
     "metadata": {},
     "output_type": "execute_result"
    }
   ],
   "source": [
    "# 6 tuples -> should return 6 rows\n",
    "\n",
    "ingredients_combinations = [('chicken', 'garlic'),\n",
    " ('chicken', 'salt'),\n",
    " ('chicken', 'tomato'),\n",
    " ('garlic', 'salt'),\n",
    " ('garlic', 'tomato'),\n",
    " ('salt', 'tomato')]\n",
    "\n",
    "df_comb = data_query(ingredients_combinations)\n",
    "df_comb"
   ]
  },
  {
   "cell_type": "code",
   "execution_count": 80,
   "metadata": {
    "hidden": true,
    "id": "FLH_yyRv4AiT"
   },
   "outputs": [
    {
     "data": {
      "text/html": [
       "<div>\n",
       "<style scoped>\n",
       "    .dataframe tbody tr th:only-of-type {\n",
       "        vertical-align: middle;\n",
       "    }\n",
       "\n",
       "    .dataframe tbody tr th {\n",
       "        vertical-align: top;\n",
       "    }\n",
       "\n",
       "    .dataframe thead th {\n",
       "        text-align: right;\n",
       "    }\n",
       "</style>\n",
       "<table border=\"1\" class=\"dataframe\">\n",
       "  <thead>\n",
       "    <tr style=\"text-align: right;\">\n",
       "      <th></th>\n",
       "      <th>Combination</th>\n",
       "      <th>Score</th>\n",
       "    </tr>\n",
       "  </thead>\n",
       "  <tbody>\n",
       "    <tr>\n",
       "      <th>0</th>\n",
       "      <td>(beef, onion)</td>\n",
       "      <td>[1.3407460751179292]</td>\n",
       "    </tr>\n",
       "    <tr>\n",
       "      <th>1</th>\n",
       "      <td>(beef, salt)</td>\n",
       "      <td>[1.3667368322711522]</td>\n",
       "    </tr>\n",
       "    <tr>\n",
       "      <th>2</th>\n",
       "      <td>(beef, garlic)</td>\n",
       "      <td>[1.1385957417039734]</td>\n",
       "    </tr>\n",
       "    <tr>\n",
       "      <th>3</th>\n",
       "      <td>(beef, pepper)</td>\n",
       "      <td>[1.1819136702926785]</td>\n",
       "    </tr>\n",
       "    <tr>\n",
       "      <th>4</th>\n",
       "      <td>(onion, salt)</td>\n",
       "      <td>[2.0670735182650013]</td>\n",
       "    </tr>\n",
       "    <tr>\n",
       "      <th>5</th>\n",
       "      <td>(onion, garlic)</td>\n",
       "      <td>[1.4235409132992736]</td>\n",
       "    </tr>\n",
       "    <tr>\n",
       "      <th>6</th>\n",
       "      <td>(onion, pepper)</td>\n",
       "      <td>[1.4949048817870405]</td>\n",
       "    </tr>\n",
       "    <tr>\n",
       "      <th>7</th>\n",
       "      <td>(salt, garlic)</td>\n",
       "      <td>[1.5533159218950603]</td>\n",
       "    </tr>\n",
       "    <tr>\n",
       "      <th>8</th>\n",
       "      <td>(salt, pepper)</td>\n",
       "      <td>[3.3564504877818235]</td>\n",
       "    </tr>\n",
       "    <tr>\n",
       "      <th>9</th>\n",
       "      <td>(garlic, pepper)</td>\n",
       "      <td>[1.1902734549399014]</td>\n",
       "    </tr>\n",
       "  </tbody>\n",
       "</table>\n",
       "</div>"
      ],
      "text/plain": [
       "        Combination                 Score\n",
       "0     (beef, onion)  [1.3407460751179292]\n",
       "1      (beef, salt)  [1.3667368322711522]\n",
       "2    (beef, garlic)  [1.1385957417039734]\n",
       "3    (beef, pepper)  [1.1819136702926785]\n",
       "4     (onion, salt)  [2.0670735182650013]\n",
       "5   (onion, garlic)  [1.4235409132992736]\n",
       "6   (onion, pepper)  [1.4949048817870405]\n",
       "7    (salt, garlic)  [1.5533159218950603]\n",
       "8    (salt, pepper)  [3.3564504877818235]\n",
       "9  (garlic, pepper)  [1.1902734549399014]"
      ]
     },
     "execution_count": 80,
     "metadata": {},
     "output_type": "execute_result"
    }
   ],
   "source": [
    "# 15 tuples -> should return 15 rows\n",
    "\n",
    "ingredients_combinations = [('tomato', 'beef'),\n",
    " ('tomato', 'onion'),\n",
    " ('tomato', 'salt'),\n",
    " ('tomato', 'garlic'),\n",
    " ('tomato', 'pepper'),\n",
    " ('beef', 'onion'),\n",
    " ('beef', 'salt'),\n",
    " ('beef', 'garlic'),\n",
    " ('beef', 'pepper'),\n",
    " ('onion', 'salt'),\n",
    " ('onion', 'garlic'),\n",
    " ('onion', 'pepper'),\n",
    " ('salt', 'garlic'),\n",
    " ('salt', 'pepper'),\n",
    " ('garlic', 'pepper')]\n",
    "\n",
    "df_comb = data_query(ingredients_combinations)\n",
    "df_comb"
   ]
  },
  {
   "cell_type": "code",
   "execution_count": 81,
   "metadata": {
    "hidden": true,
    "id": "FLH_yyRv4AiT"
   },
   "outputs": [
    {
     "data": {
      "text/html": [
       "<div>\n",
       "<style scoped>\n",
       "    .dataframe tbody tr th:only-of-type {\n",
       "        vertical-align: middle;\n",
       "    }\n",
       "\n",
       "    .dataframe tbody tr th {\n",
       "        vertical-align: top;\n",
       "    }\n",
       "\n",
       "    .dataframe thead th {\n",
       "        text-align: right;\n",
       "    }\n",
       "</style>\n",
       "<table border=\"1\" class=\"dataframe\">\n",
       "  <thead>\n",
       "    <tr style=\"text-align: right;\">\n",
       "      <th></th>\n",
       "      <th>Combination</th>\n",
       "      <th>Score</th>\n",
       "    </tr>\n",
       "  </thead>\n",
       "  <tbody>\n",
       "    <tr>\n",
       "      <th>0</th>\n",
       "      <td>(chicken, onion)</td>\n",
       "      <td>[1.3248796627107513]</td>\n",
       "    </tr>\n",
       "    <tr>\n",
       "      <th>1</th>\n",
       "      <td>(chicken, garlic)</td>\n",
       "      <td>[1.1800811339314616]</td>\n",
       "    </tr>\n",
       "    <tr>\n",
       "      <th>2</th>\n",
       "      <td>(chicken, cheese)</td>\n",
       "      <td>[1.0177501859513405]</td>\n",
       "    </tr>\n",
       "    <tr>\n",
       "      <th>3</th>\n",
       "      <td>(onion, garlic)</td>\n",
       "      <td>[1.4235409132992736]</td>\n",
       "    </tr>\n",
       "    <tr>\n",
       "      <th>4</th>\n",
       "      <td>(onion, cheese)</td>\n",
       "      <td>[1.4120038875676597]</td>\n",
       "    </tr>\n",
       "    <tr>\n",
       "      <th>5</th>\n",
       "      <td>(garlic, cheese)</td>\n",
       "      <td>[1.0944496012124034]</td>\n",
       "    </tr>\n",
       "  </tbody>\n",
       "</table>\n",
       "</div>"
      ],
      "text/plain": [
       "         Combination                 Score\n",
       "0   (chicken, onion)  [1.3248796627107513]\n",
       "1  (chicken, garlic)  [1.1800811339314616]\n",
       "2  (chicken, cheese)  [1.0177501859513405]\n",
       "3    (onion, garlic)  [1.4235409132992736]\n",
       "4    (onion, cheese)  [1.4120038875676597]\n",
       "5   (garlic, cheese)  [1.0944496012124034]"
      ]
     },
     "execution_count": 81,
     "metadata": {},
     "output_type": "execute_result"
    }
   ],
   "source": [
    "# 6 tuples -> should return 6 rows\n",
    "# high compatiblity\n",
    "\n",
    "ingredients_combinations = [('chicken', 'onion'), ('chicken', 'garlic'), ('chicken', 'cheese'), ('onion', 'garlic'), ('onion', 'cheese'), ('garlic', 'cheese')]\n",
    "\n",
    "df_comb = data_query(ingredients_combinations)\n",
    "df_comb"
   ]
  },
  {
   "cell_type": "markdown",
   "metadata": {},
   "source": [
    "### Testing data_query with the mixed output"
   ]
  },
  {
   "cell_type": "code",
   "execution_count": 82,
   "metadata": {},
   "outputs": [
    {
     "data": {
      "text/html": [
       "<div>\n",
       "<style scoped>\n",
       "    .dataframe tbody tr th:only-of-type {\n",
       "        vertical-align: middle;\n",
       "    }\n",
       "\n",
       "    .dataframe tbody tr th {\n",
       "        vertical-align: top;\n",
       "    }\n",
       "\n",
       "    .dataframe thead th {\n",
       "        text-align: right;\n",
       "    }\n",
       "</style>\n",
       "<table border=\"1\" class=\"dataframe\">\n",
       "  <thead>\n",
       "    <tr style=\"text-align: right;\">\n",
       "      <th></th>\n",
       "      <th>Combination</th>\n",
       "      <th>Score</th>\n",
       "    </tr>\n",
       "  </thead>\n",
       "  <tbody>\n",
       "    <tr>\n",
       "      <th>0</th>\n",
       "      <td>(onion, cheese)</td>\n",
       "      <td>[1.4120038875676597]</td>\n",
       "    </tr>\n",
       "    <tr>\n",
       "      <th>1</th>\n",
       "      <td>(onion, garlic)</td>\n",
       "      <td>[1.4235409132992736]</td>\n",
       "    </tr>\n",
       "    <tr>\n",
       "      <th>2</th>\n",
       "      <td>(onion, chicken)</td>\n",
       "      <td>[1.3248796627107513]</td>\n",
       "    </tr>\n",
       "    <tr>\n",
       "      <th>3</th>\n",
       "      <td>(cheese, garlic)</td>\n",
       "      <td>[1.0944496012124034]</td>\n",
       "    </tr>\n",
       "    <tr>\n",
       "      <th>4</th>\n",
       "      <td>(cheese, chicken)</td>\n",
       "      <td>[1.0177501859513405]</td>\n",
       "    </tr>\n",
       "    <tr>\n",
       "      <th>5</th>\n",
       "      <td>(garlic, chicken)</td>\n",
       "      <td>[1.1800811339314616]</td>\n",
       "    </tr>\n",
       "    <tr>\n",
       "      <th>6</th>\n",
       "      <td>[(onion, cheese), (onion, garlic), (cheese, ga...</td>\n",
       "      <td>[1.4120038875676597, 1.4235409132992736, 1.094...</td>\n",
       "    </tr>\n",
       "    <tr>\n",
       "      <th>7</th>\n",
       "      <td>[(onion, cheese), (onion, chicken), (cheese, c...</td>\n",
       "      <td>[1.4120038875676597, 1.3248796627107513, 1.017...</td>\n",
       "    </tr>\n",
       "    <tr>\n",
       "      <th>8</th>\n",
       "      <td>[(onion, garlic), (onion, chicken), (garlic, c...</td>\n",
       "      <td>[1.4235409132992736, 1.3248796627107513, 1.180...</td>\n",
       "    </tr>\n",
       "    <tr>\n",
       "      <th>9</th>\n",
       "      <td>[(cheese, garlic), (cheese, chicken), (garlic,...</td>\n",
       "      <td>[1.0944496012124034, 1.0177501859513405, 1.180...</td>\n",
       "    </tr>\n",
       "    <tr>\n",
       "      <th>10</th>\n",
       "      <td>[(onion, cheese), (onion, garlic), (onion, chi...</td>\n",
       "      <td>[1.4120038875676597, 1.4235409132992736, 1.324...</td>\n",
       "    </tr>\n",
       "  </tbody>\n",
       "</table>\n",
       "</div>"
      ],
      "text/plain": [
       "                                          Combination  \\\n",
       "0                                     (onion, cheese)   \n",
       "1                                     (onion, garlic)   \n",
       "2                                    (onion, chicken)   \n",
       "3                                    (cheese, garlic)   \n",
       "4                                   (cheese, chicken)   \n",
       "5                                   (garlic, chicken)   \n",
       "6   [(onion, cheese), (onion, garlic), (cheese, ga...   \n",
       "7   [(onion, cheese), (onion, chicken), (cheese, c...   \n",
       "8   [(onion, garlic), (onion, chicken), (garlic, c...   \n",
       "9   [(cheese, garlic), (cheese, chicken), (garlic,...   \n",
       "10  [(onion, cheese), (onion, garlic), (onion, chi...   \n",
       "\n",
       "                                                Score  \n",
       "0                                [1.4120038875676597]  \n",
       "1                                [1.4235409132992736]  \n",
       "2                                [1.3248796627107513]  \n",
       "3                                [1.0944496012124034]  \n",
       "4                                [1.0177501859513405]  \n",
       "5                                [1.1800811339314616]  \n",
       "6   [1.4120038875676597, 1.4235409132992736, 1.094...  \n",
       "7   [1.4120038875676597, 1.3248796627107513, 1.017...  \n",
       "8   [1.4235409132992736, 1.3248796627107513, 1.180...  \n",
       "9   [1.0944496012124034, 1.0177501859513405, 1.180...  \n",
       "10  [1.4120038875676597, 1.4235409132992736, 1.324...  "
      ]
     },
     "execution_count": 82,
     "metadata": {},
     "output_type": "execute_result"
    }
   ],
   "source": [
    "# 4 ingredients\n",
    "\n",
    "ingredients_input = 'chicken, onion, garlic, cheese'\n",
    "\n",
    "ingredients_combinations = combinations_of_two(ingredients_input)\n",
    "df_comb = data_query(ingredients_combinations)\n",
    "df_comb"
   ]
  },
  {
   "cell_type": "code",
   "execution_count": 83,
   "metadata": {},
   "outputs": [
    {
     "data": {
      "text/html": [
       "<div>\n",
       "<style scoped>\n",
       "    .dataframe tbody tr th:only-of-type {\n",
       "        vertical-align: middle;\n",
       "    }\n",
       "\n",
       "    .dataframe tbody tr th {\n",
       "        vertical-align: top;\n",
       "    }\n",
       "\n",
       "    .dataframe thead th {\n",
       "        text-align: right;\n",
       "    }\n",
       "</style>\n",
       "<table border=\"1\" class=\"dataframe\">\n",
       "  <thead>\n",
       "    <tr style=\"text-align: right;\">\n",
       "      <th></th>\n",
       "      <th>Combination</th>\n",
       "      <th>Score</th>\n",
       "    </tr>\n",
       "  </thead>\n",
       "  <tbody>\n",
       "    <tr>\n",
       "      <th>0</th>\n",
       "      <td>(onion, chicken)</td>\n",
       "      <td>[1.3248796627107513]</td>\n",
       "    </tr>\n",
       "    <tr>\n",
       "      <th>1</th>\n",
       "      <td>(onion, garlic)</td>\n",
       "      <td>[1.4235409132992736]</td>\n",
       "    </tr>\n",
       "    <tr>\n",
       "      <th>2</th>\n",
       "      <td>(onion, cheese)</td>\n",
       "      <td>[1.4120038875676597]</td>\n",
       "    </tr>\n",
       "    <tr>\n",
       "      <th>3</th>\n",
       "      <td>(chicken, garlic)</td>\n",
       "      <td>[1.1800811339314616]</td>\n",
       "    </tr>\n",
       "    <tr>\n",
       "      <th>4</th>\n",
       "      <td>(chicken, cheese)</td>\n",
       "      <td>[1.0177501859513405]</td>\n",
       "    </tr>\n",
       "    <tr>\n",
       "      <th>5</th>\n",
       "      <td>(garlic, cheese)</td>\n",
       "      <td>[1.0944496012124034]</td>\n",
       "    </tr>\n",
       "    <tr>\n",
       "      <th>6</th>\n",
       "      <td>[(onion, chicken), (onion, tomato), (chicken, ...</td>\n",
       "      <td>[1.3248796627107513, -5, -5]</td>\n",
       "    </tr>\n",
       "    <tr>\n",
       "      <th>7</th>\n",
       "      <td>[(onion, chicken), (onion, garlic), (chicken, ...</td>\n",
       "      <td>[1.3248796627107513, 1.4235409132992736, 1.180...</td>\n",
       "    </tr>\n",
       "    <tr>\n",
       "      <th>8</th>\n",
       "      <td>[(onion, chicken), (onion, cheese), (chicken, ...</td>\n",
       "      <td>[1.3248796627107513, 1.4120038875676597, 1.017...</td>\n",
       "    </tr>\n",
       "    <tr>\n",
       "      <th>9</th>\n",
       "      <td>[(onion, tomato), (onion, garlic), (tomato, ga...</td>\n",
       "      <td>[-5, 1.4235409132992736, -5]</td>\n",
       "    </tr>\n",
       "    <tr>\n",
       "      <th>10</th>\n",
       "      <td>[(onion, tomato), (onion, cheese), (tomato, ch...</td>\n",
       "      <td>[-5, 1.4120038875676597, -5]</td>\n",
       "    </tr>\n",
       "    <tr>\n",
       "      <th>11</th>\n",
       "      <td>[(onion, garlic), (onion, cheese), (garlic, ch...</td>\n",
       "      <td>[1.4235409132992736, 1.4120038875676597, 1.094...</td>\n",
       "    </tr>\n",
       "    <tr>\n",
       "      <th>12</th>\n",
       "      <td>[(chicken, tomato), (chicken, garlic), (tomato...</td>\n",
       "      <td>[-5, 1.1800811339314616, -5]</td>\n",
       "    </tr>\n",
       "    <tr>\n",
       "      <th>13</th>\n",
       "      <td>[(chicken, tomato), (chicken, cheese), (tomato...</td>\n",
       "      <td>[-5, 1.0177501859513405, -5]</td>\n",
       "    </tr>\n",
       "    <tr>\n",
       "      <th>14</th>\n",
       "      <td>[(chicken, garlic), (chicken, cheese), (garlic...</td>\n",
       "      <td>[1.1800811339314616, 1.0177501859513405, 1.094...</td>\n",
       "    </tr>\n",
       "    <tr>\n",
       "      <th>15</th>\n",
       "      <td>[(tomato, garlic), (tomato, cheese), (garlic, ...</td>\n",
       "      <td>[-5, -5, 1.0944496012124034]</td>\n",
       "    </tr>\n",
       "    <tr>\n",
       "      <th>16</th>\n",
       "      <td>[(onion, chicken), (onion, tomato), (onion, ga...</td>\n",
       "      <td>[1.3248796627107513, -5, 1.4235409132992736, -...</td>\n",
       "    </tr>\n",
       "    <tr>\n",
       "      <th>17</th>\n",
       "      <td>[(onion, chicken), (onion, tomato), (onion, ch...</td>\n",
       "      <td>[1.3248796627107513, -5, 1.4120038875676597, -...</td>\n",
       "    </tr>\n",
       "    <tr>\n",
       "      <th>18</th>\n",
       "      <td>[(onion, chicken), (onion, garlic), (onion, ch...</td>\n",
       "      <td>[1.3248796627107513, 1.4235409132992736, 1.412...</td>\n",
       "    </tr>\n",
       "    <tr>\n",
       "      <th>19</th>\n",
       "      <td>[(onion, tomato), (onion, garlic), (onion, che...</td>\n",
       "      <td>[-5, 1.4235409132992736, 1.4120038875676597, -...</td>\n",
       "    </tr>\n",
       "    <tr>\n",
       "      <th>20</th>\n",
       "      <td>[(chicken, tomato), (chicken, garlic), (chicke...</td>\n",
       "      <td>[-5, 1.1800811339314616, 1.0177501859513405, -...</td>\n",
       "    </tr>\n",
       "    <tr>\n",
       "      <th>21</th>\n",
       "      <td>[(onion, chicken), (onion, tomato), (onion, ga...</td>\n",
       "      <td>[1.3248796627107513, -5, 1.4235409132992736, 1...</td>\n",
       "    </tr>\n",
       "  </tbody>\n",
       "</table>\n",
       "</div>"
      ],
      "text/plain": [
       "                                          Combination  \\\n",
       "0                                    (onion, chicken)   \n",
       "1                                     (onion, garlic)   \n",
       "2                                     (onion, cheese)   \n",
       "3                                   (chicken, garlic)   \n",
       "4                                   (chicken, cheese)   \n",
       "5                                    (garlic, cheese)   \n",
       "6   [(onion, chicken), (onion, tomato), (chicken, ...   \n",
       "7   [(onion, chicken), (onion, garlic), (chicken, ...   \n",
       "8   [(onion, chicken), (onion, cheese), (chicken, ...   \n",
       "9   [(onion, tomato), (onion, garlic), (tomato, ga...   \n",
       "10  [(onion, tomato), (onion, cheese), (tomato, ch...   \n",
       "11  [(onion, garlic), (onion, cheese), (garlic, ch...   \n",
       "12  [(chicken, tomato), (chicken, garlic), (tomato...   \n",
       "13  [(chicken, tomato), (chicken, cheese), (tomato...   \n",
       "14  [(chicken, garlic), (chicken, cheese), (garlic...   \n",
       "15  [(tomato, garlic), (tomato, cheese), (garlic, ...   \n",
       "16  [(onion, chicken), (onion, tomato), (onion, ga...   \n",
       "17  [(onion, chicken), (onion, tomato), (onion, ch...   \n",
       "18  [(onion, chicken), (onion, garlic), (onion, ch...   \n",
       "19  [(onion, tomato), (onion, garlic), (onion, che...   \n",
       "20  [(chicken, tomato), (chicken, garlic), (chicke...   \n",
       "21  [(onion, chicken), (onion, tomato), (onion, ga...   \n",
       "\n",
       "                                                Score  \n",
       "0                                [1.3248796627107513]  \n",
       "1                                [1.4235409132992736]  \n",
       "2                                [1.4120038875676597]  \n",
       "3                                [1.1800811339314616]  \n",
       "4                                [1.0177501859513405]  \n",
       "5                                [1.0944496012124034]  \n",
       "6                        [1.3248796627107513, -5, -5]  \n",
       "7   [1.3248796627107513, 1.4235409132992736, 1.180...  \n",
       "8   [1.3248796627107513, 1.4120038875676597, 1.017...  \n",
       "9                        [-5, 1.4235409132992736, -5]  \n",
       "10                       [-5, 1.4120038875676597, -5]  \n",
       "11  [1.4235409132992736, 1.4120038875676597, 1.094...  \n",
       "12                       [-5, 1.1800811339314616, -5]  \n",
       "13                       [-5, 1.0177501859513405, -5]  \n",
       "14  [1.1800811339314616, 1.0177501859513405, 1.094...  \n",
       "15                       [-5, -5, 1.0944496012124034]  \n",
       "16  [1.3248796627107513, -5, 1.4235409132992736, -...  \n",
       "17  [1.3248796627107513, -5, 1.4120038875676597, -...  \n",
       "18  [1.3248796627107513, 1.4235409132992736, 1.412...  \n",
       "19  [-5, 1.4235409132992736, 1.4120038875676597, -...  \n",
       "20  [-5, 1.1800811339314616, 1.0177501859513405, -...  \n",
       "21  [1.3248796627107513, -5, 1.4235409132992736, 1...  "
      ]
     },
     "execution_count": 83,
     "metadata": {},
     "output_type": "execute_result"
    }
   ],
   "source": [
    "# 5 ingredients\n",
    "\n",
    "ingredients_input = 'chicken, onion, garlic, cheese, tomato'\n",
    "\n",
    "ingredients_combinations = combinations_of_two(ingredients_input)\n",
    "df_comb = data_query(ingredients_combinations)\n",
    "df_comb"
   ]
  },
  {
   "cell_type": "code",
   "execution_count": 84,
   "metadata": {},
   "outputs": [
    {
     "data": {
      "text/html": [
       "<div>\n",
       "<style scoped>\n",
       "    .dataframe tbody tr th:only-of-type {\n",
       "        vertical-align: middle;\n",
       "    }\n",
       "\n",
       "    .dataframe tbody tr th {\n",
       "        vertical-align: top;\n",
       "    }\n",
       "\n",
       "    .dataframe thead th {\n",
       "        text-align: right;\n",
       "    }\n",
       "</style>\n",
       "<table border=\"1\" class=\"dataframe\">\n",
       "  <thead>\n",
       "    <tr style=\"text-align: right;\">\n",
       "      <th></th>\n",
       "      <th>Combination</th>\n",
       "      <th>Score</th>\n",
       "    </tr>\n",
       "  </thead>\n",
       "  <tbody>\n",
       "    <tr>\n",
       "      <th>0</th>\n",
       "      <td>(onion, salt)</td>\n",
       "      <td>[2.0670735182650013]</td>\n",
       "    </tr>\n",
       "    <tr>\n",
       "      <th>1</th>\n",
       "      <td>(onion, chicken)</td>\n",
       "      <td>[1.3248796627107513]</td>\n",
       "    </tr>\n",
       "    <tr>\n",
       "      <th>2</th>\n",
       "      <td>(onion, garlic)</td>\n",
       "      <td>[1.4235409132992736]</td>\n",
       "    </tr>\n",
       "    <tr>\n",
       "      <th>3</th>\n",
       "      <td>(onion, cheese)</td>\n",
       "      <td>[1.4120038875676597]</td>\n",
       "    </tr>\n",
       "    <tr>\n",
       "      <th>4</th>\n",
       "      <td>(salt, chicken)</td>\n",
       "      <td>[1.4353972677154387]</td>\n",
       "    </tr>\n",
       "    <tr>\n",
       "      <th>5</th>\n",
       "      <td>(salt, garlic)</td>\n",
       "      <td>[1.5533159218950603]</td>\n",
       "    </tr>\n",
       "    <tr>\n",
       "      <th>6</th>\n",
       "      <td>(salt, cheese)</td>\n",
       "      <td>[1.3703804244076925]</td>\n",
       "    </tr>\n",
       "    <tr>\n",
       "      <th>7</th>\n",
       "      <td>(chicken, garlic)</td>\n",
       "      <td>[1.1800811339314616]</td>\n",
       "    </tr>\n",
       "    <tr>\n",
       "      <th>8</th>\n",
       "      <td>(chicken, cheese)</td>\n",
       "      <td>[1.0177501859513405]</td>\n",
       "    </tr>\n",
       "    <tr>\n",
       "      <th>9</th>\n",
       "      <td>(garlic, cheese)</td>\n",
       "      <td>[1.0944496012124034]</td>\n",
       "    </tr>\n",
       "    <tr>\n",
       "      <th>10</th>\n",
       "      <td>[(onion, salt), (onion, chicken), (salt, chick...</td>\n",
       "      <td>[2.0670735182650013, 1.3248796627107513, 1.435...</td>\n",
       "    </tr>\n",
       "    <tr>\n",
       "      <th>11</th>\n",
       "      <td>[(onion, salt), (onion, tomato), (salt, tomato)]</td>\n",
       "      <td>[2.0670735182650013, -5, -5]</td>\n",
       "    </tr>\n",
       "    <tr>\n",
       "      <th>12</th>\n",
       "      <td>[(onion, salt), (onion, garlic), (salt, garlic)]</td>\n",
       "      <td>[2.0670735182650013, 1.4235409132992736, 1.553...</td>\n",
       "    </tr>\n",
       "    <tr>\n",
       "      <th>13</th>\n",
       "      <td>[(onion, salt), (onion, cheese), (salt, cheese)]</td>\n",
       "      <td>[2.0670735182650013, 1.4120038875676597, 1.370...</td>\n",
       "    </tr>\n",
       "    <tr>\n",
       "      <th>14</th>\n",
       "      <td>[(onion, chicken), (onion, tomato), (chicken, ...</td>\n",
       "      <td>[1.3248796627107513, -5, -5]</td>\n",
       "    </tr>\n",
       "    <tr>\n",
       "      <th>15</th>\n",
       "      <td>[(onion, chicken), (onion, garlic), (chicken, ...</td>\n",
       "      <td>[1.3248796627107513, 1.4235409132992736, 1.180...</td>\n",
       "    </tr>\n",
       "    <tr>\n",
       "      <th>16</th>\n",
       "      <td>[(onion, chicken), (onion, cheese), (chicken, ...</td>\n",
       "      <td>[1.3248796627107513, 1.4120038875676597, 1.017...</td>\n",
       "    </tr>\n",
       "    <tr>\n",
       "      <th>17</th>\n",
       "      <td>[(onion, tomato), (onion, garlic), (tomato, ga...</td>\n",
       "      <td>[-5, 1.4235409132992736, -5]</td>\n",
       "    </tr>\n",
       "    <tr>\n",
       "      <th>18</th>\n",
       "      <td>[(onion, tomato), (onion, cheese), (tomato, ch...</td>\n",
       "      <td>[-5, 1.4120038875676597, -5]</td>\n",
       "    </tr>\n",
       "    <tr>\n",
       "      <th>19</th>\n",
       "      <td>[(onion, garlic), (onion, cheese), (garlic, ch...</td>\n",
       "      <td>[1.4235409132992736, 1.4120038875676597, 1.094...</td>\n",
       "    </tr>\n",
       "    <tr>\n",
       "      <th>20</th>\n",
       "      <td>[(salt, chicken), (salt, tomato), (chicken, to...</td>\n",
       "      <td>[1.4353972677154387, -5, -5]</td>\n",
       "    </tr>\n",
       "    <tr>\n",
       "      <th>21</th>\n",
       "      <td>[(salt, chicken), (salt, garlic), (chicken, ga...</td>\n",
       "      <td>[1.4353972677154387, 1.5533159218950603, 1.180...</td>\n",
       "    </tr>\n",
       "    <tr>\n",
       "      <th>22</th>\n",
       "      <td>[(salt, chicken), (salt, cheese), (chicken, ch...</td>\n",
       "      <td>[1.4353972677154387, 1.3703804244076925, 1.017...</td>\n",
       "    </tr>\n",
       "    <tr>\n",
       "      <th>23</th>\n",
       "      <td>[(salt, tomato), (salt, garlic), (tomato, garl...</td>\n",
       "      <td>[-5, 1.5533159218950603, -5]</td>\n",
       "    </tr>\n",
       "    <tr>\n",
       "      <th>24</th>\n",
       "      <td>[(salt, tomato), (salt, cheese), (tomato, chee...</td>\n",
       "      <td>[-5, 1.3703804244076925, -5]</td>\n",
       "    </tr>\n",
       "    <tr>\n",
       "      <th>25</th>\n",
       "      <td>[(salt, garlic), (salt, cheese), (garlic, chee...</td>\n",
       "      <td>[1.5533159218950603, 1.3703804244076925, 1.094...</td>\n",
       "    </tr>\n",
       "    <tr>\n",
       "      <th>26</th>\n",
       "      <td>[(chicken, tomato), (chicken, garlic), (tomato...</td>\n",
       "      <td>[-5, 1.1800811339314616, -5]</td>\n",
       "    </tr>\n",
       "    <tr>\n",
       "      <th>27</th>\n",
       "      <td>[(chicken, tomato), (chicken, cheese), (tomato...</td>\n",
       "      <td>[-5, 1.0177501859513405, -5]</td>\n",
       "    </tr>\n",
       "    <tr>\n",
       "      <th>28</th>\n",
       "      <td>[(chicken, garlic), (chicken, cheese), (garlic...</td>\n",
       "      <td>[1.1800811339314616, 1.0177501859513405, 1.094...</td>\n",
       "    </tr>\n",
       "    <tr>\n",
       "      <th>29</th>\n",
       "      <td>[(tomato, garlic), (tomato, cheese), (garlic, ...</td>\n",
       "      <td>[-5, -5, 1.0944496012124034]</td>\n",
       "    </tr>\n",
       "    <tr>\n",
       "      <th>30</th>\n",
       "      <td>[(onion, salt), (onion, chicken), (onion, toma...</td>\n",
       "      <td>[2.0670735182650013, 1.3248796627107513, -5, 1...</td>\n",
       "    </tr>\n",
       "    <tr>\n",
       "      <th>31</th>\n",
       "      <td>[(onion, salt), (onion, chicken), (onion, garl...</td>\n",
       "      <td>[2.0670735182650013, 1.3248796627107513, 1.423...</td>\n",
       "    </tr>\n",
       "    <tr>\n",
       "      <th>32</th>\n",
       "      <td>[(onion, salt), (onion, chicken), (onion, chee...</td>\n",
       "      <td>[2.0670735182650013, 1.3248796627107513, 1.412...</td>\n",
       "    </tr>\n",
       "    <tr>\n",
       "      <th>33</th>\n",
       "      <td>[(onion, salt), (onion, tomato), (onion, garli...</td>\n",
       "      <td>[2.0670735182650013, -5, 1.4235409132992736, -...</td>\n",
       "    </tr>\n",
       "    <tr>\n",
       "      <th>34</th>\n",
       "      <td>[(onion, salt), (onion, tomato), (onion, chees...</td>\n",
       "      <td>[2.0670735182650013, -5, 1.4120038875676597, -...</td>\n",
       "    </tr>\n",
       "    <tr>\n",
       "      <th>35</th>\n",
       "      <td>[(onion, salt), (onion, garlic), (onion, chees...</td>\n",
       "      <td>[2.0670735182650013, 1.4235409132992736, 1.412...</td>\n",
       "    </tr>\n",
       "    <tr>\n",
       "      <th>36</th>\n",
       "      <td>[(onion, chicken), (onion, tomato), (onion, ga...</td>\n",
       "      <td>[1.3248796627107513, -5, 1.4235409132992736, -...</td>\n",
       "    </tr>\n",
       "    <tr>\n",
       "      <th>37</th>\n",
       "      <td>[(onion, chicken), (onion, tomato), (onion, ch...</td>\n",
       "      <td>[1.3248796627107513, -5, 1.4120038875676597, -...</td>\n",
       "    </tr>\n",
       "    <tr>\n",
       "      <th>38</th>\n",
       "      <td>[(onion, chicken), (onion, garlic), (onion, ch...</td>\n",
       "      <td>[1.3248796627107513, 1.4235409132992736, 1.412...</td>\n",
       "    </tr>\n",
       "    <tr>\n",
       "      <th>39</th>\n",
       "      <td>[(onion, tomato), (onion, garlic), (onion, che...</td>\n",
       "      <td>[-5, 1.4235409132992736, 1.4120038875676597, -...</td>\n",
       "    </tr>\n",
       "    <tr>\n",
       "      <th>40</th>\n",
       "      <td>[(salt, chicken), (salt, tomato), (salt, garli...</td>\n",
       "      <td>[1.4353972677154387, -5, 1.5533159218950603, -...</td>\n",
       "    </tr>\n",
       "    <tr>\n",
       "      <th>41</th>\n",
       "      <td>[(salt, chicken), (salt, tomato), (salt, chees...</td>\n",
       "      <td>[1.4353972677154387, -5, 1.3703804244076925, -...</td>\n",
       "    </tr>\n",
       "    <tr>\n",
       "      <th>42</th>\n",
       "      <td>[(salt, chicken), (salt, garlic), (salt, chees...</td>\n",
       "      <td>[1.4353972677154387, 1.5533159218950603, 1.370...</td>\n",
       "    </tr>\n",
       "    <tr>\n",
       "      <th>43</th>\n",
       "      <td>[(salt, tomato), (salt, garlic), (salt, cheese...</td>\n",
       "      <td>[-5, 1.5533159218950603, 1.3703804244076925, -...</td>\n",
       "    </tr>\n",
       "    <tr>\n",
       "      <th>44</th>\n",
       "      <td>[(chicken, tomato), (chicken, garlic), (chicke...</td>\n",
       "      <td>[-5, 1.1800811339314616, 1.0177501859513405, -...</td>\n",
       "    </tr>\n",
       "    <tr>\n",
       "      <th>45</th>\n",
       "      <td>[(onion, salt), (onion, chicken), (onion, toma...</td>\n",
       "      <td>[2.0670735182650013, 1.3248796627107513, -5, 1...</td>\n",
       "    </tr>\n",
       "    <tr>\n",
       "      <th>46</th>\n",
       "      <td>[(onion, salt), (onion, chicken), (onion, toma...</td>\n",
       "      <td>[2.0670735182650013, 1.3248796627107513, -5, 1...</td>\n",
       "    </tr>\n",
       "    <tr>\n",
       "      <th>47</th>\n",
       "      <td>[(onion, salt), (onion, chicken), (onion, garl...</td>\n",
       "      <td>[2.0670735182650013, 1.3248796627107513, 1.423...</td>\n",
       "    </tr>\n",
       "    <tr>\n",
       "      <th>48</th>\n",
       "      <td>[(onion, salt), (onion, tomato), (onion, garli...</td>\n",
       "      <td>[2.0670735182650013, -5, 1.4235409132992736, 1...</td>\n",
       "    </tr>\n",
       "    <tr>\n",
       "      <th>49</th>\n",
       "      <td>[(onion, chicken), (onion, tomato), (onion, ga...</td>\n",
       "      <td>[1.3248796627107513, -5, 1.4235409132992736, 1...</td>\n",
       "    </tr>\n",
       "    <tr>\n",
       "      <th>50</th>\n",
       "      <td>[(salt, chicken), (salt, tomato), (salt, garli...</td>\n",
       "      <td>[1.4353972677154387, -5, 1.5533159218950603, 1...</td>\n",
       "    </tr>\n",
       "    <tr>\n",
       "      <th>51</th>\n",
       "      <td>[(onion, salt), (onion, chicken), (onion, toma...</td>\n",
       "      <td>[2.0670735182650013, 1.3248796627107513, -5, 1...</td>\n",
       "    </tr>\n",
       "  </tbody>\n",
       "</table>\n",
       "</div>"
      ],
      "text/plain": [
       "                                          Combination  \\\n",
       "0                                       (onion, salt)   \n",
       "1                                    (onion, chicken)   \n",
       "2                                     (onion, garlic)   \n",
       "3                                     (onion, cheese)   \n",
       "4                                     (salt, chicken)   \n",
       "5                                      (salt, garlic)   \n",
       "6                                      (salt, cheese)   \n",
       "7                                   (chicken, garlic)   \n",
       "8                                   (chicken, cheese)   \n",
       "9                                    (garlic, cheese)   \n",
       "10  [(onion, salt), (onion, chicken), (salt, chick...   \n",
       "11   [(onion, salt), (onion, tomato), (salt, tomato)]   \n",
       "12   [(onion, salt), (onion, garlic), (salt, garlic)]   \n",
       "13   [(onion, salt), (onion, cheese), (salt, cheese)]   \n",
       "14  [(onion, chicken), (onion, tomato), (chicken, ...   \n",
       "15  [(onion, chicken), (onion, garlic), (chicken, ...   \n",
       "16  [(onion, chicken), (onion, cheese), (chicken, ...   \n",
       "17  [(onion, tomato), (onion, garlic), (tomato, ga...   \n",
       "18  [(onion, tomato), (onion, cheese), (tomato, ch...   \n",
       "19  [(onion, garlic), (onion, cheese), (garlic, ch...   \n",
       "20  [(salt, chicken), (salt, tomato), (chicken, to...   \n",
       "21  [(salt, chicken), (salt, garlic), (chicken, ga...   \n",
       "22  [(salt, chicken), (salt, cheese), (chicken, ch...   \n",
       "23  [(salt, tomato), (salt, garlic), (tomato, garl...   \n",
       "24  [(salt, tomato), (salt, cheese), (tomato, chee...   \n",
       "25  [(salt, garlic), (salt, cheese), (garlic, chee...   \n",
       "26  [(chicken, tomato), (chicken, garlic), (tomato...   \n",
       "27  [(chicken, tomato), (chicken, cheese), (tomato...   \n",
       "28  [(chicken, garlic), (chicken, cheese), (garlic...   \n",
       "29  [(tomato, garlic), (tomato, cheese), (garlic, ...   \n",
       "30  [(onion, salt), (onion, chicken), (onion, toma...   \n",
       "31  [(onion, salt), (onion, chicken), (onion, garl...   \n",
       "32  [(onion, salt), (onion, chicken), (onion, chee...   \n",
       "33  [(onion, salt), (onion, tomato), (onion, garli...   \n",
       "34  [(onion, salt), (onion, tomato), (onion, chees...   \n",
       "35  [(onion, salt), (onion, garlic), (onion, chees...   \n",
       "36  [(onion, chicken), (onion, tomato), (onion, ga...   \n",
       "37  [(onion, chicken), (onion, tomato), (onion, ch...   \n",
       "38  [(onion, chicken), (onion, garlic), (onion, ch...   \n",
       "39  [(onion, tomato), (onion, garlic), (onion, che...   \n",
       "40  [(salt, chicken), (salt, tomato), (salt, garli...   \n",
       "41  [(salt, chicken), (salt, tomato), (salt, chees...   \n",
       "42  [(salt, chicken), (salt, garlic), (salt, chees...   \n",
       "43  [(salt, tomato), (salt, garlic), (salt, cheese...   \n",
       "44  [(chicken, tomato), (chicken, garlic), (chicke...   \n",
       "45  [(onion, salt), (onion, chicken), (onion, toma...   \n",
       "46  [(onion, salt), (onion, chicken), (onion, toma...   \n",
       "47  [(onion, salt), (onion, chicken), (onion, garl...   \n",
       "48  [(onion, salt), (onion, tomato), (onion, garli...   \n",
       "49  [(onion, chicken), (onion, tomato), (onion, ga...   \n",
       "50  [(salt, chicken), (salt, tomato), (salt, garli...   \n",
       "51  [(onion, salt), (onion, chicken), (onion, toma...   \n",
       "\n",
       "                                                Score  \n",
       "0                                [2.0670735182650013]  \n",
       "1                                [1.3248796627107513]  \n",
       "2                                [1.4235409132992736]  \n",
       "3                                [1.4120038875676597]  \n",
       "4                                [1.4353972677154387]  \n",
       "5                                [1.5533159218950603]  \n",
       "6                                [1.3703804244076925]  \n",
       "7                                [1.1800811339314616]  \n",
       "8                                [1.0177501859513405]  \n",
       "9                                [1.0944496012124034]  \n",
       "10  [2.0670735182650013, 1.3248796627107513, 1.435...  \n",
       "11                       [2.0670735182650013, -5, -5]  \n",
       "12  [2.0670735182650013, 1.4235409132992736, 1.553...  \n",
       "13  [2.0670735182650013, 1.4120038875676597, 1.370...  \n",
       "14                       [1.3248796627107513, -5, -5]  \n",
       "15  [1.3248796627107513, 1.4235409132992736, 1.180...  \n",
       "16  [1.3248796627107513, 1.4120038875676597, 1.017...  \n",
       "17                       [-5, 1.4235409132992736, -5]  \n",
       "18                       [-5, 1.4120038875676597, -5]  \n",
       "19  [1.4235409132992736, 1.4120038875676597, 1.094...  \n",
       "20                       [1.4353972677154387, -5, -5]  \n",
       "21  [1.4353972677154387, 1.5533159218950603, 1.180...  \n",
       "22  [1.4353972677154387, 1.3703804244076925, 1.017...  \n",
       "23                       [-5, 1.5533159218950603, -5]  \n",
       "24                       [-5, 1.3703804244076925, -5]  \n",
       "25  [1.5533159218950603, 1.3703804244076925, 1.094...  \n",
       "26                       [-5, 1.1800811339314616, -5]  \n",
       "27                       [-5, 1.0177501859513405, -5]  \n",
       "28  [1.1800811339314616, 1.0177501859513405, 1.094...  \n",
       "29                       [-5, -5, 1.0944496012124034]  \n",
       "30  [2.0670735182650013, 1.3248796627107513, -5, 1...  \n",
       "31  [2.0670735182650013, 1.3248796627107513, 1.423...  \n",
       "32  [2.0670735182650013, 1.3248796627107513, 1.412...  \n",
       "33  [2.0670735182650013, -5, 1.4235409132992736, -...  \n",
       "34  [2.0670735182650013, -5, 1.4120038875676597, -...  \n",
       "35  [2.0670735182650013, 1.4235409132992736, 1.412...  \n",
       "36  [1.3248796627107513, -5, 1.4235409132992736, -...  \n",
       "37  [1.3248796627107513, -5, 1.4120038875676597, -...  \n",
       "38  [1.3248796627107513, 1.4235409132992736, 1.412...  \n",
       "39  [-5, 1.4235409132992736, 1.4120038875676597, -...  \n",
       "40  [1.4353972677154387, -5, 1.5533159218950603, -...  \n",
       "41  [1.4353972677154387, -5, 1.3703804244076925, -...  \n",
       "42  [1.4353972677154387, 1.5533159218950603, 1.370...  \n",
       "43  [-5, 1.5533159218950603, 1.3703804244076925, -...  \n",
       "44  [-5, 1.1800811339314616, 1.0177501859513405, -...  \n",
       "45  [2.0670735182650013, 1.3248796627107513, -5, 1...  \n",
       "46  [2.0670735182650013, 1.3248796627107513, -5, 1...  \n",
       "47  [2.0670735182650013, 1.3248796627107513, 1.423...  \n",
       "48  [2.0670735182650013, -5, 1.4235409132992736, 1...  \n",
       "49  [1.3248796627107513, -5, 1.4235409132992736, 1...  \n",
       "50  [1.4353972677154387, -5, 1.5533159218950603, 1...  \n",
       "51  [2.0670735182650013, 1.3248796627107513, -5, 1...  "
      ]
     },
     "execution_count": 84,
     "metadata": {},
     "output_type": "execute_result"
    }
   ],
   "source": [
    "# 6 ingredients\n",
    "\n",
    "ingredients_input = 'chicken, onion, garlic, cheese, tomato, salt'\n",
    "\n",
    "ingredients_combinations = combinations_of_two(ingredients_input)\n",
    "df_comb = data_query(ingredients_combinations)\n",
    "df_comb"
   ]
  },
  {
   "cell_type": "code",
   "execution_count": null,
   "metadata": {},
   "outputs": [],
   "source": []
  },
  {
   "cell_type": "markdown",
   "metadata": {
    "id": "FLH_yyRv4AiT"
   },
   "source": [
    "# muse_comb\n",
    "- output is in desired format (a list of strings) so code will run! However...\n",
    "\n",
    "<br>Issues:\n",
    "<br><s>- the output format of data_query needs to be confirmed first for proper testing. is it ok that combinations are in a tuple and score is in a list? (maybe do muse_comb later)</s>\n",
    "- pretty slow for 5+ ingredients\n",
    "- 3 ingredients: 2 of the ingredients are just single letters and not ingredients"
   ]
  },
  {
   "cell_type": "code",
   "execution_count": 85,
   "metadata": {
    "id": "e7tWuDK24AiT"
   },
   "outputs": [],
   "source": [
    "def muse_comb(df_comb): ###If this takes too long, consider taking the nested calculate_sum(array) outside of the function\n",
    "    '''\n",
    "     The function calculates the sum of the \"Score\" values and returns the three combinations with the largest sums\n",
    "\n",
    "     NOTE FOR FRONT-END: The return is a list of lists so access the values by indexing e.g. output[0]\n",
    "\n",
    "                         The output of this function is the input for the recipe generator\n",
    "\n",
    "                         We might need a function to convert each lists into strings if\n",
    "                         the recipe generator doesn't do this automatically.\n",
    "                         \n",
    "    Inputs (1): \n",
    "    df_comb (from: data_query) = a datafrome with columns 'Combination' and 'Score', containing ingredient combinations and their scores as a dataframe  (for 4 ingredients: all 6 combinations and their respective scores)\n",
    "    \n",
    "    Output (1):\n",
    "    ingredients_list (to: recipe_generator) = a list of 3 lists, containing the 3 ingredients combinations with highest scores\n",
    "    [['yeast', 'butter', 'eggs', 'pepper', 'cabbage', 'pork', 'flour', 'sugar'],\n",
    "    ['butter', 'eggs', 'pepper', 'cabbage', 'pork', 'flour', 'sugar'],\n",
    "    ['yeast', 'butter', 'eggs', 'pepper', 'cabbage', 'flour', 'sugar']]\n",
    "    \n",
    "    '''\n",
    "\n",
    "    def calculate_sum(array):\n",
    "        return sum(array)\n",
    "\n",
    "    def ingredients_to_lists(lists):\n",
    "        ingredients_list = []\n",
    "        for i in range(3):\n",
    "            tmp_list = []\n",
    "            for x in lists[i]:\n",
    "                tmp_list.append(x[0])\n",
    "                tmp_list.append(x[1])\n",
    "            ingredients_list.append(list(set(tmp_list)))\n",
    "\n",
    "        return ingredients_list\n",
    "\n",
    "    for i in range(len(df_comb)):\n",
    "        df_comb[\"Sum\"] = df_comb[\"Score\"].apply(calculate_sum)\n",
    "\n",
    "    max_values = df_comb.nlargest(3, \"Sum\")\n",
    "\n",
    "    max_values = max_values[\"Combination\"].reset_index(drop=True)\n",
    "\n",
    "    ingredients_lists = ingredients_to_lists(max_values)\n",
    "\n",
    "    return ingredients_lists"
   ]
  },
  {
   "cell_type": "markdown",
   "metadata": {
    "heading_collapsed": true
   },
   "source": [
    "### Testing muse_comb with pattern 1\n",
    "(might need to fix data_query output first)"
   ]
  },
  {
   "cell_type": "code",
   "execution_count": 86,
   "metadata": {
    "hidden": true
   },
   "outputs": [
    {
     "data": {
      "text/plain": [
       "[['a', 's', 'g'], ['h', 'c', 'a', 's'], ['h', 'c', 'a', 'g']]"
      ]
     },
     "execution_count": 86,
     "metadata": {},
     "output_type": "execute_result"
    }
   ],
   "source": [
    "# 6 tuples\n",
    "\n",
    "ingredients_combinations = [('chicken', 'garlic'),\n",
    " ('chicken', 'salt'),\n",
    " ('chicken', 'tomato'),\n",
    " ('garlic', 'salt'),\n",
    " ('garlic', 'tomato'),\n",
    " ('salt', 'tomato')]\n",
    "\n",
    "df_comb = data_query(ingredients_combinations)\n",
    "\n",
    "ingredients_lists = muse_comb(df_comb)\n",
    "ingredients_lists"
   ]
  },
  {
   "cell_type": "code",
   "execution_count": 87,
   "metadata": {
    "hidden": true
   },
   "outputs": [
    {
     "data": {
      "text/plain": [
       "[['e', 'p', 'a', 's'], ['n', 'a', 's', 'o'], ['a', 's', 'g']]"
      ]
     },
     "execution_count": 87,
     "metadata": {},
     "output_type": "execute_result"
    }
   ],
   "source": [
    "# 15 tuples\n",
    "\n",
    "ingredients_combinations = [('tomato', 'beef'),\n",
    " ('tomato', 'onion'),\n",
    " ('tomato', 'salt'),\n",
    " ('tomato', 'garlic'),\n",
    " ('tomato', 'pepper'),\n",
    " ('beef', 'onion'),\n",
    " ('beef', 'salt'),\n",
    " ('beef', 'garlic'),\n",
    " ('beef', 'pepper'),\n",
    " ('onion', 'salt'),\n",
    " ('onion', 'garlic'),\n",
    " ('onion', 'pepper'),\n",
    " ('salt', 'garlic'),\n",
    " ('salt', 'pepper'),\n",
    " ('garlic', 'pepper')]\n",
    "\n",
    "df_comb = data_query(ingredients_combinations)\n",
    "\n",
    "ingredients_lists = muse_comb(df_comb)\n",
    "ingredients_lists"
   ]
  },
  {
   "cell_type": "markdown",
   "metadata": {},
   "source": [
    "### Testing muse_comb with pattern 2"
   ]
  },
  {
   "cell_type": "code",
   "execution_count": 88,
   "metadata": {},
   "outputs": [
    {
     "data": {
      "text/plain": [
       "[['onion', 'garlic', 'chicken'], ['n', 'a', 'o', 'g'], ['n', 'h', 'c', 'o']]"
      ]
     },
     "execution_count": 88,
     "metadata": {},
     "output_type": "execute_result"
    }
   ],
   "source": [
    "# 3 ingredients\n",
    "\n",
    "ingredients_input = 'chicken, onion, garlic'\n",
    "\n",
    "ingredients_combinations = combinations_of_two(ingredients_input)\n",
    "df_comb = data_query(ingredients_combinations)\n",
    "muse_comb(df_comb)"
   ]
  },
  {
   "cell_type": "code",
   "execution_count": 89,
   "metadata": {},
   "outputs": [
    {
     "data": {
      "text/plain": [
       "[['onion', 'cheese', 'garlic', 'chicken'],\n",
       " ['onion', 'cheese', 'garlic'],\n",
       " ['onion', 'garlic', 'chicken']]"
      ]
     },
     "execution_count": 89,
     "metadata": {},
     "output_type": "execute_result"
    }
   ],
   "source": [
    "# 4 ingredients\n",
    "\n",
    "ingredients_input = 'chicken, onion, garlic, cheese'\n",
    "\n",
    "ingredients_combinations = combinations_of_two(ingredients_input)\n",
    "df_comb = data_query(ingredients_combinations)\n",
    "muse_comb(df_comb)"
   ]
  },
  {
   "cell_type": "code",
   "execution_count": 90,
   "metadata": {},
   "outputs": [
    {
     "data": {
      "text/plain": [
       "[['onion', 'cheese', 'garlic', 'chicken'],\n",
       " ['onion', 'cheese', 'garlic'],\n",
       " ['onion', 'garlic', 'chicken']]"
      ]
     },
     "execution_count": 90,
     "metadata": {},
     "output_type": "execute_result"
    }
   ],
   "source": [
    "# 5 ingredients\n",
    "\n",
    "ingredients_input = 'chicken, onion, garlic, cheese, tomato'\n",
    "\n",
    "ingredients_combinations = combinations_of_two(ingredients_input)\n",
    "df_comb = data_query(ingredients_combinations)\n",
    "muse_comb(df_comb)"
   ]
  },
  {
   "cell_type": "code",
   "execution_count": 91,
   "metadata": {},
   "outputs": [
    {
     "data": {
      "text/plain": [
       "[['onion', 'salt', 'chicken', 'garlic', 'cheese'],\n",
       " ['onion', 'salt', 'garlic', 'chicken'],\n",
       " ['onion', 'salt', 'garlic', 'cheese']]"
      ]
     },
     "execution_count": 91,
     "metadata": {},
     "output_type": "execute_result"
    }
   ],
   "source": [
    "# 6 ingredients\n",
    "\n",
    "ingredients_input = 'chicken, onion, garlic, cheese, tomato, salt'\n",
    "\n",
    "ingredients_combinations = combinations_of_two(ingredients_input)\n",
    "df_comb = data_query(ingredients_combinations)\n",
    "muse_comb(df_comb)"
   ]
  },
  {
   "cell_type": "code",
   "execution_count": null,
   "metadata": {
    "id": "e7tWuDK24AiT"
   },
   "outputs": [],
   "source": []
  },
  {
   "cell_type": "markdown",
   "metadata": {
    "id": "e7tWuDK24AiT"
   },
   "source": [
    "# recipe_generator -> DONE\n",
    "\n",
    "Working correctly! Only issue is client-side seems to go down every once in a while (400 error)."
   ]
  },
  {
   "cell_type": "code",
   "execution_count": 92,
   "metadata": {
    "id": "lB8VK2-F4AiU"
   },
   "outputs": [],
   "source": [
    "def recipe_generator(ingredients_lists):\n",
    "\n",
    "    '''\n",
    "    Takes ingredients_list from muse_comb and returns the actual recipes with titles, ingredients, and directions.\n",
    "\n",
    "    Updates:\n",
    "    5/22/2024 by TJ:\n",
    "    - Added config.py file to protect API Key. \n",
    "\n",
    "    Inputs (1):\n",
    "    ingredients_list (from: muse_comb) = a list of 3 lists, containing the 3 ingredients combinations with highest score\n",
    "\n",
    "    Outputs (1):\n",
    "    recipe_list (to: get_scores, final_recipe) = a list of 3 dictionaries with 3 keys each: 'title', 'ingredients', 'directions', containing info for the 3 recipes\n",
    "\n",
    "    '''\n",
    "\n",
    "\n",
    "    api_key = config.api_key2\n",
    "    client = Groq(\n",
    "    api_key=api_key\n",
    "    )\n",
    "    recipe_list = []\n",
    "\n",
    "    if len(ingredients_lists) == 1:\n",
    "        chat_completion = client.chat.completions.create(\n",
    "            messages=[\n",
    "                {\n",
    "                    \"role\": \"user\",\n",
    "                    \"content\": f\"Suggest one recipe with {ingredients_lists} only. The final format of the output should contain Title, Ingredients and Directions only\",\n",
    "                }\n",
    "            ],\n",
    "            model=\"llama3-8b-8192\",\n",
    "        )\n",
    "\n",
    "        recipe = chat_completion.choices[0].message.content\n",
    "\n",
    "        parts = recipe.split(\"**\")\n",
    "        title = parts[1].strip()\n",
    "        ingredients = parts[4].strip()\n",
    "        directions = parts[6].strip()\n",
    "\n",
    "        recipe_dict = {}\n",
    "        recipe_dict['title'] = title\n",
    "        recipe_dict['ingredients'] = ingredients\n",
    "        recipe_dict['directions'] = directions\n",
    "\n",
    "        recipe_list.append(recipe_dict)\n",
    "\n",
    "    else:\n",
    "      for i in range(len(ingredients_lists)):\n",
    "        chat_completion = client.chat.completions.create(\n",
    "            messages=[\n",
    "                {\n",
    "                    \"role\": \"user\",\n",
    "                    \"content\": f\"Suggest one recipe with {ingredients_lists[i]} only. The final format of the output should contain Title, Ingredients and Directions only\",\n",
    "                }\n",
    "            ],\n",
    "            model=\"llama3-8b-8192\",\n",
    "        )\n",
    "\n",
    "        recipe = chat_completion.choices[0].message.content\n",
    "\n",
    "        parts = recipe.split(\"**\")\n",
    "        title = parts[1].strip()\n",
    "        ingredients = parts[4].strip()\n",
    "        directions = parts[6].strip()\n",
    "\n",
    "        recipe_dict = {}\n",
    "        recipe_dict['title'] = title\n",
    "        recipe_dict['ingredients'] = ingredients\n",
    "        recipe_dict['directions'] = directions\n",
    "\n",
    "        recipe_list.append(recipe_dict)\n",
    "\n",
    "    return recipe_list"
   ]
  },
  {
   "cell_type": "markdown",
   "metadata": {},
   "source": [
    "### Testing recipe_generator"
   ]
  },
  {
   "cell_type": "code",
   "execution_count": 93,
   "metadata": {
    "id": "lB8VK2-F4AiU"
   },
   "outputs": [
    {
     "data": {
      "text/plain": [
       "[{'title': 'Roasted Chicken with Tomato and Garlic',\n",
       "  'ingredients': '* 1 1/2 pounds chicken breast or thighs\\n* 2 large tomatoes, sliced\\n* 3 cloves garlic, peeled and minced',\n",
       "  'directions': '1. Preheat oven to 425°F (220°C).\\n2. In a large bowl, toss chicken with garlic, tomato slices, and a pinch of salt.\\n3. Spread on a large baking sheet lined with parchment paper and roast for 35-40 minutes or until cooked through.'},\n",
       " {'title': 'Grilled Chicken with Onion',\n",
       "  'ingredients': '* 1 piece of chicken\\n* 1/2 onion\\n* salt to taste',\n",
       "  'directions': '1. Preheat grill to medium-high heat.\\n2. Season chicken with salt.\\n3. Grill chicken for 5-6 minutes per side or until cooked through.\\n4. Meanwhile, slice the onion into rings.\\n5. Grill the onion rings for 2-3 minutes per side or until caramelized.\\n6. Serve chicken with grilled onion rings.'},\n",
       " {'title': 'Garlic Onion Delight',\n",
       "  'ingredients': '* 2 onions, thinly sliced\\n* 1/2 teaspoon salt\\n* 2 cloves garlic, minced',\n",
       "  'directions': '1. In a large skillet, combine sliced onions and salt. Cook over medium heat, stirring occasionally, until onions are caramelized and golden brown (about 30-40 minutes).\\n2. Add minced garlic to the skillet and stir to combine. Cook for an additional 2-3 minutes, until fragrant.\\n3. Serve hot, garnished with additional salt if desired.'}]"
      ]
     },
     "execution_count": 93,
     "metadata": {},
     "output_type": "execute_result"
    }
   ],
   "source": [
    "ingredients_lists = [['tomato', 'chicken', 'garlic'], ['chicken', 'onion', 'salt'], ['onion', 'salt', 'garlic']]\n",
    "\n",
    "recipe_list = recipe_generator(ingredients_lists)\n",
    "recipe_list"
   ]
  },
  {
   "cell_type": "markdown",
   "metadata": {},
   "source": [
    "### Testing recipe_generator all the way through"
   ]
  },
  {
   "cell_type": "code",
   "execution_count": 94,
   "metadata": {},
   "outputs": [
    {
     "name": "stdout",
     "output_type": "stream",
     "text": [
      "ingredients_combinations: \n",
      " [('onion', 'garlic'), ('onion', 'chicken'), ('garlic', 'chicken'), [('onion', 'garlic'), ('onion', 'chicken'), ('garlic', 'chicken')]]\n",
      "\n",
      " df_comb: \n",
      "                                          Combination  \\\n",
      "0                                    (onion, garlic)   \n",
      "1                                   (onion, chicken)   \n",
      "2                                  (garlic, chicken)   \n",
      "3  [(onion, garlic), (onion, chicken), (garlic, c...   \n",
      "\n",
      "                                               Score  \n",
      "0                               [1.4235409132992736]  \n",
      "1                               [1.3248796627107513]  \n",
      "2                               [1.1800811339314616]  \n",
      "3  [1.4235409132992736, 1.3248796627107513, 1.180...  \n",
      "\n",
      " ingredients_list: \n",
      " [['onion', 'garlic', 'chicken'], ['n', 'a', 'o', 'g'], ['n', 'h', 'c', 'o']]\n"
     ]
    },
    {
     "data": {
      "text/plain": [
       "[{'title': 'Chicken and Onion Stir-Fry',\n",
       "  'ingredients': '* 1 lb chicken breast or thighs, cut into bite-sized pieces\\n* 1 medium onion, diced\\n* 3 cloves garlic, minced',\n",
       "  'directions': '1. Heat a large skillet or wok over medium-high heat.\\n2. Add the chicken to the skillet and cook until browned, about 5-7 minutes. Remove from the skillet and set aside.\\n3. In the same skillet, add the diced onion and cook until softened, about 3-4 minutes.\\n4. Add the minced garlic to the skillet and cook for an additional 1 minute, until fragrant.\\n5. Add the cooked chicken back into the skillet and stir to combine with the onion and garlic mixture.\\n6. Cook for an additional 1-2 minutes, until the chicken is coated in the onion and garlic mixture.\\n7. Serve hot and enjoy!'},\n",
       " {'title': 'Noangle',\n",
       "  'ingredients': '* Nanograms of Onions\\n* Angular Aloes',\n",
       "  'directions': '1. Ogre Around Noon.\\n2. Anally Adjust Onions.\\n3. Naive Observation Generate Angularity.'},\n",
       " {'title': 'Title:',\n",
       "  'ingredients': \"* 'n' - None (none)\\n* 'h' - Handful of clean oats\\n* 'c' - Cut chicken breast\\n* 'o' - Olive oil\",\n",
       "  'directions': '1. Combine oats and olives with chicken breast.'}]"
      ]
     },
     "execution_count": 94,
     "metadata": {},
     "output_type": "execute_result"
    }
   ],
   "source": [
    "# 3 ingredients\n",
    "\n",
    "ingredients_input = 'chicken, onion, garlic'\n",
    "\n",
    "ingredients_combinations = combinations_of_two(ingredients_input)\n",
    "print('ingredients_combinations: \\n', ingredients_combinations)\n",
    "df_comb = data_query(ingredients_combinations)\n",
    "print('\\n df_comb: \\n', df_comb)\n",
    "ingredients_list = muse_comb(df_comb)\n",
    "print('\\n ingredients_list: \\n', ingredients_list)\n",
    "recipe_list = recipe_generator(ingredients_list)\n",
    "recipe_list"
   ]
  },
  {
   "cell_type": "code",
   "execution_count": 95,
   "metadata": {},
   "outputs": [
    {
     "name": "stdout",
     "output_type": "stream",
     "text": [
      "ingredients_combinations: \n",
      " [('onion', 'cheese'), ('onion', 'garlic'), ('onion', 'chicken'), ('cheese', 'garlic'), ('cheese', 'chicken'), ('garlic', 'chicken'), [('onion', 'cheese'), ('onion', 'garlic'), ('cheese', 'garlic')], [('onion', 'cheese'), ('onion', 'chicken'), ('cheese', 'chicken')], [('onion', 'garlic'), ('onion', 'chicken'), ('garlic', 'chicken')], [('cheese', 'garlic'), ('cheese', 'chicken'), ('garlic', 'chicken')], [('onion', 'cheese'), ('onion', 'garlic'), ('onion', 'chicken'), ('cheese', 'garlic'), ('cheese', 'chicken'), ('garlic', 'chicken')]]\n",
      "\n",
      " df_comb: \n",
      "                                           Combination  \\\n",
      "0                                     (onion, cheese)   \n",
      "1                                     (onion, garlic)   \n",
      "2                                    (onion, chicken)   \n",
      "3                                    (cheese, garlic)   \n",
      "4                                   (cheese, chicken)   \n",
      "5                                   (garlic, chicken)   \n",
      "6   [(onion, cheese), (onion, garlic), (cheese, ga...   \n",
      "7   [(onion, cheese), (onion, chicken), (cheese, c...   \n",
      "8   [(onion, garlic), (onion, chicken), (garlic, c...   \n",
      "9   [(cheese, garlic), (cheese, chicken), (garlic,...   \n",
      "10  [(onion, cheese), (onion, garlic), (onion, chi...   \n",
      "\n",
      "                                                Score  \n",
      "0                                [1.4120038875676597]  \n",
      "1                                [1.4235409132992736]  \n",
      "2                                [1.3248796627107513]  \n",
      "3                                [1.0944496012124034]  \n",
      "4                                [1.0177501859513405]  \n",
      "5                                [1.1800811339314616]  \n",
      "6   [1.4120038875676597, 1.4235409132992736, 1.094...  \n",
      "7   [1.4120038875676597, 1.3248796627107513, 1.017...  \n",
      "8   [1.4235409132992736, 1.3248796627107513, 1.180...  \n",
      "9   [1.0944496012124034, 1.0177501859513405, 1.180...  \n",
      "10  [1.4120038875676597, 1.4235409132992736, 1.324...  \n",
      "\n",
      " ingredients_list: \n",
      " [['onion', 'cheese', 'garlic', 'chicken'], ['onion', 'cheese', 'garlic'], ['onion', 'garlic', 'chicken']]\n"
     ]
    },
    {
     "data": {
      "text/plain": [
       "[{'title': 'Garlic Chicken Fritters',\n",
       "  'ingredients': '* 1 onion, finely chopped\\n* 1 cup shredded cheese\\n* 2 cloves garlic, minced\\n* 1 pound cooked chicken, shredded',\n",
       "  'directions': '1. In a large bowl, combine chopped onion, shredded cheese, minced garlic, and shredded chicken.\\n2. Mix well until all the ingredients are well combined.\\n3. Using your hands, shape the mixture into small patties.\\n4. Heat a non-stick pan with a small amount of oil.\\n5. Add the patties and cook until golden brown and crispy.\\n6. Serve hot and enjoy!'},\n",
       " {'title': 'Garlic and Cheese Fritter',\n",
       "  'ingredients': '- 1 onion, finely chopped\\n- 1/2 cup grated cheese\\n- 3 cloves of garlic, minced',\n",
       "  'directions': '1. Heat a pan with a non-stick surface over medium heat.\\n2. Add the chopped onion and sauté until translucent.\\n3. Add the minced garlic and cook for an additional minute.\\n4. Sprinkle the grated cheese and stir until melted and combined with the onion mixture.\\n5. Serve the fritter garnished with additional cheese if desired.'},\n",
       " {'title': 'Garlic Chicken Stir-Fry',\n",
       "  'ingredients': '* 1 large onion, sliced\\n* 3 cloves of garlic, minced\\n* 1 pound boneless, skinless chicken breast or thighs, cut into bite-sized pieces',\n",
       "  'directions': '1. Heat a large skillet or wok over medium-high heat.\\n2. Add chicken to the skillet and cook until browned, about 5-6 minutes.\\n3. Remove chicken from the skillet and set aside.\\n4. Add sliced onion to the skillet and cook until softened, about 3-4 minutes.\\n5. Add minced garlic to the skillet and cook for an additional minute.\\n6. Return the chicken to the skillet and stir to combine with onions and garlic.\\n7. Cook for an additional 2-3 minutes or until the chicken is cooked through.'}]"
      ]
     },
     "execution_count": 95,
     "metadata": {},
     "output_type": "execute_result"
    }
   ],
   "source": [
    "# 4 ingredients\n",
    "\n",
    "ingredients_input = 'chicken, onion, garlic, cheese'\n",
    "\n",
    "ingredients_combinations = combinations_of_two(ingredients_input)\n",
    "print('ingredients_combinations: \\n', ingredients_combinations)\n",
    "df_comb = data_query(ingredients_combinations)\n",
    "print('\\n df_comb: \\n', df_comb)\n",
    "ingredients_list = muse_comb(df_comb)\n",
    "print('\\n ingredients_list: \\n', ingredients_list)\n",
    "recipe_list = recipe_generator(ingredients_list)\n",
    "recipe_list"
   ]
  },
  {
   "cell_type": "code",
   "execution_count": 96,
   "metadata": {},
   "outputs": [
    {
     "name": "stdout",
     "output_type": "stream",
     "text": [
      "ingredients_combinations: \n",
      " [('onion', 'chicken'), ('onion', 'tomato'), ('onion', 'garlic'), ('onion', 'cheese'), ('chicken', 'tomato'), ('chicken', 'garlic'), ('chicken', 'cheese'), ('tomato', 'garlic'), ('tomato', 'cheese'), ('garlic', 'cheese'), [('onion', 'chicken'), ('onion', 'tomato'), ('chicken', 'tomato')], [('onion', 'chicken'), ('onion', 'garlic'), ('chicken', 'garlic')], [('onion', 'chicken'), ('onion', 'cheese'), ('chicken', 'cheese')], [('onion', 'tomato'), ('onion', 'garlic'), ('tomato', 'garlic')], [('onion', 'tomato'), ('onion', 'cheese'), ('tomato', 'cheese')], [('onion', 'garlic'), ('onion', 'cheese'), ('garlic', 'cheese')], [('chicken', 'tomato'), ('chicken', 'garlic'), ('tomato', 'garlic')], [('chicken', 'tomato'), ('chicken', 'cheese'), ('tomato', 'cheese')], [('chicken', 'garlic'), ('chicken', 'cheese'), ('garlic', 'cheese')], [('tomato', 'garlic'), ('tomato', 'cheese'), ('garlic', 'cheese')], [('onion', 'chicken'), ('onion', 'tomato'), ('onion', 'garlic'), ('chicken', 'tomato'), ('chicken', 'garlic'), ('tomato', 'garlic')], [('onion', 'chicken'), ('onion', 'tomato'), ('onion', 'cheese'), ('chicken', 'tomato'), ('chicken', 'cheese'), ('tomato', 'cheese')], [('onion', 'chicken'), ('onion', 'garlic'), ('onion', 'cheese'), ('chicken', 'garlic'), ('chicken', 'cheese'), ('garlic', 'cheese')], [('onion', 'tomato'), ('onion', 'garlic'), ('onion', 'cheese'), ('tomato', 'garlic'), ('tomato', 'cheese'), ('garlic', 'cheese')], [('chicken', 'tomato'), ('chicken', 'garlic'), ('chicken', 'cheese'), ('tomato', 'garlic'), ('tomato', 'cheese'), ('garlic', 'cheese')], [('onion', 'chicken'), ('onion', 'tomato'), ('onion', 'garlic'), ('onion', 'cheese'), ('chicken', 'tomato'), ('chicken', 'garlic'), ('chicken', 'cheese'), ('tomato', 'garlic'), ('tomato', 'cheese'), ('garlic', 'cheese')]]\n",
      "\n",
      " df_comb: \n",
      "                                           Combination  \\\n",
      "0                                    (onion, chicken)   \n",
      "1                                     (onion, garlic)   \n",
      "2                                     (onion, cheese)   \n",
      "3                                   (chicken, garlic)   \n",
      "4                                   (chicken, cheese)   \n",
      "5                                    (garlic, cheese)   \n",
      "6   [(onion, chicken), (onion, tomato), (chicken, ...   \n",
      "7   [(onion, chicken), (onion, garlic), (chicken, ...   \n",
      "8   [(onion, chicken), (onion, cheese), (chicken, ...   \n",
      "9   [(onion, tomato), (onion, garlic), (tomato, ga...   \n",
      "10  [(onion, tomato), (onion, cheese), (tomato, ch...   \n",
      "11  [(onion, garlic), (onion, cheese), (garlic, ch...   \n",
      "12  [(chicken, tomato), (chicken, garlic), (tomato...   \n",
      "13  [(chicken, tomato), (chicken, cheese), (tomato...   \n",
      "14  [(chicken, garlic), (chicken, cheese), (garlic...   \n",
      "15  [(tomato, garlic), (tomato, cheese), (garlic, ...   \n",
      "16  [(onion, chicken), (onion, tomato), (onion, ga...   \n",
      "17  [(onion, chicken), (onion, tomato), (onion, ch...   \n",
      "18  [(onion, chicken), (onion, garlic), (onion, ch...   \n",
      "19  [(onion, tomato), (onion, garlic), (onion, che...   \n",
      "20  [(chicken, tomato), (chicken, garlic), (chicke...   \n",
      "21  [(onion, chicken), (onion, tomato), (onion, ga...   \n",
      "\n",
      "                                                Score  \n",
      "0                                [1.3248796627107513]  \n",
      "1                                [1.4235409132992736]  \n",
      "2                                [1.4120038875676597]  \n",
      "3                                [1.1800811339314616]  \n",
      "4                                [1.0177501859513405]  \n",
      "5                                [1.0944496012124034]  \n",
      "6                        [1.3248796627107513, -5, -5]  \n",
      "7   [1.3248796627107513, 1.4235409132992736, 1.180...  \n",
      "8   [1.3248796627107513, 1.4120038875676597, 1.017...  \n",
      "9                        [-5, 1.4235409132992736, -5]  \n",
      "10                       [-5, 1.4120038875676597, -5]  \n",
      "11  [1.4235409132992736, 1.4120038875676597, 1.094...  \n",
      "12                       [-5, 1.1800811339314616, -5]  \n",
      "13                       [-5, 1.0177501859513405, -5]  \n",
      "14  [1.1800811339314616, 1.0177501859513405, 1.094...  \n",
      "15                       [-5, -5, 1.0944496012124034]  \n",
      "16  [1.3248796627107513, -5, 1.4235409132992736, -...  \n",
      "17  [1.3248796627107513, -5, 1.4120038875676597, -...  \n",
      "18  [1.3248796627107513, 1.4235409132992736, 1.412...  \n",
      "19  [-5, 1.4235409132992736, 1.4120038875676597, -...  \n",
      "20  [-5, 1.1800811339314616, 1.0177501859513405, -...  \n",
      "21  [1.3248796627107513, -5, 1.4235409132992736, 1...  \n",
      "\n",
      " ingredients_list: \n",
      " [['onion', 'cheese', 'garlic', 'chicken'], ['onion', 'cheese', 'garlic'], ['onion', 'garlic', 'chicken']]\n"
     ]
    },
    {
     "data": {
      "text/plain": [
       "[{'title': 'Garlic Chicken Frittata',\n",
       "  'ingredients': '* 1 large onion, diced\\n* 1 pound cooked chicken breast, diced\\n* 3 cloves garlic, minced\\n* 1 cup shredded cheese (such as cheddar or mozzarella)\\n* 4 eggs',\n",
       "  'directions': '1. Preheat oven to 375°F (190°C).\\n2. In a large skillet, sauté the diced onion and minced garlic until softened.\\n3. Add the cooked chicken to the skillet and stir to combine with the onion and garlic mixture.\\n4. In a large bowl, whisk together the eggs and a pinch of salt.\\n5. Add the cooked chicken and onion mixture to the eggs and stir to combine.\\n6. Pour the egg mixture into a greased 9-inch (23cm) pie plate.\\n7. Sprinkle the shredded cheese on top of the egg mixture.\\n8. Bake for 30-35 minutes or until the eggs are set and the cheese is melted.\\n9. Serve warm and enjoy!'},\n",
       " {'title': 'Garlic Onion Cheese Fritters',\n",
       "  'ingredients': '* 1 large onion, finely chopped\\n* 2 cloves of garlic, minced\\n* 1 cup of grated cheese',\n",
       "  'directions': '1. Preheat oven to 375°F (190°C).\\n2. In a bowl, mix together chopped onion, minced garlic, and grated cheese.\\n3. Drop spoonfuls of the mixture onto a baking sheet lined with parchment paper.\\n4. Bake for 15-20 minutes or until golden brown.\\n5. Serve hot and enjoy!'},\n",
       " {'title': 'Grilled Chicken with Garlic and Onion',\n",
       "  'ingredients': '* 1 lb boneless, skinless chicken breast\\n* 1 large onion, sliced\\n* 3 cloves of garlic, minced',\n",
       "  'directions': '1. Preheat grill to medium-high heat.\\n2. In a small bowl, mix together minced garlic and sliced onion.\\n3. Brush the chicken with a little olive oil and season with salt.\\n4. Grill the chicken for 5-6 minutes per side, or until cooked through.\\n5. During the last 2 minutes of cooking, top the chicken with the garlic and onion mixture.\\n6. Remove from heat and let rest for a few minutes before slicing and serving.'}]"
      ]
     },
     "execution_count": 96,
     "metadata": {},
     "output_type": "execute_result"
    }
   ],
   "source": [
    "# 5 ingredients\n",
    "\n",
    "ingredients_input = 'chicken, onion, garlic, cheese, tomato'\n",
    "\n",
    "ingredients_combinations = combinations_of_two(ingredients_input)\n",
    "print('ingredients_combinations: \\n', ingredients_combinations)\n",
    "df_comb = data_query(ingredients_combinations)\n",
    "print('\\n df_comb: \\n', df_comb)\n",
    "ingredients_list = muse_comb(df_comb)\n",
    "print('\\n ingredients_list: \\n', ingredients_list)\n",
    "recipe_list = recipe_generator(ingredients_list)\n",
    "recipe_list"
   ]
  },
  {
   "cell_type": "code",
   "execution_count": 118,
   "metadata": {},
   "outputs": [
    {
     "name": "stdout",
     "output_type": "stream",
     "text": [
      "ingredients_combinations: \n",
      " [('onion', 'salt'), ('onion', 'chicken'), ('onion', 'tomato'), ('onion', 'garlic'), ('onion', 'cheese'), ('salt', 'chicken'), ('salt', 'tomato'), ('salt', 'garlic'), ('salt', 'cheese'), ('chicken', 'tomato'), ('chicken', 'garlic'), ('chicken', 'cheese'), ('tomato', 'garlic'), ('tomato', 'cheese'), ('garlic', 'cheese'), [('onion', 'salt'), ('onion', 'chicken'), ('salt', 'chicken')], [('onion', 'salt'), ('onion', 'tomato'), ('salt', 'tomato')], [('onion', 'salt'), ('onion', 'garlic'), ('salt', 'garlic')], [('onion', 'salt'), ('onion', 'cheese'), ('salt', 'cheese')], [('onion', 'chicken'), ('onion', 'tomato'), ('chicken', 'tomato')], [('onion', 'chicken'), ('onion', 'garlic'), ('chicken', 'garlic')], [('onion', 'chicken'), ('onion', 'cheese'), ('chicken', 'cheese')], [('onion', 'tomato'), ('onion', 'garlic'), ('tomato', 'garlic')], [('onion', 'tomato'), ('onion', 'cheese'), ('tomato', 'cheese')], [('onion', 'garlic'), ('onion', 'cheese'), ('garlic', 'cheese')], [('salt', 'chicken'), ('salt', 'tomato'), ('chicken', 'tomato')], [('salt', 'chicken'), ('salt', 'garlic'), ('chicken', 'garlic')], [('salt', 'chicken'), ('salt', 'cheese'), ('chicken', 'cheese')], [('salt', 'tomato'), ('salt', 'garlic'), ('tomato', 'garlic')], [('salt', 'tomato'), ('salt', 'cheese'), ('tomato', 'cheese')], [('salt', 'garlic'), ('salt', 'cheese'), ('garlic', 'cheese')], [('chicken', 'tomato'), ('chicken', 'garlic'), ('tomato', 'garlic')], [('chicken', 'tomato'), ('chicken', 'cheese'), ('tomato', 'cheese')], [('chicken', 'garlic'), ('chicken', 'cheese'), ('garlic', 'cheese')], [('tomato', 'garlic'), ('tomato', 'cheese'), ('garlic', 'cheese')], [('onion', 'salt'), ('onion', 'chicken'), ('onion', 'tomato'), ('salt', 'chicken'), ('salt', 'tomato'), ('chicken', 'tomato')], [('onion', 'salt'), ('onion', 'chicken'), ('onion', 'garlic'), ('salt', 'chicken'), ('salt', 'garlic'), ('chicken', 'garlic')], [('onion', 'salt'), ('onion', 'chicken'), ('onion', 'cheese'), ('salt', 'chicken'), ('salt', 'cheese'), ('chicken', 'cheese')], [('onion', 'salt'), ('onion', 'tomato'), ('onion', 'garlic'), ('salt', 'tomato'), ('salt', 'garlic'), ('tomato', 'garlic')], [('onion', 'salt'), ('onion', 'tomato'), ('onion', 'cheese'), ('salt', 'tomato'), ('salt', 'cheese'), ('tomato', 'cheese')], [('onion', 'salt'), ('onion', 'garlic'), ('onion', 'cheese'), ('salt', 'garlic'), ('salt', 'cheese'), ('garlic', 'cheese')], [('onion', 'chicken'), ('onion', 'tomato'), ('onion', 'garlic'), ('chicken', 'tomato'), ('chicken', 'garlic'), ('tomato', 'garlic')], [('onion', 'chicken'), ('onion', 'tomato'), ('onion', 'cheese'), ('chicken', 'tomato'), ('chicken', 'cheese'), ('tomato', 'cheese')], [('onion', 'chicken'), ('onion', 'garlic'), ('onion', 'cheese'), ('chicken', 'garlic'), ('chicken', 'cheese'), ('garlic', 'cheese')], [('onion', 'tomato'), ('onion', 'garlic'), ('onion', 'cheese'), ('tomato', 'garlic'), ('tomato', 'cheese'), ('garlic', 'cheese')], [('salt', 'chicken'), ('salt', 'tomato'), ('salt', 'garlic'), ('chicken', 'tomato'), ('chicken', 'garlic'), ('tomato', 'garlic')], [('salt', 'chicken'), ('salt', 'tomato'), ('salt', 'cheese'), ('chicken', 'tomato'), ('chicken', 'cheese'), ('tomato', 'cheese')], [('salt', 'chicken'), ('salt', 'garlic'), ('salt', 'cheese'), ('chicken', 'garlic'), ('chicken', 'cheese'), ('garlic', 'cheese')], [('salt', 'tomato'), ('salt', 'garlic'), ('salt', 'cheese'), ('tomato', 'garlic'), ('tomato', 'cheese'), ('garlic', 'cheese')], [('chicken', 'tomato'), ('chicken', 'garlic'), ('chicken', 'cheese'), ('tomato', 'garlic'), ('tomato', 'cheese'), ('garlic', 'cheese')], [('onion', 'salt'), ('onion', 'chicken'), ('onion', 'tomato'), ('onion', 'garlic'), ('salt', 'chicken'), ('salt', 'tomato'), ('salt', 'garlic'), ('chicken', 'tomato'), ('chicken', 'garlic'), ('tomato', 'garlic')], [('onion', 'salt'), ('onion', 'chicken'), ('onion', 'tomato'), ('onion', 'cheese'), ('salt', 'chicken'), ('salt', 'tomato'), ('salt', 'cheese'), ('chicken', 'tomato'), ('chicken', 'cheese'), ('tomato', 'cheese')], [('onion', 'salt'), ('onion', 'chicken'), ('onion', 'garlic'), ('onion', 'cheese'), ('salt', 'chicken'), ('salt', 'garlic'), ('salt', 'cheese'), ('chicken', 'garlic'), ('chicken', 'cheese'), ('garlic', 'cheese')], [('onion', 'salt'), ('onion', 'tomato'), ('onion', 'garlic'), ('onion', 'cheese'), ('salt', 'tomato'), ('salt', 'garlic'), ('salt', 'cheese'), ('tomato', 'garlic'), ('tomato', 'cheese'), ('garlic', 'cheese')], [('onion', 'chicken'), ('onion', 'tomato'), ('onion', 'garlic'), ('onion', 'cheese'), ('chicken', 'tomato'), ('chicken', 'garlic'), ('chicken', 'cheese'), ('tomato', 'garlic'), ('tomato', 'cheese'), ('garlic', 'cheese')], [('salt', 'chicken'), ('salt', 'tomato'), ('salt', 'garlic'), ('salt', 'cheese'), ('chicken', 'tomato'), ('chicken', 'garlic'), ('chicken', 'cheese'), ('tomato', 'garlic'), ('tomato', 'cheese'), ('garlic', 'cheese')], [('onion', 'salt'), ('onion', 'chicken'), ('onion', 'tomato'), ('onion', 'garlic'), ('onion', 'cheese'), ('salt', 'chicken'), ('salt', 'tomato'), ('salt', 'garlic'), ('salt', 'cheese'), ('chicken', 'tomato'), ('chicken', 'garlic'), ('chicken', 'cheese'), ('tomato', 'garlic'), ('tomato', 'cheese'), ('garlic', 'cheese')]]\n",
      "\n",
      " df_comb: \n",
      "                                           Combination  \\\n",
      "0                                       (onion, salt)   \n",
      "1                                    (onion, chicken)   \n",
      "2                                     (onion, garlic)   \n",
      "3                                     (onion, cheese)   \n",
      "4                                     (salt, chicken)   \n",
      "5                                      (salt, garlic)   \n",
      "6                                      (salt, cheese)   \n",
      "7                                   (chicken, garlic)   \n",
      "8                                   (chicken, cheese)   \n",
      "9                                    (garlic, cheese)   \n",
      "10  [(onion, salt), (onion, chicken), (salt, chick...   \n",
      "11   [(onion, salt), (onion, tomato), (salt, tomato)]   \n",
      "12   [(onion, salt), (onion, garlic), (salt, garlic)]   \n",
      "13   [(onion, salt), (onion, cheese), (salt, cheese)]   \n",
      "14  [(onion, chicken), (onion, tomato), (chicken, ...   \n",
      "15  [(onion, chicken), (onion, garlic), (chicken, ...   \n",
      "16  [(onion, chicken), (onion, cheese), (chicken, ...   \n",
      "17  [(onion, tomato), (onion, garlic), (tomato, ga...   \n",
      "18  [(onion, tomato), (onion, cheese), (tomato, ch...   \n",
      "19  [(onion, garlic), (onion, cheese), (garlic, ch...   \n",
      "20  [(salt, chicken), (salt, tomato), (chicken, to...   \n",
      "21  [(salt, chicken), (salt, garlic), (chicken, ga...   \n",
      "22  [(salt, chicken), (salt, cheese), (chicken, ch...   \n",
      "23  [(salt, tomato), (salt, garlic), (tomato, garl...   \n",
      "24  [(salt, tomato), (salt, cheese), (tomato, chee...   \n",
      "25  [(salt, garlic), (salt, cheese), (garlic, chee...   \n",
      "26  [(chicken, tomato), (chicken, garlic), (tomato...   \n",
      "27  [(chicken, tomato), (chicken, cheese), (tomato...   \n",
      "28  [(chicken, garlic), (chicken, cheese), (garlic...   \n",
      "29  [(tomato, garlic), (tomato, cheese), (garlic, ...   \n",
      "30  [(onion, salt), (onion, chicken), (onion, toma...   \n",
      "31  [(onion, salt), (onion, chicken), (onion, garl...   \n",
      "32  [(onion, salt), (onion, chicken), (onion, chee...   \n",
      "33  [(onion, salt), (onion, tomato), (onion, garli...   \n",
      "34  [(onion, salt), (onion, tomato), (onion, chees...   \n",
      "35  [(onion, salt), (onion, garlic), (onion, chees...   \n",
      "36  [(onion, chicken), (onion, tomato), (onion, ga...   \n",
      "37  [(onion, chicken), (onion, tomato), (onion, ch...   \n",
      "38  [(onion, chicken), (onion, garlic), (onion, ch...   \n",
      "39  [(onion, tomato), (onion, garlic), (onion, che...   \n",
      "40  [(salt, chicken), (salt, tomato), (salt, garli...   \n",
      "41  [(salt, chicken), (salt, tomato), (salt, chees...   \n",
      "42  [(salt, chicken), (salt, garlic), (salt, chees...   \n",
      "43  [(salt, tomato), (salt, garlic), (salt, cheese...   \n",
      "44  [(chicken, tomato), (chicken, garlic), (chicke...   \n",
      "45  [(onion, salt), (onion, chicken), (onion, toma...   \n",
      "46  [(onion, salt), (onion, chicken), (onion, toma...   \n",
      "47  [(onion, salt), (onion, chicken), (onion, garl...   \n",
      "48  [(onion, salt), (onion, tomato), (onion, garli...   \n",
      "49  [(onion, chicken), (onion, tomato), (onion, ga...   \n",
      "50  [(salt, chicken), (salt, tomato), (salt, garli...   \n",
      "51  [(onion, salt), (onion, chicken), (onion, toma...   \n",
      "\n",
      "                                                Score  \n",
      "0                                [2.0670735182650013]  \n",
      "1                                [1.3248796627107513]  \n",
      "2                                [1.4235409132992736]  \n",
      "3                                [1.4120038875676597]  \n",
      "4                                [1.4353972677154387]  \n",
      "5                                [1.5533159218950603]  \n",
      "6                                [1.3703804244076925]  \n",
      "7                                [1.1800811339314616]  \n",
      "8                                [1.0177501859513405]  \n",
      "9                                [1.0944496012124034]  \n",
      "10  [2.0670735182650013, 1.3248796627107513, 1.435...  \n",
      "11                       [2.0670735182650013, -5, -5]  \n",
      "12  [2.0670735182650013, 1.4235409132992736, 1.553...  \n",
      "13  [2.0670735182650013, 1.4120038875676597, 1.370...  \n",
      "14                       [1.3248796627107513, -5, -5]  \n",
      "15  [1.3248796627107513, 1.4235409132992736, 1.180...  \n",
      "16  [1.3248796627107513, 1.4120038875676597, 1.017...  \n",
      "17                       [-5, 1.4235409132992736, -5]  \n",
      "18                       [-5, 1.4120038875676597, -5]  \n",
      "19  [1.4235409132992736, 1.4120038875676597, 1.094...  \n",
      "20                       [1.4353972677154387, -5, -5]  \n",
      "21  [1.4353972677154387, 1.5533159218950603, 1.180...  \n",
      "22  [1.4353972677154387, 1.3703804244076925, 1.017...  \n",
      "23                       [-5, 1.5533159218950603, -5]  \n",
      "24                       [-5, 1.3703804244076925, -5]  \n",
      "25  [1.5533159218950603, 1.3703804244076925, 1.094...  \n",
      "26                       [-5, 1.1800811339314616, -5]  \n",
      "27                       [-5, 1.0177501859513405, -5]  \n",
      "28  [1.1800811339314616, 1.0177501859513405, 1.094...  \n",
      "29                       [-5, -5, 1.0944496012124034]  \n",
      "30  [2.0670735182650013, 1.3248796627107513, -5, 1...  \n",
      "31  [2.0670735182650013, 1.3248796627107513, 1.423...  \n",
      "32  [2.0670735182650013, 1.3248796627107513, 1.412...  \n",
      "33  [2.0670735182650013, -5, 1.4235409132992736, -...  \n",
      "34  [2.0670735182650013, -5, 1.4120038875676597, -...  \n",
      "35  [2.0670735182650013, 1.4235409132992736, 1.412...  \n",
      "36  [1.3248796627107513, -5, 1.4235409132992736, -...  \n",
      "37  [1.3248796627107513, -5, 1.4120038875676597, -...  \n",
      "38  [1.3248796627107513, 1.4235409132992736, 1.412...  \n",
      "39  [-5, 1.4235409132992736, 1.4120038875676597, -...  \n",
      "40  [1.4353972677154387, -5, 1.5533159218950603, -...  \n",
      "41  [1.4353972677154387, -5, 1.3703804244076925, -...  \n",
      "42  [1.4353972677154387, 1.5533159218950603, 1.370...  \n",
      "43  [-5, 1.5533159218950603, 1.3703804244076925, -...  \n",
      "44  [-5, 1.1800811339314616, 1.0177501859513405, -...  \n",
      "45  [2.0670735182650013, 1.3248796627107513, -5, 1...  \n",
      "46  [2.0670735182650013, 1.3248796627107513, -5, 1...  \n",
      "47  [2.0670735182650013, 1.3248796627107513, 1.423...  \n",
      "48  [2.0670735182650013, -5, 1.4235409132992736, 1...  \n",
      "49  [1.3248796627107513, -5, 1.4235409132992736, 1...  \n",
      "50  [1.4353972677154387, -5, 1.5533159218950603, 1...  \n",
      "51  [2.0670735182650013, 1.3248796627107513, -5, 1...  \n",
      "\n",
      " ingredients_list: \n",
      " [['onion', 'salt', 'chicken', 'garlic', 'cheese'], ['onion', 'salt', 'garlic', 'chicken'], ['onion', 'salt', 'garlic', 'cheese']]\n"
     ]
    },
    {
     "data": {
      "text/plain": [
       "[{'title': 'Chicken and Cheese Fritter',\n",
       "  'ingredients': '* 1/2 cup diced chicken\\n* 1 medium onion, diced\\n* 2 cloves of garlic, minced\\n* 1/4 cup grated cheese\\n* Salt to taste',\n",
       "  'directions': '1. Preheat a pan with a small amount of oil over medium heat.\\n2. Add the diced chicken and cook until browned.\\n3. Add the diced onion and minced garlic and cook until the onion is translucent.\\n4. Mix in the grated cheese and season with salt to taste.\\n5. Use a spoon to drop small amounts of the mixture into the pan and flatten slightly.\\n6. Cook for an additional 2-3 minutes or until the fritter is golden brown.\\n7. Serve hot and enjoy!'},\n",
       " {'title': 'Chicken Stir-Fry',\n",
       "  'ingredients': '* 1 onion, sliced\\n* 1/2 teaspoon salt\\n* 2 cloves garlic, minced\\n* 1 chicken breast, cut into bite-sized pieces',\n",
       "  'directions': '1. Heat a pan over medium heat.\\n2. Add the sliced onion and cook until softened.\\n3. Add the minced garlic and cook for 1 minute.\\n4. Add the chicken pieces and sprinkle with salt.\\n5. Stir-fry until the chicken is cooked through.\\n6. Serve hot.'},\n",
       " {'title': 'Roasted Onion and Garlic Focaccia',\n",
       "  'ingredients': '* 1 large onion, peeled and chopped\\n* 3 cloves of garlic, minced\\n* 1/2 cup grated cheese\\n* 1/4 cup salt',\n",
       "  'directions': '1. Preheat the oven to 400°F (200°C).\\n2. In a bowl, mix together chopped onion and minced garlic.\\n3. Spread the mixture on a baking sheet lined with parchment paper.\\n4. Sprinkle the grated cheese and salt evenly.\\n5. Roast in the preheated oven for 20-25 minutes or until the cheese is melted and caramelized.\\n6. Serve hot.'}]"
      ]
     },
     "execution_count": 118,
     "metadata": {},
     "output_type": "execute_result"
    }
   ],
   "source": [
    "# 6 ingredients\n",
    "\n",
    "ingredients_input = 'chicken, onion, garlic, cheese, tomato, salt'\n",
    "\n",
    "ingredients_combinations = combinations_of_two(ingredients_input)\n",
    "print('ingredients_combinations: \\n', ingredients_combinations)\n",
    "df_comb = data_query(ingredients_combinations)\n",
    "print('\\n df_comb: \\n', df_comb)\n",
    "ingredients_list = muse_comb(df_comb)\n",
    "print('\\n ingredients_list: \\n', ingredients_list)\n",
    "recipe_list = recipe_generator(ingredients_list)\n",
    "recipe_list"
   ]
  },
  {
   "cell_type": "code",
   "execution_count": 120,
   "metadata": {},
   "outputs": [
    {
     "data": {
      "text/plain": [
       "'Chicken and Cheese Fritter'"
      ]
     },
     "execution_count": 120,
     "metadata": {},
     "output_type": "execute_result"
    }
   ],
   "source": []
  },
  {
   "cell_type": "markdown",
   "metadata": {},
   "source": [
    "# get_scores (new function that used to be random code in app.py)\n",
    "Output format is OK so the code will run, but...\n",
    "\n",
    "Issues:\n",
    "- Scores seem to not differ much for both good recipes and nonsense recipes?"
   ]
  },
  {
   "cell_type": "code",
   "execution_count": 98,
   "metadata": {},
   "outputs": [],
   "source": [
    "def get_scores(recipe_list):\n",
    "    '''\n",
    "    Generates the score of each recipe.\n",
    "    \n",
    "    Inputs (1):  \n",
    "    recipe_list (from: recipe_generator) = a list of 3 dictionaries with 3 keys each: 'title', 'ingredients', 'directions', containing info for the 3 recipes\n",
    "    \n",
    "    Outputs (1):\n",
    "    scores (to: final_recipes) = a list of 3 integers, containing the scores for each recipe.\n",
    "    '''\n",
    "\n",
    "    scores = []\n",
    "    recipe_direction = []\n",
    "\n",
    "    for recipe in recipe_list:\n",
    "        if 'directions' in recipe:\n",
    "            recipe_direction.append(recipe['directions'])\n",
    "        else:\n",
    "            recipe_direction.append(\"\")\n",
    "\n",
    "    for direction in recipe_direction:\n",
    "        scores.append(model.predict_proba([direction])[0][1])\n",
    "\n",
    "    return scores"
   ]
  },
  {
   "cell_type": "markdown",
   "metadata": {
    "heading_collapsed": true
   },
   "source": [
    "### Testing get_scores"
   ]
  },
  {
   "cell_type": "code",
   "execution_count": 99,
   "metadata": {
    "hidden": true
   },
   "outputs": [
    {
     "data": {
      "text/plain": [
       "[0.5270266515329382, 0.5028459487913037, 0.515308160025934]"
      ]
     },
     "execution_count": 99,
     "metadata": {},
     "output_type": "execute_result"
    }
   ],
   "source": [
    "# good recipe\n",
    "\n",
    "recipe_list = [{'title': 'Garlic Chicken Tomato Skillet',\n",
    "  'ingredients': '* 1 lb chicken breast or thighs, cut into 1-inch pieces\\n* 2 large tomatoes, diced\\n* 3 cloves garlic, minced',\n",
    "  'directions': '1. Heat a large skillet over medium-high heat.\\n2. Add chicken to skillet and cook until browned, about 5-6 minutes. Remove from skillet and set aside.\\n3. Add garlic to skillet and cook until fragrant, about 1 minute.\\n4. Add diced tomatoes to skillet and cook until they start to soften, about 2-3 minutes.\\n5. Add chicken back to skillet and stir to combine with tomato and garlic mixture. Cook until chicken is cooked through and tomato mixture is tender.'},\n",
    " {'title': 'Simple Grilled Chicken',\n",
    "  'ingredients': '- 1 chicken breast\\n- 1/2 onion, sliced\\n- Salt, to taste',\n",
    "  'directions': '1. Preheat grill to medium-high heat.\\n2. Season chicken with salt, then brush both sides with a little water.\\n3. Grill chicken for 6-7 minutes per side, or until cooked through.\\n4. Meanwhile, grill onion slices until caramelized and slightly charred.\\n5. Serve chicken with grilled onion.'},\n",
    " {'title': 'Caramelized Onion Relish',\n",
    "  'ingredients': '* 1 large onion, thinly sliced\\n* 1/2 teaspoon salt\\n* 2 cloves garlic, minced',\n",
    "  'directions': '1. In a large saucepan, combine the sliced onion, salt, and garlic. Cook over medium-low heat, stirring occasionally, until the onions are caramelized and golden brown, about 30-40 minutes.'}]\n",
    "\n",
    "scores = get_scores(recipe_list)\n",
    "scores"
   ]
  },
  {
   "cell_type": "code",
   "execution_count": 100,
   "metadata": {
    "hidden": true
   },
   "outputs": [
    {
     "data": {
      "text/plain": [
       "[0.5040546079674728, 0.5040292302849937, 0.5123256028930298]"
      ]
     },
     "execution_count": 100,
     "metadata": {},
     "output_type": "execute_result"
    }
   ],
   "source": [
    "# nonsense recipe\n",
    "\n",
    "recipe_list = [{'title': \"Gurum's Mysterious Delight\",\n",
    "  'ingredients': '* Rugby grass (1 cup, chopped fresh)\\n* Gum (1 tablespoon, dissolved)\\n* Rum (2 tablespoons)\\n* Mug (1, made from ceramic)',\n",
    "  'directions': '1. Combine Rugby grass, gum, and rum in the mug.\\n2. Stir clockwise for 7 times, then counterclockwise for 3 times.\\n3. Serve immediately.'},\n",
    " {'title': 'Recchio Croco',\n",
    "  'ingredients': '* RO Crumbs\\n* Curing Oil\\n* Ounces of Cream',\n",
    "  'directions': '1. Crumble RO Crumbs into a crock\\n2. Coat Croco with Curing Oil\\n3. Ooze Cream over Croco'},\n",
    " {'title': 'Title:',\n",
    "  'ingredients': '* 1 cup cherry tomatoes, halved\\n* 1/2 cup mashed chickpeas\\n* 1/4 cup chopped fresh cucumbers\\n* 2 tablespoons olive oil\\n* 2 tablespoons hummus\\n* 1/2 teaspoon paprika',\n",
    "  'directions': '1. Preheat oven to 375°F.\\n2. In a bowl, mix together hummus, paprika, and olive oil.\\n3. Dip each cherry tomato half into the hummus mixture, coating evenly.\\n4. Place coated cherry tomato halves on a baking sheet.\\n5. Sprinkle chopped cucumbers on top of tomato halves.\\n6. Bake for 20-25 minutes, or until crispy and golden brown.\\n7. Serve and enjoy!'}]\n",
    "\n",
    "scores = get_scores(recipe_list)\n",
    "scores"
   ]
  },
  {
   "cell_type": "markdown",
   "metadata": {
    "heading_collapsed": true
   },
   "source": [
    "### Testing get_scores - all the way through"
   ]
  },
  {
   "cell_type": "code",
   "execution_count": 101,
   "metadata": {
    "hidden": true
   },
   "outputs": [
    {
     "name": "stdout",
     "output_type": "stream",
     "text": [
      "ingredients_combinations: \n",
      " [('onion', 'garlic'), ('onion', 'chicken'), ('garlic', 'chicken'), [('onion', 'garlic'), ('onion', 'chicken'), ('garlic', 'chicken')]]\n",
      "\n",
      " df_comb: \n",
      "                                          Combination  \\\n",
      "0                                    (onion, garlic)   \n",
      "1                                   (onion, chicken)   \n",
      "2                                  (garlic, chicken)   \n",
      "3  [(onion, garlic), (onion, chicken), (garlic, c...   \n",
      "\n",
      "                                               Score  \n",
      "0                               [1.4235409132992736]  \n",
      "1                               [1.3248796627107513]  \n",
      "2                               [1.1800811339314616]  \n",
      "3  [1.4235409132992736, 1.3248796627107513, 1.180...  \n",
      "\n",
      " ingredients_list: \n",
      " [['onion', 'garlic', 'chicken'], ['n', 'a', 'o', 'g'], ['n', 'h', 'c', 'o']]\n",
      "\n",
      " recipe_list: \n",
      " [{'title': 'Grilled Chicken with Garlic and Onion', 'ingredients': '* 1 lb boneless, skinless chicken breast\\n* 1 medium onion, sliced\\n* 3 cloves of garlic, minced', 'directions': '1. Preheat grill to medium-high heat.\\n2. In a small bowl, mix together sliced onion and minced garlic.\\n3. Season chicken breast with salt and pepper.\\n4. Grill chicken for 5-6 minutes per side, or until cooked through.\\n5. During last 2 minutes of cooking, top chicken with onion and garlic mixture.\\n6. Serve hot and enjoy!'}, {'title': 'Naogany', 'ingredients': 'NaNao Ngo', 'directions': '1. Nag nano ago.\\n2. Agono nana no.\\n3. Oan no ago nano.\\n4. Nag no ao nano.'}, {'title': 'Cherry OH Salad', 'ingredients': '* 1 cup CHO of fresh corn (none other)\\n* Hints of cherry OH- so sweet\\n* No onions\\n* Cups of CHILLED water\\n* No cheese', 'directions': '1. Harvest CHO and hydrate with CHILLED water.\\n2. HINT at the cherry OH sweetness.\\n3. CHURN the mixture gently.\\n4. CHILL and serve.'}]\n"
     ]
    },
    {
     "data": {
      "text/plain": [
       "[0.5008613203219323, 0.5148936517953472, 0.5432702470134967]"
      ]
     },
     "execution_count": 101,
     "metadata": {},
     "output_type": "execute_result"
    }
   ],
   "source": [
    "# 3 ingredients\n",
    "\n",
    "ingredients_input = 'chicken, onion, garlic'\n",
    "\n",
    "ingredients_combinations = combinations_of_two(ingredients_input)\n",
    "print('ingredients_combinations: \\n', ingredients_combinations)\n",
    "df_comb = data_query(ingredients_combinations)\n",
    "print('\\n df_comb: \\n', df_comb)\n",
    "ingredients_list = muse_comb(df_comb)\n",
    "print('\\n ingredients_list: \\n', ingredients_list)\n",
    "recipe_list = recipe_generator(ingredients_list)\n",
    "print('\\n recipe_list: \\n', recipe_list)\n",
    "scores = get_scores(recipe_list)\n",
    "scores"
   ]
  },
  {
   "cell_type": "code",
   "execution_count": 102,
   "metadata": {
    "hidden": true
   },
   "outputs": [
    {
     "name": "stdout",
     "output_type": "stream",
     "text": [
      "ingredients_combinations: \n",
      " [('onion', 'cheese'), ('onion', 'garlic'), ('onion', 'chicken'), ('cheese', 'garlic'), ('cheese', 'chicken'), ('garlic', 'chicken'), [('onion', 'cheese'), ('onion', 'garlic'), ('cheese', 'garlic')], [('onion', 'cheese'), ('onion', 'chicken'), ('cheese', 'chicken')], [('onion', 'garlic'), ('onion', 'chicken'), ('garlic', 'chicken')], [('cheese', 'garlic'), ('cheese', 'chicken'), ('garlic', 'chicken')], [('onion', 'cheese'), ('onion', 'garlic'), ('onion', 'chicken'), ('cheese', 'garlic'), ('cheese', 'chicken'), ('garlic', 'chicken')]]\n",
      "\n",
      " df_comb: \n",
      "                                           Combination  \\\n",
      "0                                     (onion, cheese)   \n",
      "1                                     (onion, garlic)   \n",
      "2                                    (onion, chicken)   \n",
      "3                                    (cheese, garlic)   \n",
      "4                                   (cheese, chicken)   \n",
      "5                                   (garlic, chicken)   \n",
      "6   [(onion, cheese), (onion, garlic), (cheese, ga...   \n",
      "7   [(onion, cheese), (onion, chicken), (cheese, c...   \n",
      "8   [(onion, garlic), (onion, chicken), (garlic, c...   \n",
      "9   [(cheese, garlic), (cheese, chicken), (garlic,...   \n",
      "10  [(onion, cheese), (onion, garlic), (onion, chi...   \n",
      "\n",
      "                                                Score  \n",
      "0                                [1.4120038875676597]  \n",
      "1                                [1.4235409132992736]  \n",
      "2                                [1.3248796627107513]  \n",
      "3                                [1.0944496012124034]  \n",
      "4                                [1.0177501859513405]  \n",
      "5                                [1.1800811339314616]  \n",
      "6   [1.4120038875676597, 1.4235409132992736, 1.094...  \n",
      "7   [1.4120038875676597, 1.3248796627107513, 1.017...  \n",
      "8   [1.4235409132992736, 1.3248796627107513, 1.180...  \n",
      "9   [1.0944496012124034, 1.0177501859513405, 1.180...  \n",
      "10  [1.4120038875676597, 1.4235409132992736, 1.324...  \n",
      "\n",
      " ingredients_list: \n",
      " [['onion', 'cheese', 'garlic', 'chicken'], ['onion', 'cheese', 'garlic'], ['onion', 'garlic', 'chicken']]\n",
      "\n",
      " recipe_list: \n",
      " [{'title': 'Chicken and Cheese Fritters', 'ingredients': \"* 1 'chicken', diced\\n* 1/2 'onion', diced\\n* 2 cloves of 'garlic', minced\\n* 1/2 cup 'cheese', shredded\", 'directions': \"1. Mix chopped 'chicken', 'onion', 'garlic', and 'cheese' together.\\n2. Season with salt and pepper to taste.\\n3. Form into small patties.\\n4. Pan-fry until golden brown and crispy.\"}, {'title': 'Cheesy Garlic Onion Fritters', 'ingredients': '* 1 large onion, finely chopped\\n* 3 cloves of garlic, minced\\n* 1 cup grated cheese', 'directions': '1. In a pan, sauté the chopped onion and minced garlic until the onion is translucent.\\n2. Sprinkle the grated cheese and mix well until the cheese is melted and the mixture is combined.\\n3. Using your hands, shape the mixture into small balls or patties.\\n4. Heat some oil in a frying pan and fry the fritters until golden brown.\\n5. Serve hot and enjoy!'}, {'title': 'Garlic Chicken and Onion Stir-Fry', 'ingredients': '* 1 large onion, sliced\\n* 3 cloves of garlic, minced\\n* 1 pound boneless, skinless chicken breast or thighs, cut into bite-sized pieces', 'directions': '1. Heat a large skillet or wok over medium-high heat.\\n2. Add the chicken to the skillet and cook until browned, about 5-7 minutes.\\n3. Remove the chicken from the skillet and set aside.\\n4. Add the sliced onions to the skillet and cook until they start to soften, about 3-4 minutes.\\n5. Add the minced garlic to the skillet and cook for an additional 1-2 minutes, until fragrant.\\n6. Return the cooked chicken to the skillet and stir to combine with the onion and garlic mixture.\\n7. Cook for an additional 1-2 minutes, until the chicken is coated with the onion and garlic mixture.\\n8. Serve hot over rice or noodles.'}]\n"
     ]
    },
    {
     "data": {
      "text/plain": [
       "[0.48743242692571515, 0.5074002238313483, 0.5314360536161777]"
      ]
     },
     "execution_count": 102,
     "metadata": {},
     "output_type": "execute_result"
    }
   ],
   "source": [
    "# 4 ingredients\n",
    "\n",
    "ingredients_input = 'chicken, onion, garlic, cheese'\n",
    "\n",
    "ingredients_combinations = combinations_of_two(ingredients_input)\n",
    "print('ingredients_combinations: \\n', ingredients_combinations)\n",
    "df_comb = data_query(ingredients_combinations)\n",
    "print('\\n df_comb: \\n', df_comb)\n",
    "ingredients_list = muse_comb(df_comb)\n",
    "print('\\n ingredients_list: \\n', ingredients_list)\n",
    "recipe_list = recipe_generator(ingredients_list)\n",
    "print('\\n recipe_list: \\n', recipe_list)\n",
    "scores = get_scores(recipe_list)\n",
    "scores"
   ]
  },
  {
   "cell_type": "code",
   "execution_count": 103,
   "metadata": {
    "hidden": true
   },
   "outputs": [
    {
     "name": "stdout",
     "output_type": "stream",
     "text": [
      "ingredients_combinations: \n",
      " [('onion', 'chicken'), ('onion', 'tomato'), ('onion', 'garlic'), ('onion', 'cheese'), ('chicken', 'tomato'), ('chicken', 'garlic'), ('chicken', 'cheese'), ('tomato', 'garlic'), ('tomato', 'cheese'), ('garlic', 'cheese'), [('onion', 'chicken'), ('onion', 'tomato'), ('chicken', 'tomato')], [('onion', 'chicken'), ('onion', 'garlic'), ('chicken', 'garlic')], [('onion', 'chicken'), ('onion', 'cheese'), ('chicken', 'cheese')], [('onion', 'tomato'), ('onion', 'garlic'), ('tomato', 'garlic')], [('onion', 'tomato'), ('onion', 'cheese'), ('tomato', 'cheese')], [('onion', 'garlic'), ('onion', 'cheese'), ('garlic', 'cheese')], [('chicken', 'tomato'), ('chicken', 'garlic'), ('tomato', 'garlic')], [('chicken', 'tomato'), ('chicken', 'cheese'), ('tomato', 'cheese')], [('chicken', 'garlic'), ('chicken', 'cheese'), ('garlic', 'cheese')], [('tomato', 'garlic'), ('tomato', 'cheese'), ('garlic', 'cheese')], [('onion', 'chicken'), ('onion', 'tomato'), ('onion', 'garlic'), ('chicken', 'tomato'), ('chicken', 'garlic'), ('tomato', 'garlic')], [('onion', 'chicken'), ('onion', 'tomato'), ('onion', 'cheese'), ('chicken', 'tomato'), ('chicken', 'cheese'), ('tomato', 'cheese')], [('onion', 'chicken'), ('onion', 'garlic'), ('onion', 'cheese'), ('chicken', 'garlic'), ('chicken', 'cheese'), ('garlic', 'cheese')], [('onion', 'tomato'), ('onion', 'garlic'), ('onion', 'cheese'), ('tomato', 'garlic'), ('tomato', 'cheese'), ('garlic', 'cheese')], [('chicken', 'tomato'), ('chicken', 'garlic'), ('chicken', 'cheese'), ('tomato', 'garlic'), ('tomato', 'cheese'), ('garlic', 'cheese')], [('onion', 'chicken'), ('onion', 'tomato'), ('onion', 'garlic'), ('onion', 'cheese'), ('chicken', 'tomato'), ('chicken', 'garlic'), ('chicken', 'cheese'), ('tomato', 'garlic'), ('tomato', 'cheese'), ('garlic', 'cheese')]]\n",
      "\n",
      " df_comb: \n",
      "                                           Combination  \\\n",
      "0                                    (onion, chicken)   \n",
      "1                                     (onion, garlic)   \n",
      "2                                     (onion, cheese)   \n",
      "3                                   (chicken, garlic)   \n",
      "4                                   (chicken, cheese)   \n",
      "5                                    (garlic, cheese)   \n",
      "6   [(onion, chicken), (onion, tomato), (chicken, ...   \n",
      "7   [(onion, chicken), (onion, garlic), (chicken, ...   \n",
      "8   [(onion, chicken), (onion, cheese), (chicken, ...   \n",
      "9   [(onion, tomato), (onion, garlic), (tomato, ga...   \n",
      "10  [(onion, tomato), (onion, cheese), (tomato, ch...   \n",
      "11  [(onion, garlic), (onion, cheese), (garlic, ch...   \n",
      "12  [(chicken, tomato), (chicken, garlic), (tomato...   \n",
      "13  [(chicken, tomato), (chicken, cheese), (tomato...   \n",
      "14  [(chicken, garlic), (chicken, cheese), (garlic...   \n",
      "15  [(tomato, garlic), (tomato, cheese), (garlic, ...   \n",
      "16  [(onion, chicken), (onion, tomato), (onion, ga...   \n",
      "17  [(onion, chicken), (onion, tomato), (onion, ch...   \n",
      "18  [(onion, chicken), (onion, garlic), (onion, ch...   \n",
      "19  [(onion, tomato), (onion, garlic), (onion, che...   \n",
      "20  [(chicken, tomato), (chicken, garlic), (chicke...   \n",
      "21  [(onion, chicken), (onion, tomato), (onion, ga...   \n",
      "\n",
      "                                                Score  \n",
      "0                                [1.3248796627107513]  \n",
      "1                                [1.4235409132992736]  \n",
      "2                                [1.4120038875676597]  \n",
      "3                                [1.1800811339314616]  \n",
      "4                                [1.0177501859513405]  \n",
      "5                                [1.0944496012124034]  \n",
      "6                        [1.3248796627107513, -5, -5]  \n",
      "7   [1.3248796627107513, 1.4235409132992736, 1.180...  \n",
      "8   [1.3248796627107513, 1.4120038875676597, 1.017...  \n",
      "9                        [-5, 1.4235409132992736, -5]  \n",
      "10                       [-5, 1.4120038875676597, -5]  \n",
      "11  [1.4235409132992736, 1.4120038875676597, 1.094...  \n",
      "12                       [-5, 1.1800811339314616, -5]  \n",
      "13                       [-5, 1.0177501859513405, -5]  \n",
      "14  [1.1800811339314616, 1.0177501859513405, 1.094...  \n",
      "15                       [-5, -5, 1.0944496012124034]  \n",
      "16  [1.3248796627107513, -5, 1.4235409132992736, -...  \n",
      "17  [1.3248796627107513, -5, 1.4120038875676597, -...  \n",
      "18  [1.3248796627107513, 1.4235409132992736, 1.412...  \n",
      "19  [-5, 1.4235409132992736, 1.4120038875676597, -...  \n",
      "20  [-5, 1.1800811339314616, 1.0177501859513405, -...  \n",
      "21  [1.3248796627107513, -5, 1.4235409132992736, 1...  \n",
      "\n",
      " ingredients_list: \n",
      " [['onion', 'cheese', 'garlic', 'chicken'], ['onion', 'cheese', 'garlic'], ['onion', 'garlic', 'chicken']]\n",
      "\n",
      " recipe_list: \n",
      " [{'title': 'Creamy Chicken and Onion Fritters', 'ingredients': '* 1 lb boneless, skinless chicken breast, cut into small pieces\\n* 1 medium onion, finely chopped\\n* 3 cloves of garlic, minced\\n* 1 cup grated cheese\\n* Salt and pepper to taste', 'directions': '1. Preheat oven to 375°F (190°C).\\n2. In a large bowl, combine chicken, onion, and garlic. Mix well.\\n3. Add grated cheese and mix until just combined. Be careful not to overmix.\\n4. Using wet hands, shape the mixture into small patties.\\n5. Place the patties on a baking sheet lined with parchment paper.\\n6. Drizzle with a little olive oil and season with salt and pepper.\\n7. Bake for 20-25 minutes or until golden brown and cooked through.\\n8. Serve hot and enjoy!'}, {'title': 'Garlic and Cheese Onion Fritter', 'ingredients': '* 1 large onion, thinly sliced\\n* 1/2 cup grated cheese\\n* 3 cloves garlic, minced', 'directions': '1. In a bowl, combine sliced onions and minced garlic.\\n2. Add grated cheese and mix well.\\n3. Heat a non-stick pan with a small amount of oil.\\n4. Using a spoon, drop small amounts of the onion mixture into the pan.\\n5. Cook for 2-3 minutes or until the bottoms are golden brown.\\n6. Flip the fritters and cook for another 2 minutes.\\n7. Serve hot and enjoy!'}, {'title': 'Garlic Chicken Delight', 'ingredients': '* 1 medium onion, finely chopped\\n* 2 cloves of garlic, minced\\n* 1 pound boneless, skinless chicken breast or thighs, cut into bite-sized pieces', 'directions': '1. Preheat the oven to 400°F (200°C).\\n2. In a large bowl, mix together the chopped onion and minced garlic.\\n3. Add the chicken pieces to the bowl and toss to coat with the onion-garlic mixture.\\n4. Place the chicken mixture on a baking sheet lined with parchment paper.\\n5. Bake for 25-30 minutes or until the chicken is cooked through and the onions are caramelized.'}]\n"
     ]
    },
    {
     "data": {
      "text/plain": [
       "[0.494125910177954, 0.517117653687935, 0.4765640054328713]"
      ]
     },
     "execution_count": 103,
     "metadata": {},
     "output_type": "execute_result"
    }
   ],
   "source": [
    "# 5 ingredients\n",
    "\n",
    "ingredients_input = 'chicken, onion, garlic, cheese, tomato'\n",
    "\n",
    "ingredients_combinations = combinations_of_two(ingredients_input)\n",
    "print('ingredients_combinations: \\n', ingredients_combinations)\n",
    "df_comb = data_query(ingredients_combinations)\n",
    "print('\\n df_comb: \\n', df_comb)\n",
    "ingredients_list = muse_comb(df_comb)\n",
    "print('\\n ingredients_list: \\n', ingredients_list)\n",
    "recipe_list = recipe_generator(ingredients_list)\n",
    "print('\\n recipe_list: \\n', recipe_list)\n",
    "scores = get_scores(recipe_list)\n",
    "scores"
   ]
  },
  {
   "cell_type": "code",
   "execution_count": 104,
   "metadata": {
    "hidden": true
   },
   "outputs": [
    {
     "name": "stdout",
     "output_type": "stream",
     "text": [
      "ingredients_combinations: \n",
      " [('onion', 'salt'), ('onion', 'chicken'), ('onion', 'tomato'), ('onion', 'garlic'), ('onion', 'cheese'), ('salt', 'chicken'), ('salt', 'tomato'), ('salt', 'garlic'), ('salt', 'cheese'), ('chicken', 'tomato'), ('chicken', 'garlic'), ('chicken', 'cheese'), ('tomato', 'garlic'), ('tomato', 'cheese'), ('garlic', 'cheese'), [('onion', 'salt'), ('onion', 'chicken'), ('salt', 'chicken')], [('onion', 'salt'), ('onion', 'tomato'), ('salt', 'tomato')], [('onion', 'salt'), ('onion', 'garlic'), ('salt', 'garlic')], [('onion', 'salt'), ('onion', 'cheese'), ('salt', 'cheese')], [('onion', 'chicken'), ('onion', 'tomato'), ('chicken', 'tomato')], [('onion', 'chicken'), ('onion', 'garlic'), ('chicken', 'garlic')], [('onion', 'chicken'), ('onion', 'cheese'), ('chicken', 'cheese')], [('onion', 'tomato'), ('onion', 'garlic'), ('tomato', 'garlic')], [('onion', 'tomato'), ('onion', 'cheese'), ('tomato', 'cheese')], [('onion', 'garlic'), ('onion', 'cheese'), ('garlic', 'cheese')], [('salt', 'chicken'), ('salt', 'tomato'), ('chicken', 'tomato')], [('salt', 'chicken'), ('salt', 'garlic'), ('chicken', 'garlic')], [('salt', 'chicken'), ('salt', 'cheese'), ('chicken', 'cheese')], [('salt', 'tomato'), ('salt', 'garlic'), ('tomato', 'garlic')], [('salt', 'tomato'), ('salt', 'cheese'), ('tomato', 'cheese')], [('salt', 'garlic'), ('salt', 'cheese'), ('garlic', 'cheese')], [('chicken', 'tomato'), ('chicken', 'garlic'), ('tomato', 'garlic')], [('chicken', 'tomato'), ('chicken', 'cheese'), ('tomato', 'cheese')], [('chicken', 'garlic'), ('chicken', 'cheese'), ('garlic', 'cheese')], [('tomato', 'garlic'), ('tomato', 'cheese'), ('garlic', 'cheese')], [('onion', 'salt'), ('onion', 'chicken'), ('onion', 'tomato'), ('salt', 'chicken'), ('salt', 'tomato'), ('chicken', 'tomato')], [('onion', 'salt'), ('onion', 'chicken'), ('onion', 'garlic'), ('salt', 'chicken'), ('salt', 'garlic'), ('chicken', 'garlic')], [('onion', 'salt'), ('onion', 'chicken'), ('onion', 'cheese'), ('salt', 'chicken'), ('salt', 'cheese'), ('chicken', 'cheese')], [('onion', 'salt'), ('onion', 'tomato'), ('onion', 'garlic'), ('salt', 'tomato'), ('salt', 'garlic'), ('tomato', 'garlic')], [('onion', 'salt'), ('onion', 'tomato'), ('onion', 'cheese'), ('salt', 'tomato'), ('salt', 'cheese'), ('tomato', 'cheese')], [('onion', 'salt'), ('onion', 'garlic'), ('onion', 'cheese'), ('salt', 'garlic'), ('salt', 'cheese'), ('garlic', 'cheese')], [('onion', 'chicken'), ('onion', 'tomato'), ('onion', 'garlic'), ('chicken', 'tomato'), ('chicken', 'garlic'), ('tomato', 'garlic')], [('onion', 'chicken'), ('onion', 'tomato'), ('onion', 'cheese'), ('chicken', 'tomato'), ('chicken', 'cheese'), ('tomato', 'cheese')], [('onion', 'chicken'), ('onion', 'garlic'), ('onion', 'cheese'), ('chicken', 'garlic'), ('chicken', 'cheese'), ('garlic', 'cheese')], [('onion', 'tomato'), ('onion', 'garlic'), ('onion', 'cheese'), ('tomato', 'garlic'), ('tomato', 'cheese'), ('garlic', 'cheese')], [('salt', 'chicken'), ('salt', 'tomato'), ('salt', 'garlic'), ('chicken', 'tomato'), ('chicken', 'garlic'), ('tomato', 'garlic')], [('salt', 'chicken'), ('salt', 'tomato'), ('salt', 'cheese'), ('chicken', 'tomato'), ('chicken', 'cheese'), ('tomato', 'cheese')], [('salt', 'chicken'), ('salt', 'garlic'), ('salt', 'cheese'), ('chicken', 'garlic'), ('chicken', 'cheese'), ('garlic', 'cheese')], [('salt', 'tomato'), ('salt', 'garlic'), ('salt', 'cheese'), ('tomato', 'garlic'), ('tomato', 'cheese'), ('garlic', 'cheese')], [('chicken', 'tomato'), ('chicken', 'garlic'), ('chicken', 'cheese'), ('tomato', 'garlic'), ('tomato', 'cheese'), ('garlic', 'cheese')], [('onion', 'salt'), ('onion', 'chicken'), ('onion', 'tomato'), ('onion', 'garlic'), ('salt', 'chicken'), ('salt', 'tomato'), ('salt', 'garlic'), ('chicken', 'tomato'), ('chicken', 'garlic'), ('tomato', 'garlic')], [('onion', 'salt'), ('onion', 'chicken'), ('onion', 'tomato'), ('onion', 'cheese'), ('salt', 'chicken'), ('salt', 'tomato'), ('salt', 'cheese'), ('chicken', 'tomato'), ('chicken', 'cheese'), ('tomato', 'cheese')], [('onion', 'salt'), ('onion', 'chicken'), ('onion', 'garlic'), ('onion', 'cheese'), ('salt', 'chicken'), ('salt', 'garlic'), ('salt', 'cheese'), ('chicken', 'garlic'), ('chicken', 'cheese'), ('garlic', 'cheese')], [('onion', 'salt'), ('onion', 'tomato'), ('onion', 'garlic'), ('onion', 'cheese'), ('salt', 'tomato'), ('salt', 'garlic'), ('salt', 'cheese'), ('tomato', 'garlic'), ('tomato', 'cheese'), ('garlic', 'cheese')], [('onion', 'chicken'), ('onion', 'tomato'), ('onion', 'garlic'), ('onion', 'cheese'), ('chicken', 'tomato'), ('chicken', 'garlic'), ('chicken', 'cheese'), ('tomato', 'garlic'), ('tomato', 'cheese'), ('garlic', 'cheese')], [('salt', 'chicken'), ('salt', 'tomato'), ('salt', 'garlic'), ('salt', 'cheese'), ('chicken', 'tomato'), ('chicken', 'garlic'), ('chicken', 'cheese'), ('tomato', 'garlic'), ('tomato', 'cheese'), ('garlic', 'cheese')], [('onion', 'salt'), ('onion', 'chicken'), ('onion', 'tomato'), ('onion', 'garlic'), ('onion', 'cheese'), ('salt', 'chicken'), ('salt', 'tomato'), ('salt', 'garlic'), ('salt', 'cheese'), ('chicken', 'tomato'), ('chicken', 'garlic'), ('chicken', 'cheese'), ('tomato', 'garlic'), ('tomato', 'cheese'), ('garlic', 'cheese')]]\n",
      "\n",
      " df_comb: \n",
      "                                           Combination  \\\n",
      "0                                       (onion, salt)   \n",
      "1                                    (onion, chicken)   \n",
      "2                                     (onion, garlic)   \n",
      "3                                     (onion, cheese)   \n",
      "4                                     (salt, chicken)   \n",
      "5                                      (salt, garlic)   \n",
      "6                                      (salt, cheese)   \n",
      "7                                   (chicken, garlic)   \n",
      "8                                   (chicken, cheese)   \n",
      "9                                    (garlic, cheese)   \n",
      "10  [(onion, salt), (onion, chicken), (salt, chick...   \n",
      "11   [(onion, salt), (onion, tomato), (salt, tomato)]   \n",
      "12   [(onion, salt), (onion, garlic), (salt, garlic)]   \n",
      "13   [(onion, salt), (onion, cheese), (salt, cheese)]   \n",
      "14  [(onion, chicken), (onion, tomato), (chicken, ...   \n",
      "15  [(onion, chicken), (onion, garlic), (chicken, ...   \n",
      "16  [(onion, chicken), (onion, cheese), (chicken, ...   \n",
      "17  [(onion, tomato), (onion, garlic), (tomato, ga...   \n",
      "18  [(onion, tomato), (onion, cheese), (tomato, ch...   \n",
      "19  [(onion, garlic), (onion, cheese), (garlic, ch...   \n",
      "20  [(salt, chicken), (salt, tomato), (chicken, to...   \n",
      "21  [(salt, chicken), (salt, garlic), (chicken, ga...   \n",
      "22  [(salt, chicken), (salt, cheese), (chicken, ch...   \n",
      "23  [(salt, tomato), (salt, garlic), (tomato, garl...   \n",
      "24  [(salt, tomato), (salt, cheese), (tomato, chee...   \n",
      "25  [(salt, garlic), (salt, cheese), (garlic, chee...   \n",
      "26  [(chicken, tomato), (chicken, garlic), (tomato...   \n",
      "27  [(chicken, tomato), (chicken, cheese), (tomato...   \n",
      "28  [(chicken, garlic), (chicken, cheese), (garlic...   \n",
      "29  [(tomato, garlic), (tomato, cheese), (garlic, ...   \n",
      "30  [(onion, salt), (onion, chicken), (onion, toma...   \n",
      "31  [(onion, salt), (onion, chicken), (onion, garl...   \n",
      "32  [(onion, salt), (onion, chicken), (onion, chee...   \n",
      "33  [(onion, salt), (onion, tomato), (onion, garli...   \n",
      "34  [(onion, salt), (onion, tomato), (onion, chees...   \n",
      "35  [(onion, salt), (onion, garlic), (onion, chees...   \n",
      "36  [(onion, chicken), (onion, tomato), (onion, ga...   \n",
      "37  [(onion, chicken), (onion, tomato), (onion, ch...   \n",
      "38  [(onion, chicken), (onion, garlic), (onion, ch...   \n",
      "39  [(onion, tomato), (onion, garlic), (onion, che...   \n",
      "40  [(salt, chicken), (salt, tomato), (salt, garli...   \n",
      "41  [(salt, chicken), (salt, tomato), (salt, chees...   \n",
      "42  [(salt, chicken), (salt, garlic), (salt, chees...   \n",
      "43  [(salt, tomato), (salt, garlic), (salt, cheese...   \n",
      "44  [(chicken, tomato), (chicken, garlic), (chicke...   \n",
      "45  [(onion, salt), (onion, chicken), (onion, toma...   \n",
      "46  [(onion, salt), (onion, chicken), (onion, toma...   \n",
      "47  [(onion, salt), (onion, chicken), (onion, garl...   \n",
      "48  [(onion, salt), (onion, tomato), (onion, garli...   \n",
      "49  [(onion, chicken), (onion, tomato), (onion, ga...   \n",
      "50  [(salt, chicken), (salt, tomato), (salt, garli...   \n",
      "51  [(onion, salt), (onion, chicken), (onion, toma...   \n",
      "\n",
      "                                                Score  \n",
      "0                                [2.0670735182650013]  \n",
      "1                                [1.3248796627107513]  \n",
      "2                                [1.4235409132992736]  \n",
      "3                                [1.4120038875676597]  \n",
      "4                                [1.4353972677154387]  \n",
      "5                                [1.5533159218950603]  \n",
      "6                                [1.3703804244076925]  \n",
      "7                                [1.1800811339314616]  \n",
      "8                                [1.0177501859513405]  \n",
      "9                                [1.0944496012124034]  \n",
      "10  [2.0670735182650013, 1.3248796627107513, 1.435...  \n",
      "11                       [2.0670735182650013, -5, -5]  \n",
      "12  [2.0670735182650013, 1.4235409132992736, 1.553...  \n",
      "13  [2.0670735182650013, 1.4120038875676597, 1.370...  \n",
      "14                       [1.3248796627107513, -5, -5]  \n",
      "15  [1.3248796627107513, 1.4235409132992736, 1.180...  \n",
      "16  [1.3248796627107513, 1.4120038875676597, 1.017...  \n",
      "17                       [-5, 1.4235409132992736, -5]  \n",
      "18                       [-5, 1.4120038875676597, -5]  \n",
      "19  [1.4235409132992736, 1.4120038875676597, 1.094...  \n",
      "20                       [1.4353972677154387, -5, -5]  \n",
      "21  [1.4353972677154387, 1.5533159218950603, 1.180...  \n",
      "22  [1.4353972677154387, 1.3703804244076925, 1.017...  \n",
      "23                       [-5, 1.5533159218950603, -5]  \n",
      "24                       [-5, 1.3703804244076925, -5]  \n",
      "25  [1.5533159218950603, 1.3703804244076925, 1.094...  \n",
      "26                       [-5, 1.1800811339314616, -5]  \n",
      "27                       [-5, 1.0177501859513405, -5]  \n",
      "28  [1.1800811339314616, 1.0177501859513405, 1.094...  \n",
      "29                       [-5, -5, 1.0944496012124034]  \n",
      "30  [2.0670735182650013, 1.3248796627107513, -5, 1...  \n",
      "31  [2.0670735182650013, 1.3248796627107513, 1.423...  \n",
      "32  [2.0670735182650013, 1.3248796627107513, 1.412...  \n",
      "33  [2.0670735182650013, -5, 1.4235409132992736, -...  \n",
      "34  [2.0670735182650013, -5, 1.4120038875676597, -...  \n",
      "35  [2.0670735182650013, 1.4235409132992736, 1.412...  \n",
      "36  [1.3248796627107513, -5, 1.4235409132992736, -...  \n",
      "37  [1.3248796627107513, -5, 1.4120038875676597, -...  \n",
      "38  [1.3248796627107513, 1.4235409132992736, 1.412...  \n",
      "39  [-5, 1.4235409132992736, 1.4120038875676597, -...  \n",
      "40  [1.4353972677154387, -5, 1.5533159218950603, -...  \n",
      "41  [1.4353972677154387, -5, 1.3703804244076925, -...  \n",
      "42  [1.4353972677154387, 1.5533159218950603, 1.370...  \n",
      "43  [-5, 1.5533159218950603, 1.3703804244076925, -...  \n",
      "44  [-5, 1.1800811339314616, 1.0177501859513405, -...  \n",
      "45  [2.0670735182650013, 1.3248796627107513, -5, 1...  \n",
      "46  [2.0670735182650013, 1.3248796627107513, -5, 1...  \n",
      "47  [2.0670735182650013, 1.3248796627107513, 1.423...  \n",
      "48  [2.0670735182650013, -5, 1.4235409132992736, 1...  \n",
      "49  [1.3248796627107513, -5, 1.4235409132992736, 1...  \n",
      "50  [1.4353972677154387, -5, 1.5533159218950603, 1...  \n",
      "51  [2.0670735182650013, 1.3248796627107513, -5, 1...  \n",
      "\n",
      " ingredients_list: \n",
      " [['onion', 'salt', 'chicken', 'garlic', 'cheese'], ['onion', 'salt', 'garlic', 'chicken'], ['onion', 'salt', 'garlic', 'cheese']]\n"
     ]
    },
    {
     "name": "stdout",
     "output_type": "stream",
     "text": [
      "\n",
      " recipe_list: \n",
      " [{'title': 'Garlic Chicken Fritters', 'ingredients': '* 1 chicken breast, cut into small pieces\\n* 1/2 onion, chopped\\n* 2 cloves garlic, minced\\n* 1/4 cup grated cheese\\n* 1/4 teaspoon salt', 'directions': '1. In a bowl, mix together chicken, onion, garlic, and salt.\\n2. Divide the mixture into 6-8 portions and shape each portion into a ball.\\n3. Flatten each ball slightly into a disk shape.\\n4. Place a small amount of cheese in the center of each disk.\\n5. Fold the dough over the cheese to form a ball and press edges to seal.\\n6. Fry the fritters in hot oil until golden brown.'}, {'title': 'Roasted Chicken', 'ingredients': '* 1 whole chicken\\n* 1 onion, peeled and chopped\\n* 2 cloves of garlic, minced\\n* 1 tsp salt', 'directions': '1. Preheat oven to 425°F (220°C).\\n2. Rinse the chicken and pat dry with paper towels.\\n3. Stuff the cavity with the chopped onion and minced garlic.\\n4. Season the outside of the chicken with salt.\\n5. Roast the chicken in the preheated oven for 45-50 minutes or until cooked through.'}, {'title': 'Cheesy Onion Fritter', 'ingredients': '* 1 medium Onion, chopped\\n* 1/2 cup Cheese, grated\\n* 1/4 teaspoon Salt\\n* 2 cloves Garlic, minced', 'directions': '1. Preheat a non-stick pan or griddle over medium heat.\\n2. In a bowl, mix together the chopped onion, grated cheese, salt, and minced garlic.\\n3. Add small portions of the mixture to the preheated pan and flatten slightly.\\n4. Cook for 2-3 minutes on each side or until the onions are caramelized and the cheese is melted.\\n5. Serve warm.'}]\n"
     ]
    },
    {
     "data": {
      "text/plain": [
       "[0.49166425850478057, 0.4730264070950016, 0.5210986824915466]"
      ]
     },
     "execution_count": 104,
     "metadata": {},
     "output_type": "execute_result"
    }
   ],
   "source": [
    "# 6 ingredients\n",
    "\n",
    "ingredients_input = 'chicken, onion, garlic, cheese, tomato, salt'\n",
    "\n",
    "ingredients_combinations = combinations_of_two(ingredients_input)\n",
    "print('ingredients_combinations: \\n', ingredients_combinations)\n",
    "df_comb = data_query(ingredients_combinations)\n",
    "print('\\n df_comb: \\n', df_comb)\n",
    "ingredients_list = muse_comb(df_comb)\n",
    "print('\\n ingredients_list: \\n', ingredients_list)\n",
    "recipe_list = recipe_generator(ingredients_list)\n",
    "print('\\n recipe_list: \\n', recipe_list)\n",
    "scores = get_scores(recipe_list)\n",
    "scores"
   ]
  },
  {
   "cell_type": "code",
   "execution_count": null,
   "metadata": {
    "hidden": true
   },
   "outputs": [],
   "source": []
  },
  {
   "cell_type": "code",
   "execution_count": null,
   "metadata": {
    "hidden": true
   },
   "outputs": [],
   "source": []
  },
  {
   "cell_type": "markdown",
   "metadata": {
    "id": "lB8VK2-F4AiU"
   },
   "source": [
    "# get_final_recipes\n",
    "\n",
    "<br>Issues:\n",
    "- Output format\n",
    "    - output is 1 dict with 3 titles, 1 ingredients, 1 directions\n",
    "    - dict values are in list format"
   ]
  },
  {
   "cell_type": "code",
   "execution_count": 181,
   "metadata": {
    "id": "lB8VK2-F4AiU"
   },
   "outputs": [],
   "source": [
    "# Most recent version from 5/14 debugging session\n",
    "\n",
    "def get_final_recipes(recipe_list, scores, model):  ###<=== Function for evaluating if the score passes the threshold and regenerating if it doesn't\n",
    "\n",
    "    \"\"\"\n",
    "    This evaluates whether the score of a recipe passes or fails the threshold.\n",
    "    If the recipe doesn't meet the threshold after 3 attempts, the last generated recipe is added.\n",
    "    NOTE FOR FRONT-END: it's important to make sure that the outputs of the new recipe generator are the same as the\n",
    "                        old version for this function to still work.\n",
    "                        optimized_gptrecipe() and scoring_model() must be replaced with the actual functions\n",
    "\n",
    "    UPDATES\n",
    "    5/13/2024 by everyone:\n",
    "    - Input format switched to recipe_list (previously: recipe_list was switched to lists of titles, ingredients, directions by code in app.py) \n",
    "    \n",
    "    Inputs (3):\n",
    "    recipe_list (from: recipe_generator) = a list of 3 dictionaries with 3 keys each: 'title', 'ingredients', 'directions', containing info for the 3 recipes\n",
    "    scores (from: get_scores) = list of 3 integers, containing scores for each recipe\n",
    "    model (from: get_model in app.py) = object\n",
    "\n",
    "    Outputs (1):\n",
    "    final_recipes = 1 dictionary with 3 keys:\n",
    "        'title': list of 3 strings, each string containing recipe title\n",
    "        'ingredients': list of 3 strings, each string containing recipe ingredients\n",
    "        'directions': list of 3 strings, each string containing recipe directions\n",
    "\n",
    "    \"\"\"\n",
    "\n",
    "    final_recipes = {\"title\": [], \"ingredients\": [], \"directions\": []}\n",
    "    threshold = 0.3\n",
    "\n",
    "    for i in range(len(recipe_list)):\n",
    "        if scores[i] >= threshold:\n",
    "            final_recipes[\"title\"].append(recipe_list[i]['title'])\n",
    "            final_recipes[\"ingredients\"].append(recipe_list[i]['ingredients'])\n",
    "            final_recipes[\"directions\"].append(recipe_list[i]['directions'])\n",
    "        else:\n",
    "            n = 0\n",
    "            tmp_recipe = {\n",
    "                \"title\":recipe_list[i]['title'],\n",
    "                \"ingredients\":recipe_list[i]['ingredients'],\n",
    "                \"directions\":recipe_list[i]['directions']\n",
    "                         }\n",
    "            last_recipe = {\"title\":[],\n",
    "                           \"ingredients\":[],\n",
    "                           \"directions\":[]\n",
    "                         }\n",
    "            while n < 3:\n",
    "                new_recipe = recipe_generator([tmp_recipe[\"ingredients\"]]) ###<=== insert actual recipe generator\n",
    "                new_score = model.predict_proba([new_recipe[0]['directions']]) ###<=== insert the actual scoring model function here\n",
    "                if new_score[0][1] >= threshold:\n",
    "                    final_recipes[\"title\"].append(new_recipe[0][\"title\"])\n",
    "                    final_recipes[\"ingredients\"].append(new_recipe[0][\"ingredients\"])\n",
    "                    final_recipes[\"directions\"].append(new_recipe[0][\"directions\"])\n",
    "                    break  # Exit loop if the new recipe passes the threshold\n",
    "                else:\n",
    "                    last_recipe = new_recipe  # Update tmp_recipe with the new recipe if the threshold isn't met\n",
    "                    n += 1\n",
    "            else: # Add the last generated recipe if the loop completes without finding a passing recipe\n",
    "                final_recipes[\"title\"].append(last_recipe[0][\"title\"][0][0])\n",
    "                final_recipes[\"ingredients\"].append(last_recipe[0][\"ingredients\"][0][0])\n",
    "                final_recipes[\"directions\"].append(last_recipe[0][\"directions\"][0][0])\n",
    "                break  # Exit the outer loop to prevent an unending loop\n",
    "\n",
    "    return final_recipes"
   ]
  },
  {
   "cell_type": "markdown",
   "metadata": {
    "id": "EL3Z18CS4AiV"
   },
   "source": [
    "### Testing get_final_recipes"
   ]
  },
  {
   "cell_type": "code",
   "execution_count": 176,
   "metadata": {
    "id": "EL3Z18CS4AiV"
   },
   "outputs": [
    {
     "data": {
      "text/plain": [
       "{'title': ['Garlic Chicken Tomato Skillet',\n",
       "  'Simple Grilled Chicken',\n",
       "  'Caramelized Onion Relish'],\n",
       " 'ingredients': ['* 1 lb chicken breast or thighs, cut into 1-inch pieces\\n* 2 large tomatoes, diced\\n* 3 cloves garlic, minced',\n",
       "  '- 1 chicken breast\\n- 1/2 onion, sliced\\n- Salt, to taste',\n",
       "  '* 1 large onion, thinly sliced\\n* 1/2 teaspoon salt\\n* 2 cloves garlic, minced'],\n",
       " 'directions': ['1. Heat a large skillet over medium-high heat.\\n2. Add chicken to skillet and cook until browned, about 5-6 minutes. Remove from skillet and set aside.\\n3. Add garlic to skillet and cook until fragrant, about 1 minute.\\n4. Add diced tomatoes to skillet and cook until they start to soften, about 2-3 minutes.\\n5. Add chicken back to skillet and stir to combine with tomato and garlic mixture. Cook until chicken is cooked through and tomato mixture is tender.',\n",
       "  '1. Preheat grill to medium-high heat.\\n2. Season chicken with salt, then brush both sides with a little water.\\n3. Grill chicken for 6-7 minutes per side, or until cooked through.\\n4. Meanwhile, grill onion slices until caramelized and slightly charred.\\n5. Serve chicken with grilled onion.',\n",
       "  '1. In a large saucepan, combine the sliced onion, salt, and garlic. Cook over medium-low heat, stirring occasionally, until the onions are caramelized and golden brown, about 30-40 minutes.']}"
      ]
     },
     "execution_count": 176,
     "metadata": {},
     "output_type": "execute_result"
    }
   ],
   "source": [
    "# good recipes, actual score\n",
    "\n",
    "recipe_list = [{'title': 'Garlic Chicken Tomato Skillet',\n",
    "  'ingredients': '* 1 lb chicken breast or thighs, cut into 1-inch pieces\\n* 2 large tomatoes, diced\\n* 3 cloves garlic, minced',\n",
    "  'directions': '1. Heat a large skillet over medium-high heat.\\n2. Add chicken to skillet and cook until browned, about 5-6 minutes. Remove from skillet and set aside.\\n3. Add garlic to skillet and cook until fragrant, about 1 minute.\\n4. Add diced tomatoes to skillet and cook until they start to soften, about 2-3 minutes.\\n5. Add chicken back to skillet and stir to combine with tomato and garlic mixture. Cook until chicken is cooked through and tomato mixture is tender.'},\n",
    " {'title': 'Simple Grilled Chicken',\n",
    "  'ingredients': '- 1 chicken breast\\n- 1/2 onion, sliced\\n- Salt, to taste',\n",
    "  'directions': '1. Preheat grill to medium-high heat.\\n2. Season chicken with salt, then brush both sides with a little water.\\n3. Grill chicken for 6-7 minutes per side, or until cooked through.\\n4. Meanwhile, grill onion slices until caramelized and slightly charred.\\n5. Serve chicken with grilled onion.'},\n",
    " {'title': 'Caramelized Onion Relish',\n",
    "  'ingredients': '* 1 large onion, thinly sliced\\n* 1/2 teaspoon salt\\n* 2 cloves garlic, minced',\n",
    "  'directions': '1. In a large saucepan, combine the sliced onion, salt, and garlic. Cook over medium-low heat, stirring occasionally, until the onions are caramelized and golden brown, about 30-40 minutes.'}]\n",
    "\n",
    "scores = [0.5270266515329382, 0.5028459487913037, 0.515308160025934]\n",
    "\n",
    "def get_model():\n",
    "    with open(\"model.pickle\", \"rb\") as f:\n",
    "        model = pickle.load(f)\n",
    "    return model\n",
    "model = get_model()\n",
    "\n",
    "get_final_recipes(recipe_list, scores, model)"
   ]
  },
  {
   "cell_type": "code",
   "execution_count": 184,
   "metadata": {},
   "outputs": [
    {
     "data": {
      "text/plain": [
       "{'title': [\"Gurum's Mysterious Delight\", 'Recchio Croco', 'Title:'],\n",
       " 'ingredients': ['* Rugby grass (1 cup, chopped fresh)\\n* Gum (1 tablespoon, dissolved)\\n* Rum (2 tablespoons)\\n* Mug (1, made from ceramic)',\n",
       "  '* RO Crumbs\\n* Curing Oil\\n* Ounces of Cream',\n",
       "  '* 1 cup cherry tomatoes, halved\\n* 1/2 cup mashed chickpeas\\n* 1/4 cup chopped fresh cucumbers\\n* 2 tablespoons olive oil\\n* 2 tablespoons hummus\\n* 1/2 teaspoon paprika'],\n",
       " 'directions': ['1. Combine Rugby grass, gum, and rum in the mug.\\n2. Stir clockwise for 7 times, then counterclockwise for 3 times.\\n3. Serve immediately.',\n",
       "  '1. Crumble RO Crumbs into a crock\\n2. Coat Croco with Curing Oil\\n3. Ooze Cream over Croco',\n",
       "  '1. Preheat oven to 375°F.\\n2. In a bowl, mix together hummus, paprika, and olive oil.\\n3. Dip each cherry tomato half into the hummus mixture, coating evenly.\\n4. Place coated cherry tomato halves on a baking sheet.\\n5. Sprinkle chopped cucumbers on top of tomato halves.\\n6. Bake for 20-25 minutes, or until crispy and golden brown.\\n7. Serve and enjoy!']}"
      ]
     },
     "execution_count": 184,
     "metadata": {},
     "output_type": "execute_result"
    }
   ],
   "source": [
    "# nonsense recipe, actual score\n",
    "\n",
    "recipe_list = [{'title': \"Gurum's Mysterious Delight\",\n",
    "  'ingredients': '* Rugby grass (1 cup, chopped fresh)\\n* Gum (1 tablespoon, dissolved)\\n* Rum (2 tablespoons)\\n* Mug (1, made from ceramic)',\n",
    "  'directions': '1. Combine Rugby grass, gum, and rum in the mug.\\n2. Stir clockwise for 7 times, then counterclockwise for 3 times.\\n3. Serve immediately.'},\n",
    " {'title': 'Recchio Croco',\n",
    "  'ingredients': '* RO Crumbs\\n* Curing Oil\\n* Ounces of Cream',\n",
    "  'directions': '1. Crumble RO Crumbs into a crock\\n2. Coat Croco with Curing Oil\\n3. Ooze Cream over Croco'},\n",
    " {'title': 'Title:',\n",
    "  'ingredients': '* 1 cup cherry tomatoes, halved\\n* 1/2 cup mashed chickpeas\\n* 1/4 cup chopped fresh cucumbers\\n* 2 tablespoons olive oil\\n* 2 tablespoons hummus\\n* 1/2 teaspoon paprika',\n",
    "  'directions': '1. Preheat oven to 375°F.\\n2. In a bowl, mix together hummus, paprika, and olive oil.\\n3. Dip each cherry tomato half into the hummus mixture, coating evenly.\\n4. Place coated cherry tomato halves on a baking sheet.\\n5. Sprinkle chopped cucumbers on top of tomato halves.\\n6. Bake for 20-25 minutes, or until crispy and golden brown.\\n7. Serve and enjoy!'}]\n",
    "\n",
    "scores = [0.5040546079674728, 0.5040292302849937, 0.5123256028930298]\n",
    "\n",
    "def get_model():\n",
    "    with open(\"model.pickle\", \"rb\") as f:\n",
    "        model = pickle.load(f)\n",
    "    return model\n",
    "model = get_model()\n",
    "\n",
    "get_final_recipes(recipe_list, scores, model)"
   ]
  },
  {
   "cell_type": "code",
   "execution_count": 186,
   "metadata": {},
   "outputs": [
    {
     "data": {
      "text/plain": [
       "{'title': [\"Gurum's Mysterious Delight\", 'Recchio Croco', 'Title:'],\n",
       " 'ingredients': ['* Rugby grass (1 cup, chopped fresh)\\n* Gum (1 tablespoon, dissolved)\\n* Rum (2 tablespoons)\\n* Mug (1, made from ceramic)',\n",
       "  '* RO Crumbs\\n* Curing Oil\\n* Ounces of Cream',\n",
       "  '* 1 cup cherry tomatoes, halved\\n* 1/2 cup mashed chickpeas\\n* 1/4 cup chopped fresh cucumbers\\n* 2 tablespoons olive oil\\n* 2 tablespoons hummus\\n* 1/2 teaspoon paprika'],\n",
       " 'directions': ['1. Combine Rugby grass, gum, and rum in the mug.\\n2. Stir clockwise for 7 times, then counterclockwise for 3 times.\\n3. Serve immediately.',\n",
       "  '1. Crumble RO Crumbs into a crock\\n2. Coat Croco with Curing Oil\\n3. Ooze Cream over Croco',\n",
       "  '1. Preheat oven to 375°F.\\n2. In a bowl, mix together hummus, paprika, and olive oil.\\n3. Dip each cherry tomato half into the hummus mixture, coating evenly.\\n4. Place coated cherry tomato halves on a baking sheet.\\n5. Sprinkle chopped cucumbers on top of tomato halves.\\n6. Bake for 20-25 minutes, or until crispy and golden brown.\\n7. Serve and enjoy!']}"
      ]
     },
     "execution_count": 186,
     "metadata": {},
     "output_type": "execute_result"
    }
   ],
   "source": [
    "# nonsense recipes with high scores\n",
    "\n",
    "recipe_list = [{'title': \"Gurum's Mysterious Delight\",\n",
    "  'ingredients': '* Rugby grass (1 cup, chopped fresh)\\n* Gum (1 tablespoon, dissolved)\\n* Rum (2 tablespoons)\\n* Mug (1, made from ceramic)',\n",
    "  'directions': '1. Combine Rugby grass, gum, and rum in the mug.\\n2. Stir clockwise for 7 times, then counterclockwise for 3 times.\\n3. Serve immediately.'},\n",
    " {'title': 'Recchio Croco',\n",
    "  'ingredients': '* RO Crumbs\\n* Curing Oil\\n* Ounces of Cream',\n",
    "  'directions': '1. Crumble RO Crumbs into a crock\\n2. Coat Croco with Curing Oil\\n3. Ooze Cream over Croco'},\n",
    " {'title': 'Title:',\n",
    "  'ingredients': '* 1 cup cherry tomatoes, halved\\n* 1/2 cup mashed chickpeas\\n* 1/4 cup chopped fresh cucumbers\\n* 2 tablespoons olive oil\\n* 2 tablespoons hummus\\n* 1/2 teaspoon paprika',\n",
    "  'directions': '1. Preheat oven to 375°F.\\n2. In a bowl, mix together hummus, paprika, and olive oil.\\n3. Dip each cherry tomato half into the hummus mixture, coating evenly.\\n4. Place coated cherry tomato halves on a baking sheet.\\n5. Sprinkle chopped cucumbers on top of tomato halves.\\n6. Bake for 20-25 minutes, or until crispy and golden brown.\\n7. Serve and enjoy!'}]\n",
    "\n",
    "scores = [0.95040546079674728, 0.95040292302849937, 0.95123256028930298]\n",
    "\n",
    "def get_model():\n",
    "    with open(\"model.pickle\", \"rb\") as f:\n",
    "        model = pickle.load(f)\n",
    "    return model\n",
    "model = get_model()\n",
    "\n",
    "get_final_recipes(recipe_list, scores, model)"
   ]
  },
  {
   "cell_type": "code",
   "execution_count": 175,
   "metadata": {},
   "outputs": [
    {
     "data": {
      "text/plain": [
       "{'title': ['Rugby Grass Punch',\n",
       "  'Baked Cream Crostini',\n",
       "  'Cherry Tomato and Hummus Salad'],\n",
       " 'ingredients': ['* 1 cup chopped fresh Rugby Grass\\n* 1 tablespoon dissolved Gum\\n* 2 tablespoons Rum\\n* 1 ceramic Mug made from ceramic',\n",
       "  '* 1 cup RO Crushers (RO Crumbs)\\n* 2 tablespoons Curing Oil\\n* 4 ounces of Cream',\n",
       "  '* 1 cup cherry tomatoes, halved\\n* 1/2 cup mashed chickpeas\\n* 1/4 cup chopped fresh cucumbers\\n* 2 tablespoons olive oil\\n* 2 tablespoons hummus\\n* 1/2 teaspoon paprika'],\n",
       " 'directions': ['1. Combine chopped Rugby Grass and dissolved Gum in a ceramic Mug.\\n2. Add 2 tablespoons of Rum to the Mug.\\n3. Serve immediately and enjoy!',\n",
       "  '1. Preheat the oven to 350°F (180°C).\\n2. Mix RO Crumbs and Curing Oil in a bowl until well combined.\\n3. Press the mixture into a baking dish to form a crust.\\n4. Spread Cream over the crust.\\n5. Bake for 20-25 minutes or until golden brown.\\n6. Serve immediately.',\n",
       "  '1. In a medium bowl, combine cherry tomatoes, mashed chickpeas, and chopped cucumbers.\\n2. In a small bowl, whisk together olive oil and hummus until smooth.\\n3. Pour the hummus mixture over the tomato mixture and toss to combine.\\n4. Sprinkle paprika over the top and serve.']}"
      ]
     },
     "execution_count": 175,
     "metadata": {},
     "output_type": "execute_result"
    }
   ],
   "source": [
    "# nonsense recipes with low scores\n",
    "\n",
    "recipe_list = [{'title': \"Gurum's Mysterious Delight\",\n",
    "  'ingredients': '* Rugby grass (1 cup, chopped fresh)\\n* Gum (1 tablespoon, dissolved)\\n* Rum (2 tablespoons)\\n* Mug (1, made from ceramic)',\n",
    "  'directions': '1. Combine Rugby grass, gum, and rum in the mug.\\n2. Stir clockwise for 7 times, then counterclockwise for 3 times.\\n3. Serve immediately.'},\n",
    " {'title': 'Recchio Croco',\n",
    "  'ingredients': '* RO Crumbs\\n* Curing Oil\\n* Ounces of Cream',\n",
    "  'directions': '1. Crumble RO Crumbs into a crock\\n2. Coat Croco with Curing Oil\\n3. Ooze Cream over Croco'},\n",
    " {'title': 'Title:',\n",
    "  'ingredients': '* 1 cup cherry tomatoes, halved\\n* 1/2 cup mashed chickpeas\\n* 1/4 cup chopped fresh cucumbers\\n* 2 tablespoons olive oil\\n* 2 tablespoons hummus\\n* 1/2 teaspoon paprika',\n",
    "  'directions': '1. Preheat oven to 375°F.\\n2. In a bowl, mix together hummus, paprika, and olive oil.\\n3. Dip each cherry tomato half into the hummus mixture, coating evenly.\\n4. Place coated cherry tomato halves on a baking sheet.\\n5. Sprinkle chopped cucumbers on top of tomato halves.\\n6. Bake for 20-25 minutes, or until crispy and golden brown.\\n7. Serve and enjoy!'}]\n",
    "\n",
    "scores = [0.15040546079674728, 0.15040292302849937, 0.15123256028930298]\n",
    "\n",
    "def get_model():\n",
    "    with open(\"model.pickle\", \"rb\") as f:\n",
    "        model = pickle.load(f)\n",
    "    return model\n",
    "model = get_model()\n",
    "\n",
    "get_final_recipes(recipe_list, scores, model)"
   ]
  },
  {
   "cell_type": "markdown",
   "metadata": {},
   "source": [
    "### Testing final_recipes all the way through"
   ]
  },
  {
   "cell_type": "code",
   "execution_count": 198,
   "metadata": {},
   "outputs": [
    {
     "name": "stdout",
     "output_type": "stream",
     "text": [
      "ingredients_combinations: \n",
      " [('onion', 'salt'), ('onion', 'chicken'), ('onion', 'tomato'), ('onion', 'garlic'), ('onion', 'cheese'), ('salt', 'chicken'), ('salt', 'tomato'), ('salt', 'garlic'), ('salt', 'cheese'), ('chicken', 'tomato'), ('chicken', 'garlic'), ('chicken', 'cheese'), ('tomato', 'garlic'), ('tomato', 'cheese'), ('garlic', 'cheese'), [('onion', 'salt'), ('onion', 'chicken'), ('salt', 'chicken')], [('onion', 'salt'), ('onion', 'tomato'), ('salt', 'tomato')], [('onion', 'salt'), ('onion', 'garlic'), ('salt', 'garlic')], [('onion', 'salt'), ('onion', 'cheese'), ('salt', 'cheese')], [('onion', 'chicken'), ('onion', 'tomato'), ('chicken', 'tomato')], [('onion', 'chicken'), ('onion', 'garlic'), ('chicken', 'garlic')], [('onion', 'chicken'), ('onion', 'cheese'), ('chicken', 'cheese')], [('onion', 'tomato'), ('onion', 'garlic'), ('tomato', 'garlic')], [('onion', 'tomato'), ('onion', 'cheese'), ('tomato', 'cheese')], [('onion', 'garlic'), ('onion', 'cheese'), ('garlic', 'cheese')], [('salt', 'chicken'), ('salt', 'tomato'), ('chicken', 'tomato')], [('salt', 'chicken'), ('salt', 'garlic'), ('chicken', 'garlic')], [('salt', 'chicken'), ('salt', 'cheese'), ('chicken', 'cheese')], [('salt', 'tomato'), ('salt', 'garlic'), ('tomato', 'garlic')], [('salt', 'tomato'), ('salt', 'cheese'), ('tomato', 'cheese')], [('salt', 'garlic'), ('salt', 'cheese'), ('garlic', 'cheese')], [('chicken', 'tomato'), ('chicken', 'garlic'), ('tomato', 'garlic')], [('chicken', 'tomato'), ('chicken', 'cheese'), ('tomato', 'cheese')], [('chicken', 'garlic'), ('chicken', 'cheese'), ('garlic', 'cheese')], [('tomato', 'garlic'), ('tomato', 'cheese'), ('garlic', 'cheese')], [('onion', 'salt'), ('onion', 'chicken'), ('onion', 'tomato'), ('salt', 'chicken'), ('salt', 'tomato'), ('chicken', 'tomato')], [('onion', 'salt'), ('onion', 'chicken'), ('onion', 'garlic'), ('salt', 'chicken'), ('salt', 'garlic'), ('chicken', 'garlic')], [('onion', 'salt'), ('onion', 'chicken'), ('onion', 'cheese'), ('salt', 'chicken'), ('salt', 'cheese'), ('chicken', 'cheese')], [('onion', 'salt'), ('onion', 'tomato'), ('onion', 'garlic'), ('salt', 'tomato'), ('salt', 'garlic'), ('tomato', 'garlic')], [('onion', 'salt'), ('onion', 'tomato'), ('onion', 'cheese'), ('salt', 'tomato'), ('salt', 'cheese'), ('tomato', 'cheese')], [('onion', 'salt'), ('onion', 'garlic'), ('onion', 'cheese'), ('salt', 'garlic'), ('salt', 'cheese'), ('garlic', 'cheese')], [('onion', 'chicken'), ('onion', 'tomato'), ('onion', 'garlic'), ('chicken', 'tomato'), ('chicken', 'garlic'), ('tomato', 'garlic')], [('onion', 'chicken'), ('onion', 'tomato'), ('onion', 'cheese'), ('chicken', 'tomato'), ('chicken', 'cheese'), ('tomato', 'cheese')], [('onion', 'chicken'), ('onion', 'garlic'), ('onion', 'cheese'), ('chicken', 'garlic'), ('chicken', 'cheese'), ('garlic', 'cheese')], [('onion', 'tomato'), ('onion', 'garlic'), ('onion', 'cheese'), ('tomato', 'garlic'), ('tomato', 'cheese'), ('garlic', 'cheese')], [('salt', 'chicken'), ('salt', 'tomato'), ('salt', 'garlic'), ('chicken', 'tomato'), ('chicken', 'garlic'), ('tomato', 'garlic')], [('salt', 'chicken'), ('salt', 'tomato'), ('salt', 'cheese'), ('chicken', 'tomato'), ('chicken', 'cheese'), ('tomato', 'cheese')], [('salt', 'chicken'), ('salt', 'garlic'), ('salt', 'cheese'), ('chicken', 'garlic'), ('chicken', 'cheese'), ('garlic', 'cheese')], [('salt', 'tomato'), ('salt', 'garlic'), ('salt', 'cheese'), ('tomato', 'garlic'), ('tomato', 'cheese'), ('garlic', 'cheese')], [('chicken', 'tomato'), ('chicken', 'garlic'), ('chicken', 'cheese'), ('tomato', 'garlic'), ('tomato', 'cheese'), ('garlic', 'cheese')], [('onion', 'salt'), ('onion', 'chicken'), ('onion', 'tomato'), ('onion', 'garlic'), ('salt', 'chicken'), ('salt', 'tomato'), ('salt', 'garlic'), ('chicken', 'tomato'), ('chicken', 'garlic'), ('tomato', 'garlic')], [('onion', 'salt'), ('onion', 'chicken'), ('onion', 'tomato'), ('onion', 'cheese'), ('salt', 'chicken'), ('salt', 'tomato'), ('salt', 'cheese'), ('chicken', 'tomato'), ('chicken', 'cheese'), ('tomato', 'cheese')], [('onion', 'salt'), ('onion', 'chicken'), ('onion', 'garlic'), ('onion', 'cheese'), ('salt', 'chicken'), ('salt', 'garlic'), ('salt', 'cheese'), ('chicken', 'garlic'), ('chicken', 'cheese'), ('garlic', 'cheese')], [('onion', 'salt'), ('onion', 'tomato'), ('onion', 'garlic'), ('onion', 'cheese'), ('salt', 'tomato'), ('salt', 'garlic'), ('salt', 'cheese'), ('tomato', 'garlic'), ('tomato', 'cheese'), ('garlic', 'cheese')], [('onion', 'chicken'), ('onion', 'tomato'), ('onion', 'garlic'), ('onion', 'cheese'), ('chicken', 'tomato'), ('chicken', 'garlic'), ('chicken', 'cheese'), ('tomato', 'garlic'), ('tomato', 'cheese'), ('garlic', 'cheese')], [('salt', 'chicken'), ('salt', 'tomato'), ('salt', 'garlic'), ('salt', 'cheese'), ('chicken', 'tomato'), ('chicken', 'garlic'), ('chicken', 'cheese'), ('tomato', 'garlic'), ('tomato', 'cheese'), ('garlic', 'cheese')], [('onion', 'salt'), ('onion', 'chicken'), ('onion', 'tomato'), ('onion', 'garlic'), ('onion', 'cheese'), ('salt', 'chicken'), ('salt', 'tomato'), ('salt', 'garlic'), ('salt', 'cheese'), ('chicken', 'tomato'), ('chicken', 'garlic'), ('chicken', 'cheese'), ('tomato', 'garlic'), ('tomato', 'cheese'), ('garlic', 'cheese')]]\n",
      "\n",
      " df_comb: \n",
      "                                           Combination  \\\n",
      "0                                       (onion, salt)   \n",
      "1                                    (onion, chicken)   \n",
      "2                                     (onion, garlic)   \n",
      "3                                     (onion, cheese)   \n",
      "4                                     (salt, chicken)   \n",
      "5                                      (salt, garlic)   \n",
      "6                                      (salt, cheese)   \n",
      "7                                   (chicken, garlic)   \n",
      "8                                   (chicken, cheese)   \n",
      "9                                    (garlic, cheese)   \n",
      "10  [(onion, salt), (onion, chicken), (salt, chick...   \n",
      "11   [(onion, salt), (onion, tomato), (salt, tomato)]   \n",
      "12   [(onion, salt), (onion, garlic), (salt, garlic)]   \n",
      "13   [(onion, salt), (onion, cheese), (salt, cheese)]   \n",
      "14  [(onion, chicken), (onion, tomato), (chicken, ...   \n",
      "15  [(onion, chicken), (onion, garlic), (chicken, ...   \n",
      "16  [(onion, chicken), (onion, cheese), (chicken, ...   \n",
      "17  [(onion, tomato), (onion, garlic), (tomato, ga...   \n",
      "18  [(onion, tomato), (onion, cheese), (tomato, ch...   \n",
      "19  [(onion, garlic), (onion, cheese), (garlic, ch...   \n",
      "20  [(salt, chicken), (salt, tomato), (chicken, to...   \n",
      "21  [(salt, chicken), (salt, garlic), (chicken, ga...   \n",
      "22  [(salt, chicken), (salt, cheese), (chicken, ch...   \n",
      "23  [(salt, tomato), (salt, garlic), (tomato, garl...   \n",
      "24  [(salt, tomato), (salt, cheese), (tomato, chee...   \n",
      "25  [(salt, garlic), (salt, cheese), (garlic, chee...   \n",
      "26  [(chicken, tomato), (chicken, garlic), (tomato...   \n",
      "27  [(chicken, tomato), (chicken, cheese), (tomato...   \n",
      "28  [(chicken, garlic), (chicken, cheese), (garlic...   \n",
      "29  [(tomato, garlic), (tomato, cheese), (garlic, ...   \n",
      "30  [(onion, salt), (onion, chicken), (onion, toma...   \n",
      "31  [(onion, salt), (onion, chicken), (onion, garl...   \n",
      "32  [(onion, salt), (onion, chicken), (onion, chee...   \n",
      "33  [(onion, salt), (onion, tomato), (onion, garli...   \n",
      "34  [(onion, salt), (onion, tomato), (onion, chees...   \n",
      "35  [(onion, salt), (onion, garlic), (onion, chees...   \n",
      "36  [(onion, chicken), (onion, tomato), (onion, ga...   \n",
      "37  [(onion, chicken), (onion, tomato), (onion, ch...   \n",
      "38  [(onion, chicken), (onion, garlic), (onion, ch...   \n",
      "39  [(onion, tomato), (onion, garlic), (onion, che...   \n",
      "40  [(salt, chicken), (salt, tomato), (salt, garli...   \n",
      "41  [(salt, chicken), (salt, tomato), (salt, chees...   \n",
      "42  [(salt, chicken), (salt, garlic), (salt, chees...   \n",
      "43  [(salt, tomato), (salt, garlic), (salt, cheese...   \n",
      "44  [(chicken, tomato), (chicken, garlic), (chicke...   \n",
      "45  [(onion, salt), (onion, chicken), (onion, toma...   \n",
      "46  [(onion, salt), (onion, chicken), (onion, toma...   \n",
      "47  [(onion, salt), (onion, chicken), (onion, garl...   \n",
      "48  [(onion, salt), (onion, tomato), (onion, garli...   \n",
      "49  [(onion, chicken), (onion, tomato), (onion, ga...   \n",
      "50  [(salt, chicken), (salt, tomato), (salt, garli...   \n",
      "51  [(onion, salt), (onion, chicken), (onion, toma...   \n",
      "\n",
      "                                                Score  \n",
      "0                                [2.0670735182650013]  \n",
      "1                                [1.3248796627107513]  \n",
      "2                                [1.4235409132992736]  \n",
      "3                                [1.4120038875676597]  \n",
      "4                                [1.4353972677154387]  \n",
      "5                                [1.5533159218950603]  \n",
      "6                                [1.3703804244076925]  \n",
      "7                                [1.1800811339314616]  \n",
      "8                                [1.0177501859513405]  \n",
      "9                                [1.0944496012124034]  \n",
      "10  [2.0670735182650013, 1.3248796627107513, 1.435...  \n",
      "11                       [2.0670735182650013, -5, -5]  \n",
      "12  [2.0670735182650013, 1.4235409132992736, 1.553...  \n",
      "13  [2.0670735182650013, 1.4120038875676597, 1.370...  \n",
      "14                       [1.3248796627107513, -5, -5]  \n",
      "15  [1.3248796627107513, 1.4235409132992736, 1.180...  \n",
      "16  [1.3248796627107513, 1.4120038875676597, 1.017...  \n",
      "17                       [-5, 1.4235409132992736, -5]  \n",
      "18                       [-5, 1.4120038875676597, -5]  \n",
      "19  [1.4235409132992736, 1.4120038875676597, 1.094...  \n",
      "20                       [1.4353972677154387, -5, -5]  \n",
      "21  [1.4353972677154387, 1.5533159218950603, 1.180...  \n",
      "22  [1.4353972677154387, 1.3703804244076925, 1.017...  \n",
      "23                       [-5, 1.5533159218950603, -5]  \n",
      "24                       [-5, 1.3703804244076925, -5]  \n",
      "25  [1.5533159218950603, 1.3703804244076925, 1.094...  \n",
      "26                       [-5, 1.1800811339314616, -5]  \n",
      "27                       [-5, 1.0177501859513405, -5]  \n",
      "28  [1.1800811339314616, 1.0177501859513405, 1.094...  \n",
      "29                       [-5, -5, 1.0944496012124034]  \n",
      "30  [2.0670735182650013, 1.3248796627107513, -5, 1...  \n",
      "31  [2.0670735182650013, 1.3248796627107513, 1.423...  \n",
      "32  [2.0670735182650013, 1.3248796627107513, 1.412...  \n",
      "33  [2.0670735182650013, -5, 1.4235409132992736, -...  \n",
      "34  [2.0670735182650013, -5, 1.4120038875676597, -...  \n",
      "35  [2.0670735182650013, 1.4235409132992736, 1.412...  \n",
      "36  [1.3248796627107513, -5, 1.4235409132992736, -...  \n",
      "37  [1.3248796627107513, -5, 1.4120038875676597, -...  \n",
      "38  [1.3248796627107513, 1.4235409132992736, 1.412...  \n",
      "39  [-5, 1.4235409132992736, 1.4120038875676597, -...  \n",
      "40  [1.4353972677154387, -5, 1.5533159218950603, -...  \n",
      "41  [1.4353972677154387, -5, 1.3703804244076925, -...  \n",
      "42  [1.4353972677154387, 1.5533159218950603, 1.370...  \n",
      "43  [-5, 1.5533159218950603, 1.3703804244076925, -...  \n",
      "44  [-5, 1.1800811339314616, 1.0177501859513405, -...  \n",
      "45  [2.0670735182650013, 1.3248796627107513, -5, 1...  \n",
      "46  [2.0670735182650013, 1.3248796627107513, -5, 1...  \n",
      "47  [2.0670735182650013, 1.3248796627107513, 1.423...  \n",
      "48  [2.0670735182650013, -5, 1.4235409132992736, 1...  \n",
      "49  [1.3248796627107513, -5, 1.4235409132992736, 1...  \n",
      "50  [1.4353972677154387, -5, 1.5533159218950603, 1...  \n",
      "51  [2.0670735182650013, 1.3248796627107513, -5, 1...  \n",
      "\n",
      " ingredients_list: \n",
      " [['onion', 'salt', 'chicken', 'garlic', 'cheese'], ['onion', 'salt', 'garlic', 'chicken'], ['onion', 'salt', 'garlic', 'cheese']]\n"
     ]
    },
    {
     "name": "stdout",
     "output_type": "stream",
     "text": [
      "\n",
      " recipe_list: \n",
      " [{'title': 'Garlic Chicken Casserole', 'ingredients': '* 1 lb chicken\\n* 1 onion\\n* 2 cloves garlic\\n* Salt to taste\\n* 1 cup grated cheese', 'directions': '1. Preheat oven to 375°F (190°C).\\n2. Chop the onion and mince the garlic. Cook the chicken in a pan with some oil until browned. Add the chopped onion and minced garlic and cook until the onion is translucent.\\n3. Season with salt to taste.\\n4. Transfer the chicken mixture to a baking dish and top with grated cheese.\\n5. Bake in the oven for 20-25 minutes or until the cheese is melted and bubbly.'}, {'title': 'Garlic Chicken Delight', 'ingredients': '* 1 chicken\\n* 1 onion\\n* 2 cloves of garlic\\n* 1/2 teaspoon salt', 'directions': '1. Preheat oven to 375°F (190°C).\\n2. In a large bowl, mix together chicken, onion, garlic, and salt until well combined.\\n3. Place the mixture on a baking sheet lined with parchment paper.\\n4. Bake for 30-35 minutes or until the chicken is cooked through.\\n5. Serve hot and enjoy!'}, {'title': 'Onion and Garlic Frittata', 'ingredients': '* 1 large onion, diced\\n* 2 cloves of garlic, minced\\n* 1 cup grated cheese\\n* Salt to taste', 'directions': '1. Preheat oven to 375°F (190°C).\\n2. In a large skillet, sauté the diced onion and minced garlic until the onion is translucent.\\n3. In a separate bowl, beat 2 eggs and season with salt to taste.\\n4. Add the grated cheese to the beaten eggs and mix well.\\n5. Pour the egg mixture over the sautéed onion and garlic in the skillet.\\n6. Transfer the skillet to the preheated oven and bake for 15-20 minutes or until the eggs are set.\\n7. Remove from oven and let cool for a few minutes before slicing and serving.'}]\n",
      "\n",
      " scores: [0.4894712106424215, 0.45747507316756303, 0.5026260377522204]\n",
      "{'title': ['Garlic Chicken Casserole', 'Garlic Chicken Delight', 'Onion and Garlic Frittata'], 'ingredients': ['* 1 lb chicken\\n* 1 onion\\n* 2 cloves garlic\\n* Salt to taste\\n* 1 cup grated cheese', '* 1 chicken\\n* 1 onion\\n* 2 cloves of garlic\\n* 1/2 teaspoon salt', '* 1 large onion, diced\\n* 2 cloves of garlic, minced\\n* 1 cup grated cheese\\n* Salt to taste'], 'directions': ['1. Preheat oven to 375°F (190°C).\\n2. Chop the onion and mince the garlic. Cook the chicken in a pan with some oil until browned. Add the chopped onion and minced garlic and cook until the onion is translucent.\\n3. Season with salt to taste.\\n4. Transfer the chicken mixture to a baking dish and top with grated cheese.\\n5. Bake in the oven for 20-25 minutes or until the cheese is melted and bubbly.', '1. Preheat oven to 375°F (190°C).\\n2. In a large bowl, mix together chicken, onion, garlic, and salt until well combined.\\n3. Place the mixture on a baking sheet lined with parchment paper.\\n4. Bake for 30-35 minutes or until the chicken is cooked through.\\n5. Serve hot and enjoy!', '1. Preheat oven to 375°F (190°C).\\n2. In a large skillet, sauté the diced onion and minced garlic until the onion is translucent.\\n3. In a separate bowl, beat 2 eggs and season with salt to taste.\\n4. Add the grated cheese to the beaten eggs and mix well.\\n5. Pour the egg mixture over the sautéed onion and garlic in the skillet.\\n6. Transfer the skillet to the preheated oven and bake for 15-20 minutes or until the eggs are set.\\n7. Remove from oven and let cool for a few minutes before slicing and serving.']}\n"
     ]
    }
   ],
   "source": [
    "# 6 ingredients\n",
    "\n",
    "ingredients_input = 'chicken, onion, garlic, cheese, tomato, salt'\n",
    "\n",
    "ingredients_combinations = combinations_of_two(ingredients_input)\n",
    "print('ingredients_combinations: \\n', ingredients_combinations)\n",
    "\n",
    "df_comb = data_query(ingredients_combinations)\n",
    "print('\\n df_comb: \\n', df_comb)\n",
    "\n",
    "ingredients_list = muse_comb(df_comb)\n",
    "print('\\n ingredients_list: \\n', ingredients_list)\n",
    "\n",
    "recipe_list = recipe_generator(ingredients_list)\n",
    "print('\\n recipe_list: \\n', recipe_list)\n",
    "\n",
    "scores = get_scores(recipe_list)\n",
    "print('\\n scores:', scores)\n",
    "\n",
    "final_recipes = get_final_recipes(recipe_list, scores, model)\n",
    "print(final_recipes)"
   ]
  },
  {
   "cell_type": "code",
   "execution_count": 199,
   "metadata": {},
   "outputs": [
    {
     "data": {
      "text/plain": [
       "['Garlic Chicken Casserole',\n",
       " 'Garlic Chicken Delight',\n",
       " 'Onion and Garlic Frittata']"
      ]
     },
     "execution_count": 199,
     "metadata": {},
     "output_type": "execute_result"
    }
   ],
   "source": [
    "final_recipes['title']"
   ]
  },
  {
   "cell_type": "code",
   "execution_count": null,
   "metadata": {},
   "outputs": [],
   "source": []
  },
  {
   "cell_type": "code",
   "execution_count": null,
   "metadata": {},
   "outputs": [],
   "source": []
  },
  {
   "cell_type": "code",
   "execution_count": null,
   "metadata": {},
   "outputs": [],
   "source": []
  },
  {
   "cell_type": "markdown",
   "metadata": {
    "heading_collapsed": true
   },
   "source": [
    "# get_key_lists (not necessary anymore)"
   ]
  },
  {
   "cell_type": "code",
   "execution_count": 150,
   "metadata": {
    "hidden": true
   },
   "outputs": [],
   "source": [
    "def get_key_lists(final_recipes):\n",
    "    directions, titles, ingredients = [], [], []\n",
    "    for recipe in final_recipes:\n",
    "        titles.append(recipe[\"title\"])\n",
    "        ingredients.append(recipe[\"ingredients\"])\n",
    "        directions.append(recipe[\"directions\"])\n",
    "    return titles, ingredients, directions"
   ]
  },
  {
   "cell_type": "code",
   "execution_count": null,
   "metadata": {
    "hidden": true
   },
   "outputs": [],
   "source": []
  },
  {
   "cell_type": "code",
   "execution_count": null,
   "metadata": {
    "hidden": true
   },
   "outputs": [],
   "source": []
  },
  {
   "cell_type": "code",
   "execution_count": null,
   "metadata": {
    "hidden": true
   },
   "outputs": [],
   "source": [
    "# with final_recipes"
   ]
  },
  {
   "cell_type": "code",
   "execution_count": 197,
   "metadata": {
    "hidden": true
   },
   "outputs": [
    {
     "name": "stdout",
     "output_type": "stream",
     "text": [
      "['Cheesy Chicken Fritter', 'Garlic Chicken with Onion and Salt', 'Garlic Onion Frittata']\n",
      "['* 1 large onion, finely chopped\\n* 1 lb boneless, skinless chicken breast, cut into small pieces\\n* 1 clove garlic, minced\\n* 1 cup shredded cheese\\n* 1/2 tsp salt', '* 1 pound chicken\\n* 1/2 medium onion\\n* 2 cloves garlic\\n* 1 teaspoon salt', '* 1 onion, thinly sliced\\n* 1 clove garlic, minced\\n* 1/2 teaspoon salt\\n* 1/2 cup shredded cheese']\n",
      "['1. Preheat oven to 375°F (190°C).\\n2. In a large bowl, mix together chicken, onion, garlic, and salt.\\n3. Add shredded cheese and mix until just combined.\\n4. Shape into 6-8 patties.\\n5. Bake for 20-25 minutes or until cooked through.\\n6. Serve hot and enjoy!', '1. Preheat oven to 375°F (190°C).\\n2. In a large bowl, mix together chicken, chopped onion, minced garlic, and salt.\\n3. Place the mixture on a baking sheet lined with parchment paper.\\n4. Bake for 25-30 minutes or until the chicken is cooked through.\\n5. Serve hot and enjoy!', '1. Preheat oven to 375°F (190°C).\\n2. In a large skillet, sauté onion and garlic in a little water until softened.\\n3. In a separate bowl, whisk 4 eggs with salt.\\n4. Add cooked onion and garlic to eggs and mix well.\\n5. Pour egg mixture into a greased skillet and cook until bottom is set.\\n6. Sprinkle cheese on top and transfer to oven.\\n7. Bake for 10-12 minutes or until eggs are set and cheese is melted.\\n8. Serve hot and enjoy!']\n"
     ]
    }
   ],
   "source": [
    "print(final_recipes['title'])\n",
    "print(final_recipes['ingredients'])\n",
    "print(final_recipes['directions'])\n"
   ]
  },
  {
   "cell_type": "code",
   "execution_count": 183,
   "metadata": {
    "hidden": true
   },
   "outputs": [
    {
     "ename": "TypeError",
     "evalue": "string indices must be integers",
     "output_type": "error",
     "traceback": [
      "\u001b[0;31m---------------------------------------------------------------------------\u001b[0m",
      "\u001b[0;31mTypeError\u001b[0m                                 Traceback (most recent call last)",
      "Cell \u001b[0;32mIn [183], line 1\u001b[0m\n\u001b[0;32m----> 1\u001b[0m \u001b[43mget_key_lists\u001b[49m\u001b[43m(\u001b[49m\u001b[43mfinal_recipes\u001b[49m\u001b[43m)\u001b[49m\n",
      "Cell \u001b[0;32mIn [150], line 4\u001b[0m, in \u001b[0;36mget_key_lists\u001b[0;34m(final_recipes)\u001b[0m\n\u001b[1;32m      2\u001b[0m directions, titles, ingredients \u001b[38;5;241m=\u001b[39m [], [], []\n\u001b[1;32m      3\u001b[0m \u001b[38;5;28;01mfor\u001b[39;00m recipe \u001b[38;5;129;01min\u001b[39;00m final_recipes:\n\u001b[0;32m----> 4\u001b[0m     titles\u001b[38;5;241m.\u001b[39mappend(\u001b[43mrecipe\u001b[49m\u001b[43m[\u001b[49m\u001b[38;5;124;43m\"\u001b[39;49m\u001b[38;5;124;43mtitle\u001b[39;49m\u001b[38;5;124;43m\"\u001b[39;49m\u001b[43m]\u001b[49m)\n\u001b[1;32m      5\u001b[0m     ingredients\u001b[38;5;241m.\u001b[39mappend(recipe[\u001b[38;5;124m\"\u001b[39m\u001b[38;5;124mingredients\u001b[39m\u001b[38;5;124m\"\u001b[39m])\n\u001b[1;32m      6\u001b[0m     directions\u001b[38;5;241m.\u001b[39mappend(recipe[\u001b[38;5;124m\"\u001b[39m\u001b[38;5;124mdirections\u001b[39m\u001b[38;5;124m\"\u001b[39m])\n",
      "\u001b[0;31mTypeError\u001b[0m: string indices must be integers"
     ]
    }
   ],
   "source": [
    "get_key_lists(final_recipes)"
   ]
  },
  {
   "cell_type": "markdown",
   "metadata": {},
   "source": [
    "# image_generator\n"
   ]
  },
  {
   "cell_type": "code",
   "execution_count": 200,
   "metadata": {},
   "outputs": [],
   "source": [
    "\n",
    "\n",
    "def image_generator(final_recipes):\n",
    "    '''\n",
    "    key_lists = 3 lists\n",
    "    \n",
    "\n",
    "    '''\n",
    "    client = Client(\"ByteDance/SDXL-Lightning\")\n",
    "    \n",
    "    titles = final_recipes['title']\n",
    "    print(titles)\n",
    "    images = []\n",
    "    for title in titles:\n",
    "        result = client.predict(\n",
    "                title, # str  in 'Enter your prompt (English)' Textbox component\n",
    "                \"1-Step\",   # Literal['1-Step', '2-Step', '4-Step', '8-Step']  in 'Select inference steps' Dropdown component\n",
    "                api_name=\"/generate_image_1\"\n",
    "        )\n",
    "        file_path = result.split('gradio')[1]\n",
    "        url = 'https://bytedance-sdxl-lightning.hf.space/file=/tmp/gradio' + file_path\n",
    "        print(url)\n",
    "    image_urls = images.append(url)\n",
    "    return image_urls"
   ]
  },
  {
   "cell_type": "code",
   "execution_count": 202,
   "metadata": {},
   "outputs": [
    {
     "name": "stdout",
     "output_type": "stream",
     "text": [
      "Loaded as API: https://bytedance-sdxl-lightning.hf.space ✔\n",
      "['Garlic Chicken Casserole', 'Garlic Chicken Delight', 'Onion and Garlic Frittata']\n",
      "https://bytedance-sdxl-lightning.hf.space/file=/tmp/gradio/5ad355c8b8ff4313b1b69be0e2c71dbc5107c052/image.png\n",
      "https://bytedance-sdxl-lightning.hf.space/file=/tmp/gradio/c2a6de131a3ba59625de2bb2d8f47ec8dd661450/image.png\n",
      "https://bytedance-sdxl-lightning.hf.space/file=/tmp/gradio/89308554693d995718bfae598353cb479ca5252d/image.png\n"
     ]
    }
   ],
   "source": [
    "image_urls = image_generator(final_recipes)"
   ]
  },
  {
   "cell_type": "markdown",
   "metadata": {},
   "source": [
    "### testing image_generator"
   ]
  },
  {
   "cell_type": "code",
   "execution_count": 206,
   "metadata": {},
   "outputs": [
    {
     "name": "stdout",
     "output_type": "stream",
     "text": [
      "ingredients_combinations: \n",
      " [('onion', 'salt'), ('onion', 'chicken'), ('onion', 'tomato'), ('onion', 'garlic'), ('onion', 'cheese'), ('salt', 'chicken'), ('salt', 'tomato'), ('salt', 'garlic'), ('salt', 'cheese'), ('chicken', 'tomato'), ('chicken', 'garlic'), ('chicken', 'cheese'), ('tomato', 'garlic'), ('tomato', 'cheese'), ('garlic', 'cheese'), [('onion', 'salt'), ('onion', 'chicken'), ('salt', 'chicken')], [('onion', 'salt'), ('onion', 'tomato'), ('salt', 'tomato')], [('onion', 'salt'), ('onion', 'garlic'), ('salt', 'garlic')], [('onion', 'salt'), ('onion', 'cheese'), ('salt', 'cheese')], [('onion', 'chicken'), ('onion', 'tomato'), ('chicken', 'tomato')], [('onion', 'chicken'), ('onion', 'garlic'), ('chicken', 'garlic')], [('onion', 'chicken'), ('onion', 'cheese'), ('chicken', 'cheese')], [('onion', 'tomato'), ('onion', 'garlic'), ('tomato', 'garlic')], [('onion', 'tomato'), ('onion', 'cheese'), ('tomato', 'cheese')], [('onion', 'garlic'), ('onion', 'cheese'), ('garlic', 'cheese')], [('salt', 'chicken'), ('salt', 'tomato'), ('chicken', 'tomato')], [('salt', 'chicken'), ('salt', 'garlic'), ('chicken', 'garlic')], [('salt', 'chicken'), ('salt', 'cheese'), ('chicken', 'cheese')], [('salt', 'tomato'), ('salt', 'garlic'), ('tomato', 'garlic')], [('salt', 'tomato'), ('salt', 'cheese'), ('tomato', 'cheese')], [('salt', 'garlic'), ('salt', 'cheese'), ('garlic', 'cheese')], [('chicken', 'tomato'), ('chicken', 'garlic'), ('tomato', 'garlic')], [('chicken', 'tomato'), ('chicken', 'cheese'), ('tomato', 'cheese')], [('chicken', 'garlic'), ('chicken', 'cheese'), ('garlic', 'cheese')], [('tomato', 'garlic'), ('tomato', 'cheese'), ('garlic', 'cheese')], [('onion', 'salt'), ('onion', 'chicken'), ('onion', 'tomato'), ('salt', 'chicken'), ('salt', 'tomato'), ('chicken', 'tomato')], [('onion', 'salt'), ('onion', 'chicken'), ('onion', 'garlic'), ('salt', 'chicken'), ('salt', 'garlic'), ('chicken', 'garlic')], [('onion', 'salt'), ('onion', 'chicken'), ('onion', 'cheese'), ('salt', 'chicken'), ('salt', 'cheese'), ('chicken', 'cheese')], [('onion', 'salt'), ('onion', 'tomato'), ('onion', 'garlic'), ('salt', 'tomato'), ('salt', 'garlic'), ('tomato', 'garlic')], [('onion', 'salt'), ('onion', 'tomato'), ('onion', 'cheese'), ('salt', 'tomato'), ('salt', 'cheese'), ('tomato', 'cheese')], [('onion', 'salt'), ('onion', 'garlic'), ('onion', 'cheese'), ('salt', 'garlic'), ('salt', 'cheese'), ('garlic', 'cheese')], [('onion', 'chicken'), ('onion', 'tomato'), ('onion', 'garlic'), ('chicken', 'tomato'), ('chicken', 'garlic'), ('tomato', 'garlic')], [('onion', 'chicken'), ('onion', 'tomato'), ('onion', 'cheese'), ('chicken', 'tomato'), ('chicken', 'cheese'), ('tomato', 'cheese')], [('onion', 'chicken'), ('onion', 'garlic'), ('onion', 'cheese'), ('chicken', 'garlic'), ('chicken', 'cheese'), ('garlic', 'cheese')], [('onion', 'tomato'), ('onion', 'garlic'), ('onion', 'cheese'), ('tomato', 'garlic'), ('tomato', 'cheese'), ('garlic', 'cheese')], [('salt', 'chicken'), ('salt', 'tomato'), ('salt', 'garlic'), ('chicken', 'tomato'), ('chicken', 'garlic'), ('tomato', 'garlic')], [('salt', 'chicken'), ('salt', 'tomato'), ('salt', 'cheese'), ('chicken', 'tomato'), ('chicken', 'cheese'), ('tomato', 'cheese')], [('salt', 'chicken'), ('salt', 'garlic'), ('salt', 'cheese'), ('chicken', 'garlic'), ('chicken', 'cheese'), ('garlic', 'cheese')], [('salt', 'tomato'), ('salt', 'garlic'), ('salt', 'cheese'), ('tomato', 'garlic'), ('tomato', 'cheese'), ('garlic', 'cheese')], [('chicken', 'tomato'), ('chicken', 'garlic'), ('chicken', 'cheese'), ('tomato', 'garlic'), ('tomato', 'cheese'), ('garlic', 'cheese')], [('onion', 'salt'), ('onion', 'chicken'), ('onion', 'tomato'), ('onion', 'garlic'), ('salt', 'chicken'), ('salt', 'tomato'), ('salt', 'garlic'), ('chicken', 'tomato'), ('chicken', 'garlic'), ('tomato', 'garlic')], [('onion', 'salt'), ('onion', 'chicken'), ('onion', 'tomato'), ('onion', 'cheese'), ('salt', 'chicken'), ('salt', 'tomato'), ('salt', 'cheese'), ('chicken', 'tomato'), ('chicken', 'cheese'), ('tomato', 'cheese')], [('onion', 'salt'), ('onion', 'chicken'), ('onion', 'garlic'), ('onion', 'cheese'), ('salt', 'chicken'), ('salt', 'garlic'), ('salt', 'cheese'), ('chicken', 'garlic'), ('chicken', 'cheese'), ('garlic', 'cheese')], [('onion', 'salt'), ('onion', 'tomato'), ('onion', 'garlic'), ('onion', 'cheese'), ('salt', 'tomato'), ('salt', 'garlic'), ('salt', 'cheese'), ('tomato', 'garlic'), ('tomato', 'cheese'), ('garlic', 'cheese')], [('onion', 'chicken'), ('onion', 'tomato'), ('onion', 'garlic'), ('onion', 'cheese'), ('chicken', 'tomato'), ('chicken', 'garlic'), ('chicken', 'cheese'), ('tomato', 'garlic'), ('tomato', 'cheese'), ('garlic', 'cheese')], [('salt', 'chicken'), ('salt', 'tomato'), ('salt', 'garlic'), ('salt', 'cheese'), ('chicken', 'tomato'), ('chicken', 'garlic'), ('chicken', 'cheese'), ('tomato', 'garlic'), ('tomato', 'cheese'), ('garlic', 'cheese')], [('onion', 'salt'), ('onion', 'chicken'), ('onion', 'tomato'), ('onion', 'garlic'), ('onion', 'cheese'), ('salt', 'chicken'), ('salt', 'tomato'), ('salt', 'garlic'), ('salt', 'cheese'), ('chicken', 'tomato'), ('chicken', 'garlic'), ('chicken', 'cheese'), ('tomato', 'garlic'), ('tomato', 'cheese'), ('garlic', 'cheese')]]\n",
      "\n",
      " df_comb: \n",
      "                                           Combination  \\\n",
      "0                                       (onion, salt)   \n",
      "1                                    (onion, chicken)   \n",
      "2                                     (onion, garlic)   \n",
      "3                                     (onion, cheese)   \n",
      "4                                     (salt, chicken)   \n",
      "5                                      (salt, garlic)   \n",
      "6                                      (salt, cheese)   \n",
      "7                                   (chicken, garlic)   \n",
      "8                                   (chicken, cheese)   \n",
      "9                                    (garlic, cheese)   \n",
      "10  [(onion, salt), (onion, chicken), (salt, chick...   \n",
      "11   [(onion, salt), (onion, tomato), (salt, tomato)]   \n",
      "12   [(onion, salt), (onion, garlic), (salt, garlic)]   \n",
      "13   [(onion, salt), (onion, cheese), (salt, cheese)]   \n",
      "14  [(onion, chicken), (onion, tomato), (chicken, ...   \n",
      "15  [(onion, chicken), (onion, garlic), (chicken, ...   \n",
      "16  [(onion, chicken), (onion, cheese), (chicken, ...   \n",
      "17  [(onion, tomato), (onion, garlic), (tomato, ga...   \n",
      "18  [(onion, tomato), (onion, cheese), (tomato, ch...   \n",
      "19  [(onion, garlic), (onion, cheese), (garlic, ch...   \n",
      "20  [(salt, chicken), (salt, tomato), (chicken, to...   \n",
      "21  [(salt, chicken), (salt, garlic), (chicken, ga...   \n",
      "22  [(salt, chicken), (salt, cheese), (chicken, ch...   \n",
      "23  [(salt, tomato), (salt, garlic), (tomato, garl...   \n",
      "24  [(salt, tomato), (salt, cheese), (tomato, chee...   \n",
      "25  [(salt, garlic), (salt, cheese), (garlic, chee...   \n",
      "26  [(chicken, tomato), (chicken, garlic), (tomato...   \n",
      "27  [(chicken, tomato), (chicken, cheese), (tomato...   \n",
      "28  [(chicken, garlic), (chicken, cheese), (garlic...   \n",
      "29  [(tomato, garlic), (tomato, cheese), (garlic, ...   \n",
      "30  [(onion, salt), (onion, chicken), (onion, toma...   \n",
      "31  [(onion, salt), (onion, chicken), (onion, garl...   \n",
      "32  [(onion, salt), (onion, chicken), (onion, chee...   \n",
      "33  [(onion, salt), (onion, tomato), (onion, garli...   \n",
      "34  [(onion, salt), (onion, tomato), (onion, chees...   \n",
      "35  [(onion, salt), (onion, garlic), (onion, chees...   \n",
      "36  [(onion, chicken), (onion, tomato), (onion, ga...   \n",
      "37  [(onion, chicken), (onion, tomato), (onion, ch...   \n",
      "38  [(onion, chicken), (onion, garlic), (onion, ch...   \n",
      "39  [(onion, tomato), (onion, garlic), (onion, che...   \n",
      "40  [(salt, chicken), (salt, tomato), (salt, garli...   \n",
      "41  [(salt, chicken), (salt, tomato), (salt, chees...   \n",
      "42  [(salt, chicken), (salt, garlic), (salt, chees...   \n",
      "43  [(salt, tomato), (salt, garlic), (salt, cheese...   \n",
      "44  [(chicken, tomato), (chicken, garlic), (chicke...   \n",
      "45  [(onion, salt), (onion, chicken), (onion, toma...   \n",
      "46  [(onion, salt), (onion, chicken), (onion, toma...   \n",
      "47  [(onion, salt), (onion, chicken), (onion, garl...   \n",
      "48  [(onion, salt), (onion, tomato), (onion, garli...   \n",
      "49  [(onion, chicken), (onion, tomato), (onion, ga...   \n",
      "50  [(salt, chicken), (salt, tomato), (salt, garli...   \n",
      "51  [(onion, salt), (onion, chicken), (onion, toma...   \n",
      "\n",
      "                                                Score  \n",
      "0                                [2.0670735182650013]  \n",
      "1                                [1.3248796627107513]  \n",
      "2                                [1.4235409132992736]  \n",
      "3                                [1.4120038875676597]  \n",
      "4                                [1.4353972677154387]  \n",
      "5                                [1.5533159218950603]  \n",
      "6                                [1.3703804244076925]  \n",
      "7                                [1.1800811339314616]  \n",
      "8                                [1.0177501859513405]  \n",
      "9                                [1.0944496012124034]  \n",
      "10  [2.0670735182650013, 1.3248796627107513, 1.435...  \n",
      "11                       [2.0670735182650013, -5, -5]  \n",
      "12  [2.0670735182650013, 1.4235409132992736, 1.553...  \n",
      "13  [2.0670735182650013, 1.4120038875676597, 1.370...  \n",
      "14                       [1.3248796627107513, -5, -5]  \n",
      "15  [1.3248796627107513, 1.4235409132992736, 1.180...  \n",
      "16  [1.3248796627107513, 1.4120038875676597, 1.017...  \n",
      "17                       [-5, 1.4235409132992736, -5]  \n",
      "18                       [-5, 1.4120038875676597, -5]  \n",
      "19  [1.4235409132992736, 1.4120038875676597, 1.094...  \n",
      "20                       [1.4353972677154387, -5, -5]  \n",
      "21  [1.4353972677154387, 1.5533159218950603, 1.180...  \n",
      "22  [1.4353972677154387, 1.3703804244076925, 1.017...  \n",
      "23                       [-5, 1.5533159218950603, -5]  \n",
      "24                       [-5, 1.3703804244076925, -5]  \n",
      "25  [1.5533159218950603, 1.3703804244076925, 1.094...  \n",
      "26                       [-5, 1.1800811339314616, -5]  \n",
      "27                       [-5, 1.0177501859513405, -5]  \n",
      "28  [1.1800811339314616, 1.0177501859513405, 1.094...  \n",
      "29                       [-5, -5, 1.0944496012124034]  \n",
      "30  [2.0670735182650013, 1.3248796627107513, -5, 1...  \n",
      "31  [2.0670735182650013, 1.3248796627107513, 1.423...  \n",
      "32  [2.0670735182650013, 1.3248796627107513, 1.412...  \n",
      "33  [2.0670735182650013, -5, 1.4235409132992736, -...  \n",
      "34  [2.0670735182650013, -5, 1.4120038875676597, -...  \n",
      "35  [2.0670735182650013, 1.4235409132992736, 1.412...  \n",
      "36  [1.3248796627107513, -5, 1.4235409132992736, -...  \n",
      "37  [1.3248796627107513, -5, 1.4120038875676597, -...  \n",
      "38  [1.3248796627107513, 1.4235409132992736, 1.412...  \n",
      "39  [-5, 1.4235409132992736, 1.4120038875676597, -...  \n",
      "40  [1.4353972677154387, -5, 1.5533159218950603, -...  \n",
      "41  [1.4353972677154387, -5, 1.3703804244076925, -...  \n",
      "42  [1.4353972677154387, 1.5533159218950603, 1.370...  \n",
      "43  [-5, 1.5533159218950603, 1.3703804244076925, -...  \n",
      "44  [-5, 1.1800811339314616, 1.0177501859513405, -...  \n",
      "45  [2.0670735182650013, 1.3248796627107513, -5, 1...  \n",
      "46  [2.0670735182650013, 1.3248796627107513, -5, 1...  \n",
      "47  [2.0670735182650013, 1.3248796627107513, 1.423...  \n",
      "48  [2.0670735182650013, -5, 1.4235409132992736, 1...  \n",
      "49  [1.3248796627107513, -5, 1.4235409132992736, 1...  \n",
      "50  [1.4353972677154387, -5, 1.5533159218950603, 1...  \n",
      "51  [2.0670735182650013, 1.3248796627107513, -5, 1...  \n",
      "\n",
      " ingredients_list: \n",
      " [['onion', 'salt', 'chicken', 'garlic', 'cheese'], ['onion', 'salt', 'garlic', 'chicken'], ['onion', 'salt', 'garlic', 'cheese']]\n"
     ]
    },
    {
     "name": "stdout",
     "output_type": "stream",
     "text": [
      "\n",
      " recipe_list: \n",
      " [{'title': 'Chicken and Cheesy Delight', 'ingredients': '* 1 chicken breast\\n* 1 medium onion, diced\\n* 3 cloves of garlic, minced\\n* 1 tsp salt\\n* 1/4 cup shredded cheese', 'directions': '1. Preheat the oven to 375°F (190°C).\\n2. In a small bowl, mix together minced garlic and salt.\\n3. Place the chicken breast in a baking dish and brush the garlic-salt mixture evenly over both sides of the chicken.\\n4. Top the chicken with diced onion and shredded cheese.\\n5. Bake in the preheated oven for 30-40 minutes or until the chicken is cooked through and the cheese is melted and golden brown.'}, {'title': 'Garlic Chicken Delight', 'ingredients': '• 1 onion, chopped\\n• 1 lb chicken\\n• 2 cloves garlic, minced\\n• Salt, to taste', 'directions': '• Preheat oven to 375°F (190°C).\\n• Season the chicken with salt and mix well.\\n• Heat a pan with a little oil and sauté the chopped onion until softened.\\n• Add the minced garlic and cook for 1 minute.\\n• Add the seasoned chicken to the pan and cook until browned on both sides.\\n• Transfer the chicken to a baking dish and bake for 20-25 minutes or until cooked through.\\n• Serve hot.'}, {'title': 'Cheesy Onion Spread', 'ingredients': '* 1 medium onion, finely chopped\\n* 1/2 teaspoon salt\\n* 2 cloves garlic, minced\\n* 1/4 cup shredded cheese', 'directions': '1. In a pan, sauté the chopped onion with salt and garlic until the onion is translucent and slightly caramelized.\\n2. Remove from heat and stir in the shredded cheese until melted and well combined.\\n3. Serve hot or at room temperature as a dip or spread.'}]\n",
      "\n",
      " scores: [0.44230547134892567, 0.4772274107205349, 0.512621040157198]\n",
      "{'title': ['Chicken and Cheesy Delight', 'Garlic Chicken Delight', 'Cheesy Onion Spread'], 'ingredients': ['* 1 chicken breast\\n* 1 medium onion, diced\\n* 3 cloves of garlic, minced\\n* 1 tsp salt\\n* 1/4 cup shredded cheese', '• 1 onion, chopped\\n• 1 lb chicken\\n• 2 cloves garlic, minced\\n• Salt, to taste', '* 1 medium onion, finely chopped\\n* 1/2 teaspoon salt\\n* 2 cloves garlic, minced\\n* 1/4 cup shredded cheese'], 'directions': ['1. Preheat the oven to 375°F (190°C).\\n2. In a small bowl, mix together minced garlic and salt.\\n3. Place the chicken breast in a baking dish and brush the garlic-salt mixture evenly over both sides of the chicken.\\n4. Top the chicken with diced onion and shredded cheese.\\n5. Bake in the preheated oven for 30-40 minutes or until the chicken is cooked through and the cheese is melted and golden brown.', '• Preheat oven to 375°F (190°C).\\n• Season the chicken with salt and mix well.\\n• Heat a pan with a little oil and sauté the chopped onion until softened.\\n• Add the minced garlic and cook for 1 minute.\\n• Add the seasoned chicken to the pan and cook until browned on both sides.\\n• Transfer the chicken to a baking dish and bake for 20-25 minutes or until cooked through.\\n• Serve hot.', '1. In a pan, sauté the chopped onion with salt and garlic until the onion is translucent and slightly caramelized.\\n2. Remove from heat and stir in the shredded cheese until melted and well combined.\\n3. Serve hot or at room temperature as a dip or spread.']}\n"
     ]
    }
   ],
   "source": [
    "ingredients_input = 'chicken, onion, garlic, cheese, tomato, salt'\n",
    "\n",
    "ingredients_combinations = combinations_of_two(ingredients_input)\n",
    "print('ingredients_combinations: \\n', ingredients_combinations)\n",
    "\n",
    "df_comb = data_query(ingredients_combinations)\n",
    "print('\\n df_comb: \\n', df_comb)\n",
    "\n",
    "ingredients_list = muse_comb(df_comb)\n",
    "print('\\n ingredients_list: \\n', ingredients_list)\n",
    "\n",
    "recipe_list = recipe_generator(ingredients_list)\n",
    "print('\\n recipe_list: \\n', recipe_list)\n",
    "\n",
    "scores = get_scores(recipe_list)\n",
    "print('\\n scores:', scores)\n",
    "\n",
    "final_recipes = get_final_recipes(recipe_list, scores, model)\n",
    "print(final_recipes)\n",
    "\n",
    "image_generator(final_recipes)\n"
   ]
  },
  {
   "cell_type": "code",
   "execution_count": 207,
   "metadata": {},
   "outputs": [],
   "source": [
    "final_recipes = {'title': ['Chicken and Cheesy Delight', 'Garlic Chicken Delight', 'Cheesy Onion Spread'], 'ingredients': ['* 1 chicken breast\\n* 1 medium onion, diced\\n* 3 cloves of garlic, minced\\n* 1 tsp salt\\n* 1/4 cup shredded cheese', '• 1 onion, chopped\\n• 1 lb chicken\\n• 2 cloves garlic, minced\\n• Salt, to taste', '* 1 medium onion, finely chopped\\n* 1/2 teaspoon salt\\n* 2 cloves garlic, minced\\n* 1/4 cup shredded cheese'], 'directions': ['1. Preheat the oven to 375°F (190°C).\\n2. In a small bowl, mix together minced garlic and salt.\\n3. Place the chicken breast in a baking dish and brush the garlic-salt mixture evenly over both sides of the chicken.\\n4. Top the chicken with diced onion and shredded cheese.\\n5. Bake in the preheated oven for 30-40 minutes or until the chicken is cooked through and the cheese is melted and golden brown.', '• Preheat oven to 375°F (190°C).\\n• Season the chicken with salt and mix well.\\n• Heat a pan with a little oil and sauté the chopped onion until softened.\\n• Add the minced garlic and cook for 1 minute.\\n• Add the seasoned chicken to the pan and cook until browned on both sides.\\n• Transfer the chicken to a baking dish and bake for 20-25 minutes or until cooked through.\\n• Serve hot.', '1. In a pan, sauté the chopped onion with salt and garlic until the onion is translucent and slightly caramelized.\\n2. Remove from heat and stir in the shredded cheese until melted and well combined.\\n3. Serve hot or at room temperature as a dip or spread.']}"
   ]
  },
  {
   "cell_type": "code",
   "execution_count": 208,
   "metadata": {},
   "outputs": [
    {
     "name": "stdout",
     "output_type": "stream",
     "text": [
      "Loaded as API: https://bytedance-sdxl-lightning.hf.space ✔\n",
      "['Chicken and Cheesy Delight', 'Garlic Chicken Delight', 'Cheesy Onion Spread']\n",
      "https://bytedance-sdxl-lightning.hf.space/file=/tmp/gradio/af36de5d85fbe9660b2c6e9c95d0d8f37e2e84d1/image.png\n"
     ]
    },
    {
     "ename": "QueueError",
     "evalue": "Queue is full! Please try again.",
     "output_type": "error",
     "traceback": [
      "\u001b[0;31m---------------------------------------------------------------------------\u001b[0m",
      "\u001b[0;31mQueueError\u001b[0m                                Traceback (most recent call last)",
      "Cell \u001b[0;32mIn [208], line 1\u001b[0m\n\u001b[0;32m----> 1\u001b[0m \u001b[43mimage_generator\u001b[49m\u001b[43m(\u001b[49m\u001b[43mfinal_recipes\u001b[49m\u001b[43m)\u001b[49m\n",
      "Cell \u001b[0;32mIn [200], line 13\u001b[0m, in \u001b[0;36mimage_generator\u001b[0;34m(final_recipes)\u001b[0m\n\u001b[1;32m     11\u001b[0m images \u001b[38;5;241m=\u001b[39m []\n\u001b[1;32m     12\u001b[0m \u001b[38;5;28;01mfor\u001b[39;00m title \u001b[38;5;129;01min\u001b[39;00m titles:\n\u001b[0;32m---> 13\u001b[0m     result \u001b[38;5;241m=\u001b[39m \u001b[43mclient\u001b[49m\u001b[38;5;241;43m.\u001b[39;49m\u001b[43mpredict\u001b[49m\u001b[43m(\u001b[49m\n\u001b[1;32m     14\u001b[0m \u001b[43m            \u001b[49m\u001b[43mtitle\u001b[49m\u001b[43m,\u001b[49m\u001b[43m \u001b[49m\u001b[38;5;66;43;03m# str  in 'Enter your prompt (English)' Textbox component\u001b[39;49;00m\n\u001b[1;32m     15\u001b[0m \u001b[43m            \u001b[49m\u001b[38;5;124;43m\"\u001b[39;49m\u001b[38;5;124;43m1-Step\u001b[39;49m\u001b[38;5;124;43m\"\u001b[39;49m\u001b[43m,\u001b[49m\u001b[43m   \u001b[49m\u001b[38;5;66;43;03m# Literal['1-Step', '2-Step', '4-Step', '8-Step']  in 'Select inference steps' Dropdown component\u001b[39;49;00m\n\u001b[1;32m     16\u001b[0m \u001b[43m            \u001b[49m\u001b[43mapi_name\u001b[49m\u001b[38;5;241;43m=\u001b[39;49m\u001b[38;5;124;43m\"\u001b[39;49m\u001b[38;5;124;43m/generate_image_1\u001b[39;49m\u001b[38;5;124;43m\"\u001b[39;49m\n\u001b[1;32m     17\u001b[0m \u001b[43m    \u001b[49m\u001b[43m)\u001b[49m\n\u001b[1;32m     18\u001b[0m     file_path \u001b[38;5;241m=\u001b[39m result\u001b[38;5;241m.\u001b[39msplit(\u001b[38;5;124m'\u001b[39m\u001b[38;5;124mgradio\u001b[39m\u001b[38;5;124m'\u001b[39m)[\u001b[38;5;241m1\u001b[39m]\n\u001b[1;32m     19\u001b[0m     url \u001b[38;5;241m=\u001b[39m \u001b[38;5;124m'\u001b[39m\u001b[38;5;124mhttps://bytedance-sdxl-lightning.hf.space/file=/tmp/gradio\u001b[39m\u001b[38;5;124m'\u001b[39m \u001b[38;5;241m+\u001b[39m file_path\n",
      "File \u001b[0;32m~/.pyenv/versions/3.10.6/envs/lewagon/lib/python3.10/site-packages/gradio_client/client.py:459\u001b[0m, in \u001b[0;36mClient.predict\u001b[0;34m(self, api_name, fn_index, *args, **kwargs)\u001b[0m\n\u001b[1;32m    453\u001b[0m \u001b[38;5;28;01mif\u001b[39;00m \u001b[38;5;28mself\u001b[39m\u001b[38;5;241m.\u001b[39mendpoints[inferred_fn_index]\u001b[38;5;241m.\u001b[39mis_continuous:\n\u001b[1;32m    454\u001b[0m     \u001b[38;5;28;01mraise\u001b[39;00m \u001b[38;5;167;01mValueError\u001b[39;00m(\n\u001b[1;32m    455\u001b[0m         \u001b[38;5;124m\"\u001b[39m\u001b[38;5;124mCannot call predict on this function as it may run forever. Use submit instead.\u001b[39m\u001b[38;5;124m\"\u001b[39m\n\u001b[1;32m    456\u001b[0m     )\n\u001b[1;32m    457\u001b[0m \u001b[38;5;28;01mreturn\u001b[39;00m \u001b[38;5;28;43mself\u001b[39;49m\u001b[38;5;241;43m.\u001b[39;49m\u001b[43msubmit\u001b[49m\u001b[43m(\u001b[49m\n\u001b[1;32m    458\u001b[0m \u001b[43m    \u001b[49m\u001b[38;5;241;43m*\u001b[39;49m\u001b[43margs\u001b[49m\u001b[43m,\u001b[49m\u001b[43m \u001b[49m\u001b[43mapi_name\u001b[49m\u001b[38;5;241;43m=\u001b[39;49m\u001b[43mapi_name\u001b[49m\u001b[43m,\u001b[49m\u001b[43m \u001b[49m\u001b[43mfn_index\u001b[49m\u001b[38;5;241;43m=\u001b[39;49m\u001b[43mfn_index\u001b[49m\u001b[43m,\u001b[49m\u001b[43m \u001b[49m\u001b[38;5;241;43m*\u001b[39;49m\u001b[38;5;241;43m*\u001b[39;49m\u001b[43mkwargs\u001b[49m\n\u001b[0;32m--> 459\u001b[0m \u001b[43m\u001b[49m\u001b[43m)\u001b[49m\u001b[38;5;241;43m.\u001b[39;49m\u001b[43mresult\u001b[49m\u001b[43m(\u001b[49m\u001b[43m)\u001b[49m\n",
      "File \u001b[0;32m~/.pyenv/versions/3.10.6/envs/lewagon/lib/python3.10/site-packages/gradio_client/client.py:1374\u001b[0m, in \u001b[0;36mJob.result\u001b[0;34m(self, timeout)\u001b[0m\n\u001b[1;32m   1359\u001b[0m \u001b[38;5;28;01mdef\u001b[39;00m \u001b[38;5;21mresult\u001b[39m(\u001b[38;5;28mself\u001b[39m, timeout: \u001b[38;5;28mfloat\u001b[39m \u001b[38;5;241m|\u001b[39m \u001b[38;5;28;01mNone\u001b[39;00m \u001b[38;5;241m=\u001b[39m \u001b[38;5;28;01mNone\u001b[39;00m) \u001b[38;5;241m-\u001b[39m\u001b[38;5;241m>\u001b[39m Any:\n\u001b[1;32m   1360\u001b[0m     \u001b[38;5;124;03m\"\"\"\u001b[39;00m\n\u001b[1;32m   1361\u001b[0m \u001b[38;5;124;03m    Return the result of the call that the future represents. Raises CancelledError: If the future was cancelled, TimeoutError: If the future didn't finish executing before the given timeout, and Exception: If the call raised then that exception will be raised.\u001b[39;00m\n\u001b[1;32m   1362\u001b[0m \n\u001b[0;32m   (...)\u001b[0m\n\u001b[1;32m   1372\u001b[0m \u001b[38;5;124;03m        >> 9\u001b[39;00m\n\u001b[1;32m   1373\u001b[0m \u001b[38;5;124;03m    \"\"\"\u001b[39;00m\n\u001b[0;32m-> 1374\u001b[0m     \u001b[38;5;28;01mreturn\u001b[39;00m \u001b[38;5;28;43msuper\u001b[39;49m\u001b[43m(\u001b[49m\u001b[43m)\u001b[49m\u001b[38;5;241;43m.\u001b[39;49m\u001b[43mresult\u001b[49m\u001b[43m(\u001b[49m\u001b[43mtimeout\u001b[49m\u001b[38;5;241;43m=\u001b[39;49m\u001b[43mtimeout\u001b[49m\u001b[43m)\u001b[49m\n",
      "File \u001b[0;32m~/.pyenv/versions/3.10.6/lib/python3.10/concurrent/futures/_base.py:458\u001b[0m, in \u001b[0;36mFuture.result\u001b[0;34m(self, timeout)\u001b[0m\n\u001b[1;32m    456\u001b[0m     \u001b[38;5;28;01mraise\u001b[39;00m CancelledError()\n\u001b[1;32m    457\u001b[0m \u001b[38;5;28;01melif\u001b[39;00m \u001b[38;5;28mself\u001b[39m\u001b[38;5;241m.\u001b[39m_state \u001b[38;5;241m==\u001b[39m FINISHED:\n\u001b[0;32m--> 458\u001b[0m     \u001b[38;5;28;01mreturn\u001b[39;00m \u001b[38;5;28;43mself\u001b[39;49m\u001b[38;5;241;43m.\u001b[39;49m\u001b[43m__get_result\u001b[49m\u001b[43m(\u001b[49m\u001b[43m)\u001b[49m\n\u001b[1;32m    459\u001b[0m \u001b[38;5;28;01melse\u001b[39;00m:\n\u001b[1;32m    460\u001b[0m     \u001b[38;5;28;01mraise\u001b[39;00m \u001b[38;5;167;01mTimeoutError\u001b[39;00m()\n",
      "File \u001b[0;32m~/.pyenv/versions/3.10.6/lib/python3.10/concurrent/futures/_base.py:403\u001b[0m, in \u001b[0;36mFuture.__get_result\u001b[0;34m(self)\u001b[0m\n\u001b[1;32m    401\u001b[0m \u001b[38;5;28;01mif\u001b[39;00m \u001b[38;5;28mself\u001b[39m\u001b[38;5;241m.\u001b[39m_exception:\n\u001b[1;32m    402\u001b[0m     \u001b[38;5;28;01mtry\u001b[39;00m:\n\u001b[0;32m--> 403\u001b[0m         \u001b[38;5;28;01mraise\u001b[39;00m \u001b[38;5;28mself\u001b[39m\u001b[38;5;241m.\u001b[39m_exception\n\u001b[1;32m    404\u001b[0m     \u001b[38;5;28;01mfinally\u001b[39;00m:\n\u001b[1;32m    405\u001b[0m         \u001b[38;5;66;03m# Break a reference cycle with the exception in self._exception\u001b[39;00m\n\u001b[1;32m    406\u001b[0m         \u001b[38;5;28mself\u001b[39m \u001b[38;5;241m=\u001b[39m \u001b[38;5;28;01mNone\u001b[39;00m\n",
      "File \u001b[0;32m~/.pyenv/versions/3.10.6/lib/python3.10/concurrent/futures/thread.py:58\u001b[0m, in \u001b[0;36m_WorkItem.run\u001b[0;34m(self)\u001b[0m\n\u001b[1;32m     55\u001b[0m     \u001b[38;5;28;01mreturn\u001b[39;00m\n\u001b[1;32m     57\u001b[0m \u001b[38;5;28;01mtry\u001b[39;00m:\n\u001b[0;32m---> 58\u001b[0m     result \u001b[38;5;241m=\u001b[39m \u001b[38;5;28;43mself\u001b[39;49m\u001b[38;5;241;43m.\u001b[39;49m\u001b[43mfn\u001b[49m\u001b[43m(\u001b[49m\u001b[38;5;241;43m*\u001b[39;49m\u001b[38;5;28;43mself\u001b[39;49m\u001b[38;5;241;43m.\u001b[39;49m\u001b[43margs\u001b[49m\u001b[43m,\u001b[49m\u001b[43m \u001b[49m\u001b[38;5;241;43m*\u001b[39;49m\u001b[38;5;241;43m*\u001b[39;49m\u001b[38;5;28;43mself\u001b[39;49m\u001b[38;5;241;43m.\u001b[39;49m\u001b[43mkwargs\u001b[49m\u001b[43m)\u001b[49m\n\u001b[1;32m     59\u001b[0m \u001b[38;5;28;01mexcept\u001b[39;00m \u001b[38;5;167;01mBaseException\u001b[39;00m \u001b[38;5;28;01mas\u001b[39;00m exc:\n\u001b[1;32m     60\u001b[0m     \u001b[38;5;28mself\u001b[39m\u001b[38;5;241m.\u001b[39mfuture\u001b[38;5;241m.\u001b[39mset_exception(exc)\n",
      "File \u001b[0;32m~/.pyenv/versions/3.10.6/envs/lewagon/lib/python3.10/site-packages/gradio_client/client.py:1092\u001b[0m, in \u001b[0;36mEndpoint.make_end_to_end_fn.<locals>._inner\u001b[0;34m(*data)\u001b[0m\n\u001b[1;32m   1090\u001b[0m data \u001b[38;5;241m=\u001b[39m \u001b[38;5;28mself\u001b[39m\u001b[38;5;241m.\u001b[39minsert_empty_state(\u001b[38;5;241m*\u001b[39mdata)\n\u001b[1;32m   1091\u001b[0m data \u001b[38;5;241m=\u001b[39m \u001b[38;5;28mself\u001b[39m\u001b[38;5;241m.\u001b[39mprocess_input_files(\u001b[38;5;241m*\u001b[39mdata)\n\u001b[0;32m-> 1092\u001b[0m predictions \u001b[38;5;241m=\u001b[39m \u001b[43m_predict\u001b[49m\u001b[43m(\u001b[49m\u001b[38;5;241;43m*\u001b[39;49m\u001b[43mdata\u001b[49m\u001b[43m)\u001b[49m\n\u001b[1;32m   1093\u001b[0m predictions \u001b[38;5;241m=\u001b[39m \u001b[38;5;28mself\u001b[39m\u001b[38;5;241m.\u001b[39mprocess_predictions(\u001b[38;5;241m*\u001b[39mpredictions)\n\u001b[1;32m   1095\u001b[0m \u001b[38;5;66;03m# Append final output only if not already present\u001b[39;00m\n\u001b[1;32m   1096\u001b[0m \u001b[38;5;66;03m# for consistency between generators and not generators\u001b[39;00m\n",
      "File \u001b[0;32m~/.pyenv/versions/3.10.6/envs/lewagon/lib/python3.10/site-packages/gradio_client/client.py:1123\u001b[0m, in \u001b[0;36mEndpoint.make_predict.<locals>._predict\u001b[0;34m(*data)\u001b[0m\n\u001b[1;32m   1119\u001b[0m     result \u001b[38;5;241m=\u001b[39m utils\u001b[38;5;241m.\u001b[39msynchronize_async(\n\u001b[1;32m   1120\u001b[0m         \u001b[38;5;28mself\u001b[39m\u001b[38;5;241m.\u001b[39m_sse_fn_v0, data, hash_data, helper\n\u001b[1;32m   1121\u001b[0m     )\n\u001b[1;32m   1122\u001b[0m \u001b[38;5;28;01melif\u001b[39;00m \u001b[38;5;28mself\u001b[39m\u001b[38;5;241m.\u001b[39mprotocol \u001b[38;5;129;01min\u001b[39;00m (\u001b[38;5;124m\"\u001b[39m\u001b[38;5;124msse_v1\u001b[39m\u001b[38;5;124m\"\u001b[39m, \u001b[38;5;124m\"\u001b[39m\u001b[38;5;124msse_v2\u001b[39m\u001b[38;5;124m\"\u001b[39m, \u001b[38;5;124m\"\u001b[39m\u001b[38;5;124msse_v2.1\u001b[39m\u001b[38;5;124m\"\u001b[39m, \u001b[38;5;124m\"\u001b[39m\u001b[38;5;124msse_v3\u001b[39m\u001b[38;5;124m\"\u001b[39m):\n\u001b[0;32m-> 1123\u001b[0m     event_id \u001b[38;5;241m=\u001b[39m \u001b[43mutils\u001b[49m\u001b[38;5;241;43m.\u001b[39;49m\u001b[43msynchronize_async\u001b[49m\u001b[43m(\u001b[49m\n\u001b[1;32m   1124\u001b[0m \u001b[43m        \u001b[49m\u001b[38;5;28;43mself\u001b[39;49m\u001b[38;5;241;43m.\u001b[39;49m\u001b[43mclient\u001b[49m\u001b[38;5;241;43m.\u001b[39;49m\u001b[43msend_data\u001b[49m\u001b[43m,\u001b[49m\u001b[43m \u001b[49m\u001b[43mdata\u001b[49m\u001b[43m,\u001b[49m\u001b[43m \u001b[49m\u001b[43mhash_data\u001b[49m\u001b[43m,\u001b[49m\u001b[43m \u001b[49m\u001b[38;5;28;43mself\u001b[39;49m\u001b[38;5;241;43m.\u001b[39;49m\u001b[43mprotocol\u001b[49m\n\u001b[1;32m   1125\u001b[0m \u001b[43m    \u001b[49m\u001b[43m)\u001b[49m\n\u001b[1;32m   1126\u001b[0m     \u001b[38;5;28mself\u001b[39m\u001b[38;5;241m.\u001b[39mclient\u001b[38;5;241m.\u001b[39mpending_event_ids\u001b[38;5;241m.\u001b[39madd(event_id)\n\u001b[1;32m   1127\u001b[0m     \u001b[38;5;28mself\u001b[39m\u001b[38;5;241m.\u001b[39mclient\u001b[38;5;241m.\u001b[39mpending_messages_per_event[event_id] \u001b[38;5;241m=\u001b[39m []\n",
      "File \u001b[0;32m~/.pyenv/versions/3.10.6/envs/lewagon/lib/python3.10/site-packages/gradio_client/utils.py:858\u001b[0m, in \u001b[0;36msynchronize_async\u001b[0;34m(func, *args, **kwargs)\u001b[0m\n\u001b[1;32m    845\u001b[0m \u001b[38;5;28;01mdef\u001b[39;00m \u001b[38;5;21msynchronize_async\u001b[39m(func: Callable, \u001b[38;5;241m*\u001b[39margs, \u001b[38;5;241m*\u001b[39m\u001b[38;5;241m*\u001b[39mkwargs) \u001b[38;5;241m-\u001b[39m\u001b[38;5;241m>\u001b[39m Any:\n\u001b[1;32m    846\u001b[0m     \u001b[38;5;124;03m\"\"\"\u001b[39;00m\n\u001b[1;32m    847\u001b[0m \u001b[38;5;124;03m    Runs async functions in sync scopes. Can be used in any scope.\u001b[39;00m\n\u001b[1;32m    848\u001b[0m \n\u001b[0;32m   (...)\u001b[0m\n\u001b[1;32m    856\u001b[0m \u001b[38;5;124;03m        **kwargs:\u001b[39;00m\n\u001b[1;32m    857\u001b[0m \u001b[38;5;124;03m    \"\"\"\u001b[39;00m\n\u001b[0;32m--> 858\u001b[0m     \u001b[38;5;28;01mreturn\u001b[39;00m \u001b[43mfsspec\u001b[49m\u001b[38;5;241;43m.\u001b[39;49m\u001b[43masyn\u001b[49m\u001b[38;5;241;43m.\u001b[39;49m\u001b[43msync\u001b[49m\u001b[43m(\u001b[49m\u001b[43mfsspec\u001b[49m\u001b[38;5;241;43m.\u001b[39;49m\u001b[43masyn\u001b[49m\u001b[38;5;241;43m.\u001b[39;49m\u001b[43mget_loop\u001b[49m\u001b[43m(\u001b[49m\u001b[43m)\u001b[49m\u001b[43m,\u001b[49m\u001b[43m \u001b[49m\u001b[43mfunc\u001b[49m\u001b[43m,\u001b[49m\u001b[43m \u001b[49m\u001b[38;5;241;43m*\u001b[39;49m\u001b[43margs\u001b[49m\u001b[43m,\u001b[49m\u001b[43m \u001b[49m\u001b[38;5;241;43m*\u001b[39;49m\u001b[38;5;241;43m*\u001b[39;49m\u001b[43mkwargs\u001b[49m\u001b[43m)\u001b[49m\n",
      "File \u001b[0;32m~/.pyenv/versions/3.10.6/envs/lewagon/lib/python3.10/site-packages/fsspec/asyn.py:103\u001b[0m, in \u001b[0;36msync\u001b[0;34m(loop, func, timeout, *args, **kwargs)\u001b[0m\n\u001b[1;32m    101\u001b[0m     \u001b[38;5;28;01mraise\u001b[39;00m FSTimeoutError \u001b[38;5;28;01mfrom\u001b[39;00m \u001b[38;5;21;01mreturn_result\u001b[39;00m\n\u001b[1;32m    102\u001b[0m \u001b[38;5;28;01melif\u001b[39;00m \u001b[38;5;28misinstance\u001b[39m(return_result, \u001b[38;5;167;01mBaseException\u001b[39;00m):\n\u001b[0;32m--> 103\u001b[0m     \u001b[38;5;28;01mraise\u001b[39;00m return_result\n\u001b[1;32m    104\u001b[0m \u001b[38;5;28;01melse\u001b[39;00m:\n\u001b[1;32m    105\u001b[0m     \u001b[38;5;28;01mreturn\u001b[39;00m return_result\n",
      "File \u001b[0;32m~/.pyenv/versions/3.10.6/envs/lewagon/lib/python3.10/site-packages/fsspec/asyn.py:56\u001b[0m, in \u001b[0;36m_runner\u001b[0;34m(event, coro, result, timeout)\u001b[0m\n\u001b[1;32m     54\u001b[0m     coro \u001b[38;5;241m=\u001b[39m asyncio\u001b[38;5;241m.\u001b[39mwait_for(coro, timeout\u001b[38;5;241m=\u001b[39mtimeout)\n\u001b[1;32m     55\u001b[0m \u001b[38;5;28;01mtry\u001b[39;00m:\n\u001b[0;32m---> 56\u001b[0m     result[\u001b[38;5;241m0\u001b[39m] \u001b[38;5;241m=\u001b[39m \u001b[38;5;28;01mawait\u001b[39;00m coro\n\u001b[1;32m     57\u001b[0m \u001b[38;5;28;01mexcept\u001b[39;00m \u001b[38;5;167;01mException\u001b[39;00m \u001b[38;5;28;01mas\u001b[39;00m ex:\n\u001b[1;32m     58\u001b[0m     result[\u001b[38;5;241m0\u001b[39m] \u001b[38;5;241m=\u001b[39m ex\n",
      "File \u001b[0;32m~/.pyenv/versions/3.10.6/envs/lewagon/lib/python3.10/site-packages/gradio_client/client.py:285\u001b[0m, in \u001b[0;36mClient.send_data\u001b[0;34m(self, data, hash_data, protocol)\u001b[0m\n\u001b[1;32m    278\u001b[0m     req \u001b[38;5;241m=\u001b[39m \u001b[38;5;28;01mawait\u001b[39;00m client\u001b[38;5;241m.\u001b[39mpost(\n\u001b[1;32m    279\u001b[0m         \u001b[38;5;28mself\u001b[39m\u001b[38;5;241m.\u001b[39msse_data_url,\n\u001b[1;32m    280\u001b[0m         json\u001b[38;5;241m=\u001b[39m{\u001b[38;5;241m*\u001b[39m\u001b[38;5;241m*\u001b[39mdata, \u001b[38;5;241m*\u001b[39m\u001b[38;5;241m*\u001b[39mhash_data},\n\u001b[1;32m    281\u001b[0m         headers\u001b[38;5;241m=\u001b[39m\u001b[38;5;28mself\u001b[39m\u001b[38;5;241m.\u001b[39mheaders,\n\u001b[1;32m    282\u001b[0m         cookies\u001b[38;5;241m=\u001b[39m\u001b[38;5;28mself\u001b[39m\u001b[38;5;241m.\u001b[39mcookies,\n\u001b[1;32m    283\u001b[0m     )\n\u001b[1;32m    284\u001b[0m \u001b[38;5;28;01mif\u001b[39;00m req\u001b[38;5;241m.\u001b[39mstatus_code \u001b[38;5;241m==\u001b[39m \u001b[38;5;241m503\u001b[39m:\n\u001b[0;32m--> 285\u001b[0m     \u001b[38;5;28;01mraise\u001b[39;00m QueueError(\u001b[38;5;124m\"\u001b[39m\u001b[38;5;124mQueue is full! Please try again.\u001b[39m\u001b[38;5;124m\"\u001b[39m)\n\u001b[1;32m    286\u001b[0m req\u001b[38;5;241m.\u001b[39mraise_for_status()\n\u001b[1;32m    287\u001b[0m resp \u001b[38;5;241m=\u001b[39m req\u001b[38;5;241m.\u001b[39mjson()\n",
      "\u001b[0;31mQueueError\u001b[0m: Queue is full! Please try again."
     ]
    }
   ],
   "source": [
    "image_generator(final_recipes)"
   ]
  },
  {
   "cell_type": "markdown",
   "metadata": {},
   "source": [
    "# app.py stuff"
   ]
  },
  {
   "cell_type": "code",
   "execution_count": 205,
   "metadata": {},
   "outputs": [
    {
     "name": "stderr",
     "output_type": "stream",
     "text": [
      "2024-05-24 23:11:46.331 \n",
      "  \u001b[33m\u001b[1mWarning:\u001b[0m to view this Streamlit app on a browser, run it with the following\n",
      "  command:\n",
      "\n",
      "    streamlit run /home/tjyana/.pyenv/versions/3.10.6/envs/lewagon/lib/python3.10/site-packages/ipykernel_launcher.py [ARGUMENTS]\n"
     ]
    },
    {
     "ename": "TypeError",
     "evalue": "object of type 'NoneType' has no len()",
     "output_type": "error",
     "traceback": [
      "\u001b[0;31m---------------------------------------------------------------------------\u001b[0m",
      "\u001b[0;31mTypeError\u001b[0m                                 Traceback (most recent call last)",
      "Cell \u001b[0;32mIn [205], line 21\u001b[0m\n\u001b[1;32m     19\u001b[0m \u001b[38;5;28;01mwith\u001b[39;00m col3:\n\u001b[1;32m     20\u001b[0m     st\u001b[38;5;241m.\u001b[39msubheader(\u001b[38;5;124m'\u001b[39m\u001b[38;5;124mImage\u001b[39m\u001b[38;5;124m'\u001b[39m)\n\u001b[0;32m---> 21\u001b[0m     \u001b[38;5;28;01mif\u001b[39;00m index \u001b[38;5;241m<\u001b[39m \u001b[38;5;28;43mlen\u001b[39;49m\u001b[43m(\u001b[49m\u001b[43mimage_urls\u001b[49m\u001b[43m)\u001b[49m:\n\u001b[1;32m     22\u001b[0m         st\u001b[38;5;241m.\u001b[39mimage(image_urls[index], width\u001b[38;5;241m=\u001b[39m\u001b[38;5;241m200\u001b[39m)\n",
      "\u001b[0;31mTypeError\u001b[0m: object of type 'NoneType' has no len()"
     ]
    }
   ],
   "source": [
    "with st.container():\n",
    "\n",
    "    dishes = [f'Dish {n+1}' for n in range(len(final_recipes['title']))]\n",
    "\n",
    "    for index, tab in enumerate(st.tabs(dishes)):\n",
    "\n",
    "        with tab:\n",
    "            st.subheader(final_recipes['title'][index])\n",
    "\n",
    "            col1, col2, col3 = st.columns([1, 2, 1])\n",
    "            with col1:\n",
    "                st.subheader('Ingredients')\n",
    "                if index < len(final_recipes['ingredients']):\n",
    "                    st.write(final_recipes['ingredients'][index])\n",
    "            with col2:\n",
    "                st.subheader('Directions')\n",
    "                if index < len(final_recipes['directions']):\n",
    "                    st.write(final_recipes['directions'][index])\n",
    "            with col3:\n",
    "                st.subheader('Image')\n",
    "                if index < len(image_urls):\n",
    "                    st.image(image_urls[index], width=200)"
   ]
  },
  {
   "cell_type": "code",
   "execution_count": null,
   "metadata": {},
   "outputs": [],
   "source": []
  },
  {
   "cell_type": "code",
   "execution_count": null,
   "metadata": {},
   "outputs": [],
   "source": []
  },
  {
   "cell_type": "code",
   "execution_count": null,
   "metadata": {},
   "outputs": [],
   "source": []
  },
  {
   "cell_type": "code",
   "execution_count": null,
   "metadata": {},
   "outputs": [],
   "source": []
  },
  {
   "cell_type": "code",
   "execution_count": null,
   "metadata": {},
   "outputs": [],
   "source": []
  },
  {
   "cell_type": "code",
   "execution_count": null,
   "metadata": {},
   "outputs": [],
   "source": []
  },
  {
   "cell_type": "code",
   "execution_count": null,
   "metadata": {},
   "outputs": [],
   "source": []
  },
  {
   "cell_type": "markdown",
   "metadata": {},
   "source": [
    "#### Random stuff that may or may not be useful"
   ]
  },
  {
   "cell_type": "code",
   "execution_count": null,
   "metadata": {},
   "outputs": [],
   "source": [
    "# Example user inputs\n",
    "\n",
    "'chicken, mustard, coconut, orange, gravy'\n"
   ]
  },
  {
   "cell_type": "code",
   "execution_count": null,
   "metadata": {
    "colab": {
     "base_uri": "https://localhost:8080/"
    },
    "id": "9XJ2KzDU4AiV",
    "outputId": "3df66603-c5f9-4e39-e4ab-0ccb24c861ca"
   },
   "outputs": [],
   "source": [
    "# Example ingredients combinations\n",
    "\n",
    "[('chicken', 'mustard'),\n",
    " ('chicken', 'coconut'),\n",
    " ('chicken', 'orange'),\n",
    " ('chicken', 'gravy'),\n",
    " ('mustard', 'coconut'),\n",
    " ('mustard', 'orange'),\n",
    " ('mustard', 'gravy'),\n",
    " ('coconut', 'orange'),\n",
    " ('coconut', 'gravy'),\n",
    " ('orange', 'gravy')]"
   ]
  },
  {
   "cell_type": "code",
   "execution_count": null,
   "metadata": {},
   "outputs": [],
   "source": []
  },
  {
   "cell_type": "code",
   "execution_count": null,
   "metadata": {},
   "outputs": [],
   "source": []
  },
  {
   "cell_type": "markdown",
   "metadata": {},
   "source": [
    "### old get_key_lists"
   ]
  },
  {
   "cell_type": "code",
   "execution_count": 191,
   "metadata": {},
   "outputs": [],
   "source": [
    "# get_key_lists that works for recipe_generator output\n",
    "\n",
    "def get_key_lists(final_recipes):\n",
    "    directions, titles, ingredients = [], [], []\n",
    "    for recipe in final_recipes:\n",
    "        titles.append(recipe[\"title\"])\n",
    "        ingredients.append(recipe[\"ingredients\"])\n",
    "        directions.append(recipe[\"directions\"])\n",
    "    return titles, ingredients, directions"
   ]
  },
  {
   "cell_type": "code",
   "execution_count": 192,
   "metadata": {},
   "outputs": [],
   "source": [
    "recipe_list = [{'title': \"Gurum's Mysterious Delight\",\n",
    "  'ingredients': '* Rugby grass (1 cup, chopped fresh)\\n* Gum (1 tablespoon, dissolved)\\n* Rum (2 tablespoons)\\n* Mug (1, made from ceramic)',\n",
    "  'directions': '1. Combine Rugby grass, gum, and rum in the mug.\\n2. Stir clockwise for 7 times, then counterclockwise for 3 times.\\n3. Serve immediately.'},\n",
    " {'title': 'Recchio Croco',\n",
    "  'ingredients': '* RO Crumbs\\n* Curing Oil\\n* Ounces of Cream',\n",
    "  'directions': '1. Crumble RO Crumbs into a crock\\n2. Coat Croco with Curing Oil\\n3. Ooze Cream over Croco'},\n",
    " {'title': 'Title:',\n",
    "  'ingredients': '* 1 cup cherry tomatoes, halved\\n* 1/2 cup mashed chickpeas\\n* 1/4 cup chopped fresh cucumbers\\n* 2 tablespoons olive oil\\n* 2 tablespoons hummus\\n* 1/2 teaspoon paprika',\n",
    "  'directions': '1. Preheat oven to 375°F.\\n2. In a bowl, mix together hummus, paprika, and olive oil.\\n3. Dip each cherry tomato half into the hummus mixture, coating evenly.\\n4. Place coated cherry tomato halves on a baking sheet.\\n5. Sprinkle chopped cucumbers on top of tomato halves.\\n6. Bake for 20-25 minutes, or until crispy and golden brown.\\n7. Serve and enjoy!'}]"
   ]
  },
  {
   "cell_type": "code",
   "execution_count": 193,
   "metadata": {},
   "outputs": [
    {
     "data": {
      "text/plain": [
       "([\"Gurum's Mysterious Delight\", 'Recchio Croco', 'Title:'],\n",
       " ['* Rugby grass (1 cup, chopped fresh)\\n* Gum (1 tablespoon, dissolved)\\n* Rum (2 tablespoons)\\n* Mug (1, made from ceramic)',\n",
       "  '* RO Crumbs\\n* Curing Oil\\n* Ounces of Cream',\n",
       "  '* 1 cup cherry tomatoes, halved\\n* 1/2 cup mashed chickpeas\\n* 1/4 cup chopped fresh cucumbers\\n* 2 tablespoons olive oil\\n* 2 tablespoons hummus\\n* 1/2 teaspoon paprika'],\n",
       " ['1. Combine Rugby grass, gum, and rum in the mug.\\n2. Stir clockwise for 7 times, then counterclockwise for 3 times.\\n3. Serve immediately.',\n",
       "  '1. Crumble RO Crumbs into a crock\\n2. Coat Croco with Curing Oil\\n3. Ooze Cream over Croco',\n",
       "  '1. Preheat oven to 375°F.\\n2. In a bowl, mix together hummus, paprika, and olive oil.\\n3. Dip each cherry tomato half into the hummus mixture, coating evenly.\\n4. Place coated cherry tomato halves on a baking sheet.\\n5. Sprinkle chopped cucumbers on top of tomato halves.\\n6. Bake for 20-25 minutes, or until crispy and golden brown.\\n7. Serve and enjoy!'])"
      ]
     },
     "execution_count": 193,
     "metadata": {},
     "output_type": "execute_result"
    }
   ],
   "source": [
    "get_key_lists(recipe_list)"
   ]
  },
  {
   "cell_type": "code",
   "execution_count": 194,
   "metadata": {},
   "outputs": [
    {
     "data": {
      "text/plain": [
       "([\"Gurum's Mysterious Delight\", 'Recchio Croco', 'Title:'],\n",
       " ['* Rugby grass (1 cup, chopped fresh)\\n* Gum (1 tablespoon, dissolved)\\n* Rum (2 tablespoons)\\n* Mug (1, made from ceramic)',\n",
       "  '* RO Crumbs\\n* Curing Oil\\n* Ounces of Cream',\n",
       "  '* 1 cup cherry tomatoes, halved\\n* 1/2 cup mashed chickpeas\\n* 1/4 cup chopped fresh cucumbers\\n* 2 tablespoons olive oil\\n* 2 tablespoons hummus\\n* 1/2 teaspoon paprika'],\n",
       " ['1. Combine Rugby grass, gum, and rum in the mug.\\n2. Stir clockwise for 7 times, then counterclockwise for 3 times.\\n3. Serve immediately.',\n",
       "  '1. Crumble RO Crumbs into a crock\\n2. Coat Croco with Curing Oil\\n3. Ooze Cream over Croco',\n",
       "  '1. Preheat oven to 375°F.\\n2. In a bowl, mix together hummus, paprika, and olive oil.\\n3. Dip each cherry tomato half into the hummus mixture, coating evenly.\\n4. Place coated cherry tomato halves on a baking sheet.\\n5. Sprinkle chopped cucumbers on top of tomato halves.\\n6. Bake for 20-25 minutes, or until crispy and golden brown.\\n7. Serve and enjoy!'])"
      ]
     },
     "execution_count": 194,
     "metadata": {},
     "output_type": "execute_result"
    }
   ],
   "source": [
    "key_lists = get_key_lists(recipe_list)\n",
    "key_lists"
   ]
  },
  {
   "cell_type": "code",
   "execution_count": null,
   "metadata": {},
   "outputs": [],
   "source": []
  },
  {
   "cell_type": "code",
   "execution_count": null,
   "metadata": {},
   "outputs": [],
   "source": []
  },
  {
   "cell_type": "code",
   "execution_count": null,
   "metadata": {},
   "outputs": [],
   "source": [
    "# Most recent version from 5/14 debugging session\n",
    "\n",
    "def final_recipes(recipe_list, scores, model):  ###<=== Function for evaluating if the score passes the threshold and regenerating if it doesn't\n",
    "\n",
    "    \"\"\"\n",
    "    This evaluates whether the score of a recipe passes or fails the threshold.\n",
    "    If the recipe doesn't meet the threshold after 3 attempts, the last generated recipe is added.\n",
    "    NOTE FOR FRONT-END: it's important to make sure that the outputs of the new recipe generator are the same as the\n",
    "                        old version for this function to still work.\n",
    "                        optimized_gptrecipe() and scoring_model() must be replaced with the actual functions\n",
    "\n",
    "    UPDATES\n",
    "    5/13/2024 by everyone:\n",
    "    - Input format switched to recipe_list (previously: recipe_list was switched to lists of titles, ingredients, directions by code in app.py) \n",
    "    \n",
    "    Inputs (3):\n",
    "    recipe_list (from: recipe_generator) = a list of 3 dictionaries with 3 keys each: 'title', 'ingredients', 'directions', containing info for the 3 recipes\n",
    "    scores (from: get_scores) = list of 3 integers, containing scores for each recipe\n",
    "    model (from: get_model in app.py) = object\n",
    "\n",
    "    Outputs (1):\n",
    "    final_recipes = a list of 3 dictionaries with 3 keys each: 'title', 'ingredients', 'directions', containing info for 3 final recipes\n",
    "\n",
    "    \"\"\"\n",
    "\n",
    "    final_recipes = {\"Title\": [], \"Ingredients\": [], \"Directions\": []}\n",
    "    threshold = 0.3\n",
    "\n",
    "    for i in range(len(recipe_list)):\n",
    "        if scores[i] >= threshold:\n",
    "            final_recipes[\"Title\"].append(recipe_list[i]['title'])\n",
    "            final_recipes[\"Ingredients\"].append(recipe_list[i]['ingredients'])\n",
    "            final_recipes[\"Directions\"].append(recipe_list[i]['directions'])\n",
    "        else:\n",
    "            n = 0\n",
    "            tmp_recipe = {\n",
    "                \"Title\":recipe_list[i]['title'],\n",
    "                \"Ingredients\":recipe_list[i]['ingredients'],\n",
    "                \"Directions\":recipe_list[i]['directions']\n",
    "                         }\n",
    "            last_recipe = {\"title\":[],\n",
    "                           \"ingredients\":[],\n",
    "                           \"directions\":[]\n",
    "                         }\n",
    "            while n < 3:\n",
    "                new_recipe = recipe_generator([tmp_recipe[\"Ingredients\"]]) ###<=== insert actual recipe generator\n",
    "                new_score = model.predict_proba([new_recipe[0]['directions']]) ###<=== insert the actual scoring model function here\n",
    "                if new_score[0][1] >= threshold:\n",
    "                    final_recipes[\"Title\"].append(new_recipe[0][\"title\"])\n",
    "                    final_recipes[\"Ingredients\"].append(new_recipe[0][\"ingredients\"])\n",
    "                    final_recipes[\"Directions\"].append(new_recipe[0][\"directions\"])\n",
    "                    break  # Exit loop if the new recipe passes the threshold\n",
    "                else:\n",
    "                    last_recipe = new_recipe  # Update tmp_recipe with the new recipe if the threshold isn't met\n",
    "                    n += 1\n",
    "            else: # Add the last generated recipe if the loop completes without finding a passing recipe\n",
    "                final_recipes[\"Title\"].append(last_recipe[0][\"title\"][0][0])\n",
    "                final_recipes[\"Ingredients\"].append(last_recipe[0][\"ingredients\"][0][0])\n",
    "                final_recipes[\"Directions\"].append(last_recipe[0][\"directions\"][0][0])\n",
    "                break  # Exit the outer loop to prevent an unending loop\n",
    "\n",
    "    return final_recipes"
   ]
  },
  {
   "cell_type": "code",
   "execution_count": null,
   "metadata": {},
   "outputs": [],
   "source": [
    "# origial image_generator function, without list output\n",
    "\n",
    "def image_generator(recipe):\n",
    "    '''\n",
    "\n",
    "\n",
    "    '''\n",
    "    client = Client(\"ByteDance/SDXL-Lightning\")\n",
    "    result = client.predict(\n",
    "            recipe, # str  in 'Enter your prompt (English)' Textbox component\n",
    "            \"1-Step\",   # Literal['1-Step', '2-Step', '4-Step', '8-Step']  in 'Select inference steps' Dropdown component\n",
    "            api_name=\"/generate_image_1\"\n",
    "    )\n",
    "    file_path = result.split('gradio')[1]\n",
    "    url = 'https://bytedance-sdxl-lightning.hf.space/file=/tmp/gradio' + file_path\n",
    "    return url"
   ]
  },
  {
   "cell_type": "code",
   "execution_count": null,
   "metadata": {
    "id": "0UytMEhx31Hg"
   },
   "outputs": [],
   "source": [
    "# # previous final_recipes where code in app.py changed input to lists of titles, ingredients, and directions first\n",
    "\n",
    "# def final_recipes(recipe_dict, scores, model):  ###<=== Function for evaluating if the score passes the threshold and regenerating if it doesn't\n",
    "#     \"\"\"\n",
    "#     This evaluates whether the score of a recipe passes or fails the threshold.\n",
    "#     If the recipe doesn't meet the threshold after 3 attempts, the last generated recipe is added.\n",
    "#     NOTE FOR FRONT-END: it's important to make sure that the outputs of the new recipe generator are the same as the\n",
    "#                         old version for this function to still work.\n",
    "#                         optimized_gptrecipe() and scoring_model() must be replaced with the actual functions\n",
    "    \n",
    "#     Inputs (3): \n",
    "#     recipe_list (from: recipe_generator) = a list of 3 dictionaries with 3 keys each: 'title', 'ingredients', 'directions', containing info for the 3 recipes\n",
    "#     scores (from: get_scores) = list of 3 integers, containing scores for each recipe\n",
    "#     model (from: get_model in app.py) = object \n",
    "    \n",
    "#     Outputs (1): \n",
    "#     final_recipes = a list of 3 dictionaries with 3 keys each: 'title', 'ingredients', 'directions', containing info for 3 final recipes\n",
    "    \n",
    "#     \"\"\"\n",
    "#     final_recipes = {\"Title\": [], \"Ingredients\": [], \"Directions\": []}\n",
    "#     threshold = 0.5\n",
    "\n",
    "#     for i in range(len(recipe_dict)):\n",
    "#         if scores[i] >= threshold:\n",
    "#             final_recipes[\"Title\"].append(recipe_dict[i]['title'])\n",
    "#             final_recipes[\"Ingredients\"].append(recipe_dict[i]['ingredients'])\n",
    "#             final_recipes[\"Directions\"].append(recipe_dict[i]['directions'])\n",
    "#         else:\n",
    "#             n = 0\n",
    "#             tmp_recipe = {\n",
    "#                 \"Title\":recipe_dict[i]['title'],\n",
    "#                 \"Ingredients\":recipe_dict[i]['ingredients'],\n",
    "#                 \"Directions\":recipe_dict[i]['directions']\n",
    "#                          }\n",
    "#             last_recipe = {\"title\":[],\n",
    "#                            \"ingredients\":[],\n",
    "#                            \"directions\":[]\n",
    "#                          }\n",
    "#             while n < 3:\n",
    "#                 new_recipe = recipe_generator([tmp_recipe[\"Ingredients\"]]) ###<=== insert actual recipe generator\n",
    "#                 new_score = model.predict_proba([new_recipe[0]['directions']]) ###<=== insert the actual scoring model function here\n",
    "#                 if new_score[0][1] >= threshold:\n",
    "#                     final_recipes[\"Title\"].append(new_recipe[0][\"title\"])\n",
    "#                     final_recipes[\"Ingredients\"].append(new_recipe[0][\"ingredients\"])\n",
    "#                     final_recipes[\"Directions\"].append(new_recipe[0][\"directions\"])\n",
    "#                     break  # Exit loop if the new recipe passes the threshold\n",
    "#                 else:\n",
    "#                     last_recipe = new_recipe  # Update tmp_recipe with the new recipe if the threshold isn't met\n",
    "#                     n += 1\n",
    "#             else: # Add the last generated recipe if the loop completes without finding a passing recipe\n",
    "#                 final_recipes[\"Title\"].append(last_recipe[\"title\"][0][0])\n",
    "#                 final_recipes[\"Ingredients\"].append(last_recipe[\"ingredients\"][0][0])\n",
    "#                 final_recipes[\"Directions\"].append(last_recipe[\"directions\"][0][0])\n",
    "#                 break  # Exit the outer loop to prevent an unending loop\n",
    "\n",
    "#     return final_recipes"
   ]
  }
 ],
 "metadata": {
  "colab": {
   "provenance": []
  },
  "kernelspec": {
   "display_name": "Python 3 (ipykernel)",
   "language": "python",
   "name": "python3"
  },
  "language_info": {
   "codemirror_mode": {
    "name": "ipython",
    "version": 3
   },
   "file_extension": ".py",
   "mimetype": "text/x-python",
   "name": "python",
   "nbconvert_exporter": "python",
   "pygments_lexer": "ipython3",
   "version": "3.10.6"
  },
  "toc": {
   "base_numbering": 1,
   "nav_menu": {},
   "number_sections": true,
   "sideBar": true,
   "skip_h1_title": false,
   "title_cell": "Table of Contents",
   "title_sidebar": "Contents",
   "toc_cell": false,
   "toc_position": {},
   "toc_section_display": true,
   "toc_window_display": false
  }
 },
 "nbformat": 4,
 "nbformat_minor": 1
}
