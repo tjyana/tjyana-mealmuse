{
 "cells": [
  {
   "cell_type": "code",
   "execution_count": 8,
   "metadata": {
    "colab": {
     "base_uri": "https://localhost:8080/"
    },
    "id": "wzCz2MHt4Q4v",
    "outputId": "2b9ce666-174f-41f4-876c-744bab932675"
   },
   "outputs": [
    {
     "name": "stdout",
     "output_type": "stream",
     "text": [
      "Requirement already satisfied: gradio_client in /home/tjyana/.pyenv/versions/3.10.6/envs/lewagon/lib/python3.10/site-packages (0.15.1)\n",
      "Requirement already satisfied: fsspec in /home/tjyana/.pyenv/versions/3.10.6/envs/lewagon/lib/python3.10/site-packages (from gradio_client) (2024.3.1)\n",
      "Requirement already satisfied: httpx>=0.24.1 in /home/tjyana/.pyenv/versions/3.10.6/envs/lewagon/lib/python3.10/site-packages (from gradio_client) (0.27.0)\n",
      "Requirement already satisfied: huggingface-hub>=0.19.3 in /home/tjyana/.pyenv/versions/3.10.6/envs/lewagon/lib/python3.10/site-packages (from gradio_client) (0.22.0)\n",
      "Requirement already satisfied: packaging in /home/tjyana/.pyenv/versions/3.10.6/envs/lewagon/lib/python3.10/site-packages (from gradio_client) (21.3)\n",
      "Requirement already satisfied: typing-extensions~=4.0 in /home/tjyana/.pyenv/versions/3.10.6/envs/lewagon/lib/python3.10/site-packages (from gradio_client) (4.9.0)\n",
      "Requirement already satisfied: websockets<12.0,>=10.0 in /home/tjyana/.pyenv/versions/3.10.6/envs/lewagon/lib/python3.10/site-packages (from gradio_client) (11.0.3)\n",
      "Requirement already satisfied: anyio in /home/tjyana/.pyenv/versions/3.10.6/envs/lewagon/lib/python3.10/site-packages (from httpx>=0.24.1->gradio_client) (3.6.2)\n",
      "Requirement already satisfied: certifi in /home/tjyana/.pyenv/versions/3.10.6/envs/lewagon/lib/python3.10/site-packages (from httpx>=0.24.1->gradio_client) (2022.9.24)\n",
      "Requirement already satisfied: httpcore==1.* in /home/tjyana/.pyenv/versions/3.10.6/envs/lewagon/lib/python3.10/site-packages (from httpx>=0.24.1->gradio_client) (1.0.4)\n",
      "Requirement already satisfied: idna in /home/tjyana/.pyenv/versions/3.10.6/envs/lewagon/lib/python3.10/site-packages (from httpx>=0.24.1->gradio_client) (3.4)\n",
      "Requirement already satisfied: sniffio in /home/tjyana/.pyenv/versions/3.10.6/envs/lewagon/lib/python3.10/site-packages (from httpx>=0.24.1->gradio_client) (1.3.0)\n",
      "Requirement already satisfied: h11<0.15,>=0.13 in /home/tjyana/.pyenv/versions/3.10.6/envs/lewagon/lib/python3.10/site-packages (from httpcore==1.*->httpx>=0.24.1->gradio_client) (0.14.0)\n",
      "Requirement already satisfied: filelock in /home/tjyana/.pyenv/versions/3.10.6/envs/lewagon/lib/python3.10/site-packages (from huggingface-hub>=0.19.3->gradio_client) (3.13.3)\n",
      "Requirement already satisfied: pyyaml>=5.1 in /home/tjyana/.pyenv/versions/3.10.6/envs/lewagon/lib/python3.10/site-packages (from huggingface-hub>=0.19.3->gradio_client) (6.0.1)\n",
      "Requirement already satisfied: requests in /home/tjyana/.pyenv/versions/3.10.6/envs/lewagon/lib/python3.10/site-packages (from huggingface-hub>=0.19.3->gradio_client) (2.28.1)\n",
      "Requirement already satisfied: tqdm>=4.42.1 in /home/tjyana/.pyenv/versions/3.10.6/envs/lewagon/lib/python3.10/site-packages (from huggingface-hub>=0.19.3->gradio_client) (4.64.1)\n",
      "Requirement already satisfied: pyparsing!=3.0.5,>=2.0.2 in /home/tjyana/.pyenv/versions/3.10.6/envs/lewagon/lib/python3.10/site-packages (from packaging->gradio_client) (3.0.9)\n",
      "Requirement already satisfied: charset-normalizer<3,>=2 in /home/tjyana/.pyenv/versions/3.10.6/envs/lewagon/lib/python3.10/site-packages (from requests->huggingface-hub>=0.19.3->gradio_client) (2.1.1)\n",
      "Requirement already satisfied: urllib3<1.27,>=1.21.1 in /home/tjyana/.pyenv/versions/3.10.6/envs/lewagon/lib/python3.10/site-packages (from requests->huggingface-hub>=0.19.3->gradio_client) (1.26.12)\n",
      "Requirement already satisfied: groq in /home/tjyana/.pyenv/versions/3.10.6/envs/lewagon/lib/python3.10/site-packages (0.5.0)\n",
      "Requirement already satisfied: anyio<5,>=3.5.0 in /home/tjyana/.pyenv/versions/3.10.6/envs/lewagon/lib/python3.10/site-packages (from groq) (3.6.2)\n",
      "Requirement already satisfied: distro<2,>=1.7.0 in /home/tjyana/.pyenv/versions/3.10.6/envs/lewagon/lib/python3.10/site-packages (from groq) (1.9.0)\n",
      "Requirement already satisfied: httpx<1,>=0.23.0 in /home/tjyana/.pyenv/versions/3.10.6/envs/lewagon/lib/python3.10/site-packages (from groq) (0.27.0)\n",
      "Requirement already satisfied: pydantic<3,>=1.9.0 in /home/tjyana/.pyenv/versions/3.10.6/envs/lewagon/lib/python3.10/site-packages (from groq) (1.9.2)\n",
      "Requirement already satisfied: sniffio in /home/tjyana/.pyenv/versions/3.10.6/envs/lewagon/lib/python3.10/site-packages (from groq) (1.3.0)\n",
      "Requirement already satisfied: typing-extensions<5,>=4.7 in /home/tjyana/.pyenv/versions/3.10.6/envs/lewagon/lib/python3.10/site-packages (from groq) (4.9.0)\n",
      "Requirement already satisfied: idna>=2.8 in /home/tjyana/.pyenv/versions/3.10.6/envs/lewagon/lib/python3.10/site-packages (from anyio<5,>=3.5.0->groq) (3.4)\n",
      "Requirement already satisfied: certifi in /home/tjyana/.pyenv/versions/3.10.6/envs/lewagon/lib/python3.10/site-packages (from httpx<1,>=0.23.0->groq) (2022.9.24)\n",
      "Requirement already satisfied: httpcore==1.* in /home/tjyana/.pyenv/versions/3.10.6/envs/lewagon/lib/python3.10/site-packages (from httpx<1,>=0.23.0->groq) (1.0.4)\n",
      "Requirement already satisfied: h11<0.15,>=0.13 in /home/tjyana/.pyenv/versions/3.10.6/envs/lewagon/lib/python3.10/site-packages (from httpcore==1.*->httpx<1,>=0.23.0->groq) (0.14.0)\n",
      "Requirement already satisfied: transformers in /home/tjyana/.pyenv/versions/3.10.6/envs/lewagon/lib/python3.10/site-packages (4.40.2)\n",
      "Requirement already satisfied: filelock in /home/tjyana/.pyenv/versions/3.10.6/envs/lewagon/lib/python3.10/site-packages (from transformers) (3.13.3)\n",
      "Requirement already satisfied: huggingface-hub<1.0,>=0.19.3 in /home/tjyana/.pyenv/versions/3.10.6/envs/lewagon/lib/python3.10/site-packages (from transformers) (0.22.0)\n",
      "Requirement already satisfied: numpy>=1.17 in /home/tjyana/.pyenv/versions/3.10.6/envs/lewagon/lib/python3.10/site-packages (from transformers) (1.26.4)\n",
      "Requirement already satisfied: packaging>=20.0 in /home/tjyana/.pyenv/versions/3.10.6/envs/lewagon/lib/python3.10/site-packages (from transformers) (21.3)\n",
      "Requirement already satisfied: pyyaml>=5.1 in /home/tjyana/.pyenv/versions/3.10.6/envs/lewagon/lib/python3.10/site-packages (from transformers) (6.0.1)\n",
      "Requirement already satisfied: regex!=2019.12.17 in /home/tjyana/.pyenv/versions/3.10.6/envs/lewagon/lib/python3.10/site-packages (from transformers) (2022.9.13)\n",
      "Requirement already satisfied: requests in /home/tjyana/.pyenv/versions/3.10.6/envs/lewagon/lib/python3.10/site-packages (from transformers) (2.28.1)\n",
      "Requirement already satisfied: tokenizers<0.20,>=0.19 in /home/tjyana/.pyenv/versions/3.10.6/envs/lewagon/lib/python3.10/site-packages (from transformers) (0.19.1)\n",
      "Requirement already satisfied: safetensors>=0.4.1 in /home/tjyana/.pyenv/versions/3.10.6/envs/lewagon/lib/python3.10/site-packages (from transformers) (0.4.2)\n",
      "Requirement already satisfied: tqdm>=4.27 in /home/tjyana/.pyenv/versions/3.10.6/envs/lewagon/lib/python3.10/site-packages (from transformers) (4.64.1)\n",
      "Requirement already satisfied: fsspec>=2023.5.0 in /home/tjyana/.pyenv/versions/3.10.6/envs/lewagon/lib/python3.10/site-packages (from huggingface-hub<1.0,>=0.19.3->transformers) (2024.3.1)\n",
      "Requirement already satisfied: typing-extensions>=3.7.4.3 in /home/tjyana/.pyenv/versions/3.10.6/envs/lewagon/lib/python3.10/site-packages (from huggingface-hub<1.0,>=0.19.3->transformers) (4.9.0)\n",
      "Requirement already satisfied: pyparsing!=3.0.5,>=2.0.2 in /home/tjyana/.pyenv/versions/3.10.6/envs/lewagon/lib/python3.10/site-packages (from packaging>=20.0->transformers) (3.0.9)\n",
      "Requirement already satisfied: charset-normalizer<3,>=2 in /home/tjyana/.pyenv/versions/3.10.6/envs/lewagon/lib/python3.10/site-packages (from requests->transformers) (2.1.1)\n",
      "Requirement already satisfied: idna<4,>=2.5 in /home/tjyana/.pyenv/versions/3.10.6/envs/lewagon/lib/python3.10/site-packages (from requests->transformers) (3.4)\n",
      "Requirement already satisfied: urllib3<1.27,>=1.21.1 in /home/tjyana/.pyenv/versions/3.10.6/envs/lewagon/lib/python3.10/site-packages (from requests->transformers) (1.26.12)\n",
      "Requirement already satisfied: certifi>=2017.4.17 in /home/tjyana/.pyenv/versions/3.10.6/envs/lewagon/lib/python3.10/site-packages (from requests->transformers) (2022.9.24)\n"
     ]
    }
   ],
   "source": [
    "! pip install gradio_client\n",
    "! pip install groq\n",
    "! pip install transformers"
   ]
  },
  {
   "cell_type": "code",
   "execution_count": 5,
   "metadata": {
    "id": "-fcOLmCJ4AiS"
   },
   "outputs": [],
   "source": [
    "import itertools\n",
    "import re\n",
    "import numpy as np\n",
    "import pandas as pd\n",
    "# import openai\n",
    "import pandas as pd\n",
    "import itertools\n",
    "# import streamlit as st\n",
    "import pickle\n",
    "# Anna's imports\n",
    "from transformers import FlaxAutoModelForSeq2SeqLM\n",
    "from transformers import AutoTokenizer\n",
    "import matplotlib.pyplot as plt\n",
    "import matplotlib.image as mpimg\n",
    "from gradio_client import Client\n",
    "\n",
    "from groq import Groq\n"
   ]
  },
  {
   "cell_type": "code",
   "execution_count": 6,
   "metadata": {
    "id": "gDXEFKxR4AiT"
   },
   "outputs": [],
   "source": [
    "df = pd.read_parquet('Halved-DF.parquet.gzip')"
   ]
  },
  {
   "cell_type": "markdown",
   "metadata": {},
   "source": [
    "# combinations_of_two -> working correctly\n",
    "\n",
    "##### input: \n",
    "user input = single string with ingredients separated by commas and a space\n",
    "\n",
    "##### output: \n",
    "ingredients_combinations = all possible combinations of 2 as a list of tuples (so if it's 4 ingredients, a list of 6 tuples and nothing more)"
   ]
  },
  {
   "cell_type": "code",
   "execution_count": 114,
   "metadata": {},
   "outputs": [],
   "source": [
    "# Updated 5/21/2024 by TJ\n",
    "\n",
    "def combinations_of_two(ingredients_input): ###dealt with the issue of missing space crash\n",
    "\n",
    "    '''\n",
    "    The function generates all unique pairs of ingredients that can be made from the input list of ingredients.\n",
    "    NOTE FOR FRONT-END: The output of this function is the input for data_query()\n",
    "    \n",
    "    Input: \n",
    "    ingredients_input (from user input) =  single string with ingredients separated by commas and a space\n",
    "    \n",
    "    Output: \n",
    "    ingredients_combinations (to data_query) = a list of tuples, containing all possible combinations of 2 (so if it's 4 ingredients, a list of 6 tuples and nothing more)\n",
    "\n",
    "    '''\n",
    "\n",
    "    # split into list of individual ingredients\n",
    "    ingredients_list = []\n",
    "    ingredients = re.split('\\s|,', ingredients_input) \n",
    "    [ingredients_list.append(ingredient) for ingredient in ingredients if ingredient != '']\n",
    "    \n",
    "    # create list of all ingredient combinations\n",
    "    ingredients_combinations = []\n",
    "    combinations = itertools.combinations(ingredients_list, 2)\n",
    "    ingredients_combinations = list(combinations)\n",
    "\n",
    "    return ingredients_combinations"
   ]
  },
  {
   "cell_type": "markdown",
   "metadata": {
    "id": "CXOGXHiG4AiS"
   },
   "source": [
    "## Testing combinations_of_two"
   ]
  },
  {
   "cell_type": "code",
   "execution_count": 111,
   "metadata": {
    "id": "CXOGXHiG4AiS"
   },
   "outputs": [
    {
     "data": {
      "text/plain": [
       "[('chicken', 'garlic'),\n",
       " ('chicken', 'salt'),\n",
       " ('chicken', 'tomato'),\n",
       " ('garlic', 'salt'),\n",
       " ('garlic', 'tomato'),\n",
       " ('salt', 'tomato')]"
      ]
     },
     "execution_count": 111,
     "metadata": {},
     "output_type": "execute_result"
    }
   ],
   "source": [
    "# 4 ingredients -> 1 list of 6 unique tuples\n",
    "ingredients_input = 'chicken, garlic, salt, tomato'\n",
    "\n",
    "ingredients_combinations = combinations_of_two(ingredients_input)\n",
    "ingredients_combinations"
   ]
  },
  {
   "cell_type": "code",
   "execution_count": 112,
   "metadata": {
    "scrolled": true
   },
   "outputs": [
    {
     "data": {
      "text/plain": [
       "[('tomato', 'beef'),\n",
       " ('tomato', 'onion'),\n",
       " ('tomato', 'salt'),\n",
       " ('tomato', 'garlic'),\n",
       " ('tomato', 'pepper'),\n",
       " ('beef', 'onion'),\n",
       " ('beef', 'salt'),\n",
       " ('beef', 'garlic'),\n",
       " ('beef', 'pepper'),\n",
       " ('onion', 'salt'),\n",
       " ('onion', 'garlic'),\n",
       " ('onion', 'pepper'),\n",
       " ('salt', 'garlic'),\n",
       " ('salt', 'pepper'),\n",
       " ('garlic', 'pepper')]"
      ]
     },
     "execution_count": 112,
     "metadata": {},
     "output_type": "execute_result"
    }
   ],
   "source": [
    "# 6 ingredients -> 1 list of 15 unique tuples\n",
    "ingredients_input = 'tomato, beef, onion, salt, garlic, pepper'\n",
    "\n",
    "ingredients_combinations = combinations_of_two(ingredients_input)\n",
    "ingredients_combinations"
   ]
  },
  {
   "cell_type": "code",
   "execution_count": 115,
   "metadata": {},
   "outputs": [
    {
     "data": {
      "text/plain": [
       "[('tomato', 'beef'),\n",
       " ('tomato', 'onion'),\n",
       " ('tomato', 'chicken'),\n",
       " ('beef', 'onion'),\n",
       " ('beef', 'chicken'),\n",
       " ('onion', 'chicken')]"
      ]
     },
     "execution_count": 115,
     "metadata": {},
     "output_type": "execute_result"
    }
   ],
   "source": [
    "# missing spaces and commas\n",
    "ingredients_input = 'tomato,beef,  onion chicken'\n",
    "\n",
    "ingredients_combinations = combinations_of_two(ingredients_input)\n",
    "ingredients_combinations"
   ]
  },
  {
   "cell_type": "markdown",
   "metadata": {},
   "source": [
    "# data_query\n",
    "Issues:\n",
    "- output is not including all the combinations"
   ]
  },
  {
   "cell_type": "code",
   "execution_count": null,
   "metadata": {
    "id": "FLH_yyRv4AiT"
   },
   "outputs": [],
   "source": [
    "def data_query(ingredients_combinations): ##Added a penalty of -5 for pairings that are not in the dataframe\n",
    "    '''\n",
    "    Input: \n",
    "    ingredients_combinations (from combinations_of_two) = a list of tuples, containing all possible combinations of 2 as  \n",
    "    \n",
    "    Output: \n",
    "    df_comb (to muse_comb) = a datafrome with columns 'Combination' and 'Score', containing ingredient combinations and their scores as a dataframe  (for 4 ingredients: all 6 combinations and their respective scores)\n",
    "    \n",
    "    '''\n",
    "    \n",
    "    data = []\n",
    "    for combination in ingredients_combinations:\n",
    "        if len(combination) < 3:\n",
    "            ingredient1, ingredient2 = combination\n",
    "            query_str = f'(ingredient1 == \"{ingredient1}\" & ingredient2 == \"{ingredient2}\") | (ingredient1 == \"{ingredient2}\" & ingredient2 == \"{ingredient1}\")'\n",
    "            score = df.query(query_str)['scaled_col'].values\n",
    "            if len(score) > 0:\n",
    "                data.append({'Combination': combination, 'Score': score})\n",
    "            else:\n",
    "                continue\n",
    "        else:\n",
    "            scores = []\n",
    "            for i in combination:\n",
    "                ingredient1, ingredient2 = i\n",
    "                query_str = f'(ingredient1 == \"{ingredient1}\" & ingredient2 == \"{ingredient2}\") | (ingredient1 == \"{ingredient2}\" & ingredient2 == \"{ingredient1}\")'\n",
    "                score = df.query(query_str)['scaled_col'].values\n",
    "                if len(score) > 0:\n",
    "                    scores.append(score[0])\n",
    "                else:\n",
    "                    scores.append(-5)\n",
    "            data.append({'Combination': combination, 'Score': scores})\n",
    "    df_comb = pd.DataFrame(data)\n",
    "    return df_comb"
   ]
  },
  {
   "cell_type": "code",
   "execution_count": 65,
   "metadata": {
    "id": "FLH_yyRv4AiT"
   },
   "outputs": [],
   "source": [
    "# # trying to understand / re-create\n",
    "def data_query(ingredients_combinations): ##Added a penalty of -5 for pairings that are not in the dataframe\n",
    "    '''\n",
    "    Input: \n",
    "    ingredients_combinations (from combinations_of_two) = a list of tuples, containing all possible combinations of 2 as  \n",
    "    \n",
    "    Output: \n",
    "    df_comb (to muse_comb) = a datafrome with columns 'Combination' and 'Score', containing ingredient combinations and their scores as a dataframe  (for 4 ingredients: all 6 combinations and their respective scores)\n",
    "    \n",
    "    '''\n",
    "    \n",
    "    data = []\n",
    "    for combination in ingredients_combinations:\n",
    "        if len(combination) < 3:\n",
    "            ingredient1, ingredient2 = combination\n",
    "            query_str = f'(ingredient1 == \"{ingredient1}\" & ingredient2 == \"{ingredient2}\") | (ingredient1 == \"{ingredient2}\" & ingredient2 == \"{ingredient1}\")'\n",
    "            score = df.query(query_str)['scaled_col'].values\n",
    "            print(score)\n",
    "            if len(score) > 0:\n",
    "                data.append({'Combination': combination, 'Score': score})\n",
    "            else:\n",
    "                continue\n",
    "        else:\n",
    "            scores = []\n",
    "            for i in combination:\n",
    "                ingredient1, ingredient2 = i\n",
    "                query_str = f'(ingredient1 == \"{ingredient1}\" & ingredient2 == \"{ingredient2}\") | (ingredient1 == \"{ingredient2}\" & ingredient2 == \"{ingredient1}\")'\n",
    "                score = df.query(query_str)['scaled_col'].values\n",
    "                if len(score) > 0:\n",
    "                    scores.append(score[0])\n",
    "                else:\n",
    "                    scores.append(-5)\n",
    "            data.append({'Combination': combination, 'Score': scores})\n",
    "    print(data)\n",
    "\n",
    "    df_comb = pd.DataFrame(data)\n",
    "    return df_comb"
   ]
  },
  {
   "cell_type": "markdown",
   "metadata": {},
   "source": [
    "## Testing data_query"
   ]
  },
  {
   "cell_type": "code",
   "execution_count": 66,
   "metadata": {},
   "outputs": [
    {
     "name": "stdout",
     "output_type": "stream",
     "text": [
      "[1.18008113]\n",
      "[1.43539727]\n",
      "[]\n",
      "[1.55331592]\n",
      "[]\n",
      "[]\n",
      "[{'Combination': ('chicken', 'garlic'), 'Score': array([1.18008113])}, {'Combination': ('chicken', 'salt'), 'Score': array([1.43539727])}, {'Combination': ('garlic', 'salt'), 'Score': array([1.55331592])}]\n"
     ]
    },
    {
     "data": {
      "text/html": [
       "<div>\n",
       "<style scoped>\n",
       "    .dataframe tbody tr th:only-of-type {\n",
       "        vertical-align: middle;\n",
       "    }\n",
       "\n",
       "    .dataframe tbody tr th {\n",
       "        vertical-align: top;\n",
       "    }\n",
       "\n",
       "    .dataframe thead th {\n",
       "        text-align: right;\n",
       "    }\n",
       "</style>\n",
       "<table border=\"1\" class=\"dataframe\">\n",
       "  <thead>\n",
       "    <tr style=\"text-align: right;\">\n",
       "      <th></th>\n",
       "      <th>Combination</th>\n",
       "      <th>Score</th>\n",
       "    </tr>\n",
       "  </thead>\n",
       "  <tbody>\n",
       "    <tr>\n",
       "      <th>0</th>\n",
       "      <td>(chicken, garlic)</td>\n",
       "      <td>[1.1800811339314616]</td>\n",
       "    </tr>\n",
       "    <tr>\n",
       "      <th>1</th>\n",
       "      <td>(chicken, salt)</td>\n",
       "      <td>[1.4353972677154387]</td>\n",
       "    </tr>\n",
       "    <tr>\n",
       "      <th>2</th>\n",
       "      <td>(garlic, salt)</td>\n",
       "      <td>[1.5533159218950603]</td>\n",
       "    </tr>\n",
       "  </tbody>\n",
       "</table>\n",
       "</div>"
      ],
      "text/plain": [
       "         Combination                 Score\n",
       "0  (chicken, garlic)  [1.1800811339314616]\n",
       "1    (chicken, salt)  [1.4353972677154387]\n",
       "2     (garlic, salt)  [1.5533159218950603]"
      ]
     },
     "execution_count": 66,
     "metadata": {},
     "output_type": "execute_result"
    }
   ],
   "source": [
    "# 6 tuples\n",
    "\n",
    "ingredients_combinations = [('chicken', 'garlic'),\n",
    " ('chicken', 'salt'),\n",
    " ('chicken', 'tomato'),\n",
    " ('garlic', 'salt'),\n",
    " ('garlic', 'tomato'),\n",
    " ('salt', 'tomato')]\n",
    "\n",
    "df_comb = data_query(ingredients_combinations)\n",
    "df_comb"
   ]
  },
  {
   "cell_type": "code",
   "execution_count": 68,
   "metadata": {
    "id": "FLH_yyRv4AiT"
   },
   "outputs": [
    {
     "name": "stdout",
     "output_type": "stream",
     "text": [
      "[]\n",
      "[]\n",
      "[]\n",
      "[]\n",
      "[]\n",
      "[1.34074608]\n",
      "[1.36673683]\n",
      "[1.13859574]\n",
      "[1.18191367]\n",
      "[2.06707352]\n",
      "[1.42354091]\n",
      "[1.49490488]\n",
      "[1.55331592]\n",
      "[3.35645049]\n",
      "[1.19027345]\n",
      "[{'Combination': ('beef', 'onion'), 'Score': array([1.34074608])}, {'Combination': ('beef', 'salt'), 'Score': array([1.36673683])}, {'Combination': ('beef', 'garlic'), 'Score': array([1.13859574])}, {'Combination': ('beef', 'pepper'), 'Score': array([1.18191367])}, {'Combination': ('onion', 'salt'), 'Score': array([2.06707352])}, {'Combination': ('onion', 'garlic'), 'Score': array([1.42354091])}, {'Combination': ('onion', 'pepper'), 'Score': array([1.49490488])}, {'Combination': ('salt', 'garlic'), 'Score': array([1.55331592])}, {'Combination': ('salt', 'pepper'), 'Score': array([3.35645049])}, {'Combination': ('garlic', 'pepper'), 'Score': array([1.19027345])}]\n"
     ]
    },
    {
     "data": {
      "text/html": [
       "<div>\n",
       "<style scoped>\n",
       "    .dataframe tbody tr th:only-of-type {\n",
       "        vertical-align: middle;\n",
       "    }\n",
       "\n",
       "    .dataframe tbody tr th {\n",
       "        vertical-align: top;\n",
       "    }\n",
       "\n",
       "    .dataframe thead th {\n",
       "        text-align: right;\n",
       "    }\n",
       "</style>\n",
       "<table border=\"1\" class=\"dataframe\">\n",
       "  <thead>\n",
       "    <tr style=\"text-align: right;\">\n",
       "      <th></th>\n",
       "      <th>Combination</th>\n",
       "      <th>Score</th>\n",
       "    </tr>\n",
       "  </thead>\n",
       "  <tbody>\n",
       "    <tr>\n",
       "      <th>0</th>\n",
       "      <td>(beef, onion)</td>\n",
       "      <td>[1.3407460751179292]</td>\n",
       "    </tr>\n",
       "    <tr>\n",
       "      <th>1</th>\n",
       "      <td>(beef, salt)</td>\n",
       "      <td>[1.3667368322711522]</td>\n",
       "    </tr>\n",
       "    <tr>\n",
       "      <th>2</th>\n",
       "      <td>(beef, garlic)</td>\n",
       "      <td>[1.1385957417039734]</td>\n",
       "    </tr>\n",
       "    <tr>\n",
       "      <th>3</th>\n",
       "      <td>(beef, pepper)</td>\n",
       "      <td>[1.1819136702926785]</td>\n",
       "    </tr>\n",
       "    <tr>\n",
       "      <th>4</th>\n",
       "      <td>(onion, salt)</td>\n",
       "      <td>[2.0670735182650013]</td>\n",
       "    </tr>\n",
       "    <tr>\n",
       "      <th>5</th>\n",
       "      <td>(onion, garlic)</td>\n",
       "      <td>[1.4235409132992736]</td>\n",
       "    </tr>\n",
       "    <tr>\n",
       "      <th>6</th>\n",
       "      <td>(onion, pepper)</td>\n",
       "      <td>[1.4949048817870405]</td>\n",
       "    </tr>\n",
       "    <tr>\n",
       "      <th>7</th>\n",
       "      <td>(salt, garlic)</td>\n",
       "      <td>[1.5533159218950603]</td>\n",
       "    </tr>\n",
       "    <tr>\n",
       "      <th>8</th>\n",
       "      <td>(salt, pepper)</td>\n",
       "      <td>[3.3564504877818235]</td>\n",
       "    </tr>\n",
       "    <tr>\n",
       "      <th>9</th>\n",
       "      <td>(garlic, pepper)</td>\n",
       "      <td>[1.1902734549399014]</td>\n",
       "    </tr>\n",
       "  </tbody>\n",
       "</table>\n",
       "</div>"
      ],
      "text/plain": [
       "        Combination                 Score\n",
       "0     (beef, onion)  [1.3407460751179292]\n",
       "1      (beef, salt)  [1.3667368322711522]\n",
       "2    (beef, garlic)  [1.1385957417039734]\n",
       "3    (beef, pepper)  [1.1819136702926785]\n",
       "4     (onion, salt)  [2.0670735182650013]\n",
       "5   (onion, garlic)  [1.4235409132992736]\n",
       "6   (onion, pepper)  [1.4949048817870405]\n",
       "7    (salt, garlic)  [1.5533159218950603]\n",
       "8    (salt, pepper)  [3.3564504877818235]\n",
       "9  (garlic, pepper)  [1.1902734549399014]"
      ]
     },
     "execution_count": 68,
     "metadata": {},
     "output_type": "execute_result"
    }
   ],
   "source": [
    "# 15 tuples\n",
    "\n",
    "ingredients_combinations = [('tomato', 'beef'),\n",
    " ('tomato', 'onion'),\n",
    " ('tomato', 'salt'),\n",
    " ('tomato', 'garlic'),\n",
    " ('tomato', 'pepper'),\n",
    " ('beef', 'onion'),\n",
    " ('beef', 'salt'),\n",
    " ('beef', 'garlic'),\n",
    " ('beef', 'pepper'),\n",
    " ('onion', 'salt'),\n",
    " ('onion', 'garlic'),\n",
    " ('onion', 'pepper'),\n",
    " ('salt', 'garlic'),\n",
    " ('salt', 'pepper'),\n",
    " ('garlic', 'pepper')]\n",
    "\n",
    "df_comb = data_query(ingredients_combinations)\n",
    "df_comb"
   ]
  },
  {
   "cell_type": "markdown",
   "metadata": {
    "id": "FLH_yyRv4AiT"
   },
   "source": [
    "# muse_comb"
   ]
  },
  {
   "cell_type": "code",
   "execution_count": 61,
   "metadata": {
    "id": "e7tWuDK24AiT"
   },
   "outputs": [],
   "source": [
    "def muse_comb(df_comb): ###If this takes too long, consider taking the nested calculate_sum(array) outside of the function\n",
    "    '''\n",
    "     the function calculates the sum of the \"Score\" values and returns the three combinations with the largest sums\n",
    "     OUTPUT: [['yeast', 'butter', 'eggs', 'pepper', 'cabbage', 'pork', 'flour', 'sugar'],\n",
    "                 ['butter', 'eggs', 'pepper', 'cabbage', 'pork', 'flour', 'sugar'],\n",
    "                 ['yeast', 'butter', 'eggs', 'pepper', 'cabbage', 'flour', 'sugar']]\n",
    "\n",
    "     NOTE FOR FRONT-END: The return is a list of lists so access the values by indexing e.g. output[0]\n",
    "\n",
    "                         The output of this function is the input for the recipe generator\n",
    "\n",
    "                         We might need a function to convert each lists into strings if\n",
    "                         the recipe generator doesn't do this automatically.\n",
    "                         \n",
    "    Input: \n",
    "    df_comb (from data_query) = a datafrome with columns 'Combination' and 'Score', containing ingredient combinations and their scores as a dataframe  (for 4 ingredients: all 6 combinations and their respective scores)\n",
    "    \n",
    "    Output:\n",
    "    ingredients_list (to recipe_generator) = a list of 3 lists, containing the 3 ingredients combinations with highest scores\n",
    "    \n",
    "    '''\n",
    "\n",
    "    def calculate_sum(array):\n",
    "        return sum(array)\n",
    "\n",
    "    def ingredients_to_lists(lists):\n",
    "        ingredients_list = []\n",
    "        for i in range(3):\n",
    "            tmp_list = []\n",
    "            for x in lists[i]:\n",
    "                tmp_list.append(x[0])\n",
    "                tmp_list.append(x[1])\n",
    "            ingredients_list.append(list(set(tmp_list)))\n",
    "\n",
    "        return ingredients_list\n",
    "\n",
    "    for i in range(len(df_comb)):\n",
    "        df_comb[\"Sum\"] = df_comb[\"Score\"].apply(calculate_sum)\n",
    "\n",
    "    max_values = df_comb.nlargest(3, \"Sum\")\n",
    "\n",
    "    max_values = max_values[\"Combination\"].reset_index(drop=True)\n",
    "\n",
    "    ingredients_lists = ingredients_to_lists(max_values)\n",
    "\n",
    "    return ingredients_lists"
   ]
  },
  {
   "cell_type": "markdown",
   "metadata": {},
   "source": [
    "## Testing muse_comb"
   ]
  },
  {
   "cell_type": "code",
   "execution_count": 62,
   "metadata": {},
   "outputs": [
    {
     "name": "stdout",
     "output_type": "stream",
     "text": [
      "[]\n",
      "[{'Combination': ('chicken', 'garlic'), 'Score': array([1.18008113])}, {'Combination': ('chicken', 'salt'), 'Score': array([1.43539727])}, {'Combination': ('garlic', 'salt'), 'Score': array([1.55331592])}]\n"
     ]
    },
    {
     "data": {
      "text/plain": [
       "[['s', 'g', 'a'], ['h', 's', 'a', 'c'], ['a', 'h', 'g', 'c']]"
      ]
     },
     "execution_count": 62,
     "metadata": {},
     "output_type": "execute_result"
    }
   ],
   "source": [
    "# 6 tuples\n",
    "\n",
    "ingredients_combinations = [('chicken', 'garlic'),\n",
    " ('chicken', 'salt'),\n",
    " ('chicken', 'tomato'),\n",
    " ('garlic', 'salt'),\n",
    " ('garlic', 'tomato'),\n",
    " ('salt', 'tomato')]\n",
    "\n",
    "df_comb = data_query(ingredients_combinations)\n",
    "\n",
    "ingredients_lists = muse_comb(df_comb)\n",
    "ingredients_lists"
   ]
  },
  {
   "cell_type": "code",
   "execution_count": 67,
   "metadata": {},
   "outputs": [
    {
     "name": "stdout",
     "output_type": "stream",
     "text": [
      "[]\n",
      "[]\n",
      "[]\n",
      "[]\n",
      "[]\n",
      "[1.34074608]\n",
      "[1.36673683]\n",
      "[1.13859574]\n",
      "[1.18191367]\n",
      "[2.06707352]\n",
      "[1.42354091]\n",
      "[1.49490488]\n",
      "[1.55331592]\n",
      "[3.35645049]\n",
      "[1.19027345]\n",
      "[{'Combination': ('beef', 'onion'), 'Score': array([1.34074608])}, {'Combination': ('beef', 'salt'), 'Score': array([1.36673683])}, {'Combination': ('beef', 'garlic'), 'Score': array([1.13859574])}, {'Combination': ('beef', 'pepper'), 'Score': array([1.18191367])}, {'Combination': ('onion', 'salt'), 'Score': array([2.06707352])}, {'Combination': ('onion', 'garlic'), 'Score': array([1.42354091])}, {'Combination': ('onion', 'pepper'), 'Score': array([1.49490488])}, {'Combination': ('salt', 'garlic'), 'Score': array([1.55331592])}, {'Combination': ('salt', 'pepper'), 'Score': array([3.35645049])}, {'Combination': ('garlic', 'pepper'), 'Score': array([1.19027345])}]\n"
     ]
    },
    {
     "data": {
      "text/plain": [
       "[['p', 's', 'e', 'a'], ['o', 'n', 's', 'a'], ['s', 'g', 'a']]"
      ]
     },
     "execution_count": 67,
     "metadata": {},
     "output_type": "execute_result"
    }
   ],
   "source": [
    "# 15 tuples\n",
    "\n",
    "ingredients_combinations = [('tomato', 'beef'),\n",
    " ('tomato', 'onion'),\n",
    " ('tomato', 'salt'),\n",
    " ('tomato', 'garlic'),\n",
    " ('tomato', 'pepper'),\n",
    " ('beef', 'onion'),\n",
    " ('beef', 'salt'),\n",
    " ('beef', 'garlic'),\n",
    " ('beef', 'pepper'),\n",
    " ('onion', 'salt'),\n",
    " ('onion', 'garlic'),\n",
    " ('onion', 'pepper'),\n",
    " ('salt', 'garlic'),\n",
    " ('salt', 'pepper'),\n",
    " ('garlic', 'pepper')]\n",
    "\n",
    "df_comb = data_query(ingredients_combinations)\n",
    "\n",
    "ingredients_lists = muse_comb(df_comb)\n",
    "ingredients_lists"
   ]
  },
  {
   "cell_type": "code",
   "execution_count": null,
   "metadata": {},
   "outputs": [],
   "source": []
  },
  {
   "cell_type": "code",
   "execution_count": null,
   "metadata": {
    "id": "e7tWuDK24AiT"
   },
   "outputs": [],
   "source": []
  },
  {
   "cell_type": "markdown",
   "metadata": {
    "id": "e7tWuDK24AiT"
   },
   "source": [
    "# recipe_generator"
   ]
  },
  {
   "cell_type": "code",
   "execution_count": 69,
   "metadata": {
    "id": "lB8VK2-F4AiU"
   },
   "outputs": [],
   "source": [
    "def recipe_generator(lists):\n",
    "    \n",
    "    '''\n",
    "    Input: \n",
    "    ingredients_list (from muse_comb) = a list of 3 lists, containing the 3 ingredients combinations with highest score\n",
    "    \n",
    "    Output: recipe_list (to final_recipe) = a list of 3 dictionaries with 3 keys each: 'title', 'ingredients', 'directions', containing info for the 3 recipes\n",
    "    \n",
    "    '''\n",
    "    api_key = \"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\"\n",
    "    client = Groq(\n",
    "    api_key=api_key\n",
    "    )\n",
    "    recipe_list = []\n",
    "\n",
    "    if len(lists) == 1:\n",
    "        chat_completion = client.chat.completions.create(\n",
    "            messages=[\n",
    "                {\n",
    "                    \"role\": \"user\",\n",
    "                    \"content\": f\"Suggest one recipe with {lists} only. The final format of the output should contain Title, Ingredients and Directions only\",\n",
    "                }\n",
    "            ],\n",
    "            model=\"llama3-8b-8192\",\n",
    "        )\n",
    "\n",
    "        recipe = chat_completion.choices[0].message.content\n",
    "\n",
    "        parts = recipe.split(\"**\")\n",
    "        title = parts[1].strip()\n",
    "        ingredients = parts[4].strip()\n",
    "        directions = parts[6].strip()\n",
    "\n",
    "        recipe_dict = {}\n",
    "        recipe_dict['title'] = title\n",
    "        recipe_dict['ingredients'] = ingredients\n",
    "        recipe_dict['directions'] = directions\n",
    "\n",
    "        recipe_list.append(recipe_dict)\n",
    "\n",
    "    else:\n",
    "      for i in range(len(lists)):\n",
    "        chat_completion = client.chat.completions.create(\n",
    "            messages=[\n",
    "                {\n",
    "                    \"role\": \"user\",\n",
    "                    \"content\": f\"Suggest one recipe with {lists[i]} only. The final format of the output should contain Title, Ingredients and Directions only\",\n",
    "                }\n",
    "            ],\n",
    "            model=\"llama3-8b-8192\",\n",
    "        )\n",
    "\n",
    "        recipe = chat_completion.choices[0].message.content\n",
    "\n",
    "        parts = recipe.split(\"**\")\n",
    "        title = parts[1].strip()\n",
    "        ingredients = parts[4].strip()\n",
    "        directions = parts[6].strip()\n",
    "\n",
    "        recipe_dict = {}\n",
    "        recipe_dict['title'] = title\n",
    "        recipe_dict['ingredients'] = ingredients\n",
    "        recipe_dict['directions'] = directions\n",
    "\n",
    "        recipe_list.append(recipe_dict)\n",
    "\n",
    "    return recipe_list"
   ]
  },
  {
   "cell_type": "code",
   "execution_count": 70,
   "metadata": {
    "id": "lB8VK2-F4AiU"
   },
   "outputs": [
    {
     "ename": "APIConnectionError",
     "evalue": "Connection error.",
     "output_type": "error",
     "traceback": [
      "\u001b[0;31m---------------------------------------------------------------------------\u001b[0m",
      "\u001b[0;31mConnectError\u001b[0m                              Traceback (most recent call last)",
      "File \u001b[0;32m~/.pyenv/versions/3.10.6/envs/lewagon/lib/python3.10/site-packages/httpx/_transports/default.py:69\u001b[0m, in \u001b[0;36mmap_httpcore_exceptions\u001b[0;34m()\u001b[0m\n\u001b[1;32m     68\u001b[0m \u001b[38;5;28;01mtry\u001b[39;00m:\n\u001b[0;32m---> 69\u001b[0m     \u001b[38;5;28;01myield\u001b[39;00m\n\u001b[1;32m     70\u001b[0m \u001b[38;5;28;01mexcept\u001b[39;00m \u001b[38;5;167;01mException\u001b[39;00m \u001b[38;5;28;01mas\u001b[39;00m exc:\n",
      "File \u001b[0;32m~/.pyenv/versions/3.10.6/envs/lewagon/lib/python3.10/site-packages/httpx/_transports/default.py:233\u001b[0m, in \u001b[0;36mHTTPTransport.handle_request\u001b[0;34m(self, request)\u001b[0m\n\u001b[1;32m    232\u001b[0m \u001b[38;5;28;01mwith\u001b[39;00m map_httpcore_exceptions():\n\u001b[0;32m--> 233\u001b[0m     resp \u001b[38;5;241m=\u001b[39m \u001b[38;5;28;43mself\u001b[39;49m\u001b[38;5;241;43m.\u001b[39;49m\u001b[43m_pool\u001b[49m\u001b[38;5;241;43m.\u001b[39;49m\u001b[43mhandle_request\u001b[49m\u001b[43m(\u001b[49m\u001b[43mreq\u001b[49m\u001b[43m)\u001b[49m\n\u001b[1;32m    235\u001b[0m \u001b[38;5;28;01massert\u001b[39;00m \u001b[38;5;28misinstance\u001b[39m(resp\u001b[38;5;241m.\u001b[39mstream, typing\u001b[38;5;241m.\u001b[39mIterable)\n",
      "File \u001b[0;32m~/.pyenv/versions/3.10.6/envs/lewagon/lib/python3.10/site-packages/httpcore/_sync/connection_pool.py:216\u001b[0m, in \u001b[0;36mConnectionPool.handle_request\u001b[0;34m(self, request)\u001b[0m\n\u001b[1;32m    215\u001b[0m     \u001b[38;5;28mself\u001b[39m\u001b[38;5;241m.\u001b[39m_close_connections(closing)\n\u001b[0;32m--> 216\u001b[0m     \u001b[38;5;28;01mraise\u001b[39;00m exc \u001b[38;5;28;01mfrom\u001b[39;00m \u001b[38;5;28mNone\u001b[39m\n\u001b[1;32m    218\u001b[0m \u001b[38;5;66;03m# Return the response. Note that in this case we still have to manage\u001b[39;00m\n\u001b[1;32m    219\u001b[0m \u001b[38;5;66;03m# the point at which the response is closed.\u001b[39;00m\n",
      "File \u001b[0;32m~/.pyenv/versions/3.10.6/envs/lewagon/lib/python3.10/site-packages/httpcore/_sync/connection_pool.py:196\u001b[0m, in \u001b[0;36mConnectionPool.handle_request\u001b[0;34m(self, request)\u001b[0m\n\u001b[1;32m    194\u001b[0m \u001b[38;5;28;01mtry\u001b[39;00m:\n\u001b[1;32m    195\u001b[0m     \u001b[38;5;66;03m# Send the request on the assigned connection.\u001b[39;00m\n\u001b[0;32m--> 196\u001b[0m     response \u001b[38;5;241m=\u001b[39m \u001b[43mconnection\u001b[49m\u001b[38;5;241;43m.\u001b[39;49m\u001b[43mhandle_request\u001b[49m\u001b[43m(\u001b[49m\n\u001b[1;32m    197\u001b[0m \u001b[43m        \u001b[49m\u001b[43mpool_request\u001b[49m\u001b[38;5;241;43m.\u001b[39;49m\u001b[43mrequest\u001b[49m\n\u001b[1;32m    198\u001b[0m \u001b[43m    \u001b[49m\u001b[43m)\u001b[49m\n\u001b[1;32m    199\u001b[0m \u001b[38;5;28;01mexcept\u001b[39;00m ConnectionNotAvailable:\n\u001b[1;32m    200\u001b[0m     \u001b[38;5;66;03m# In some cases a connection may initially be available to\u001b[39;00m\n\u001b[1;32m    201\u001b[0m     \u001b[38;5;66;03m# handle a request, but then become unavailable.\u001b[39;00m\n\u001b[1;32m    202\u001b[0m     \u001b[38;5;66;03m#\u001b[39;00m\n\u001b[1;32m    203\u001b[0m     \u001b[38;5;66;03m# In this case we clear the connection and try again.\u001b[39;00m\n",
      "File \u001b[0;32m~/.pyenv/versions/3.10.6/envs/lewagon/lib/python3.10/site-packages/httpcore/_sync/connection.py:99\u001b[0m, in \u001b[0;36mHTTPConnection.handle_request\u001b[0;34m(self, request)\u001b[0m\n\u001b[1;32m     98\u001b[0m     \u001b[38;5;28mself\u001b[39m\u001b[38;5;241m.\u001b[39m_connect_failed \u001b[38;5;241m=\u001b[39m \u001b[38;5;28;01mTrue\u001b[39;00m\n\u001b[0;32m---> 99\u001b[0m     \u001b[38;5;28;01mraise\u001b[39;00m exc\n\u001b[1;32m    101\u001b[0m \u001b[38;5;28;01mreturn\u001b[39;00m \u001b[38;5;28mself\u001b[39m\u001b[38;5;241m.\u001b[39m_connection\u001b[38;5;241m.\u001b[39mhandle_request(request)\n",
      "File \u001b[0;32m~/.pyenv/versions/3.10.6/envs/lewagon/lib/python3.10/site-packages/httpcore/_sync/connection.py:76\u001b[0m, in \u001b[0;36mHTTPConnection.handle_request\u001b[0;34m(self, request)\u001b[0m\n\u001b[1;32m     75\u001b[0m \u001b[38;5;28;01mif\u001b[39;00m \u001b[38;5;28mself\u001b[39m\u001b[38;5;241m.\u001b[39m_connection \u001b[38;5;129;01mis\u001b[39;00m \u001b[38;5;28;01mNone\u001b[39;00m:\n\u001b[0;32m---> 76\u001b[0m     stream \u001b[38;5;241m=\u001b[39m \u001b[38;5;28;43mself\u001b[39;49m\u001b[38;5;241;43m.\u001b[39;49m\u001b[43m_connect\u001b[49m\u001b[43m(\u001b[49m\u001b[43mrequest\u001b[49m\u001b[43m)\u001b[49m\n\u001b[1;32m     78\u001b[0m     ssl_object \u001b[38;5;241m=\u001b[39m stream\u001b[38;5;241m.\u001b[39mget_extra_info(\u001b[38;5;124m\"\u001b[39m\u001b[38;5;124mssl_object\u001b[39m\u001b[38;5;124m\"\u001b[39m)\n",
      "File \u001b[0;32m~/.pyenv/versions/3.10.6/envs/lewagon/lib/python3.10/site-packages/httpcore/_sync/connection.py:122\u001b[0m, in \u001b[0;36mHTTPConnection._connect\u001b[0;34m(self, request)\u001b[0m\n\u001b[1;32m    121\u001b[0m \u001b[38;5;28;01mwith\u001b[39;00m Trace(\u001b[38;5;124m\"\u001b[39m\u001b[38;5;124mconnect_tcp\u001b[39m\u001b[38;5;124m\"\u001b[39m, logger, request, kwargs) \u001b[38;5;28;01mas\u001b[39;00m trace:\n\u001b[0;32m--> 122\u001b[0m     stream \u001b[38;5;241m=\u001b[39m \u001b[38;5;28;43mself\u001b[39;49m\u001b[38;5;241;43m.\u001b[39;49m\u001b[43m_network_backend\u001b[49m\u001b[38;5;241;43m.\u001b[39;49m\u001b[43mconnect_tcp\u001b[49m\u001b[43m(\u001b[49m\u001b[38;5;241;43m*\u001b[39;49m\u001b[38;5;241;43m*\u001b[39;49m\u001b[43mkwargs\u001b[49m\u001b[43m)\u001b[49m\n\u001b[1;32m    123\u001b[0m     trace\u001b[38;5;241m.\u001b[39mreturn_value \u001b[38;5;241m=\u001b[39m stream\n",
      "File \u001b[0;32m~/.pyenv/versions/3.10.6/envs/lewagon/lib/python3.10/site-packages/httpcore/_backends/sync.py:205\u001b[0m, in \u001b[0;36mSyncBackend.connect_tcp\u001b[0;34m(self, host, port, timeout, local_address, socket_options)\u001b[0m\n\u001b[1;32m    200\u001b[0m exc_map: ExceptionMapping \u001b[38;5;241m=\u001b[39m {\n\u001b[1;32m    201\u001b[0m     socket\u001b[38;5;241m.\u001b[39mtimeout: ConnectTimeout,\n\u001b[1;32m    202\u001b[0m     \u001b[38;5;167;01mOSError\u001b[39;00m: ConnectError,\n\u001b[1;32m    203\u001b[0m }\n\u001b[0;32m--> 205\u001b[0m \u001b[38;5;28;01mwith\u001b[39;00m map_exceptions(exc_map):\n\u001b[1;32m    206\u001b[0m     sock \u001b[38;5;241m=\u001b[39m socket\u001b[38;5;241m.\u001b[39mcreate_connection(\n\u001b[1;32m    207\u001b[0m         address,\n\u001b[1;32m    208\u001b[0m         timeout,\n\u001b[1;32m    209\u001b[0m         source_address\u001b[38;5;241m=\u001b[39msource_address,\n\u001b[1;32m    210\u001b[0m     )\n",
      "File \u001b[0;32m~/.pyenv/versions/3.10.6/lib/python3.10/contextlib.py:153\u001b[0m, in \u001b[0;36m_GeneratorContextManager.__exit__\u001b[0;34m(self, typ, value, traceback)\u001b[0m\n\u001b[1;32m    152\u001b[0m \u001b[38;5;28;01mtry\u001b[39;00m:\n\u001b[0;32m--> 153\u001b[0m     \u001b[38;5;28;43mself\u001b[39;49m\u001b[38;5;241;43m.\u001b[39;49m\u001b[43mgen\u001b[49m\u001b[38;5;241;43m.\u001b[39;49m\u001b[43mthrow\u001b[49m\u001b[43m(\u001b[49m\u001b[43mtyp\u001b[49m\u001b[43m,\u001b[49m\u001b[43m \u001b[49m\u001b[43mvalue\u001b[49m\u001b[43m,\u001b[49m\u001b[43m \u001b[49m\u001b[43mtraceback\u001b[49m\u001b[43m)\u001b[49m\n\u001b[1;32m    154\u001b[0m \u001b[38;5;28;01mexcept\u001b[39;00m \u001b[38;5;167;01mStopIteration\u001b[39;00m \u001b[38;5;28;01mas\u001b[39;00m exc:\n\u001b[1;32m    155\u001b[0m     \u001b[38;5;66;03m# Suppress StopIteration *unless* it's the same exception that\u001b[39;00m\n\u001b[1;32m    156\u001b[0m     \u001b[38;5;66;03m# was passed to throw().  This prevents a StopIteration\u001b[39;00m\n\u001b[1;32m    157\u001b[0m     \u001b[38;5;66;03m# raised inside the \"with\" statement from being suppressed.\u001b[39;00m\n",
      "File \u001b[0;32m~/.pyenv/versions/3.10.6/envs/lewagon/lib/python3.10/site-packages/httpcore/_exceptions.py:14\u001b[0m, in \u001b[0;36mmap_exceptions\u001b[0;34m(map)\u001b[0m\n\u001b[1;32m     13\u001b[0m     \u001b[38;5;28;01mif\u001b[39;00m \u001b[38;5;28misinstance\u001b[39m(exc, from_exc):\n\u001b[0;32m---> 14\u001b[0m         \u001b[38;5;28;01mraise\u001b[39;00m to_exc(exc) \u001b[38;5;28;01mfrom\u001b[39;00m \u001b[38;5;21;01mexc\u001b[39;00m\n\u001b[1;32m     15\u001b[0m \u001b[38;5;28;01mraise\u001b[39;00m\n",
      "\u001b[0;31mConnectError\u001b[0m: [Errno -3] Temporary failure in name resolution",
      "\nThe above exception was the direct cause of the following exception:\n",
      "\u001b[0;31mConnectError\u001b[0m                              Traceback (most recent call last)",
      "File \u001b[0;32m~/.pyenv/versions/3.10.6/envs/lewagon/lib/python3.10/site-packages/groq/_base_client.py:925\u001b[0m, in \u001b[0;36mSyncAPIClient._request\u001b[0;34m(self, cast_to, options, remaining_retries, stream, stream_cls)\u001b[0m\n\u001b[1;32m    924\u001b[0m \u001b[38;5;28;01mtry\u001b[39;00m:\n\u001b[0;32m--> 925\u001b[0m     response \u001b[38;5;241m=\u001b[39m \u001b[38;5;28;43mself\u001b[39;49m\u001b[38;5;241;43m.\u001b[39;49m\u001b[43m_client\u001b[49m\u001b[38;5;241;43m.\u001b[39;49m\u001b[43msend\u001b[49m\u001b[43m(\u001b[49m\n\u001b[1;32m    926\u001b[0m \u001b[43m        \u001b[49m\u001b[43mrequest\u001b[49m\u001b[43m,\u001b[49m\n\u001b[1;32m    927\u001b[0m \u001b[43m        \u001b[49m\u001b[43mstream\u001b[49m\u001b[38;5;241;43m=\u001b[39;49m\u001b[43mstream\u001b[49m\u001b[43m \u001b[49m\u001b[38;5;129;43;01mor\u001b[39;49;00m\u001b[43m \u001b[49m\u001b[38;5;28;43mself\u001b[39;49m\u001b[38;5;241;43m.\u001b[39;49m\u001b[43m_should_stream_response_body\u001b[49m\u001b[43m(\u001b[49m\u001b[43mrequest\u001b[49m\u001b[38;5;241;43m=\u001b[39;49m\u001b[43mrequest\u001b[49m\u001b[43m)\u001b[49m\u001b[43m,\u001b[49m\n\u001b[1;32m    928\u001b[0m \u001b[43m        \u001b[49m\u001b[38;5;241;43m*\u001b[39;49m\u001b[38;5;241;43m*\u001b[39;49m\u001b[43mkwargs\u001b[49m\u001b[43m,\u001b[49m\n\u001b[1;32m    929\u001b[0m \u001b[43m    \u001b[49m\u001b[43m)\u001b[49m\n\u001b[1;32m    930\u001b[0m \u001b[38;5;28;01mexcept\u001b[39;00m httpx\u001b[38;5;241m.\u001b[39mTimeoutException \u001b[38;5;28;01mas\u001b[39;00m err:\n",
      "File \u001b[0;32m~/.pyenv/versions/3.10.6/envs/lewagon/lib/python3.10/site-packages/httpx/_client.py:914\u001b[0m, in \u001b[0;36mClient.send\u001b[0;34m(self, request, stream, auth, follow_redirects)\u001b[0m\n\u001b[1;32m    912\u001b[0m auth \u001b[38;5;241m=\u001b[39m \u001b[38;5;28mself\u001b[39m\u001b[38;5;241m.\u001b[39m_build_request_auth(request, auth)\n\u001b[0;32m--> 914\u001b[0m response \u001b[38;5;241m=\u001b[39m \u001b[38;5;28;43mself\u001b[39;49m\u001b[38;5;241;43m.\u001b[39;49m\u001b[43m_send_handling_auth\u001b[49m\u001b[43m(\u001b[49m\n\u001b[1;32m    915\u001b[0m \u001b[43m    \u001b[49m\u001b[43mrequest\u001b[49m\u001b[43m,\u001b[49m\n\u001b[1;32m    916\u001b[0m \u001b[43m    \u001b[49m\u001b[43mauth\u001b[49m\u001b[38;5;241;43m=\u001b[39;49m\u001b[43mauth\u001b[49m\u001b[43m,\u001b[49m\n\u001b[1;32m    917\u001b[0m \u001b[43m    \u001b[49m\u001b[43mfollow_redirects\u001b[49m\u001b[38;5;241;43m=\u001b[39;49m\u001b[43mfollow_redirects\u001b[49m\u001b[43m,\u001b[49m\n\u001b[1;32m    918\u001b[0m \u001b[43m    \u001b[49m\u001b[43mhistory\u001b[49m\u001b[38;5;241;43m=\u001b[39;49m\u001b[43m[\u001b[49m\u001b[43m]\u001b[49m\u001b[43m,\u001b[49m\n\u001b[1;32m    919\u001b[0m \u001b[43m\u001b[49m\u001b[43m)\u001b[49m\n\u001b[1;32m    920\u001b[0m \u001b[38;5;28;01mtry\u001b[39;00m:\n",
      "File \u001b[0;32m~/.pyenv/versions/3.10.6/envs/lewagon/lib/python3.10/site-packages/httpx/_client.py:942\u001b[0m, in \u001b[0;36mClient._send_handling_auth\u001b[0;34m(self, request, auth, follow_redirects, history)\u001b[0m\n\u001b[1;32m    941\u001b[0m \u001b[38;5;28;01mwhile\u001b[39;00m \u001b[38;5;28;01mTrue\u001b[39;00m:\n\u001b[0;32m--> 942\u001b[0m     response \u001b[38;5;241m=\u001b[39m \u001b[38;5;28;43mself\u001b[39;49m\u001b[38;5;241;43m.\u001b[39;49m\u001b[43m_send_handling_redirects\u001b[49m\u001b[43m(\u001b[49m\n\u001b[1;32m    943\u001b[0m \u001b[43m        \u001b[49m\u001b[43mrequest\u001b[49m\u001b[43m,\u001b[49m\n\u001b[1;32m    944\u001b[0m \u001b[43m        \u001b[49m\u001b[43mfollow_redirects\u001b[49m\u001b[38;5;241;43m=\u001b[39;49m\u001b[43mfollow_redirects\u001b[49m\u001b[43m,\u001b[49m\n\u001b[1;32m    945\u001b[0m \u001b[43m        \u001b[49m\u001b[43mhistory\u001b[49m\u001b[38;5;241;43m=\u001b[39;49m\u001b[43mhistory\u001b[49m\u001b[43m,\u001b[49m\n\u001b[1;32m    946\u001b[0m \u001b[43m    \u001b[49m\u001b[43m)\u001b[49m\n\u001b[1;32m    947\u001b[0m     \u001b[38;5;28;01mtry\u001b[39;00m:\n",
      "File \u001b[0;32m~/.pyenv/versions/3.10.6/envs/lewagon/lib/python3.10/site-packages/httpx/_client.py:979\u001b[0m, in \u001b[0;36mClient._send_handling_redirects\u001b[0;34m(self, request, follow_redirects, history)\u001b[0m\n\u001b[1;32m    977\u001b[0m     hook(request)\n\u001b[0;32m--> 979\u001b[0m response \u001b[38;5;241m=\u001b[39m \u001b[38;5;28;43mself\u001b[39;49m\u001b[38;5;241;43m.\u001b[39;49m\u001b[43m_send_single_request\u001b[49m\u001b[43m(\u001b[49m\u001b[43mrequest\u001b[49m\u001b[43m)\u001b[49m\n\u001b[1;32m    980\u001b[0m \u001b[38;5;28;01mtry\u001b[39;00m:\n",
      "File \u001b[0;32m~/.pyenv/versions/3.10.6/envs/lewagon/lib/python3.10/site-packages/httpx/_client.py:1015\u001b[0m, in \u001b[0;36mClient._send_single_request\u001b[0;34m(self, request)\u001b[0m\n\u001b[1;32m   1014\u001b[0m \u001b[38;5;28;01mwith\u001b[39;00m request_context(request\u001b[38;5;241m=\u001b[39mrequest):\n\u001b[0;32m-> 1015\u001b[0m     response \u001b[38;5;241m=\u001b[39m \u001b[43mtransport\u001b[49m\u001b[38;5;241;43m.\u001b[39;49m\u001b[43mhandle_request\u001b[49m\u001b[43m(\u001b[49m\u001b[43mrequest\u001b[49m\u001b[43m)\u001b[49m\n\u001b[1;32m   1017\u001b[0m \u001b[38;5;28;01massert\u001b[39;00m \u001b[38;5;28misinstance\u001b[39m(response\u001b[38;5;241m.\u001b[39mstream, SyncByteStream)\n",
      "File \u001b[0;32m~/.pyenv/versions/3.10.6/envs/lewagon/lib/python3.10/site-packages/httpx/_transports/default.py:232\u001b[0m, in \u001b[0;36mHTTPTransport.handle_request\u001b[0;34m(self, request)\u001b[0m\n\u001b[1;32m    220\u001b[0m req \u001b[38;5;241m=\u001b[39m httpcore\u001b[38;5;241m.\u001b[39mRequest(\n\u001b[1;32m    221\u001b[0m     method\u001b[38;5;241m=\u001b[39mrequest\u001b[38;5;241m.\u001b[39mmethod,\n\u001b[1;32m    222\u001b[0m     url\u001b[38;5;241m=\u001b[39mhttpcore\u001b[38;5;241m.\u001b[39mURL(\n\u001b[0;32m   (...)\u001b[0m\n\u001b[1;32m    230\u001b[0m     extensions\u001b[38;5;241m=\u001b[39mrequest\u001b[38;5;241m.\u001b[39mextensions,\n\u001b[1;32m    231\u001b[0m )\n\u001b[0;32m--> 232\u001b[0m \u001b[38;5;28;01mwith\u001b[39;00m map_httpcore_exceptions():\n\u001b[1;32m    233\u001b[0m     resp \u001b[38;5;241m=\u001b[39m \u001b[38;5;28mself\u001b[39m\u001b[38;5;241m.\u001b[39m_pool\u001b[38;5;241m.\u001b[39mhandle_request(req)\n",
      "File \u001b[0;32m~/.pyenv/versions/3.10.6/lib/python3.10/contextlib.py:153\u001b[0m, in \u001b[0;36m_GeneratorContextManager.__exit__\u001b[0;34m(self, typ, value, traceback)\u001b[0m\n\u001b[1;32m    152\u001b[0m \u001b[38;5;28;01mtry\u001b[39;00m:\n\u001b[0;32m--> 153\u001b[0m     \u001b[38;5;28;43mself\u001b[39;49m\u001b[38;5;241;43m.\u001b[39;49m\u001b[43mgen\u001b[49m\u001b[38;5;241;43m.\u001b[39;49m\u001b[43mthrow\u001b[49m\u001b[43m(\u001b[49m\u001b[43mtyp\u001b[49m\u001b[43m,\u001b[49m\u001b[43m \u001b[49m\u001b[43mvalue\u001b[49m\u001b[43m,\u001b[49m\u001b[43m \u001b[49m\u001b[43mtraceback\u001b[49m\u001b[43m)\u001b[49m\n\u001b[1;32m    154\u001b[0m \u001b[38;5;28;01mexcept\u001b[39;00m \u001b[38;5;167;01mStopIteration\u001b[39;00m \u001b[38;5;28;01mas\u001b[39;00m exc:\n\u001b[1;32m    155\u001b[0m     \u001b[38;5;66;03m# Suppress StopIteration *unless* it's the same exception that\u001b[39;00m\n\u001b[1;32m    156\u001b[0m     \u001b[38;5;66;03m# was passed to throw().  This prevents a StopIteration\u001b[39;00m\n\u001b[1;32m    157\u001b[0m     \u001b[38;5;66;03m# raised inside the \"with\" statement from being suppressed.\u001b[39;00m\n",
      "File \u001b[0;32m~/.pyenv/versions/3.10.6/envs/lewagon/lib/python3.10/site-packages/httpx/_transports/default.py:86\u001b[0m, in \u001b[0;36mmap_httpcore_exceptions\u001b[0;34m()\u001b[0m\n\u001b[1;32m     85\u001b[0m message \u001b[38;5;241m=\u001b[39m \u001b[38;5;28mstr\u001b[39m(exc)\n\u001b[0;32m---> 86\u001b[0m \u001b[38;5;28;01mraise\u001b[39;00m mapped_exc(message) \u001b[38;5;28;01mfrom\u001b[39;00m \u001b[38;5;21;01mexc\u001b[39;00m\n",
      "\u001b[0;31mConnectError\u001b[0m: [Errno -3] Temporary failure in name resolution",
      "\nThe above exception was the direct cause of the following exception:\n",
      "\u001b[0;31mAPIConnectionError\u001b[0m                        Traceback (most recent call last)",
      "Cell \u001b[0;32mIn [70], line 3\u001b[0m\n\u001b[1;32m      1\u001b[0m ingredients_lists \u001b[38;5;241m=\u001b[39m [[\u001b[38;5;124m'\u001b[39m\u001b[38;5;124mtomato\u001b[39m\u001b[38;5;124m'\u001b[39m, \u001b[38;5;124m'\u001b[39m\u001b[38;5;124mchicken\u001b[39m\u001b[38;5;124m'\u001b[39m, \u001b[38;5;124m'\u001b[39m\u001b[38;5;124mgarlic\u001b[39m\u001b[38;5;124m'\u001b[39m], [\u001b[38;5;124m'\u001b[39m\u001b[38;5;124mchicken\u001b[39m\u001b[38;5;124m'\u001b[39m, \u001b[38;5;124m'\u001b[39m\u001b[38;5;124monion\u001b[39m\u001b[38;5;124m'\u001b[39m, \u001b[38;5;124m'\u001b[39m\u001b[38;5;124msalt\u001b[39m\u001b[38;5;124m'\u001b[39m], [\u001b[38;5;124m'\u001b[39m\u001b[38;5;124monion\u001b[39m\u001b[38;5;124m'\u001b[39m, \u001b[38;5;124m'\u001b[39m\u001b[38;5;124msalt\u001b[39m\u001b[38;5;124m'\u001b[39m, \u001b[38;5;124m'\u001b[39m\u001b[38;5;124mgarlic\u001b[39m\u001b[38;5;124m'\u001b[39m]]\n\u001b[0;32m----> 3\u001b[0m recipe_list \u001b[38;5;241m=\u001b[39m \u001b[43mrecipe_generator\u001b[49m\u001b[43m(\u001b[49m\u001b[43mingredients_lists\u001b[49m\u001b[43m)\u001b[49m\n\u001b[1;32m      4\u001b[0m recipe_list\n",
      "Cell \u001b[0;32mIn [69], line 43\u001b[0m, in \u001b[0;36mrecipe_generator\u001b[0;34m(lists)\u001b[0m\n\u001b[1;32m     41\u001b[0m \u001b[38;5;28;01melse\u001b[39;00m:\n\u001b[1;32m     42\u001b[0m   \u001b[38;5;28;01mfor\u001b[39;00m i \u001b[38;5;129;01min\u001b[39;00m \u001b[38;5;28mrange\u001b[39m(\u001b[38;5;28mlen\u001b[39m(lists)):\n\u001b[0;32m---> 43\u001b[0m     chat_completion \u001b[38;5;241m=\u001b[39m \u001b[43mclient\u001b[49m\u001b[38;5;241;43m.\u001b[39;49m\u001b[43mchat\u001b[49m\u001b[38;5;241;43m.\u001b[39;49m\u001b[43mcompletions\u001b[49m\u001b[38;5;241;43m.\u001b[39;49m\u001b[43mcreate\u001b[49m\u001b[43m(\u001b[49m\n\u001b[1;32m     44\u001b[0m \u001b[43m        \u001b[49m\u001b[43mmessages\u001b[49m\u001b[38;5;241;43m=\u001b[39;49m\u001b[43m[\u001b[49m\n\u001b[1;32m     45\u001b[0m \u001b[43m            \u001b[49m\u001b[43m{\u001b[49m\n\u001b[1;32m     46\u001b[0m \u001b[43m                \u001b[49m\u001b[38;5;124;43m\"\u001b[39;49m\u001b[38;5;124;43mrole\u001b[39;49m\u001b[38;5;124;43m\"\u001b[39;49m\u001b[43m:\u001b[49m\u001b[43m \u001b[49m\u001b[38;5;124;43m\"\u001b[39;49m\u001b[38;5;124;43muser\u001b[39;49m\u001b[38;5;124;43m\"\u001b[39;49m\u001b[43m,\u001b[49m\n\u001b[1;32m     47\u001b[0m \u001b[43m                \u001b[49m\u001b[38;5;124;43m\"\u001b[39;49m\u001b[38;5;124;43mcontent\u001b[39;49m\u001b[38;5;124;43m\"\u001b[39;49m\u001b[43m:\u001b[49m\u001b[43m \u001b[49m\u001b[38;5;124;43mf\u001b[39;49m\u001b[38;5;124;43m\"\u001b[39;49m\u001b[38;5;124;43mSuggest one recipe with \u001b[39;49m\u001b[38;5;132;43;01m{\u001b[39;49;00m\u001b[43mlists\u001b[49m\u001b[43m[\u001b[49m\u001b[43mi\u001b[49m\u001b[43m]\u001b[49m\u001b[38;5;132;43;01m}\u001b[39;49;00m\u001b[38;5;124;43m only. The final format of the output should contain Title, Ingredients and Directions only\u001b[39;49m\u001b[38;5;124;43m\"\u001b[39;49m\u001b[43m,\u001b[49m\n\u001b[1;32m     48\u001b[0m \u001b[43m            \u001b[49m\u001b[43m}\u001b[49m\n\u001b[1;32m     49\u001b[0m \u001b[43m        \u001b[49m\u001b[43m]\u001b[49m\u001b[43m,\u001b[49m\n\u001b[1;32m     50\u001b[0m \u001b[43m        \u001b[49m\u001b[43mmodel\u001b[49m\u001b[38;5;241;43m=\u001b[39;49m\u001b[38;5;124;43m\"\u001b[39;49m\u001b[38;5;124;43mllama3-8b-8192\u001b[39;49m\u001b[38;5;124;43m\"\u001b[39;49m\u001b[43m,\u001b[49m\n\u001b[1;32m     51\u001b[0m \u001b[43m    \u001b[49m\u001b[43m)\u001b[49m\n\u001b[1;32m     53\u001b[0m     recipe \u001b[38;5;241m=\u001b[39m chat_completion\u001b[38;5;241m.\u001b[39mchoices[\u001b[38;5;241m0\u001b[39m]\u001b[38;5;241m.\u001b[39mmessage\u001b[38;5;241m.\u001b[39mcontent\n\u001b[1;32m     55\u001b[0m     parts \u001b[38;5;241m=\u001b[39m recipe\u001b[38;5;241m.\u001b[39msplit(\u001b[38;5;124m\"\u001b[39m\u001b[38;5;124m**\u001b[39m\u001b[38;5;124m\"\u001b[39m)\n",
      "File \u001b[0;32m~/.pyenv/versions/3.10.6/envs/lewagon/lib/python3.10/site-packages/groq/resources/chat/completions.py:178\u001b[0m, in \u001b[0;36mCompletions.create\u001b[0;34m(self, messages, model, frequency_penalty, logit_bias, logprobs, max_tokens, n, presence_penalty, response_format, seed, stop, stream, temperature, tool_choice, tools, top_logprobs, top_p, user, extra_headers, extra_query, extra_body, timeout)\u001b[0m\n\u001b[1;32m    135\u001b[0m \u001b[38;5;28;01mdef\u001b[39;00m \u001b[38;5;21mcreate\u001b[39m(\n\u001b[1;32m    136\u001b[0m     \u001b[38;5;28mself\u001b[39m,\n\u001b[1;32m    137\u001b[0m     \u001b[38;5;241m*\u001b[39m,\n\u001b[0;32m   (...)\u001b[0m\n\u001b[1;32m    161\u001b[0m     timeout: \u001b[38;5;28mfloat\u001b[39m \u001b[38;5;241m|\u001b[39m httpx\u001b[38;5;241m.\u001b[39mTimeout \u001b[38;5;241m|\u001b[39m \u001b[38;5;28;01mNone\u001b[39;00m \u001b[38;5;241m|\u001b[39m NotGiven \u001b[38;5;241m=\u001b[39m NOT_GIVEN,\n\u001b[1;32m    162\u001b[0m ) \u001b[38;5;241m-\u001b[39m\u001b[38;5;241m>\u001b[39m ChatCompletion \u001b[38;5;241m|\u001b[39m Stream[ChatCompletionChunk]:\n\u001b[1;32m    163\u001b[0m     \u001b[38;5;124;03m\"\"\"\u001b[39;00m\n\u001b[1;32m    164\u001b[0m \u001b[38;5;124;03m    Creates a completion for a chat prompt\u001b[39;00m\n\u001b[1;32m    165\u001b[0m \n\u001b[0;32m   (...)\u001b[0m\n\u001b[1;32m    176\u001b[0m \u001b[38;5;124;03m      timeout: Override the client-level default timeout for this request, in seconds\u001b[39;00m\n\u001b[1;32m    177\u001b[0m \u001b[38;5;124;03m    \"\"\"\u001b[39;00m\n\u001b[0;32m--> 178\u001b[0m     \u001b[38;5;28;01mreturn\u001b[39;00m \u001b[38;5;28;43mself\u001b[39;49m\u001b[38;5;241;43m.\u001b[39;49m\u001b[43m_post\u001b[49m\u001b[43m(\u001b[49m\n\u001b[1;32m    179\u001b[0m \u001b[43m        \u001b[49m\u001b[38;5;124;43m\"\u001b[39;49m\u001b[38;5;124;43m/openai/v1/chat/completions\u001b[39;49m\u001b[38;5;124;43m\"\u001b[39;49m\u001b[43m,\u001b[49m\n\u001b[1;32m    180\u001b[0m \u001b[43m        \u001b[49m\u001b[43mbody\u001b[49m\u001b[38;5;241;43m=\u001b[39;49m\u001b[43mmaybe_transform\u001b[49m\u001b[43m(\u001b[49m\n\u001b[1;32m    181\u001b[0m \u001b[43m            \u001b[49m\u001b[43m{\u001b[49m\n\u001b[1;32m    182\u001b[0m \u001b[43m                \u001b[49m\u001b[38;5;124;43m\"\u001b[39;49m\u001b[38;5;124;43mmessages\u001b[39;49m\u001b[38;5;124;43m\"\u001b[39;49m\u001b[43m:\u001b[49m\u001b[43m \u001b[49m\u001b[43mmessages\u001b[49m\u001b[43m,\u001b[49m\n\u001b[1;32m    183\u001b[0m \u001b[43m                \u001b[49m\u001b[38;5;124;43m\"\u001b[39;49m\u001b[38;5;124;43mmodel\u001b[39;49m\u001b[38;5;124;43m\"\u001b[39;49m\u001b[43m:\u001b[49m\u001b[43m \u001b[49m\u001b[43mmodel\u001b[49m\u001b[43m,\u001b[49m\n\u001b[1;32m    184\u001b[0m \u001b[43m                \u001b[49m\u001b[38;5;124;43m\"\u001b[39;49m\u001b[38;5;124;43mfrequency_penalty\u001b[39;49m\u001b[38;5;124;43m\"\u001b[39;49m\u001b[43m:\u001b[49m\u001b[43m \u001b[49m\u001b[43mfrequency_penalty\u001b[49m\u001b[43m,\u001b[49m\n\u001b[1;32m    185\u001b[0m \u001b[43m                \u001b[49m\u001b[38;5;124;43m\"\u001b[39;49m\u001b[38;5;124;43mlogit_bias\u001b[39;49m\u001b[38;5;124;43m\"\u001b[39;49m\u001b[43m:\u001b[49m\u001b[43m \u001b[49m\u001b[43mlogit_bias\u001b[49m\u001b[43m,\u001b[49m\n\u001b[1;32m    186\u001b[0m \u001b[43m                \u001b[49m\u001b[38;5;124;43m\"\u001b[39;49m\u001b[38;5;124;43mlogprobs\u001b[39;49m\u001b[38;5;124;43m\"\u001b[39;49m\u001b[43m:\u001b[49m\u001b[43m \u001b[49m\u001b[43mlogprobs\u001b[49m\u001b[43m,\u001b[49m\n\u001b[1;32m    187\u001b[0m \u001b[43m                \u001b[49m\u001b[38;5;124;43m\"\u001b[39;49m\u001b[38;5;124;43mmax_tokens\u001b[39;49m\u001b[38;5;124;43m\"\u001b[39;49m\u001b[43m:\u001b[49m\u001b[43m \u001b[49m\u001b[43mmax_tokens\u001b[49m\u001b[43m,\u001b[49m\n\u001b[1;32m    188\u001b[0m \u001b[43m                \u001b[49m\u001b[38;5;124;43m\"\u001b[39;49m\u001b[38;5;124;43mn\u001b[39;49m\u001b[38;5;124;43m\"\u001b[39;49m\u001b[43m:\u001b[49m\u001b[43m \u001b[49m\u001b[43mn\u001b[49m\u001b[43m,\u001b[49m\n\u001b[1;32m    189\u001b[0m \u001b[43m                \u001b[49m\u001b[38;5;124;43m\"\u001b[39;49m\u001b[38;5;124;43mpresence_penalty\u001b[39;49m\u001b[38;5;124;43m\"\u001b[39;49m\u001b[43m:\u001b[49m\u001b[43m \u001b[49m\u001b[43mpresence_penalty\u001b[49m\u001b[43m,\u001b[49m\n\u001b[1;32m    190\u001b[0m \u001b[43m                \u001b[49m\u001b[38;5;124;43m\"\u001b[39;49m\u001b[38;5;124;43mresponse_format\u001b[39;49m\u001b[38;5;124;43m\"\u001b[39;49m\u001b[43m:\u001b[49m\u001b[43m \u001b[49m\u001b[43mresponse_format\u001b[49m\u001b[43m,\u001b[49m\n\u001b[1;32m    191\u001b[0m \u001b[43m                \u001b[49m\u001b[38;5;124;43m\"\u001b[39;49m\u001b[38;5;124;43mseed\u001b[39;49m\u001b[38;5;124;43m\"\u001b[39;49m\u001b[43m:\u001b[49m\u001b[43m \u001b[49m\u001b[43mseed\u001b[49m\u001b[43m,\u001b[49m\n\u001b[1;32m    192\u001b[0m \u001b[43m                \u001b[49m\u001b[38;5;124;43m\"\u001b[39;49m\u001b[38;5;124;43mstop\u001b[39;49m\u001b[38;5;124;43m\"\u001b[39;49m\u001b[43m:\u001b[49m\u001b[43m \u001b[49m\u001b[43mstop\u001b[49m\u001b[43m,\u001b[49m\n\u001b[1;32m    193\u001b[0m \u001b[43m                \u001b[49m\u001b[38;5;124;43m\"\u001b[39;49m\u001b[38;5;124;43mstream\u001b[39;49m\u001b[38;5;124;43m\"\u001b[39;49m\u001b[43m:\u001b[49m\u001b[43m \u001b[49m\u001b[43mstream\u001b[49m\u001b[43m,\u001b[49m\n\u001b[1;32m    194\u001b[0m \u001b[43m                \u001b[49m\u001b[38;5;124;43m\"\u001b[39;49m\u001b[38;5;124;43mtemperature\u001b[39;49m\u001b[38;5;124;43m\"\u001b[39;49m\u001b[43m:\u001b[49m\u001b[43m \u001b[49m\u001b[43mtemperature\u001b[49m\u001b[43m,\u001b[49m\n\u001b[1;32m    195\u001b[0m \u001b[43m                \u001b[49m\u001b[38;5;124;43m\"\u001b[39;49m\u001b[38;5;124;43mtool_choice\u001b[39;49m\u001b[38;5;124;43m\"\u001b[39;49m\u001b[43m:\u001b[49m\u001b[43m \u001b[49m\u001b[43mtool_choice\u001b[49m\u001b[43m,\u001b[49m\n\u001b[1;32m    196\u001b[0m \u001b[43m                \u001b[49m\u001b[38;5;124;43m\"\u001b[39;49m\u001b[38;5;124;43mtools\u001b[39;49m\u001b[38;5;124;43m\"\u001b[39;49m\u001b[43m:\u001b[49m\u001b[43m \u001b[49m\u001b[43mtools\u001b[49m\u001b[43m,\u001b[49m\n\u001b[1;32m    197\u001b[0m \u001b[43m                \u001b[49m\u001b[38;5;124;43m\"\u001b[39;49m\u001b[38;5;124;43mtop_logprobs\u001b[39;49m\u001b[38;5;124;43m\"\u001b[39;49m\u001b[43m:\u001b[49m\u001b[43m \u001b[49m\u001b[43mtop_logprobs\u001b[49m\u001b[43m,\u001b[49m\n\u001b[1;32m    198\u001b[0m \u001b[43m                \u001b[49m\u001b[38;5;124;43m\"\u001b[39;49m\u001b[38;5;124;43mtop_p\u001b[39;49m\u001b[38;5;124;43m\"\u001b[39;49m\u001b[43m:\u001b[49m\u001b[43m \u001b[49m\u001b[43mtop_p\u001b[49m\u001b[43m,\u001b[49m\n\u001b[1;32m    199\u001b[0m \u001b[43m                \u001b[49m\u001b[38;5;124;43m\"\u001b[39;49m\u001b[38;5;124;43muser\u001b[39;49m\u001b[38;5;124;43m\"\u001b[39;49m\u001b[43m:\u001b[49m\u001b[43m \u001b[49m\u001b[43muser\u001b[49m\u001b[43m,\u001b[49m\n\u001b[1;32m    200\u001b[0m \u001b[43m            \u001b[49m\u001b[43m}\u001b[49m\u001b[43m,\u001b[49m\n\u001b[1;32m    201\u001b[0m \u001b[43m            \u001b[49m\u001b[43mcompletion_create_params\u001b[49m\u001b[38;5;241;43m.\u001b[39;49m\u001b[43mCompletionCreateParams\u001b[49m\u001b[43m,\u001b[49m\n\u001b[1;32m    202\u001b[0m \u001b[43m        \u001b[49m\u001b[43m)\u001b[49m\u001b[43m,\u001b[49m\n\u001b[1;32m    203\u001b[0m \u001b[43m        \u001b[49m\u001b[43moptions\u001b[49m\u001b[38;5;241;43m=\u001b[39;49m\u001b[43mmake_request_options\u001b[49m\u001b[43m(\u001b[49m\n\u001b[1;32m    204\u001b[0m \u001b[43m            \u001b[49m\u001b[43mextra_headers\u001b[49m\u001b[38;5;241;43m=\u001b[39;49m\u001b[43mextra_headers\u001b[49m\u001b[43m,\u001b[49m\u001b[43m \u001b[49m\u001b[43mextra_query\u001b[49m\u001b[38;5;241;43m=\u001b[39;49m\u001b[43mextra_query\u001b[49m\u001b[43m,\u001b[49m\u001b[43m \u001b[49m\u001b[43mextra_body\u001b[49m\u001b[38;5;241;43m=\u001b[39;49m\u001b[43mextra_body\u001b[49m\u001b[43m,\u001b[49m\u001b[43m \u001b[49m\u001b[43mtimeout\u001b[49m\u001b[38;5;241;43m=\u001b[39;49m\u001b[43mtimeout\u001b[49m\n\u001b[1;32m    205\u001b[0m \u001b[43m        \u001b[49m\u001b[43m)\u001b[49m\u001b[43m,\u001b[49m\n\u001b[1;32m    206\u001b[0m \u001b[43m        \u001b[49m\u001b[43mcast_to\u001b[49m\u001b[38;5;241;43m=\u001b[39;49m\u001b[43mChatCompletion\u001b[49m\u001b[43m,\u001b[49m\n\u001b[1;32m    207\u001b[0m \u001b[43m        \u001b[49m\u001b[43mstream\u001b[49m\u001b[38;5;241;43m=\u001b[39;49m\u001b[43mstream\u001b[49m\u001b[43m \u001b[49m\u001b[38;5;129;43;01mor\u001b[39;49;00m\u001b[43m \u001b[49m\u001b[38;5;28;43;01mFalse\u001b[39;49;00m\u001b[43m,\u001b[49m\n\u001b[1;32m    208\u001b[0m \u001b[43m        \u001b[49m\u001b[43mstream_cls\u001b[49m\u001b[38;5;241;43m=\u001b[39;49m\u001b[43mStream\u001b[49m\u001b[43m[\u001b[49m\u001b[43mChatCompletionChunk\u001b[49m\u001b[43m]\u001b[49m\u001b[43m,\u001b[49m\n\u001b[1;32m    209\u001b[0m \u001b[43m    \u001b[49m\u001b[43m)\u001b[49m\n",
      "File \u001b[0;32m~/.pyenv/versions/3.10.6/envs/lewagon/lib/python3.10/site-packages/groq/_base_client.py:1194\u001b[0m, in \u001b[0;36mSyncAPIClient.post\u001b[0;34m(self, path, cast_to, body, options, files, stream, stream_cls)\u001b[0m\n\u001b[1;32m   1180\u001b[0m \u001b[38;5;28;01mdef\u001b[39;00m \u001b[38;5;21mpost\u001b[39m(\n\u001b[1;32m   1181\u001b[0m     \u001b[38;5;28mself\u001b[39m,\n\u001b[1;32m   1182\u001b[0m     path: \u001b[38;5;28mstr\u001b[39m,\n\u001b[0;32m   (...)\u001b[0m\n\u001b[1;32m   1189\u001b[0m     stream_cls: \u001b[38;5;28mtype\u001b[39m[_StreamT] \u001b[38;5;241m|\u001b[39m \u001b[38;5;28;01mNone\u001b[39;00m \u001b[38;5;241m=\u001b[39m \u001b[38;5;28;01mNone\u001b[39;00m,\n\u001b[1;32m   1190\u001b[0m ) \u001b[38;5;241m-\u001b[39m\u001b[38;5;241m>\u001b[39m ResponseT \u001b[38;5;241m|\u001b[39m _StreamT:\n\u001b[1;32m   1191\u001b[0m     opts \u001b[38;5;241m=\u001b[39m FinalRequestOptions\u001b[38;5;241m.\u001b[39mconstruct(\n\u001b[1;32m   1192\u001b[0m         method\u001b[38;5;241m=\u001b[39m\u001b[38;5;124m\"\u001b[39m\u001b[38;5;124mpost\u001b[39m\u001b[38;5;124m\"\u001b[39m, url\u001b[38;5;241m=\u001b[39mpath, json_data\u001b[38;5;241m=\u001b[39mbody, files\u001b[38;5;241m=\u001b[39mto_httpx_files(files), \u001b[38;5;241m*\u001b[39m\u001b[38;5;241m*\u001b[39moptions\n\u001b[1;32m   1193\u001b[0m     )\n\u001b[0;32m-> 1194\u001b[0m     \u001b[38;5;28;01mreturn\u001b[39;00m cast(ResponseT, \u001b[38;5;28;43mself\u001b[39;49m\u001b[38;5;241;43m.\u001b[39;49m\u001b[43mrequest\u001b[49m\u001b[43m(\u001b[49m\u001b[43mcast_to\u001b[49m\u001b[43m,\u001b[49m\u001b[43m \u001b[49m\u001b[43mopts\u001b[49m\u001b[43m,\u001b[49m\u001b[43m \u001b[49m\u001b[43mstream\u001b[49m\u001b[38;5;241;43m=\u001b[39;49m\u001b[43mstream\u001b[49m\u001b[43m,\u001b[49m\u001b[43m \u001b[49m\u001b[43mstream_cls\u001b[49m\u001b[38;5;241;43m=\u001b[39;49m\u001b[43mstream_cls\u001b[49m\u001b[43m)\u001b[49m)\n",
      "File \u001b[0;32m~/.pyenv/versions/3.10.6/envs/lewagon/lib/python3.10/site-packages/groq/_base_client.py:896\u001b[0m, in \u001b[0;36mSyncAPIClient.request\u001b[0;34m(self, cast_to, options, remaining_retries, stream, stream_cls)\u001b[0m\n\u001b[1;32m    887\u001b[0m \u001b[38;5;28;01mdef\u001b[39;00m \u001b[38;5;21mrequest\u001b[39m(\n\u001b[1;32m    888\u001b[0m     \u001b[38;5;28mself\u001b[39m,\n\u001b[1;32m    889\u001b[0m     cast_to: Type[ResponseT],\n\u001b[0;32m   (...)\u001b[0m\n\u001b[1;32m    894\u001b[0m     stream_cls: \u001b[38;5;28mtype\u001b[39m[_StreamT] \u001b[38;5;241m|\u001b[39m \u001b[38;5;28;01mNone\u001b[39;00m \u001b[38;5;241m=\u001b[39m \u001b[38;5;28;01mNone\u001b[39;00m,\n\u001b[1;32m    895\u001b[0m ) \u001b[38;5;241m-\u001b[39m\u001b[38;5;241m>\u001b[39m ResponseT \u001b[38;5;241m|\u001b[39m _StreamT:\n\u001b[0;32m--> 896\u001b[0m     \u001b[38;5;28;01mreturn\u001b[39;00m \u001b[38;5;28;43mself\u001b[39;49m\u001b[38;5;241;43m.\u001b[39;49m\u001b[43m_request\u001b[49m\u001b[43m(\u001b[49m\n\u001b[1;32m    897\u001b[0m \u001b[43m        \u001b[49m\u001b[43mcast_to\u001b[49m\u001b[38;5;241;43m=\u001b[39;49m\u001b[43mcast_to\u001b[49m\u001b[43m,\u001b[49m\n\u001b[1;32m    898\u001b[0m \u001b[43m        \u001b[49m\u001b[43moptions\u001b[49m\u001b[38;5;241;43m=\u001b[39;49m\u001b[43moptions\u001b[49m\u001b[43m,\u001b[49m\n\u001b[1;32m    899\u001b[0m \u001b[43m        \u001b[49m\u001b[43mstream\u001b[49m\u001b[38;5;241;43m=\u001b[39;49m\u001b[43mstream\u001b[49m\u001b[43m,\u001b[49m\n\u001b[1;32m    900\u001b[0m \u001b[43m        \u001b[49m\u001b[43mstream_cls\u001b[49m\u001b[38;5;241;43m=\u001b[39;49m\u001b[43mstream_cls\u001b[49m\u001b[43m,\u001b[49m\n\u001b[1;32m    901\u001b[0m \u001b[43m        \u001b[49m\u001b[43mremaining_retries\u001b[49m\u001b[38;5;241;43m=\u001b[39;49m\u001b[43mremaining_retries\u001b[49m\u001b[43m,\u001b[49m\n\u001b[1;32m    902\u001b[0m \u001b[43m    \u001b[49m\u001b[43m)\u001b[49m\n",
      "File \u001b[0;32m~/.pyenv/versions/3.10.6/envs/lewagon/lib/python3.10/site-packages/groq/_base_client.py:949\u001b[0m, in \u001b[0;36mSyncAPIClient._request\u001b[0;34m(self, cast_to, options, remaining_retries, stream, stream_cls)\u001b[0m\n\u001b[1;32m    946\u001b[0m log\u001b[38;5;241m.\u001b[39mdebug(\u001b[38;5;124m\"\u001b[39m\u001b[38;5;124mEncountered Exception\u001b[39m\u001b[38;5;124m\"\u001b[39m, exc_info\u001b[38;5;241m=\u001b[39m\u001b[38;5;28;01mTrue\u001b[39;00m)\n\u001b[1;32m    948\u001b[0m \u001b[38;5;28;01mif\u001b[39;00m retries \u001b[38;5;241m>\u001b[39m \u001b[38;5;241m0\u001b[39m:\n\u001b[0;32m--> 949\u001b[0m     \u001b[38;5;28;01mreturn\u001b[39;00m \u001b[38;5;28;43mself\u001b[39;49m\u001b[38;5;241;43m.\u001b[39;49m\u001b[43m_retry_request\u001b[49m\u001b[43m(\u001b[49m\n\u001b[1;32m    950\u001b[0m \u001b[43m        \u001b[49m\u001b[43moptions\u001b[49m\u001b[43m,\u001b[49m\n\u001b[1;32m    951\u001b[0m \u001b[43m        \u001b[49m\u001b[43mcast_to\u001b[49m\u001b[43m,\u001b[49m\n\u001b[1;32m    952\u001b[0m \u001b[43m        \u001b[49m\u001b[43mretries\u001b[49m\u001b[43m,\u001b[49m\n\u001b[1;32m    953\u001b[0m \u001b[43m        \u001b[49m\u001b[43mstream\u001b[49m\u001b[38;5;241;43m=\u001b[39;49m\u001b[43mstream\u001b[49m\u001b[43m,\u001b[49m\n\u001b[1;32m    954\u001b[0m \u001b[43m        \u001b[49m\u001b[43mstream_cls\u001b[49m\u001b[38;5;241;43m=\u001b[39;49m\u001b[43mstream_cls\u001b[49m\u001b[43m,\u001b[49m\n\u001b[1;32m    955\u001b[0m \u001b[43m        \u001b[49m\u001b[43mresponse_headers\u001b[49m\u001b[38;5;241;43m=\u001b[39;49m\u001b[38;5;28;43;01mNone\u001b[39;49;00m\u001b[43m,\u001b[49m\n\u001b[1;32m    956\u001b[0m \u001b[43m    \u001b[49m\u001b[43m)\u001b[49m\n\u001b[1;32m    958\u001b[0m log\u001b[38;5;241m.\u001b[39mdebug(\u001b[38;5;124m\"\u001b[39m\u001b[38;5;124mRaising connection error\u001b[39m\u001b[38;5;124m\"\u001b[39m)\n\u001b[1;32m    959\u001b[0m \u001b[38;5;28;01mraise\u001b[39;00m APIConnectionError(request\u001b[38;5;241m=\u001b[39mrequest) \u001b[38;5;28;01mfrom\u001b[39;00m \u001b[38;5;21;01merr\u001b[39;00m\n",
      "File \u001b[0;32m~/.pyenv/versions/3.10.6/envs/lewagon/lib/python3.10/site-packages/groq/_base_client.py:1020\u001b[0m, in \u001b[0;36mSyncAPIClient._retry_request\u001b[0;34m(self, options, cast_to, remaining_retries, response_headers, stream, stream_cls)\u001b[0m\n\u001b[1;32m   1016\u001b[0m \u001b[38;5;66;03m# In a synchronous context we are blocking the entire thread. Up to the library user to run the client in a\u001b[39;00m\n\u001b[1;32m   1017\u001b[0m \u001b[38;5;66;03m# different thread if necessary.\u001b[39;00m\n\u001b[1;32m   1018\u001b[0m time\u001b[38;5;241m.\u001b[39msleep(timeout)\n\u001b[0;32m-> 1020\u001b[0m \u001b[38;5;28;01mreturn\u001b[39;00m \u001b[38;5;28;43mself\u001b[39;49m\u001b[38;5;241;43m.\u001b[39;49m\u001b[43m_request\u001b[49m\u001b[43m(\u001b[49m\n\u001b[1;32m   1021\u001b[0m \u001b[43m    \u001b[49m\u001b[43moptions\u001b[49m\u001b[38;5;241;43m=\u001b[39;49m\u001b[43moptions\u001b[49m\u001b[43m,\u001b[49m\n\u001b[1;32m   1022\u001b[0m \u001b[43m    \u001b[49m\u001b[43mcast_to\u001b[49m\u001b[38;5;241;43m=\u001b[39;49m\u001b[43mcast_to\u001b[49m\u001b[43m,\u001b[49m\n\u001b[1;32m   1023\u001b[0m \u001b[43m    \u001b[49m\u001b[43mremaining_retries\u001b[49m\u001b[38;5;241;43m=\u001b[39;49m\u001b[43mremaining\u001b[49m\u001b[43m,\u001b[49m\n\u001b[1;32m   1024\u001b[0m \u001b[43m    \u001b[49m\u001b[43mstream\u001b[49m\u001b[38;5;241;43m=\u001b[39;49m\u001b[43mstream\u001b[49m\u001b[43m,\u001b[49m\n\u001b[1;32m   1025\u001b[0m \u001b[43m    \u001b[49m\u001b[43mstream_cls\u001b[49m\u001b[38;5;241;43m=\u001b[39;49m\u001b[43mstream_cls\u001b[49m\u001b[43m,\u001b[49m\n\u001b[1;32m   1026\u001b[0m \u001b[43m\u001b[49m\u001b[43m)\u001b[49m\n",
      "File \u001b[0;32m~/.pyenv/versions/3.10.6/envs/lewagon/lib/python3.10/site-packages/groq/_base_client.py:949\u001b[0m, in \u001b[0;36mSyncAPIClient._request\u001b[0;34m(self, cast_to, options, remaining_retries, stream, stream_cls)\u001b[0m\n\u001b[1;32m    946\u001b[0m log\u001b[38;5;241m.\u001b[39mdebug(\u001b[38;5;124m\"\u001b[39m\u001b[38;5;124mEncountered Exception\u001b[39m\u001b[38;5;124m\"\u001b[39m, exc_info\u001b[38;5;241m=\u001b[39m\u001b[38;5;28;01mTrue\u001b[39;00m)\n\u001b[1;32m    948\u001b[0m \u001b[38;5;28;01mif\u001b[39;00m retries \u001b[38;5;241m>\u001b[39m \u001b[38;5;241m0\u001b[39m:\n\u001b[0;32m--> 949\u001b[0m     \u001b[38;5;28;01mreturn\u001b[39;00m \u001b[38;5;28;43mself\u001b[39;49m\u001b[38;5;241;43m.\u001b[39;49m\u001b[43m_retry_request\u001b[49m\u001b[43m(\u001b[49m\n\u001b[1;32m    950\u001b[0m \u001b[43m        \u001b[49m\u001b[43moptions\u001b[49m\u001b[43m,\u001b[49m\n\u001b[1;32m    951\u001b[0m \u001b[43m        \u001b[49m\u001b[43mcast_to\u001b[49m\u001b[43m,\u001b[49m\n\u001b[1;32m    952\u001b[0m \u001b[43m        \u001b[49m\u001b[43mretries\u001b[49m\u001b[43m,\u001b[49m\n\u001b[1;32m    953\u001b[0m \u001b[43m        \u001b[49m\u001b[43mstream\u001b[49m\u001b[38;5;241;43m=\u001b[39;49m\u001b[43mstream\u001b[49m\u001b[43m,\u001b[49m\n\u001b[1;32m    954\u001b[0m \u001b[43m        \u001b[49m\u001b[43mstream_cls\u001b[49m\u001b[38;5;241;43m=\u001b[39;49m\u001b[43mstream_cls\u001b[49m\u001b[43m,\u001b[49m\n\u001b[1;32m    955\u001b[0m \u001b[43m        \u001b[49m\u001b[43mresponse_headers\u001b[49m\u001b[38;5;241;43m=\u001b[39;49m\u001b[38;5;28;43;01mNone\u001b[39;49;00m\u001b[43m,\u001b[49m\n\u001b[1;32m    956\u001b[0m \u001b[43m    \u001b[49m\u001b[43m)\u001b[49m\n\u001b[1;32m    958\u001b[0m log\u001b[38;5;241m.\u001b[39mdebug(\u001b[38;5;124m\"\u001b[39m\u001b[38;5;124mRaising connection error\u001b[39m\u001b[38;5;124m\"\u001b[39m)\n\u001b[1;32m    959\u001b[0m \u001b[38;5;28;01mraise\u001b[39;00m APIConnectionError(request\u001b[38;5;241m=\u001b[39mrequest) \u001b[38;5;28;01mfrom\u001b[39;00m \u001b[38;5;21;01merr\u001b[39;00m\n",
      "File \u001b[0;32m~/.pyenv/versions/3.10.6/envs/lewagon/lib/python3.10/site-packages/groq/_base_client.py:1020\u001b[0m, in \u001b[0;36mSyncAPIClient._retry_request\u001b[0;34m(self, options, cast_to, remaining_retries, response_headers, stream, stream_cls)\u001b[0m\n\u001b[1;32m   1016\u001b[0m \u001b[38;5;66;03m# In a synchronous context we are blocking the entire thread. Up to the library user to run the client in a\u001b[39;00m\n\u001b[1;32m   1017\u001b[0m \u001b[38;5;66;03m# different thread if necessary.\u001b[39;00m\n\u001b[1;32m   1018\u001b[0m time\u001b[38;5;241m.\u001b[39msleep(timeout)\n\u001b[0;32m-> 1020\u001b[0m \u001b[38;5;28;01mreturn\u001b[39;00m \u001b[38;5;28;43mself\u001b[39;49m\u001b[38;5;241;43m.\u001b[39;49m\u001b[43m_request\u001b[49m\u001b[43m(\u001b[49m\n\u001b[1;32m   1021\u001b[0m \u001b[43m    \u001b[49m\u001b[43moptions\u001b[49m\u001b[38;5;241;43m=\u001b[39;49m\u001b[43moptions\u001b[49m\u001b[43m,\u001b[49m\n\u001b[1;32m   1022\u001b[0m \u001b[43m    \u001b[49m\u001b[43mcast_to\u001b[49m\u001b[38;5;241;43m=\u001b[39;49m\u001b[43mcast_to\u001b[49m\u001b[43m,\u001b[49m\n\u001b[1;32m   1023\u001b[0m \u001b[43m    \u001b[49m\u001b[43mremaining_retries\u001b[49m\u001b[38;5;241;43m=\u001b[39;49m\u001b[43mremaining\u001b[49m\u001b[43m,\u001b[49m\n\u001b[1;32m   1024\u001b[0m \u001b[43m    \u001b[49m\u001b[43mstream\u001b[49m\u001b[38;5;241;43m=\u001b[39;49m\u001b[43mstream\u001b[49m\u001b[43m,\u001b[49m\n\u001b[1;32m   1025\u001b[0m \u001b[43m    \u001b[49m\u001b[43mstream_cls\u001b[49m\u001b[38;5;241;43m=\u001b[39;49m\u001b[43mstream_cls\u001b[49m\u001b[43m,\u001b[49m\n\u001b[1;32m   1026\u001b[0m \u001b[43m\u001b[49m\u001b[43m)\u001b[49m\n",
      "File \u001b[0;32m~/.pyenv/versions/3.10.6/envs/lewagon/lib/python3.10/site-packages/groq/_base_client.py:959\u001b[0m, in \u001b[0;36mSyncAPIClient._request\u001b[0;34m(self, cast_to, options, remaining_retries, stream, stream_cls)\u001b[0m\n\u001b[1;32m    949\u001b[0m         \u001b[38;5;28;01mreturn\u001b[39;00m \u001b[38;5;28mself\u001b[39m\u001b[38;5;241m.\u001b[39m_retry_request(\n\u001b[1;32m    950\u001b[0m             options,\n\u001b[1;32m    951\u001b[0m             cast_to,\n\u001b[0;32m   (...)\u001b[0m\n\u001b[1;32m    955\u001b[0m             response_headers\u001b[38;5;241m=\u001b[39m\u001b[38;5;28;01mNone\u001b[39;00m,\n\u001b[1;32m    956\u001b[0m         )\n\u001b[1;32m    958\u001b[0m     log\u001b[38;5;241m.\u001b[39mdebug(\u001b[38;5;124m\"\u001b[39m\u001b[38;5;124mRaising connection error\u001b[39m\u001b[38;5;124m\"\u001b[39m)\n\u001b[0;32m--> 959\u001b[0m     \u001b[38;5;28;01mraise\u001b[39;00m APIConnectionError(request\u001b[38;5;241m=\u001b[39mrequest) \u001b[38;5;28;01mfrom\u001b[39;00m \u001b[38;5;21;01merr\u001b[39;00m\n\u001b[1;32m    961\u001b[0m log\u001b[38;5;241m.\u001b[39mdebug(\n\u001b[1;32m    962\u001b[0m     \u001b[38;5;124m'\u001b[39m\u001b[38;5;124mHTTP Request: \u001b[39m\u001b[38;5;132;01m%s\u001b[39;00m\u001b[38;5;124m \u001b[39m\u001b[38;5;132;01m%s\u001b[39;00m\u001b[38;5;124m \u001b[39m\u001b[38;5;124m\"\u001b[39m\u001b[38;5;132;01m%i\u001b[39;00m\u001b[38;5;124m \u001b[39m\u001b[38;5;132;01m%s\u001b[39;00m\u001b[38;5;124m\"\u001b[39m\u001b[38;5;124m'\u001b[39m, request\u001b[38;5;241m.\u001b[39mmethod, request\u001b[38;5;241m.\u001b[39murl, response\u001b[38;5;241m.\u001b[39mstatus_code, response\u001b[38;5;241m.\u001b[39mreason_phrase\n\u001b[1;32m    963\u001b[0m )\n\u001b[1;32m    965\u001b[0m \u001b[38;5;28;01mtry\u001b[39;00m:\n",
      "\u001b[0;31mAPIConnectionError\u001b[0m: Connection error."
     ]
    }
   ],
   "source": [
    "ingredients_lists = [['tomato', 'chicken', 'garlic'], ['chicken', 'onion', 'salt'], ['onion', 'salt', 'garlic']]\n",
    "\n",
    "recipe_list = recipe_generator(ingredients_lists)\n",
    "recipe_list"
   ]
  },
  {
   "cell_type": "markdown",
   "metadata": {
    "id": "lB8VK2-F4AiU"
   },
   "source": [
    "# final_recipes"
   ]
  },
  {
   "cell_type": "code",
   "execution_count": 137,
   "metadata": {
    "id": "EL3Z18CS4AiV"
   },
   "outputs": [],
   "source": [
    "def final_recipes(recipe_list, scores, model):  ###<=== Function for evaluating if the score passes the threshold and regenerating if it doesn't\n",
    "    \"\"\"\n",
    "    This evaluates whether the score of a recipe passes or fails the threshold.\n",
    "    If the recipe doesn't meet the threshold after 3 attempts, the last generated recipe is added.\n",
    "    INPUT: Output of the recipe generator function\n",
    "    NOTE FOR FRONT-END: it's important to make sure that the outputs of the new recipe generator are the same as the\n",
    "                        old version for this function to still work.\n",
    "                        optimized_gptrecipe() and scoring_model() must be replaced with the actual functions\n",
    "    \n",
    "    Input: \n",
    "    recipe_list (from recipe_generator) = a list of 3 dictionaries with 3 keys each: 'title', 'ingredients', 'directions', containing info for the 3 recipes\n",
    "    scores (from code in app.py) = list of 3 integers, containing scores for each recipe\n",
    "    model (from get_model in app.py) = object \n",
    "    \n",
    "    Output: final_recipes = 3 final recipes as a list of 3 dictionaries with 'title', 'ingredients', 'directions' as keys\n",
    "    \n",
    "    \"\"\"\n",
    "    final_recipes = {\"Title\": [], \"Ingredients\": [], \"Directions\": []}\n",
    "    threshold = 0.5\n",
    "\n",
    "    for i in range(len(recipe_dict)):\n",
    "        if scores[i] >= threshold:\n",
    "            final_recipes[\"Title\"].append(recipe_dict[i]['title'])\n",
    "            final_recipes[\"Ingredients\"].append(recipe_dict[i]['ingredients'])\n",
    "            final_recipes[\"Directions\"].append(recipe_dict[i]['directions'])\n",
    "        else:\n",
    "            n = 0\n",
    "            tmp_recipe = {\n",
    "                \"Title\":recipe_dict[i]['title'],\n",
    "                \"Ingredients\":recipe_dict[i]['ingredients'],\n",
    "                \"Directions\":recipe_dict[i]['directions']\n",
    "                         }\n",
    "            last_recipe = {\"title\":[],\n",
    "                           \"ingredients\":[],\n",
    "                           \"directions\":[]\n",
    "                         }\n",
    "            while n < 3:\n",
    "                new_recipe = recipe_generator([tmp_recipe[\"Ingredients\"]]) ###<=== insert actual recipe generator\n",
    "                new_score = model.predict_proba([new_recipe[0]['directions']]) ###<=== insert the actual scoring model function here\n",
    "                if new_score[0][1] >= threshold:\n",
    "                    final_recipes[\"Title\"].append(new_recipe[0][\"title\"])\n",
    "                    final_recipes[\"Ingredients\"].append(new_recipe[0][\"ingredients\"])\n",
    "                    final_recipes[\"Directions\"].append(new_recipe[0][\"directions\"])\n",
    "                    break  # Exit loop if the new recipe passes the threshold\n",
    "                else:\n",
    "                    last_recipe = new_recipe  # Update tmp_recipe with the new recipe if the threshold isn't met\n",
    "                    n += 1\n",
    "            else: # Add the last generated recipe if the loop completes without finding a passing recipe\n",
    "                final_recipes[\"Title\"].append(last_recipe[\"title\"][0][0])\n",
    "                final_recipes[\"Ingredients\"].append(last_recipe[\"ingredients\"][0][0])\n",
    "                final_recipes[\"Directions\"].append(last_recipe[\"directions\"][0][0])\n",
    "                break  # Exit the outer loop to prevent an unending loop\n",
    "\n",
    "    return final_recipes"
   ]
  },
  {
   "cell_type": "code",
   "execution_count": 15,
   "metadata": {
    "id": "EL3Z18CS4AiV"
   },
   "outputs": [],
   "source": []
  },
  {
   "cell_type": "code",
   "execution_count": null,
   "metadata": {},
   "outputs": [],
   "source": []
  },
  {
   "cell_type": "code",
   "execution_count": null,
   "metadata": {},
   "outputs": [],
   "source": []
  },
  {
   "cell_type": "code",
   "execution_count": null,
   "metadata": {},
   "outputs": [],
   "source": []
  },
  {
   "cell_type": "code",
   "execution_count": null,
   "metadata": {},
   "outputs": [],
   "source": []
  },
  {
   "cell_type": "code",
   "execution_count": null,
   "metadata": {},
   "outputs": [],
   "source": []
  },
  {
   "cell_type": "code",
   "execution_count": null,
   "metadata": {},
   "outputs": [],
   "source": []
  },
  {
   "cell_type": "code",
   "execution_count": null,
   "metadata": {},
   "outputs": [],
   "source": []
  },
  {
   "cell_type": "code",
   "execution_count": 15,
   "metadata": {
    "colab": {
     "base_uri": "https://localhost:8080/"
    },
    "id": "9XJ2KzDU4AiV",
    "outputId": "3df66603-c5f9-4e39-e4ab-0ccb24c861ca"
   },
   "outputs": [],
   "source": [
    "def get_model():\n",
    "    with open(\"model.pickle\", \"rb\") as f:\n",
    "        model = pickle.load(f)\n",
    "    return model\n",
    "\n",
    "model = get_model()"
   ]
  },
  {
   "cell_type": "code",
   "execution_count": 139,
   "metadata": {
    "id": "kGT_bIkl79iu"
   },
   "outputs": [
    {
     "data": {
      "text/plain": [
       "[('chicken', 'mustard'),\n",
       " ('chicken', 'coconut'),\n",
       " ('chicken', 'orange'),\n",
       " ('chicken', 'gravy'),\n",
       " ('mustard', 'coconut'),\n",
       " ('mustard', 'orange'),\n",
       " ('mustard', 'gravy'),\n",
       " ('coconut', 'orange'),\n",
       " ('coconut', 'gravy'),\n",
       " ('orange', 'gravy')]"
      ]
     },
     "execution_count": 139,
     "metadata": {},
     "output_type": "execute_result"
    }
   ],
   "source": [
    "combinations = combinations_of_two('chicken, mustard, coconut, orange, gravy')\n",
    "combinations"
   ]
  },
  {
   "cell_type": "code",
   "execution_count": 151,
   "metadata": {
    "id": "ohH_xP8q7P5N"
   },
   "outputs": [
    {
     "data": {
      "text/html": [
       "<div>\n",
       "<style scoped>\n",
       "    .dataframe tbody tr th:only-of-type {\n",
       "        vertical-align: middle;\n",
       "    }\n",
       "\n",
       "    .dataframe tbody tr th {\n",
       "        vertical-align: top;\n",
       "    }\n",
       "\n",
       "    .dataframe thead th {\n",
       "        text-align: right;\n",
       "    }\n",
       "</style>\n",
       "<table border=\"1\" class=\"dataframe\">\n",
       "  <thead>\n",
       "    <tr style=\"text-align: right;\">\n",
       "      <th></th>\n",
       "      <th>Combination</th>\n",
       "      <th>Score</th>\n",
       "    </tr>\n",
       "  </thead>\n",
       "  <tbody>\n",
       "    <tr>\n",
       "      <th>0</th>\n",
       "      <td>(chicken, mustard)</td>\n",
       "      <td>[1.0066298927435484]</td>\n",
       "    </tr>\n",
       "    <tr>\n",
       "      <th>1</th>\n",
       "      <td>(chicken, coconut)</td>\n",
       "      <td>[1.0035599592711963]</td>\n",
       "    </tr>\n",
       "    <tr>\n",
       "      <th>2</th>\n",
       "      <td>(chicken, orange)</td>\n",
       "      <td>[1.0035599592711963]</td>\n",
       "    </tr>\n",
       "    <tr>\n",
       "      <th>3</th>\n",
       "      <td>(chicken, gravy)</td>\n",
       "      <td>[1.0004900257988445]</td>\n",
       "    </tr>\n",
       "    <tr>\n",
       "      <th>4</th>\n",
       "      <td>(mustard, coconut)</td>\n",
       "      <td>[1.001709310046983]</td>\n",
       "    </tr>\n",
       "    <tr>\n",
       "      <th>5</th>\n",
       "      <td>(mustard, orange)</td>\n",
       "      <td>[1.0036608667953153]</td>\n",
       "    </tr>\n",
       "    <tr>\n",
       "      <th>6</th>\n",
       "      <td>(mustard, gravy)</td>\n",
       "      <td>[1.0192917213569856]</td>\n",
       "    </tr>\n",
       "    <tr>\n",
       "      <th>7</th>\n",
       "      <td>(coconut, orange)</td>\n",
       "      <td>[1.0069021295275749]</td>\n",
       "    </tr>\n",
       "  </tbody>\n",
       "</table>\n",
       "</div>"
      ],
      "text/plain": [
       "          Combination                 Score\n",
       "0  (chicken, mustard)  [1.0066298927435484]\n",
       "1  (chicken, coconut)  [1.0035599592711963]\n",
       "2   (chicken, orange)  [1.0035599592711963]\n",
       "3    (chicken, gravy)  [1.0004900257988445]\n",
       "4  (mustard, coconut)   [1.001709310046983]\n",
       "5   (mustard, orange)  [1.0036608667953153]\n",
       "6    (mustard, gravy)  [1.0192917213569856]\n",
       "7   (coconut, orange)  [1.0069021295275749]"
      ]
     },
     "execution_count": 151,
     "metadata": {},
     "output_type": "execute_result"
    }
   ],
   "source": [
    "df_comb = data_query(combinations)\n",
    "df_comb"
   ]
  },
  {
   "cell_type": "code",
   "execution_count": 150,
   "metadata": {
    "colab": {
     "base_uri": "https://localhost:8080/"
    },
    "id": "UAY7TviP4AiT",
    "outputId": "09062948-e4da-4dac-e108-e258e60a09b8"
   },
   "outputs": [
    {
     "data": {
      "text/plain": [
       "[['g', 'r', 'u', 'm'], ['r', 'c', 'o'], ['u', 'm', 'c', 'h']]"
      ]
     },
     "execution_count": 150,
     "metadata": {},
     "output_type": "execute_result"
    }
   ],
   "source": [
    "ingredients_lists = muse_comb(df_comb)\n",
    "ingredients_lists"
   ]
  },
  {
   "cell_type": "code",
   "execution_count": 148,
   "metadata": {
    "colab": {
     "base_uri": "https://localhost:8080/"
    },
    "id": "H-drw_Mp4AiU",
    "outputId": "5a8018f8-8275-4c05-cafb-289f3e39218a"
   },
   "outputs": [
    {
     "data": {
      "text/plain": [
       "[{'title': \"Gurum's Mysterious Delight\",\n",
       "  'ingredients': '* Rugby grass (1 cup, chopped fresh)\\n* Gum (1 tablespoon, dissolved)\\n* Rum (2 tablespoons)\\n* Mug (1, made from ceramic)',\n",
       "  'directions': '1. Combine Rugby grass, gum, and rum in the mug.\\n2. Stir clockwise for 7 times, then counterclockwise for 3 times.\\n3. Serve immediately.'},\n",
       " {'title': 'Recchio Croco',\n",
       "  'ingredients': '* RO Crumbs\\n* Curing Oil\\n* Ounces of Cream',\n",
       "  'directions': '1. Crumble RO Crumbs into a crock\\n2. Coat Croco with Curing Oil\\n3. Ooze Cream over Croco'},\n",
       " {'title': 'Title:',\n",
       "  'ingredients': '* 1 cup cherry tomatoes, halved\\n* 1/2 cup mashed chickpeas\\n* 1/4 cup chopped fresh cucumbers\\n* 2 tablespoons olive oil\\n* 2 tablespoons hummus\\n* 1/2 teaspoon paprika',\n",
       "  'directions': '1. Preheat oven to 375°F.\\n2. In a bowl, mix together hummus, paprika, and olive oil.\\n3. Dip each cherry tomato half into the hummus mixture, coating evenly.\\n4. Place coated cherry tomato halves on a baking sheet.\\n5. Sprinkle chopped cucumbers on top of tomato halves.\\n6. Bake for 20-25 minutes, or until crispy and golden brown.\\n7. Serve and enjoy!'}]"
      ]
     },
     "execution_count": 148,
     "metadata": {},
     "output_type": "execute_result"
    }
   ],
   "source": [
    "ingredients_lists = \n",
    "\n",
    "recipe_dicts = recipe_generator(ingredients_lists)\n",
    "recipe_dicts"
   ]
  },
  {
   "cell_type": "code",
   "execution_count": 33,
   "metadata": {
    "colab": {
     "base_uri": "https://localhost:8080/"
    },
    "id": "jr8A2eyA7z4a",
    "outputId": "a94e707c-b320-4914-b37d-59999e18b07e"
   },
   "outputs": [],
   "source": [
    "def get_scores(recipe_dicts):\n",
    "\n",
    "    scores = []\n",
    "    recipe_direction = []\n",
    "\n",
    "    for recipe in recipe_dicts:\n",
    "        if 'directions' in recipe:\n",
    "            recipe_direction.append(recipe['directions'])\n",
    "        else:\n",
    "            recipe_direction.append(\"\")\n",
    "\n",
    "    for direction in recipe_direction:\n",
    "        scores.append(model.predict_proba([direction])[0][1])\n",
    "\n",
    "    return scores"
   ]
  },
  {
   "cell_type": "code",
   "execution_count": 17,
   "metadata": {
    "colab": {
     "base_uri": "https://localhost:8080/"
    },
    "id": "jr8A2eyA7z4a",
    "outputId": "a94e707c-b320-4914-b37d-59999e18b07e"
   },
   "outputs": [
    {
     "data": {
      "text/plain": [
       "[0.5040546079674728, 0.5040292302849937, 0.5123256028930298]"
      ]
     },
     "execution_count": 17,
     "metadata": {},
     "output_type": "execute_result"
    }
   ],
   "source": [
    "\n",
    "recipe_dicts = [{'title': \"Gurum's Mysterious Delight\",\n",
    "  'ingredients': '* Rugby grass (1 cup, chopped fresh)\\n* Gum (1 tablespoon, dissolved)\\n* Rum (2 tablespoons)\\n* Mug (1, made from ceramic)',\n",
    "  'directions': '1. Combine Rugby grass, gum, and rum in the mug.\\n2. Stir clockwise for 7 times, then counterclockwise for 3 times.\\n3. Serve immediately.'},\n",
    " {'title': 'Recchio Croco',\n",
    "  'ingredients': '* RO Crumbs\\n* Curing Oil\\n* Ounces of Cream',\n",
    "  'directions': '1. Crumble RO Crumbs into a crock\\n2. Coat Croco with Curing Oil\\n3. Ooze Cream over Croco'},\n",
    " {'title': 'Title:',\n",
    "  'ingredients': '* 1 cup cherry tomatoes, halved\\n* 1/2 cup mashed chickpeas\\n* 1/4 cup chopped fresh cucumbers\\n* 2 tablespoons olive oil\\n* 2 tablespoons hummus\\n* 1/2 teaspoon paprika',\n",
    "  'directions': '1. Preheat oven to 375°F.\\n2. In a bowl, mix together hummus, paprika, and olive oil.\\n3. Dip each cherry tomato half into the hummus mixture, coating evenly.\\n4. Place coated cherry tomato halves on a baking sheet.\\n5. Sprinkle chopped cucumbers on top of tomato halves.\\n6. Bake for 20-25 minutes, or until crispy and golden brown.\\n7. Serve and enjoy!'}]\n",
    "\n",
    "get_scores([{'title': \"Gurum's Mysterious Delight\",\n",
    "  'ingredients': '* Rugby grass (1 cup, chopped fresh)\\n* Gum (1 tablespoon, dissolved)\\n* Rum (2 tablespoons)\\n* Mug (1, made from ceramic)',\n",
    "  'directions': '1. Combine Rugby grass, gum, and rum in the mug.\\n2. Stir clockwise for 7 times, then counterclockwise for 3 times.\\n3. Serve immediately.'},\n",
    " {'title': 'Recchio Croco',\n",
    "  'ingredients': '* RO Crumbs\\n* Curing Oil\\n* Ounces of Cream',\n",
    "  'directions': '1. Crumble RO Crumbs into a crock\\n2. Coat Croco with Curing Oil\\n3. Ooze Cream over Croco'},\n",
    " {'title': 'Title:',\n",
    "  'ingredients': '* 1 cup cherry tomatoes, halved\\n* 1/2 cup mashed chickpeas\\n* 1/4 cup chopped fresh cucumbers\\n* 2 tablespoons olive oil\\n* 2 tablespoons hummus\\n* 1/2 teaspoon paprika',\n",
    "  'directions': '1. Preheat oven to 375°F.\\n2. In a bowl, mix together hummus, paprika, and olive oil.\\n3. Dip each cherry tomato half into the hummus mixture, coating evenly.\\n4. Place coated cherry tomato halves on a baking sheet.\\n5. Sprinkle chopped cucumbers on top of tomato halves.\\n6. Bake for 20-25 minutes, or until crispy and golden brown.\\n7. Serve and enjoy!'}])"
   ]
  },
  {
   "cell_type": "code",
   "execution_count": 34,
   "metadata": {
    "colab": {
     "base_uri": "https://localhost:8080/"
    },
    "id": "IBCbcdbv4AiV",
    "outputId": "b58edd7b-26d5-40c4-9bd0-d8a6e25f3542"
   },
   "outputs": [
    {
     "ename": "NameError",
     "evalue": "name 'final_recipes' is not defined",
     "output_type": "error",
     "traceback": [
      "\u001b[0;31m---------------------------------------------------------------------------\u001b[0m",
      "\u001b[0;31mNameError\u001b[0m                                 Traceback (most recent call last)",
      "Cell \u001b[0;32mIn [34], line 1\u001b[0m\n\u001b[0;32m----> 1\u001b[0m main_dict \u001b[38;5;241m=\u001b[39m \u001b[43mfinal_recipes\u001b[49m(recipe_dicts, scores, model)\n\u001b[1;32m      2\u001b[0m \u001b[38;5;28mprint\u001b[39m(main_dict)\n",
      "\u001b[0;31mNameError\u001b[0m: name 'final_recipes' is not defined"
     ]
    }
   ],
   "source": [
    "main_dict = final_recipes(recipe_dicts, scores, model)\n",
    "print(main_dict)"
   ]
  },
  {
   "cell_type": "code",
   "execution_count": null,
   "metadata": {
    "id": "LacRG04u4AiV"
   },
   "outputs": [],
   "source": [
    "fake_scores = [0.5241604487770766, 0.3045873107190447, 0.1205374202247903]"
   ]
  },
  {
   "cell_type": "code",
   "execution_count": null,
   "metadata": {
    "colab": {
     "base_uri": "https://localhost:8080/"
    },
    "id": "yxYkOJ2B3t2b",
    "outputId": "b75f3c79-ac24-4b85-ec3e-373ecbedb89a"
   },
   "outputs": [],
   "source": [
    "test_dict = final_recipes(recipe_dicts, fake_scores, model)\n",
    "print(test_dict)"
   ]
  },
  {
   "cell_type": "code",
   "execution_count": null,
   "metadata": {
    "id": "0UytMEhx31Hg"
   },
   "outputs": [],
   "source": []
  }
 ],
 "metadata": {
  "colab": {
   "provenance": []
  },
  "kernelspec": {
   "display_name": "Python 3 (ipykernel)",
   "language": "python",
   "name": "python3"
  },
  "language_info": {
   "codemirror_mode": {
    "name": "ipython",
    "version": 3
   },
   "file_extension": ".py",
   "mimetype": "text/x-python",
   "name": "python",
   "nbconvert_exporter": "python",
   "pygments_lexer": "ipython3",
   "version": "3.10.6"
  },
  "toc": {
   "base_numbering": 1,
   "nav_menu": {},
   "number_sections": true,
   "sideBar": true,
   "skip_h1_title": false,
   "title_cell": "Table of Contents",
   "title_sidebar": "Contents",
   "toc_cell": false,
   "toc_position": {},
   "toc_section_display": true,
   "toc_window_display": false
  }
 },
 "nbformat": 4,
 "nbformat_minor": 1
}
