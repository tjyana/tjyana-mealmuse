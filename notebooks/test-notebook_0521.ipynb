{
 "cells": [
  {
   "cell_type": "code",
   "execution_count": 8,
   "metadata": {
    "colab": {
     "base_uri": "https://localhost:8080/"
    },
    "id": "wzCz2MHt4Q4v",
    "outputId": "2b9ce666-174f-41f4-876c-744bab932675"
   },
   "outputs": [
    {
     "name": "stdout",
     "output_type": "stream",
     "text": [
      "Requirement already satisfied: gradio_client in /home/tjyana/.pyenv/versions/3.10.6/envs/lewagon/lib/python3.10/site-packages (0.15.1)\n",
      "Requirement already satisfied: fsspec in /home/tjyana/.pyenv/versions/3.10.6/envs/lewagon/lib/python3.10/site-packages (from gradio_client) (2024.3.1)\n",
      "Requirement already satisfied: httpx>=0.24.1 in /home/tjyana/.pyenv/versions/3.10.6/envs/lewagon/lib/python3.10/site-packages (from gradio_client) (0.27.0)\n",
      "Requirement already satisfied: huggingface-hub>=0.19.3 in /home/tjyana/.pyenv/versions/3.10.6/envs/lewagon/lib/python3.10/site-packages (from gradio_client) (0.22.0)\n",
      "Requirement already satisfied: packaging in /home/tjyana/.pyenv/versions/3.10.6/envs/lewagon/lib/python3.10/site-packages (from gradio_client) (21.3)\n",
      "Requirement already satisfied: typing-extensions~=4.0 in /home/tjyana/.pyenv/versions/3.10.6/envs/lewagon/lib/python3.10/site-packages (from gradio_client) (4.9.0)\n",
      "Requirement already satisfied: websockets<12.0,>=10.0 in /home/tjyana/.pyenv/versions/3.10.6/envs/lewagon/lib/python3.10/site-packages (from gradio_client) (11.0.3)\n",
      "Requirement already satisfied: anyio in /home/tjyana/.pyenv/versions/3.10.6/envs/lewagon/lib/python3.10/site-packages (from httpx>=0.24.1->gradio_client) (3.6.2)\n",
      "Requirement already satisfied: certifi in /home/tjyana/.pyenv/versions/3.10.6/envs/lewagon/lib/python3.10/site-packages (from httpx>=0.24.1->gradio_client) (2022.9.24)\n",
      "Requirement already satisfied: httpcore==1.* in /home/tjyana/.pyenv/versions/3.10.6/envs/lewagon/lib/python3.10/site-packages (from httpx>=0.24.1->gradio_client) (1.0.4)\n",
      "Requirement already satisfied: idna in /home/tjyana/.pyenv/versions/3.10.6/envs/lewagon/lib/python3.10/site-packages (from httpx>=0.24.1->gradio_client) (3.4)\n",
      "Requirement already satisfied: sniffio in /home/tjyana/.pyenv/versions/3.10.6/envs/lewagon/lib/python3.10/site-packages (from httpx>=0.24.1->gradio_client) (1.3.0)\n",
      "Requirement already satisfied: h11<0.15,>=0.13 in /home/tjyana/.pyenv/versions/3.10.6/envs/lewagon/lib/python3.10/site-packages (from httpcore==1.*->httpx>=0.24.1->gradio_client) (0.14.0)\n",
      "Requirement already satisfied: filelock in /home/tjyana/.pyenv/versions/3.10.6/envs/lewagon/lib/python3.10/site-packages (from huggingface-hub>=0.19.3->gradio_client) (3.13.3)\n",
      "Requirement already satisfied: pyyaml>=5.1 in /home/tjyana/.pyenv/versions/3.10.6/envs/lewagon/lib/python3.10/site-packages (from huggingface-hub>=0.19.3->gradio_client) (6.0.1)\n",
      "Requirement already satisfied: requests in /home/tjyana/.pyenv/versions/3.10.6/envs/lewagon/lib/python3.10/site-packages (from huggingface-hub>=0.19.3->gradio_client) (2.28.1)\n",
      "Requirement already satisfied: tqdm>=4.42.1 in /home/tjyana/.pyenv/versions/3.10.6/envs/lewagon/lib/python3.10/site-packages (from huggingface-hub>=0.19.3->gradio_client) (4.64.1)\n",
      "Requirement already satisfied: pyparsing!=3.0.5,>=2.0.2 in /home/tjyana/.pyenv/versions/3.10.6/envs/lewagon/lib/python3.10/site-packages (from packaging->gradio_client) (3.0.9)\n",
      "Requirement already satisfied: charset-normalizer<3,>=2 in /home/tjyana/.pyenv/versions/3.10.6/envs/lewagon/lib/python3.10/site-packages (from requests->huggingface-hub>=0.19.3->gradio_client) (2.1.1)\n",
      "Requirement already satisfied: urllib3<1.27,>=1.21.1 in /home/tjyana/.pyenv/versions/3.10.6/envs/lewagon/lib/python3.10/site-packages (from requests->huggingface-hub>=0.19.3->gradio_client) (1.26.12)\n",
      "Requirement already satisfied: groq in /home/tjyana/.pyenv/versions/3.10.6/envs/lewagon/lib/python3.10/site-packages (0.5.0)\n",
      "Requirement already satisfied: anyio<5,>=3.5.0 in /home/tjyana/.pyenv/versions/3.10.6/envs/lewagon/lib/python3.10/site-packages (from groq) (3.6.2)\n",
      "Requirement already satisfied: distro<2,>=1.7.0 in /home/tjyana/.pyenv/versions/3.10.6/envs/lewagon/lib/python3.10/site-packages (from groq) (1.9.0)\n",
      "Requirement already satisfied: httpx<1,>=0.23.0 in /home/tjyana/.pyenv/versions/3.10.6/envs/lewagon/lib/python3.10/site-packages (from groq) (0.27.0)\n",
      "Requirement already satisfied: pydantic<3,>=1.9.0 in /home/tjyana/.pyenv/versions/3.10.6/envs/lewagon/lib/python3.10/site-packages (from groq) (1.9.2)\n",
      "Requirement already satisfied: sniffio in /home/tjyana/.pyenv/versions/3.10.6/envs/lewagon/lib/python3.10/site-packages (from groq) (1.3.0)\n",
      "Requirement already satisfied: typing-extensions<5,>=4.7 in /home/tjyana/.pyenv/versions/3.10.6/envs/lewagon/lib/python3.10/site-packages (from groq) (4.9.0)\n",
      "Requirement already satisfied: idna>=2.8 in /home/tjyana/.pyenv/versions/3.10.6/envs/lewagon/lib/python3.10/site-packages (from anyio<5,>=3.5.0->groq) (3.4)\n",
      "Requirement already satisfied: certifi in /home/tjyana/.pyenv/versions/3.10.6/envs/lewagon/lib/python3.10/site-packages (from httpx<1,>=0.23.0->groq) (2022.9.24)\n",
      "Requirement already satisfied: httpcore==1.* in /home/tjyana/.pyenv/versions/3.10.6/envs/lewagon/lib/python3.10/site-packages (from httpx<1,>=0.23.0->groq) (1.0.4)\n",
      "Requirement already satisfied: h11<0.15,>=0.13 in /home/tjyana/.pyenv/versions/3.10.6/envs/lewagon/lib/python3.10/site-packages (from httpcore==1.*->httpx<1,>=0.23.0->groq) (0.14.0)\n",
      "Requirement already satisfied: transformers in /home/tjyana/.pyenv/versions/3.10.6/envs/lewagon/lib/python3.10/site-packages (4.40.2)\n",
      "Requirement already satisfied: filelock in /home/tjyana/.pyenv/versions/3.10.6/envs/lewagon/lib/python3.10/site-packages (from transformers) (3.13.3)\n",
      "Requirement already satisfied: huggingface-hub<1.0,>=0.19.3 in /home/tjyana/.pyenv/versions/3.10.6/envs/lewagon/lib/python3.10/site-packages (from transformers) (0.22.0)\n",
      "Requirement already satisfied: numpy>=1.17 in /home/tjyana/.pyenv/versions/3.10.6/envs/lewagon/lib/python3.10/site-packages (from transformers) (1.26.4)\n",
      "Requirement already satisfied: packaging>=20.0 in /home/tjyana/.pyenv/versions/3.10.6/envs/lewagon/lib/python3.10/site-packages (from transformers) (21.3)\n",
      "Requirement already satisfied: pyyaml>=5.1 in /home/tjyana/.pyenv/versions/3.10.6/envs/lewagon/lib/python3.10/site-packages (from transformers) (6.0.1)\n",
      "Requirement already satisfied: regex!=2019.12.17 in /home/tjyana/.pyenv/versions/3.10.6/envs/lewagon/lib/python3.10/site-packages (from transformers) (2022.9.13)\n",
      "Requirement already satisfied: requests in /home/tjyana/.pyenv/versions/3.10.6/envs/lewagon/lib/python3.10/site-packages (from transformers) (2.28.1)\n",
      "Requirement already satisfied: tokenizers<0.20,>=0.19 in /home/tjyana/.pyenv/versions/3.10.6/envs/lewagon/lib/python3.10/site-packages (from transformers) (0.19.1)\n",
      "Requirement already satisfied: safetensors>=0.4.1 in /home/tjyana/.pyenv/versions/3.10.6/envs/lewagon/lib/python3.10/site-packages (from transformers) (0.4.2)\n",
      "Requirement already satisfied: tqdm>=4.27 in /home/tjyana/.pyenv/versions/3.10.6/envs/lewagon/lib/python3.10/site-packages (from transformers) (4.64.1)\n",
      "Requirement already satisfied: fsspec>=2023.5.0 in /home/tjyana/.pyenv/versions/3.10.6/envs/lewagon/lib/python3.10/site-packages (from huggingface-hub<1.0,>=0.19.3->transformers) (2024.3.1)\n",
      "Requirement already satisfied: typing-extensions>=3.7.4.3 in /home/tjyana/.pyenv/versions/3.10.6/envs/lewagon/lib/python3.10/site-packages (from huggingface-hub<1.0,>=0.19.3->transformers) (4.9.0)\n",
      "Requirement already satisfied: pyparsing!=3.0.5,>=2.0.2 in /home/tjyana/.pyenv/versions/3.10.6/envs/lewagon/lib/python3.10/site-packages (from packaging>=20.0->transformers) (3.0.9)\n",
      "Requirement already satisfied: charset-normalizer<3,>=2 in /home/tjyana/.pyenv/versions/3.10.6/envs/lewagon/lib/python3.10/site-packages (from requests->transformers) (2.1.1)\n",
      "Requirement already satisfied: idna<4,>=2.5 in /home/tjyana/.pyenv/versions/3.10.6/envs/lewagon/lib/python3.10/site-packages (from requests->transformers) (3.4)\n",
      "Requirement already satisfied: urllib3<1.27,>=1.21.1 in /home/tjyana/.pyenv/versions/3.10.6/envs/lewagon/lib/python3.10/site-packages (from requests->transformers) (1.26.12)\n",
      "Requirement already satisfied: certifi>=2017.4.17 in /home/tjyana/.pyenv/versions/3.10.6/envs/lewagon/lib/python3.10/site-packages (from requests->transformers) (2022.9.24)\n"
     ]
    }
   ],
   "source": [
    "! pip install gradio_client\n",
    "! pip install groq\n",
    "! pip install transformers"
   ]
  },
  {
   "cell_type": "code",
   "execution_count": 71,
   "metadata": {
    "id": "-fcOLmCJ4AiS"
   },
   "outputs": [],
   "source": [
    "import itertools\n",
    "import re\n",
    "import numpy as np\n",
    "import pandas as pd\n",
    "# import openai\n",
    "import pandas as pd\n",
    "import itertools\n",
    "# import streamlit as st\n",
    "import pickle\n",
    "# Anna's imports\n",
    "from transformers import FlaxAutoModelForSeq2SeqLM\n",
    "from transformers import AutoTokenizer\n",
    "import matplotlib.pyplot as plt\n",
    "import matplotlib.image as mpimg\n",
    "from gradio_client import Client\n",
    "\n",
    "from groq import Groq\n",
    "import config\n",
    "\n",
    "df = pd.read_parquet('Halved-DF.parquet.gzip')\n",
    "\n",
    "def get_model():\n",
    "    with open(\"model.pickle\", \"rb\") as f:\n",
    "        model = pickle.load(f)\n",
    "    return model\n",
    "model = get_model()"
   ]
  },
  {
   "cell_type": "markdown",
   "metadata": {},
   "source": [
    "# combinations_of_two -> DONE\n",
    "-> working correctly (assuming desired output format is: list of tuples, containing all possible combinations of two ingredients)"
   ]
  },
  {
   "cell_type": "code",
   "execution_count": 3,
   "metadata": {},
   "outputs": [],
   "source": [
    "# Updated 5/21/2024 by TJ\n",
    "\n",
    "def combinations_of_two(ingredients_input): ###dealt with the issue of missing space crash\n",
    "\n",
    "    '''\n",
    "    The function generates all unique pairs of ingredients that can be made from the input list of ingredients.\n",
    "    NOTE FOR FRONT-END: The output of this function is the input for data_query()\n",
    "    \n",
    "    UPDATES\n",
    "    5/22/2024 by TJ:\n",
    "    - Modified it quite a bit so output format is one list of tuples\n",
    "    - Removed the powerset stuff\n",
    "    \n",
    "    Inputs (1): \n",
    "    ingredients_input (from: user input in app) =  single string with ingredients separated by commas and a space\n",
    "    \n",
    "    Outputs (1): \n",
    "    ingredients_combinations (to: data_query) = a list of tuples, containing all possible combinations of 2 (so if it's 4 ingredients, a list of 6 tuples and nothing more)\n",
    "\n",
    "    '''\n",
    "\n",
    "    # split into list of individual ingredients\n",
    "    ingredients_list = []\n",
    "    ingredients = re.split('\\s|,', ingredients_input) \n",
    "    [ingredients_list.append(ingredient) for ingredient in ingredients if ingredient != '']\n",
    "    \n",
    "    # create list of all ingredient combinations\n",
    "    ingredients_combinations = []\n",
    "    combinations = itertools.combinations(ingredients_list, 2)\n",
    "    ingredients_combinations = list(combinations)\n",
    "\n",
    "    return ingredients_combinations"
   ]
  },
  {
   "cell_type": "markdown",
   "metadata": {
    "id": "CXOGXHiG4AiS"
   },
   "source": [
    "### Testing combinations_of_two\n",
    "4 ingredients -> 6 tuples\n",
    "<br>5 ingredients -> 10 tuples\n",
    "<br>6 ingredients -> 15 tuples"
   ]
  },
  {
   "cell_type": "code",
   "execution_count": 67,
   "metadata": {
    "id": "CXOGXHiG4AiS"
   },
   "outputs": [
    {
     "name": "stdout",
     "output_type": "stream",
     "text": [
      "6\n",
      "[('chicken', 'garlic'), ('chicken', 'salt'), ('chicken', 'tomato'), ('garlic', 'salt'), ('garlic', 'tomato'), ('salt', 'tomato')]\n"
     ]
    }
   ],
   "source": [
    "# 4 ingredients -> 1 list of 6 unique tuples\n",
    "ingredients_input = 'chicken, garlic, salt, tomato'\n",
    "\n",
    "ingredients_combinations = combinations_of_two(ingredients_input)\n",
    "print(len(ingredients_combinations))\n",
    "print(ingredients_combinations)"
   ]
  },
  {
   "cell_type": "code",
   "execution_count": 68,
   "metadata": {
    "id": "CXOGXHiG4AiS"
   },
   "outputs": [
    {
     "name": "stdout",
     "output_type": "stream",
     "text": [
      "10\n",
      "[('chicken', 'garlic'), ('chicken', 'salt'), ('chicken', 'tomato'), ('chicken', 'cheese'), ('garlic', 'salt'), ('garlic', 'tomato'), ('garlic', 'cheese'), ('salt', 'tomato'), ('salt', 'cheese'), ('tomato', 'cheese')]\n"
     ]
    }
   ],
   "source": [
    "# 5 ingredients -> 1 list of 10 unique tuples\n",
    "ingredients_input = 'chicken, garlic, salt, tomato, cheese'\n",
    "\n",
    "ingredients_combinations = combinations_of_two(ingredients_input)\n",
    "print(len(ingredients_combinations))\n",
    "print(ingredients_combinations)"
   ]
  },
  {
   "cell_type": "code",
   "execution_count": 69,
   "metadata": {
    "scrolled": true
   },
   "outputs": [
    {
     "name": "stdout",
     "output_type": "stream",
     "text": [
      "15\n",
      "[('tomato', 'beef'), ('tomato', 'onion'), ('tomato', 'salt'), ('tomato', 'garlic'), ('tomato', 'pepper'), ('beef', 'onion'), ('beef', 'salt'), ('beef', 'garlic'), ('beef', 'pepper'), ('onion', 'salt'), ('onion', 'garlic'), ('onion', 'pepper'), ('salt', 'garlic'), ('salt', 'pepper'), ('garlic', 'pepper')]\n"
     ]
    }
   ],
   "source": [
    "# 6 ingredients -> 1 list of 15 unique tuples\n",
    "ingredients_input = 'tomato, beef, onion, salt, garlic, pepper'\n",
    "\n",
    "ingredients_combinations = combinations_of_two(ingredients_input)\n",
    "print(len(ingredients_combinations))\n",
    "print(ingredients_combinations)"
   ]
  },
  {
   "cell_type": "code",
   "execution_count": 25,
   "metadata": {},
   "outputs": [
    {
     "name": "stdout",
     "output_type": "stream",
     "text": [
      "10\n",
      "[('tomato', 'beef'), ('tomato', 'onion'), ('tomato', 'chicken'), ('tomato', 'apple'), ('beef', 'onion'), ('beef', 'chicken'), ('beef', 'apple'), ('onion', 'chicken'), ('onion', 'apple'), ('chicken', 'apple')]\n"
     ]
    }
   ],
   "source": [
    "# missing spaces and commas\n",
    "ingredients_input = 'tomato,beef,  onion chicken, apple'\n",
    "\n",
    "ingredients_combinations = combinations_of_two(ingredients_input)\n",
    "print(len(ingredients_combinations))\n",
    "print(ingredients_combinations)"
   ]
  },
  {
   "cell_type": "code",
   "execution_count": 26,
   "metadata": {},
   "outputs": [
    {
     "name": "stdout",
     "output_type": "stream",
     "text": [
      "6\n",
      "[('chicken', 'onion'), ('chicken', 'garlic'), ('chicken', 'cheese'), ('onion', 'garlic'), ('onion', 'cheese'), ('garlic', 'cheese')]\n"
     ]
    }
   ],
   "source": [
    "# ingredients with higher compatibility\n",
    "\n",
    "ingredients_input = 'chicken, onion, garlic, cheese'\n",
    "ingredients_combinations = combinations_of_two(ingredients_input)\n",
    "print(len(ingredients_combinations))\n",
    "print(ingredients_combinations)"
   ]
  },
  {
   "cell_type": "markdown",
   "metadata": {},
   "source": [
    "# data_query\n",
    "Issues:\n",
    "- output is not including all the combinations for some inputs\n",
    "- higher compatibility lists seem to return more rows? not sure"
   ]
  },
  {
   "cell_type": "code",
   "execution_count": 7,
   "metadata": {
    "id": "FLH_yyRv4AiT"
   },
   "outputs": [],
   "source": [
    "def data_query(ingredients_combinations): ##Added a penalty of -5 for pairings that are not in the dataframe\n",
    "    '''\n",
    "    Scores all combinations of two ingredients.\n",
    "    \n",
    "    Inputs (1): \n",
    "    ingredients_combinations (from: combinations_of_two) = a list of tuples, containing all possible combinations of 2 as  \n",
    "    \n",
    "    Outputs (1): \n",
    "    df_comb (to: muse_comb) = a datafrome with columns 'Combination' and 'Score', containing ingredient combinations and their scores as a dataframe  (for 4 ingredients: all 6 combinations and their respective scores)\n",
    "    \n",
    "    '''\n",
    "    \n",
    "    data = []\n",
    "    for combination in ingredients_combinations:\n",
    "        if len(combination) < 3:\n",
    "            ingredient1, ingredient2 = combination\n",
    "            query_str = f'(ingredient1 == \"{ingredient1}\" & ingredient2 == \"{ingredient2}\") | (ingredient1 == \"{ingredient2}\" & ingredient2 == \"{ingredient1}\")'\n",
    "            score = df.query(query_str)['scaled_col'].values\n",
    "            if len(score) > 0:\n",
    "                data.append({'Combination': combination, 'Score': score})\n",
    "            else:\n",
    "                continue\n",
    "        else:\n",
    "            scores = []\n",
    "            for i in combination:\n",
    "                ingredient1, ingredient2 = i\n",
    "                query_str = f'(ingredient1 == \"{ingredient1}\" & ingredient2 == \"{ingredient2}\") | (ingredient1 == \"{ingredient2}\" & ingredient2 == \"{ingredient1}\")'\n",
    "                score = df.query(query_str)['scaled_col'].values\n",
    "                if len(score) > 0:\n",
    "                    scores.append(score[0])\n",
    "                else:\n",
    "                    scores.append(-5)\n",
    "            data.append({'Combination': combination, 'Score': scores})\n",
    "    df_comb = pd.DataFrame(data)\n",
    "    return df_comb"
   ]
  },
  {
   "cell_type": "code",
   "execution_count": 65,
   "metadata": {
    "id": "FLH_yyRv4AiT"
   },
   "outputs": [],
   "source": [
    "# # trying to understand / re-create\n",
    "def data_query(ingredients_combinations): ##Added a penalty of -5 for pairings that are not in the dataframe\n",
    "    '''\n",
    "    Scores all combinations of two ingredients.\n",
    "    \n",
    "    Inputs (1): \n",
    "    ingredients_combinations (from: combinations_of_two) = a list of tuples, containing all possible combinations of 2 as  \n",
    "    \n",
    "    Outputs (1): \n",
    "    df_comb (to: muse_comb) = a datafrome with columns 'Combination' and 'Score', containing ingredient combinations and their scores as a dataframe  (for 4 ingredients: all 6 combinations and their respective scores)\n",
    "    \n",
    "    '''\n",
    "    \n",
    "    data = []\n",
    "    for combination in ingredients_combinations:\n",
    "        if len(combination) < 3:\n",
    "            ingredient1, ingredient2 = combination\n",
    "            query_str = f'(ingredient1 == \"{ingredient1}\" & ingredient2 == \"{ingredient2}\") | (ingredient1 == \"{ingredient2}\" & ingredient2 == \"{ingredient1}\")'\n",
    "            score = df.query(query_str)['scaled_col'].values\n",
    "            print(score)\n",
    "            if len(score) > 0:\n",
    "                data.append({'Combination': combination, 'Score': score})\n",
    "            else:\n",
    "                continue\n",
    "        else:\n",
    "            scores = []\n",
    "            for i in combination:\n",
    "                ingredient1, ingredient2 = i\n",
    "                query_str = f'(ingredient1 == \"{ingredient1}\" & ingredient2 == \"{ingredient2}\") | (ingredient1 == \"{ingredient2}\" & ingredient2 == \"{ingredient1}\")'\n",
    "                score = df.query(query_str)['scaled_col'].values\n",
    "                if len(score) > 0:\n",
    "                    scores.append(score[0])\n",
    "                else:\n",
    "                    scores.append(-5)\n",
    "            data.append({'Combination': combination, 'Score': scores})\n",
    "    print(data)\n",
    "\n",
    "    df_comb = pd.DataFrame(data)\n",
    "    return df_comb"
   ]
  },
  {
   "cell_type": "markdown",
   "metadata": {},
   "source": [
    "### Testing data_query"
   ]
  },
  {
   "cell_type": "code",
   "execution_count": 12,
   "metadata": {},
   "outputs": [
    {
     "data": {
      "text/html": [
       "<div>\n",
       "<style scoped>\n",
       "    .dataframe tbody tr th:only-of-type {\n",
       "        vertical-align: middle;\n",
       "    }\n",
       "\n",
       "    .dataframe tbody tr th {\n",
       "        vertical-align: top;\n",
       "    }\n",
       "\n",
       "    .dataframe thead th {\n",
       "        text-align: right;\n",
       "    }\n",
       "</style>\n",
       "<table border=\"1\" class=\"dataframe\">\n",
       "  <thead>\n",
       "    <tr style=\"text-align: right;\">\n",
       "      <th></th>\n",
       "      <th>Combination</th>\n",
       "      <th>Score</th>\n",
       "    </tr>\n",
       "  </thead>\n",
       "  <tbody>\n",
       "    <tr>\n",
       "      <th>0</th>\n",
       "      <td>(chicken, garlic)</td>\n",
       "      <td>[1.1800811339314616]</td>\n",
       "    </tr>\n",
       "    <tr>\n",
       "      <th>1</th>\n",
       "      <td>(chicken, salt)</td>\n",
       "      <td>[1.4353972677154387]</td>\n",
       "    </tr>\n",
       "    <tr>\n",
       "      <th>2</th>\n",
       "      <td>(garlic, salt)</td>\n",
       "      <td>[1.5533159218950603]</td>\n",
       "    </tr>\n",
       "  </tbody>\n",
       "</table>\n",
       "</div>"
      ],
      "text/plain": [
       "         Combination                 Score\n",
       "0  (chicken, garlic)  [1.1800811339314616]\n",
       "1    (chicken, salt)  [1.4353972677154387]\n",
       "2     (garlic, salt)  [1.5533159218950603]"
      ]
     },
     "execution_count": 12,
     "metadata": {},
     "output_type": "execute_result"
    }
   ],
   "source": [
    "# 6 tuples -> should return 6 rows\n",
    "\n",
    "ingredients_combinations = [('chicken', 'garlic'),\n",
    " ('chicken', 'salt'),\n",
    " ('chicken', 'tomato'),\n",
    " ('garlic', 'salt'),\n",
    " ('garlic', 'tomato'),\n",
    " ('salt', 'tomato')]\n",
    "\n",
    "df_comb = data_query(ingredients_combinations)\n",
    "df_comb"
   ]
  },
  {
   "cell_type": "code",
   "execution_count": 28,
   "metadata": {
    "id": "FLH_yyRv4AiT"
   },
   "outputs": [
    {
     "data": {
      "text/html": [
       "<div>\n",
       "<style scoped>\n",
       "    .dataframe tbody tr th:only-of-type {\n",
       "        vertical-align: middle;\n",
       "    }\n",
       "\n",
       "    .dataframe tbody tr th {\n",
       "        vertical-align: top;\n",
       "    }\n",
       "\n",
       "    .dataframe thead th {\n",
       "        text-align: right;\n",
       "    }\n",
       "</style>\n",
       "<table border=\"1\" class=\"dataframe\">\n",
       "  <thead>\n",
       "    <tr style=\"text-align: right;\">\n",
       "      <th></th>\n",
       "      <th>Combination</th>\n",
       "      <th>Score</th>\n",
       "    </tr>\n",
       "  </thead>\n",
       "  <tbody>\n",
       "    <tr>\n",
       "      <th>0</th>\n",
       "      <td>(beef, onion)</td>\n",
       "      <td>[1.3407460751179292]</td>\n",
       "    </tr>\n",
       "    <tr>\n",
       "      <th>1</th>\n",
       "      <td>(beef, salt)</td>\n",
       "      <td>[1.3667368322711522]</td>\n",
       "    </tr>\n",
       "    <tr>\n",
       "      <th>2</th>\n",
       "      <td>(beef, garlic)</td>\n",
       "      <td>[1.1385957417039734]</td>\n",
       "    </tr>\n",
       "    <tr>\n",
       "      <th>3</th>\n",
       "      <td>(beef, pepper)</td>\n",
       "      <td>[1.1819136702926785]</td>\n",
       "    </tr>\n",
       "    <tr>\n",
       "      <th>4</th>\n",
       "      <td>(onion, salt)</td>\n",
       "      <td>[2.0670735182650013]</td>\n",
       "    </tr>\n",
       "    <tr>\n",
       "      <th>5</th>\n",
       "      <td>(onion, garlic)</td>\n",
       "      <td>[1.4235409132992736]</td>\n",
       "    </tr>\n",
       "    <tr>\n",
       "      <th>6</th>\n",
       "      <td>(onion, pepper)</td>\n",
       "      <td>[1.4949048817870405]</td>\n",
       "    </tr>\n",
       "    <tr>\n",
       "      <th>7</th>\n",
       "      <td>(salt, garlic)</td>\n",
       "      <td>[1.5533159218950603]</td>\n",
       "    </tr>\n",
       "    <tr>\n",
       "      <th>8</th>\n",
       "      <td>(salt, pepper)</td>\n",
       "      <td>[3.3564504877818235]</td>\n",
       "    </tr>\n",
       "    <tr>\n",
       "      <th>9</th>\n",
       "      <td>(garlic, pepper)</td>\n",
       "      <td>[1.1902734549399014]</td>\n",
       "    </tr>\n",
       "  </tbody>\n",
       "</table>\n",
       "</div>"
      ],
      "text/plain": [
       "        Combination                 Score\n",
       "0     (beef, onion)  [1.3407460751179292]\n",
       "1      (beef, salt)  [1.3667368322711522]\n",
       "2    (beef, garlic)  [1.1385957417039734]\n",
       "3    (beef, pepper)  [1.1819136702926785]\n",
       "4     (onion, salt)  [2.0670735182650013]\n",
       "5   (onion, garlic)  [1.4235409132992736]\n",
       "6   (onion, pepper)  [1.4949048817870405]\n",
       "7    (salt, garlic)  [1.5533159218950603]\n",
       "8    (salt, pepper)  [3.3564504877818235]\n",
       "9  (garlic, pepper)  [1.1902734549399014]"
      ]
     },
     "execution_count": 28,
     "metadata": {},
     "output_type": "execute_result"
    }
   ],
   "source": [
    "# 15 tuples -> should return 15 rows\n",
    "\n",
    "ingredients_combinations = [('tomato', 'beef'),\n",
    " ('tomato', 'onion'),\n",
    " ('tomato', 'salt'),\n",
    " ('tomato', 'garlic'),\n",
    " ('tomato', 'pepper'),\n",
    " ('beef', 'onion'),\n",
    " ('beef', 'salt'),\n",
    " ('beef', 'garlic'),\n",
    " ('beef', 'pepper'),\n",
    " ('onion', 'salt'),\n",
    " ('onion', 'garlic'),\n",
    " ('onion', 'pepper'),\n",
    " ('salt', 'garlic'),\n",
    " ('salt', 'pepper'),\n",
    " ('garlic', 'pepper')]\n",
    "\n",
    "df_comb = data_query(ingredients_combinations)\n",
    "df_comb"
   ]
  },
  {
   "cell_type": "code",
   "execution_count": 29,
   "metadata": {
    "id": "FLH_yyRv4AiT"
   },
   "outputs": [
    {
     "data": {
      "text/html": [
       "<div>\n",
       "<style scoped>\n",
       "    .dataframe tbody tr th:only-of-type {\n",
       "        vertical-align: middle;\n",
       "    }\n",
       "\n",
       "    .dataframe tbody tr th {\n",
       "        vertical-align: top;\n",
       "    }\n",
       "\n",
       "    .dataframe thead th {\n",
       "        text-align: right;\n",
       "    }\n",
       "</style>\n",
       "<table border=\"1\" class=\"dataframe\">\n",
       "  <thead>\n",
       "    <tr style=\"text-align: right;\">\n",
       "      <th></th>\n",
       "      <th>Combination</th>\n",
       "      <th>Score</th>\n",
       "    </tr>\n",
       "  </thead>\n",
       "  <tbody>\n",
       "    <tr>\n",
       "      <th>0</th>\n",
       "      <td>(chicken, onion)</td>\n",
       "      <td>[1.3248796627107513]</td>\n",
       "    </tr>\n",
       "    <tr>\n",
       "      <th>1</th>\n",
       "      <td>(chicken, garlic)</td>\n",
       "      <td>[1.1800811339314616]</td>\n",
       "    </tr>\n",
       "    <tr>\n",
       "      <th>2</th>\n",
       "      <td>(chicken, cheese)</td>\n",
       "      <td>[1.0177501859513405]</td>\n",
       "    </tr>\n",
       "    <tr>\n",
       "      <th>3</th>\n",
       "      <td>(onion, garlic)</td>\n",
       "      <td>[1.4235409132992736]</td>\n",
       "    </tr>\n",
       "    <tr>\n",
       "      <th>4</th>\n",
       "      <td>(onion, cheese)</td>\n",
       "      <td>[1.4120038875676597]</td>\n",
       "    </tr>\n",
       "    <tr>\n",
       "      <th>5</th>\n",
       "      <td>(garlic, cheese)</td>\n",
       "      <td>[1.0944496012124034]</td>\n",
       "    </tr>\n",
       "  </tbody>\n",
       "</table>\n",
       "</div>"
      ],
      "text/plain": [
       "         Combination                 Score\n",
       "0   (chicken, onion)  [1.3248796627107513]\n",
       "1  (chicken, garlic)  [1.1800811339314616]\n",
       "2  (chicken, cheese)  [1.0177501859513405]\n",
       "3    (onion, garlic)  [1.4235409132992736]\n",
       "4    (onion, cheese)  [1.4120038875676597]\n",
       "5   (garlic, cheese)  [1.0944496012124034]"
      ]
     },
     "execution_count": 29,
     "metadata": {},
     "output_type": "execute_result"
    }
   ],
   "source": [
    "# 6 tuples -> should return 6 rows\n",
    "# high compatiblity\n",
    "\n",
    "ingredients_combinations = [('chicken', 'onion'), ('chicken', 'garlic'), ('chicken', 'cheese'), ('onion', 'garlic'), ('onion', 'cheese'), ('garlic', 'cheese')]\n",
    "\n",
    "df_comb = data_query(ingredients_combinations)\n",
    "df_comb"
   ]
  },
  {
   "cell_type": "code",
   "execution_count": null,
   "metadata": {},
   "outputs": [],
   "source": []
  },
  {
   "cell_type": "markdown",
   "metadata": {
    "id": "FLH_yyRv4AiT"
   },
   "source": [
    "# muse_comb\n",
    "- output is in desired format (a list of strings) so code will run! However...\n",
    "\n",
    "<br>Issues:\n",
    "- the strings are just single letters and not ingredients\n",
    "- the output format of data_query needs to be confirmed first for proper testing. is it ok that combinations are in a tuple and score is in a list? (maybe do muse_comb later)"
   ]
  },
  {
   "cell_type": "code",
   "execution_count": 30,
   "metadata": {
    "id": "e7tWuDK24AiT"
   },
   "outputs": [],
   "source": [
    "def muse_comb(df_comb): ###If this takes too long, consider taking the nested calculate_sum(array) outside of the function\n",
    "    '''\n",
    "     The function calculates the sum of the \"Score\" values and returns the three combinations with the largest sums\n",
    "\n",
    "     NOTE FOR FRONT-END: The return is a list of lists so access the values by indexing e.g. output[0]\n",
    "\n",
    "                         The output of this function is the input for the recipe generator\n",
    "\n",
    "                         We might need a function to convert each lists into strings if\n",
    "                         the recipe generator doesn't do this automatically.\n",
    "                         \n",
    "    Inputs (1): \n",
    "    df_comb (from: data_query) = a datafrome with columns 'Combination' and 'Score', containing ingredient combinations and their scores as a dataframe  (for 4 ingredients: all 6 combinations and their respective scores)\n",
    "    \n",
    "    Output (1):\n",
    "    ingredients_list (to: recipe_generator) = a list of 3 lists, containing the 3 ingredients combinations with highest scores\n",
    "    [['yeast', 'butter', 'eggs', 'pepper', 'cabbage', 'pork', 'flour', 'sugar'],\n",
    "    ['butter', 'eggs', 'pepper', 'cabbage', 'pork', 'flour', 'sugar'],\n",
    "    ['yeast', 'butter', 'eggs', 'pepper', 'cabbage', 'flour', 'sugar']]\n",
    "    \n",
    "    '''\n",
    "\n",
    "    def calculate_sum(array):\n",
    "        return sum(array)\n",
    "\n",
    "    def ingredients_to_lists(lists):\n",
    "        ingredients_list = []\n",
    "        for i in range(3):\n",
    "            tmp_list = []\n",
    "            for x in lists[i]:\n",
    "                tmp_list.append(x[0])\n",
    "                tmp_list.append(x[1])\n",
    "            ingredients_list.append(list(set(tmp_list)))\n",
    "\n",
    "        return ingredients_list\n",
    "\n",
    "    for i in range(len(df_comb)):\n",
    "        df_comb[\"Sum\"] = df_comb[\"Score\"].apply(calculate_sum)\n",
    "\n",
    "    max_values = df_comb.nlargest(3, \"Sum\")\n",
    "\n",
    "    max_values = max_values[\"Combination\"].reset_index(drop=True)\n",
    "\n",
    "    ingredients_lists = ingredients_to_lists(max_values)\n",
    "\n",
    "    return ingredients_lists"
   ]
  },
  {
   "cell_type": "markdown",
   "metadata": {},
   "source": [
    "### Testing muse_comb\n",
    "(might need to fix data_query output first)"
   ]
  },
  {
   "cell_type": "code",
   "execution_count": 31,
   "metadata": {},
   "outputs": [
    {
     "data": {
      "text/plain": [
       "[['g', 'a', 's'], ['h', 's', 'a', 'c'], ['h', 'g', 'a', 'c']]"
      ]
     },
     "execution_count": 31,
     "metadata": {},
     "output_type": "execute_result"
    }
   ],
   "source": [
    "# 6 tuples\n",
    "\n",
    "ingredients_combinations = [('chicken', 'garlic'),\n",
    " ('chicken', 'salt'),\n",
    " ('chicken', 'tomato'),\n",
    " ('garlic', 'salt'),\n",
    " ('garlic', 'tomato'),\n",
    " ('salt', 'tomato')]\n",
    "\n",
    "df_comb = data_query(ingredients_combinations)\n",
    "\n",
    "ingredients_lists = muse_comb(df_comb)\n",
    "ingredients_lists"
   ]
  },
  {
   "cell_type": "code",
   "execution_count": 32,
   "metadata": {},
   "outputs": [
    {
     "data": {
      "text/plain": [
       "[['e', 'a', 's', 'p'], ['n', 'o', 'a', 's'], ['g', 'a', 's']]"
      ]
     },
     "execution_count": 32,
     "metadata": {},
     "output_type": "execute_result"
    }
   ],
   "source": [
    "# 15 tuples\n",
    "\n",
    "ingredients_combinations = [('tomato', 'beef'),\n",
    " ('tomato', 'onion'),\n",
    " ('tomato', 'salt'),\n",
    " ('tomato', 'garlic'),\n",
    " ('tomato', 'pepper'),\n",
    " ('beef', 'onion'),\n",
    " ('beef', 'salt'),\n",
    " ('beef', 'garlic'),\n",
    " ('beef', 'pepper'),\n",
    " ('onion', 'salt'),\n",
    " ('onion', 'garlic'),\n",
    " ('onion', 'pepper'),\n",
    " ('salt', 'garlic'),\n",
    " ('salt', 'pepper'),\n",
    " ('garlic', 'pepper')]\n",
    "\n",
    "df_comb = data_query(ingredients_combinations)\n",
    "\n",
    "ingredients_lists = muse_comb(df_comb)\n",
    "ingredients_lists"
   ]
  },
  {
   "cell_type": "code",
   "execution_count": null,
   "metadata": {},
   "outputs": [],
   "source": []
  },
  {
   "cell_type": "code",
   "execution_count": null,
   "metadata": {
    "id": "e7tWuDK24AiT"
   },
   "outputs": [],
   "source": []
  },
  {
   "cell_type": "markdown",
   "metadata": {
    "id": "e7tWuDK24AiT"
   },
   "source": [
    "# recipe_generator -> DONE\n",
    "\n",
    "Working correctly! Only issue is client-side seems to go down every once in a while (400 error)."
   ]
  },
  {
   "cell_type": "code",
   "execution_count": 76,
   "metadata": {
    "id": "lB8VK2-F4AiU"
   },
   "outputs": [],
   "source": [
    "def recipe_generator(ingredients_lists):\n",
    "\n",
    "    '''\n",
    "    Takes ingredients_list from muse_comb and returns the actual recipes with titles, ingredients, and directions.\n",
    "\n",
    "    Updates:\n",
    "    5/22/2024 by TJ:\n",
    "    - Changed accumulator and output variable name from recipe_list to recipe_dicts\n",
    "\n",
    "    Inputs (1):\n",
    "    ingredients_list (from: muse_comb) = a list of 3 lists, containing the 3 ingredients combinations with highest score\n",
    "\n",
    "    Outputs (1):\n",
    "    recipe_list (to: get_scores, final_recipe) = a list of 3 dictionaries with 3 keys each: 'title', 'ingredients', 'directions', containing info for the 3 recipes\n",
    "\n",
    "    '''\n",
    "\n",
    "\n",
    "    api_key = config.api_key2\n",
    "    client = Groq(\n",
    "    api_key=api_key\n",
    "    )\n",
    "    recipe_dicts = []\n",
    "\n",
    "    if len(ingredients_lists) == 1:\n",
    "        chat_completion = client.chat.completions.create(\n",
    "            messages=[\n",
    "                {\n",
    "                    \"role\": \"user\",\n",
    "                    \"content\": f\"Suggest one recipe with {ingredients_lists} only. The final format of the output should contain Title, Ingredients and Directions only\",\n",
    "                }\n",
    "            ],\n",
    "            model=\"llama3-8b-8192\",\n",
    "        )\n",
    "\n",
    "        recipe = chat_completion.choices[0].message.content\n",
    "\n",
    "        parts = recipe.split(\"**\")\n",
    "        title = parts[1].strip()\n",
    "        ingredients = parts[4].strip()\n",
    "        directions = parts[6].strip()\n",
    "\n",
    "        recipe_dict = {}\n",
    "        recipe_dict['title'] = title\n",
    "        recipe_dict['ingredients'] = ingredients\n",
    "        recipe_dict['directions'] = directions\n",
    "\n",
    "        recipe_dicts.append(recipe_dict)\n",
    "\n",
    "    else:\n",
    "      for i in range(len(ingredients_lists)):\n",
    "        chat_completion = client.chat.completions.create(\n",
    "            messages=[\n",
    "                {\n",
    "                    \"role\": \"user\",\n",
    "                    \"content\": f\"Suggest one recipe with {ingredients_lists[i]} only. The final format of the output should contain Title, Ingredients and Directions only\",\n",
    "                }\n",
    "            ],\n",
    "            model=\"llama3-8b-8192\",\n",
    "        )\n",
    "\n",
    "        recipe = chat_completion.choices[0].message.content\n",
    "\n",
    "        parts = recipe.split(\"**\")\n",
    "        title = parts[1].strip()\n",
    "        ingredients = parts[4].strip()\n",
    "        directions = parts[6].strip()\n",
    "\n",
    "        recipe_dict = {}\n",
    "        recipe_dict['title'] = title\n",
    "        recipe_dict['ingredients'] = ingredients\n",
    "        recipe_dict['directions'] = directions\n",
    "\n",
    "        recipe_dicts.append(recipe_dict)\n",
    "\n",
    "    return recipe_dicts"
   ]
  },
  {
   "cell_type": "markdown",
   "metadata": {},
   "source": [
    "### Testing recipe_generator"
   ]
  },
  {
   "cell_type": "code",
   "execution_count": 77,
   "metadata": {
    "id": "lB8VK2-F4AiU"
   },
   "outputs": [
    {
     "data": {
      "text/plain": [
       "[{'title': 'Roasted Chicken with Garlic and Tomatoes',\n",
       "  'ingredients': '* 1 Pound Boneless, Skinless Chicken Breast\\n* 2 Big Tomatoes, Cut into 1-inch Pieces\\n* 5 Garlic Cloves, Minced',\n",
       "  'directions': '1. Preheat oven to 425°F (220°C).\\n2. In a large bowl, toss chicken, tomatoes, and garlic with a pinch of salt and pepper.\\n3. Spread the mixture on a baking sheet lined with parchment paper.\\n4. Roast for 25-30 minutes or until chicken is cooked through and cooked through.\\n5. Serve hot.'},\n",
       " {'title': 'Savory Chicken and Onion',\n",
       "  'ingredients': '* 1 lb chicken\\n* 1 onion\\n* pink salt',\n",
       "  'directions': '1. Preheat pan over medium heat.\\n2. Add onion and sauté until tender.\\n3. Add chicken and sprinkle with salt.\\n4. Cook until chicken is cooked through.\\n5. Serve hot.'},\n",
       " {'title': 'Garlic-Flavored Onion',\n",
       "  'ingredients': '* 1 onion, thinly sliced\\n* 1/2 teaspoon salt\\n* 2 cloves garlic, minced',\n",
       "  'directions': '1. In a large pan, combine the sliced onion and salt. Cook over medium heat until the onion is caramelized and golden brown, stirring occasionally.\\n2. Add the minced garlic to the pan and cook for an additional 1-2 minutes, stirring constantly to prevent burning.\\n3. Serve the garlic-infused onion as a side dish or use as a topping for your favorite dish.'}]"
      ]
     },
     "execution_count": 77,
     "metadata": {},
     "output_type": "execute_result"
    }
   ],
   "source": [
    "ingredients_lists = [['tomato', 'chicken', 'garlic'], ['chicken', 'onion', 'salt'], ['onion', 'salt', 'garlic']]\n",
    "\n",
    "recipe_list = recipe_generator(ingredients_lists)\n",
    "recipe_list"
   ]
  },
  {
   "cell_type": "code",
   "execution_count": null,
   "metadata": {},
   "outputs": [],
   "source": []
  },
  {
   "cell_type": "code",
   "execution_count": null,
   "metadata": {},
   "outputs": [],
   "source": []
  },
  {
   "cell_type": "markdown",
   "metadata": {},
   "source": [
    "# get_scores (new function that used to be random code in app.py)\n",
    "Output format is OK so the code will run, but...\n",
    "\n",
    "Issues:\n",
    "- Scores seem to not differ much for both good recipes and nonsense recipes?"
   ]
  },
  {
   "cell_type": "code",
   "execution_count": 40,
   "metadata": {},
   "outputs": [],
   "source": [
    "def get_scores(recipe_dicts):\n",
    "    '''\n",
    "    Generates the score of each recipe.\n",
    "    \n",
    "    Inputs (1):  \n",
    "    recipe_list (from: recipe_generator) = a list of 3 dictionaries with 3 keys each: 'title', 'ingredients', 'directions', containing info for the 3 recipes\n",
    "    \n",
    "    Outputs (1):\n",
    "    scores (to: final_recipes) = a list of 3 integers, containing the scores for each recipe.\n",
    "    '''\n",
    "\n",
    "    scores = []\n",
    "    recipe_direction = []\n",
    "\n",
    "    for recipe in recipe_dicts:\n",
    "        if 'directions' in recipe:\n",
    "            recipe_direction.append(recipe['directions'])\n",
    "        else:\n",
    "            recipe_direction.append(\"\")\n",
    "\n",
    "    for direction in recipe_direction:\n",
    "        scores.append(model.predict_proba([direction])[0][1])\n",
    "\n",
    "    return scores"
   ]
  },
  {
   "cell_type": "markdown",
   "metadata": {},
   "source": [
    "### Testing get_scores"
   ]
  },
  {
   "cell_type": "code",
   "execution_count": 59,
   "metadata": {},
   "outputs": [
    {
     "data": {
      "text/plain": [
       "[0.5270266515329382, 0.5028459487913037, 0.515308160025934]"
      ]
     },
     "execution_count": 59,
     "metadata": {},
     "output_type": "execute_result"
    }
   ],
   "source": [
    "# good recipe\n",
    "\n",
    "recipe_list = [{'title': 'Garlic Chicken Tomato Skillet',\n",
    "  'ingredients': '* 1 lb chicken breast or thighs, cut into 1-inch pieces\\n* 2 large tomatoes, diced\\n* 3 cloves garlic, minced',\n",
    "  'directions': '1. Heat a large skillet over medium-high heat.\\n2. Add chicken to skillet and cook until browned, about 5-6 minutes. Remove from skillet and set aside.\\n3. Add garlic to skillet and cook until fragrant, about 1 minute.\\n4. Add diced tomatoes to skillet and cook until they start to soften, about 2-3 minutes.\\n5. Add chicken back to skillet and stir to combine with tomato and garlic mixture. Cook until chicken is cooked through and tomato mixture is tender.'},\n",
    " {'title': 'Simple Grilled Chicken',\n",
    "  'ingredients': '- 1 chicken breast\\n- 1/2 onion, sliced\\n- Salt, to taste',\n",
    "  'directions': '1. Preheat grill to medium-high heat.\\n2. Season chicken with salt, then brush both sides with a little water.\\n3. Grill chicken for 6-7 minutes per side, or until cooked through.\\n4. Meanwhile, grill onion slices until caramelized and slightly charred.\\n5. Serve chicken with grilled onion.'},\n",
    " {'title': 'Caramelized Onion Relish',\n",
    "  'ingredients': '* 1 large onion, thinly sliced\\n* 1/2 teaspoon salt\\n* 2 cloves garlic, minced',\n",
    "  'directions': '1. In a large saucepan, combine the sliced onion, salt, and garlic. Cook over medium-low heat, stirring occasionally, until the onions are caramelized and golden brown, about 30-40 minutes.'}]\n",
    "\n",
    "scores = get_scores(recipe_list)\n",
    "scores"
   ]
  },
  {
   "cell_type": "code",
   "execution_count": 61,
   "metadata": {},
   "outputs": [
    {
     "data": {
      "text/plain": [
       "[0.5040546079674728, 0.5040292302849937, 0.5123256028930298]"
      ]
     },
     "execution_count": 61,
     "metadata": {},
     "output_type": "execute_result"
    }
   ],
   "source": [
    "# nonsense recipe\n",
    "\n",
    "recipe_list = [{'title': \"Gurum's Mysterious Delight\",\n",
    "  'ingredients': '* Rugby grass (1 cup, chopped fresh)\\n* Gum (1 tablespoon, dissolved)\\n* Rum (2 tablespoons)\\n* Mug (1, made from ceramic)',\n",
    "  'directions': '1. Combine Rugby grass, gum, and rum in the mug.\\n2. Stir clockwise for 7 times, then counterclockwise for 3 times.\\n3. Serve immediately.'},\n",
    " {'title': 'Recchio Croco',\n",
    "  'ingredients': '* RO Crumbs\\n* Curing Oil\\n* Ounces of Cream',\n",
    "  'directions': '1. Crumble RO Crumbs into a crock\\n2. Coat Croco with Curing Oil\\n3. Ooze Cream over Croco'},\n",
    " {'title': 'Title:',\n",
    "  'ingredients': '* 1 cup cherry tomatoes, halved\\n* 1/2 cup mashed chickpeas\\n* 1/4 cup chopped fresh cucumbers\\n* 2 tablespoons olive oil\\n* 2 tablespoons hummus\\n* 1/2 teaspoon paprika',\n",
    "  'directions': '1. Preheat oven to 375°F.\\n2. In a bowl, mix together hummus, paprika, and olive oil.\\n3. Dip each cherry tomato half into the hummus mixture, coating evenly.\\n4. Place coated cherry tomato halves on a baking sheet.\\n5. Sprinkle chopped cucumbers on top of tomato halves.\\n6. Bake for 20-25 minutes, or until crispy and golden brown.\\n7. Serve and enjoy!'}]\n",
    "\n",
    "scores = get_scores(recipe_list)\n",
    "scores"
   ]
  },
  {
   "cell_type": "markdown",
   "metadata": {
    "id": "lB8VK2-F4AiU"
   },
   "source": [
    "# final_recipes\n",
    "\n",
    "<br>Issues:\n",
    "- Output format\n",
    "    - output is 1 dict with 3 titles, 1 ingredients, 1 directions\n",
    "    - dict values are in list format"
   ]
  },
  {
   "cell_type": "code",
   "execution_count": 56,
   "metadata": {
    "id": "lB8VK2-F4AiU"
   },
   "outputs": [],
   "source": [
    "# Most recent version from 5/13 debugging session\n",
    "\n",
    "def final_recipes(recipe_list, scores, model):  ###<=== Function for evaluating if the score passes the threshold and regenerating if it doesn't\n",
    "\n",
    "    \"\"\"\n",
    "    This evaluates whether the score of a recipe passes or fails the threshold.\n",
    "    If the recipe doesn't meet the threshold after 3 attempts, the last generated recipe is added.\n",
    "    NOTE FOR FRONT-END: it's important to make sure that the outputs of the new recipe generator are the same as the\n",
    "                        old version for this function to still work.\n",
    "                        optimized_gptrecipe() and scoring_model() must be replaced with the actual functions\n",
    "\n",
    "    UPDATES\n",
    "    5/13/2024 by everyone:\n",
    "    - Input format switched to recipe_list (previously: recipe_list was switched to lists of titles, ingredients, directions by code in app.py) \n",
    "    \n",
    "    Inputs (3):\n",
    "    recipe_list (from recipe_generator) = a list of 3 dictionaries with 3 keys each: 'title', 'ingredients', 'directions', containing info for the 3 recipes\n",
    "    scores (from code in app.py) = list of 3 integers, containing scores for each recipe\n",
    "    model (from get_model in app.py) = object\n",
    "\n",
    "    Outputs (1):\n",
    "    final_recipes = a list of 3 dictionaries with 3 keys each: 'title', 'ingredients', 'directions', containing info for 3 final recipes\n",
    "\n",
    "    \"\"\"\n",
    "\n",
    "    final_recipes = {\"Title\": [], \"Ingredients\": [], \"Directions\": []}\n",
    "    threshold = 0.3\n",
    "\n",
    "    for i in range(len(recipe_list)):\n",
    "        if scores[i] >= threshold:\n",
    "            final_recipes[\"Title\"].append(recipe_list[i]['title'])\n",
    "            final_recipes[\"Ingredients\"].append(recipe_list[i]['ingredients'])\n",
    "            final_recipes[\"Directions\"].append(recipe_list[i]['directions'])\n",
    "        else:\n",
    "            n = 0\n",
    "            tmp_recipe = {\n",
    "                \"Title\":recipe_list[i]['title'],\n",
    "                \"Ingredients\":recipe_list[i]['ingredients'],\n",
    "                \"Directions\":recipe_list[i]['directions']\n",
    "                         }\n",
    "            last_recipe = {\"title\":[],\n",
    "                           \"ingredients\":[],\n",
    "                           \"directions\":[]\n",
    "                         }\n",
    "            while n < 3:\n",
    "                new_recipe = recipe_generator([tmp_recipe[\"Ingredients\"]]) ###<=== insert actual recipe generator\n",
    "                new_score = model.predict_proba([new_recipe[0]['directions']]) ###<=== insert the actual scoring model function here\n",
    "                if new_score[0][1] >= threshold:\n",
    "                    final_recipes[\"Title\"].append(new_recipe[0][\"title\"])\n",
    "                    final_recipes[\"Ingredients\"].append(new_recipe[0][\"ingredients\"])\n",
    "                    final_recipes[\"Directions\"].append(new_recipe[0][\"directions\"])\n",
    "                    break  # Exit loop if the new recipe passes the threshold\n",
    "                else:\n",
    "                    last_recipe = new_recipe  # Update tmp_recipe with the new recipe if the threshold isn't met\n",
    "                    n += 1\n",
    "            else: # Add the last generated recipe if the loop completes without finding a passing recipe\n",
    "                final_recipes[\"Title\"].append(last_recipe[0][\"title\"][0][0])\n",
    "                final_recipes[\"Ingredients\"].append(last_recipe[0][\"ingredients\"][0][0])\n",
    "                final_recipes[\"Directions\"].append(last_recipe[0][\"directions\"][0][0])\n",
    "                break  # Exit the outer loop to prevent an unending loop\n",
    "\n",
    "    return final_recipes"
   ]
  },
  {
   "cell_type": "markdown",
   "metadata": {
    "id": "EL3Z18CS4AiV"
   },
   "source": [
    "### Testing final_recipes"
   ]
  },
  {
   "cell_type": "code",
   "execution_count": 58,
   "metadata": {
    "id": "EL3Z18CS4AiV"
   },
   "outputs": [
    {
     "data": {
      "text/plain": [
       "{'Title': ['Garlic Chicken Tomato Skillet',\n",
       "  'Simple Grilled Chicken',\n",
       "  'Caramelized Onion Relish'],\n",
       " 'Ingredients': ['* 1 lb chicken breast or thighs, cut into 1-inch pieces\\n* 2 large tomatoes, diced\\n* 3 cloves garlic, minced',\n",
       "  '- 1 chicken breast\\n- 1/2 onion, sliced\\n- Salt, to taste',\n",
       "  '* 1 large onion, thinly sliced\\n* 1/2 teaspoon salt\\n* 2 cloves garlic, minced'],\n",
       " 'Directions': ['1. Heat a large skillet over medium-high heat.\\n2. Add chicken to skillet and cook until browned, about 5-6 minutes. Remove from skillet and set aside.\\n3. Add garlic to skillet and cook until fragrant, about 1 minute.\\n4. Add diced tomatoes to skillet and cook until they start to soften, about 2-3 minutes.\\n5. Add chicken back to skillet and stir to combine with tomato and garlic mixture. Cook until chicken is cooked through and tomato mixture is tender.',\n",
       "  '1. Preheat grill to medium-high heat.\\n2. Season chicken with salt, then brush both sides with a little water.\\n3. Grill chicken for 6-7 minutes per side, or until cooked through.\\n4. Meanwhile, grill onion slices until caramelized and slightly charred.\\n5. Serve chicken with grilled onion.',\n",
       "  '1. In a large saucepan, combine the sliced onion, salt, and garlic. Cook over medium-low heat, stirring occasionally, until the onions are caramelized and golden brown, about 30-40 minutes.']}"
      ]
     },
     "execution_count": 58,
     "metadata": {},
     "output_type": "execute_result"
    }
   ],
   "source": [
    "# good recipes, actual score\n",
    "\n",
    "recipe_list = [{'title': 'Garlic Chicken Tomato Skillet',\n",
    "  'ingredients': '* 1 lb chicken breast or thighs, cut into 1-inch pieces\\n* 2 large tomatoes, diced\\n* 3 cloves garlic, minced',\n",
    "  'directions': '1. Heat a large skillet over medium-high heat.\\n2. Add chicken to skillet and cook until browned, about 5-6 minutes. Remove from skillet and set aside.\\n3. Add garlic to skillet and cook until fragrant, about 1 minute.\\n4. Add diced tomatoes to skillet and cook until they start to soften, about 2-3 minutes.\\n5. Add chicken back to skillet and stir to combine with tomato and garlic mixture. Cook until chicken is cooked through and tomato mixture is tender.'},\n",
    " {'title': 'Simple Grilled Chicken',\n",
    "  'ingredients': '- 1 chicken breast\\n- 1/2 onion, sliced\\n- Salt, to taste',\n",
    "  'directions': '1. Preheat grill to medium-high heat.\\n2. Season chicken with salt, then brush both sides with a little water.\\n3. Grill chicken for 6-7 minutes per side, or until cooked through.\\n4. Meanwhile, grill onion slices until caramelized and slightly charred.\\n5. Serve chicken with grilled onion.'},\n",
    " {'title': 'Caramelized Onion Relish',\n",
    "  'ingredients': '* 1 large onion, thinly sliced\\n* 1/2 teaspoon salt\\n* 2 cloves garlic, minced',\n",
    "  'directions': '1. In a large saucepan, combine the sliced onion, salt, and garlic. Cook over medium-low heat, stirring occasionally, until the onions are caramelized and golden brown, about 30-40 minutes.'}]\n",
    "\n",
    "scores = [0.5270266515329382, 0.5028459487913037, 0.515308160025934]\n",
    "\n",
    "def get_model():\n",
    "    with open(\"model.pickle\", \"rb\") as f:\n",
    "        model = pickle.load(f)\n",
    "    return model\n",
    "model = get_model()\n",
    "\n",
    "final_recipes(recipe_list, scores, model)"
   ]
  },
  {
   "cell_type": "code",
   "execution_count": 62,
   "metadata": {},
   "outputs": [
    {
     "data": {
      "text/plain": [
       "{'Title': [\"Gurum's Mysterious Delight\", 'Recchio Croco', 'Title:'],\n",
       " 'Ingredients': ['* Rugby grass (1 cup, chopped fresh)\\n* Gum (1 tablespoon, dissolved)\\n* Rum (2 tablespoons)\\n* Mug (1, made from ceramic)',\n",
       "  '* RO Crumbs\\n* Curing Oil\\n* Ounces of Cream',\n",
       "  '* 1 cup cherry tomatoes, halved\\n* 1/2 cup mashed chickpeas\\n* 1/4 cup chopped fresh cucumbers\\n* 2 tablespoons olive oil\\n* 2 tablespoons hummus\\n* 1/2 teaspoon paprika'],\n",
       " 'Directions': ['1. Combine Rugby grass, gum, and rum in the mug.\\n2. Stir clockwise for 7 times, then counterclockwise for 3 times.\\n3. Serve immediately.',\n",
       "  '1. Crumble RO Crumbs into a crock\\n2. Coat Croco with Curing Oil\\n3. Ooze Cream over Croco',\n",
       "  '1. Preheat oven to 375°F.\\n2. In a bowl, mix together hummus, paprika, and olive oil.\\n3. Dip each cherry tomato half into the hummus mixture, coating evenly.\\n4. Place coated cherry tomato halves on a baking sheet.\\n5. Sprinkle chopped cucumbers on top of tomato halves.\\n6. Bake for 20-25 minutes, or until crispy and golden brown.\\n7. Serve and enjoy!']}"
      ]
     },
     "execution_count": 62,
     "metadata": {},
     "output_type": "execute_result"
    }
   ],
   "source": [
    "# nonsense recipe, actual score\n",
    "\n",
    "recipe_list = [{'title': \"Gurum's Mysterious Delight\",\n",
    "  'ingredients': '* Rugby grass (1 cup, chopped fresh)\\n* Gum (1 tablespoon, dissolved)\\n* Rum (2 tablespoons)\\n* Mug (1, made from ceramic)',\n",
    "  'directions': '1. Combine Rugby grass, gum, and rum in the mug.\\n2. Stir clockwise for 7 times, then counterclockwise for 3 times.\\n3. Serve immediately.'},\n",
    " {'title': 'Recchio Croco',\n",
    "  'ingredients': '* RO Crumbs\\n* Curing Oil\\n* Ounces of Cream',\n",
    "  'directions': '1. Crumble RO Crumbs into a crock\\n2. Coat Croco with Curing Oil\\n3. Ooze Cream over Croco'},\n",
    " {'title': 'Title:',\n",
    "  'ingredients': '* 1 cup cherry tomatoes, halved\\n* 1/2 cup mashed chickpeas\\n* 1/4 cup chopped fresh cucumbers\\n* 2 tablespoons olive oil\\n* 2 tablespoons hummus\\n* 1/2 teaspoon paprika',\n",
    "  'directions': '1. Preheat oven to 375°F.\\n2. In a bowl, mix together hummus, paprika, and olive oil.\\n3. Dip each cherry tomato half into the hummus mixture, coating evenly.\\n4. Place coated cherry tomato halves on a baking sheet.\\n5. Sprinkle chopped cucumbers on top of tomato halves.\\n6. Bake for 20-25 minutes, or until crispy and golden brown.\\n7. Serve and enjoy!'}]\n",
    "\n",
    "scores = [0.5040546079674728, 0.5040292302849937, 0.5123256028930298]\n",
    "\n",
    "def get_model():\n",
    "    with open(\"model.pickle\", \"rb\") as f:\n",
    "        model = pickle.load(f)\n",
    "    return model\n",
    "model = get_model()\n",
    "\n",
    "final_recipes(recipe_list, scores, model)"
   ]
  },
  {
   "cell_type": "code",
   "execution_count": 64,
   "metadata": {},
   "outputs": [
    {
     "data": {
      "text/plain": [
       "{'Title': [\"Gurum's Mysterious Delight\", 'Recchio Croco', 'Title:'],\n",
       " 'Ingredients': ['* Rugby grass (1 cup, chopped fresh)\\n* Gum (1 tablespoon, dissolved)\\n* Rum (2 tablespoons)\\n* Mug (1, made from ceramic)',\n",
       "  '* RO Crumbs\\n* Curing Oil\\n* Ounces of Cream',\n",
       "  '* 1 cup cherry tomatoes, halved\\n* 1/2 cup mashed chickpeas\\n* 1/4 cup chopped fresh cucumbers\\n* 2 tablespoons olive oil\\n* 2 tablespoons hummus\\n* 1/2 teaspoon paprika'],\n",
       " 'Directions': ['1. Combine Rugby grass, gum, and rum in the mug.\\n2. Stir clockwise for 7 times, then counterclockwise for 3 times.\\n3. Serve immediately.',\n",
       "  '1. Crumble RO Crumbs into a crock\\n2. Coat Croco with Curing Oil\\n3. Ooze Cream over Croco',\n",
       "  '1. Preheat oven to 375°F.\\n2. In a bowl, mix together hummus, paprika, and olive oil.\\n3. Dip each cherry tomato half into the hummus mixture, coating evenly.\\n4. Place coated cherry tomato halves on a baking sheet.\\n5. Sprinkle chopped cucumbers on top of tomato halves.\\n6. Bake for 20-25 minutes, or until crispy and golden brown.\\n7. Serve and enjoy!']}"
      ]
     },
     "execution_count": 64,
     "metadata": {},
     "output_type": "execute_result"
    }
   ],
   "source": [
    "# nonsense recipes with high scores\n",
    "\n",
    "recipe_list = [{'title': \"Gurum's Mysterious Delight\",\n",
    "  'ingredients': '* Rugby grass (1 cup, chopped fresh)\\n* Gum (1 tablespoon, dissolved)\\n* Rum (2 tablespoons)\\n* Mug (1, made from ceramic)',\n",
    "  'directions': '1. Combine Rugby grass, gum, and rum in the mug.\\n2. Stir clockwise for 7 times, then counterclockwise for 3 times.\\n3. Serve immediately.'},\n",
    " {'title': 'Recchio Croco',\n",
    "  'ingredients': '* RO Crumbs\\n* Curing Oil\\n* Ounces of Cream',\n",
    "  'directions': '1. Crumble RO Crumbs into a crock\\n2. Coat Croco with Curing Oil\\n3. Ooze Cream over Croco'},\n",
    " {'title': 'Title:',\n",
    "  'ingredients': '* 1 cup cherry tomatoes, halved\\n* 1/2 cup mashed chickpeas\\n* 1/4 cup chopped fresh cucumbers\\n* 2 tablespoons olive oil\\n* 2 tablespoons hummus\\n* 1/2 teaspoon paprika',\n",
    "  'directions': '1. Preheat oven to 375°F.\\n2. In a bowl, mix together hummus, paprika, and olive oil.\\n3. Dip each cherry tomato half into the hummus mixture, coating evenly.\\n4. Place coated cherry tomato halves on a baking sheet.\\n5. Sprinkle chopped cucumbers on top of tomato halves.\\n6. Bake for 20-25 minutes, or until crispy and golden brown.\\n7. Serve and enjoy!'}]\n",
    "\n",
    "scores = [0.95040546079674728, 0.95040292302849937, 0.95123256028930298]\n",
    "\n",
    "def get_model():\n",
    "    with open(\"model.pickle\", \"rb\") as f:\n",
    "        model = pickle.load(f)\n",
    "    return model\n",
    "model = get_model()\n",
    "\n",
    "final_recipes(recipe_list, scores, model)"
   ]
  },
  {
   "cell_type": "code",
   "execution_count": 65,
   "metadata": {},
   "outputs": [
    {
     "data": {
      "text/plain": [
       "{'Title': ['Mystery Drink',\n",
       "  'Crunchy Creamy Fried Chicken',\n",
       "  'Hummus and Veggie Wrap'],\n",
       " 'Ingredients': ['* 1 cup chopped fresh Rugby grass\\n* 1 tablespoon dissolved Gum\\n* 2 tablespoons Rum\\n* 1 ceramic Mug',\n",
       "  '* * RO Crumbs\\n* Curing Oil\\n* Ounces of Cream',\n",
       "  '* 1 cup cherry tomatoes, halved\\n* 1/2 cup mashed chickpeas\\n* 1/4 cup chopped fresh cucumbers\\n* 2 tablespoons olive oil\\n* 2 tablespoons hummus\\n* 1/2 teaspoon paprika'],\n",
       " 'Directions': ['1. Combine Rugby grass, Gums, and Rum in the ceramic Mug.\\n2. Stir well to combine.\\n3. Serve immediately.',\n",
       "  '1. Dredge chicken pieces in Cream, shaking off excess.\\n2. Dip cream-coated chicken pieces in * RO Crumbs, pressing gently to adhere crumbs.\\n3. Heat Curing Oil in a deep frying pan to 350°F.\\n4. Fry chicken pieces until golden and crispy, about 5-7 minutes.\\n5. Drain fried chicken on paper towels and serve hot.',\n",
       "  '1. In a medium bowl, mix together cherry tomatoes, mashed chickpeas, and chopped cucumbers.\\n2. In a small bowl, whisk together olive oil and paprika.\\n3. Pour the olive oil-paprika mixture over the vegetable mixture and stir until combined.\\n4. Spread 1-2 tablespoons of hummus on a tortilla or flatbread.\\n5. Top the hummus with the vegetable mixture and serve.']}"
      ]
     },
     "execution_count": 65,
     "metadata": {},
     "output_type": "execute_result"
    }
   ],
   "source": [
    "# nonsense recipes with low scores\n",
    "\n",
    "recipe_list = [{'title': \"Gurum's Mysterious Delight\",\n",
    "  'ingredients': '* Rugby grass (1 cup, chopped fresh)\\n* Gum (1 tablespoon, dissolved)\\n* Rum (2 tablespoons)\\n* Mug (1, made from ceramic)',\n",
    "  'directions': '1. Combine Rugby grass, gum, and rum in the mug.\\n2. Stir clockwise for 7 times, then counterclockwise for 3 times.\\n3. Serve immediately.'},\n",
    " {'title': 'Recchio Croco',\n",
    "  'ingredients': '* RO Crumbs\\n* Curing Oil\\n* Ounces of Cream',\n",
    "  'directions': '1. Crumble RO Crumbs into a crock\\n2. Coat Croco with Curing Oil\\n3. Ooze Cream over Croco'},\n",
    " {'title': 'Title:',\n",
    "  'ingredients': '* 1 cup cherry tomatoes, halved\\n* 1/2 cup mashed chickpeas\\n* 1/4 cup chopped fresh cucumbers\\n* 2 tablespoons olive oil\\n* 2 tablespoons hummus\\n* 1/2 teaspoon paprika',\n",
    "  'directions': '1. Preheat oven to 375°F.\\n2. In a bowl, mix together hummus, paprika, and olive oil.\\n3. Dip each cherry tomato half into the hummus mixture, coating evenly.\\n4. Place coated cherry tomato halves on a baking sheet.\\n5. Sprinkle chopped cucumbers on top of tomato halves.\\n6. Bake for 20-25 minutes, or until crispy and golden brown.\\n7. Serve and enjoy!'}]\n",
    "\n",
    "scores = [0.15040546079674728, 0.15040292302849937, 0.15123256028930298]\n",
    "\n",
    "def get_model():\n",
    "    with open(\"model.pickle\", \"rb\") as f:\n",
    "        model = pickle.load(f)\n",
    "    return model\n",
    "model = get_model()\n",
    "\n",
    "final_recipes(recipe_list, scores, model)"
   ]
  },
  {
   "cell_type": "code",
   "execution_count": null,
   "metadata": {},
   "outputs": [],
   "source": []
  },
  {
   "cell_type": "code",
   "execution_count": null,
   "metadata": {},
   "outputs": [],
   "source": []
  },
  {
   "cell_type": "code",
   "execution_count": null,
   "metadata": {},
   "outputs": [],
   "source": []
  },
  {
   "cell_type": "code",
   "execution_count": null,
   "metadata": {},
   "outputs": [],
   "source": []
  },
  {
   "cell_type": "code",
   "execution_count": null,
   "metadata": {},
   "outputs": [],
   "source": []
  },
  {
   "cell_type": "code",
   "execution_count": null,
   "metadata": {},
   "outputs": [],
   "source": []
  },
  {
   "cell_type": "code",
   "execution_count": null,
   "metadata": {},
   "outputs": [],
   "source": []
  },
  {
   "cell_type": "markdown",
   "metadata": {},
   "source": [
    "#### Random stuff that may or may not be useful"
   ]
  },
  {
   "cell_type": "code",
   "execution_count": null,
   "metadata": {},
   "outputs": [],
   "source": [
    "# Example user inputs\n",
    "\n",
    "'chicken, mustard, coconut, orange, gravy'\n"
   ]
  },
  {
   "cell_type": "code",
   "execution_count": 15,
   "metadata": {
    "colab": {
     "base_uri": "https://localhost:8080/"
    },
    "id": "9XJ2KzDU4AiV",
    "outputId": "3df66603-c5f9-4e39-e4ab-0ccb24c861ca"
   },
   "outputs": [],
   "source": [
    "# Example ingredients combinations\n",
    "\n",
    "[('chicken', 'mustard'),\n",
    " ('chicken', 'coconut'),\n",
    " ('chicken', 'orange'),\n",
    " ('chicken', 'gravy'),\n",
    " ('mustard', 'coconut'),\n",
    " ('mustard', 'orange'),\n",
    " ('mustard', 'gravy'),\n",
    " ('coconut', 'orange'),\n",
    " ('coconut', 'gravy'),\n",
    " ('orange', 'gravy')]"
   ]
  },
  {
   "cell_type": "code",
   "execution_count": null,
   "metadata": {
    "id": "0UytMEhx31Hg"
   },
   "outputs": [],
   "source": [
    "# # previous final_recipes where code in app.py changed input to lists of titles, ingredients, and directions first\n",
    "\n",
    "# def final_recipes(recipe_dict, scores, model):  ###<=== Function for evaluating if the score passes the threshold and regenerating if it doesn't\n",
    "#     \"\"\"\n",
    "#     This evaluates whether the score of a recipe passes or fails the threshold.\n",
    "#     If the recipe doesn't meet the threshold after 3 attempts, the last generated recipe is added.\n",
    "#     NOTE FOR FRONT-END: it's important to make sure that the outputs of the new recipe generator are the same as the\n",
    "#                         old version for this function to still work.\n",
    "#                         optimized_gptrecipe() and scoring_model() must be replaced with the actual functions\n",
    "    \n",
    "#     Inputs (3): \n",
    "#     recipe_list (from: recipe_generator) = a list of 3 dictionaries with 3 keys each: 'title', 'ingredients', 'directions', containing info for the 3 recipes\n",
    "#     scores (from: get_scores) = list of 3 integers, containing scores for each recipe\n",
    "#     model (from: get_model in app.py) = object \n",
    "    \n",
    "#     Outputs (1): \n",
    "#     final_recipes = a list of 3 dictionaries with 3 keys each: 'title', 'ingredients', 'directions', containing info for 3 final recipes\n",
    "    \n",
    "#     \"\"\"\n",
    "#     final_recipes = {\"Title\": [], \"Ingredients\": [], \"Directions\": []}\n",
    "#     threshold = 0.5\n",
    "\n",
    "#     for i in range(len(recipe_dict)):\n",
    "#         if scores[i] >= threshold:\n",
    "#             final_recipes[\"Title\"].append(recipe_dict[i]['title'])\n",
    "#             final_recipes[\"Ingredients\"].append(recipe_dict[i]['ingredients'])\n",
    "#             final_recipes[\"Directions\"].append(recipe_dict[i]['directions'])\n",
    "#         else:\n",
    "#             n = 0\n",
    "#             tmp_recipe = {\n",
    "#                 \"Title\":recipe_dict[i]['title'],\n",
    "#                 \"Ingredients\":recipe_dict[i]['ingredients'],\n",
    "#                 \"Directions\":recipe_dict[i]['directions']\n",
    "#                          }\n",
    "#             last_recipe = {\"title\":[],\n",
    "#                            \"ingredients\":[],\n",
    "#                            \"directions\":[]\n",
    "#                          }\n",
    "#             while n < 3:\n",
    "#                 new_recipe = recipe_generator([tmp_recipe[\"Ingredients\"]]) ###<=== insert actual recipe generator\n",
    "#                 new_score = model.predict_proba([new_recipe[0]['directions']]) ###<=== insert the actual scoring model function here\n",
    "#                 if new_score[0][1] >= threshold:\n",
    "#                     final_recipes[\"Title\"].append(new_recipe[0][\"title\"])\n",
    "#                     final_recipes[\"Ingredients\"].append(new_recipe[0][\"ingredients\"])\n",
    "#                     final_recipes[\"Directions\"].append(new_recipe[0][\"directions\"])\n",
    "#                     break  # Exit loop if the new recipe passes the threshold\n",
    "#                 else:\n",
    "#                     last_recipe = new_recipe  # Update tmp_recipe with the new recipe if the threshold isn't met\n",
    "#                     n += 1\n",
    "#             else: # Add the last generated recipe if the loop completes without finding a passing recipe\n",
    "#                 final_recipes[\"Title\"].append(last_recipe[\"title\"][0][0])\n",
    "#                 final_recipes[\"Ingredients\"].append(last_recipe[\"ingredients\"][0][0])\n",
    "#                 final_recipes[\"Directions\"].append(last_recipe[\"directions\"][0][0])\n",
    "#                 break  # Exit the outer loop to prevent an unending loop\n",
    "\n",
    "#     return final_recipes"
   ]
  }
 ],
 "metadata": {
  "colab": {
   "provenance": []
  },
  "kernelspec": {
   "display_name": "Python 3 (ipykernel)",
   "language": "python",
   "name": "python3"
  },
  "language_info": {
   "codemirror_mode": {
    "name": "ipython",
    "version": 3
   },
   "file_extension": ".py",
   "mimetype": "text/x-python",
   "name": "python",
   "nbconvert_exporter": "python",
   "pygments_lexer": "ipython3",
   "version": "3.10.6"
  },
  "toc": {
   "base_numbering": 1,
   "nav_menu": {},
   "number_sections": true,
   "sideBar": true,
   "skip_h1_title": false,
   "title_cell": "Table of Contents",
   "title_sidebar": "Contents",
   "toc_cell": false,
   "toc_position": {},
   "toc_section_display": true,
   "toc_window_display": false
  }
 },
 "nbformat": 4,
 "nbformat_minor": 1
}
